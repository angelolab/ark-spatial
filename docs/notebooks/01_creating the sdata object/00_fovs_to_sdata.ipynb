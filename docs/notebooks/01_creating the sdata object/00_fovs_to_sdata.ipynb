{
 "cells": [
  {
   "cell_type": "markdown",
   "source": [
    "# Convert a Folder of FOVs to a `SpatialData` Object"
   ],
   "metadata": {
    "collapsed": false
   }
  },
  {
   "cell_type": "code",
   "execution_count": 1,
   "metadata": {
    "ExecuteTime": {
     "end_time": "2023-10-04T23:30:34.310813Z",
     "start_time": "2023-10-04T23:30:34.297983Z"
    }
   },
   "outputs": [],
   "source": [
    "%load_ext autoreload\n",
    "\n",
    "%autoreload 2"
   ]
  },
  {
   "cell_type": "code",
   "execution_count": 2,
   "metadata": {
    "ExecuteTime": {
     "end_time": "2023-10-04T23:30:39.592872Z",
     "start_time": "2023-10-04T23:30:34.723246Z"
    }
   },
   "outputs": [
    {
     "name": "stderr",
     "output_type": "stream",
     "text": [
      "/opt/homebrew/Caskroom/mambaforge/base/envs/ark-spatial-dev/lib/python3.11/site-packages/dask/config.py:742: FutureWarning: Dask configuration key 'shuffle' has been deprecated; please use 'dataframe.shuffle.algorithm' instead\n",
      "  warnings.warn(\n"
     ]
    }
   ],
   "source": [
    "from ark import io\n",
    "from pathlib import Path\n",
    "import spatialdata as sd\n",
    "from spatialdata.models import C"
   ]
  },
  {
   "cell_type": "markdown",
   "metadata": {},
   "source": [
    "## 1. Convert a FOV cohort to a spatial data cohort"
   ]
  },
  {
   "cell_type": "markdown",
   "metadata": {},
   "source": [
    "Set the path of the cohort"
   ]
  },
  {
   "cell_type": "code",
   "execution_count": 8,
   "metadata": {
    "ExecuteTime": {
     "end_time": "2023-10-04T23:30:52.740761Z",
     "start_time": "2023-10-04T23:30:52.707878Z"
    }
   },
   "outputs": [],
   "source": [
    "cohort_dir = Path(\"../../../data/example_dataset/image_data\")"
   ]
  },
  {
   "cell_type": "markdown",
   "metadata": {},
   "source": [
    "Load the cohort"
   ]
  },
  {
   "cell_type": "code",
   "execution_count": 9,
   "metadata": {
    "ExecuteTime": {
     "end_time": "2023-10-04T23:30:55.259759Z",
     "start_time": "2023-10-04T23:30:54.445289Z"
    }
   },
   "outputs": [
    {
     "name": "stderr",
     "output_type": "stream",
     "text": [
      "100%|██████████| 11/11 [00:00<00:00, 106.02FOV/s]\n"
     ]
    }
   ],
   "source": [
    "sdata: sd.SpatialData = io.load_cohort(cohort_dir)"
   ]
  },
  {
   "cell_type": "markdown",
   "metadata": {},
   "source": [
    "View the cohort"
   ]
  },
  {
   "cell_type": "code",
   "execution_count": 10,
   "metadata": {
    "ExecuteTime": {
     "end_time": "2023-10-04T23:30:58.695540Z",
     "start_time": "2023-10-04T23:30:58.661130Z"
    }
   },
   "outputs": [
    {
     "data": {
      "text/plain": "SpatialData object with:\n└── Images\n      ├── 'fov0': SpatialImage[cyx] (24, 512, 512)\n      ├── 'fov1': SpatialImage[cyx] (24, 1024, 1024)\n      ├── 'fov2': SpatialImage[cyx] (24, 1024, 1024)\n      ├── 'fov3': SpatialImage[cyx] (24, 1024, 1024)\n      ├── 'fov4': SpatialImage[cyx] (24, 1024, 1024)\n      ├── 'fov5': SpatialImage[cyx] (24, 1024, 1024)\n      ├── 'fov6': SpatialImage[cyx] (24, 1024, 1024)\n      ├── 'fov7': SpatialImage[cyx] (24, 1024, 1024)\n      ├── 'fov8': SpatialImage[cyx] (24, 1024, 1024)\n      ├── 'fov9': SpatialImage[cyx] (24, 1024, 1024)\n      └── 'fov10': SpatialImage[cyx] (24, 1024, 1024)\nwith coordinate systems:\n▸ 'fov0', with elements:\n        fov0 (Images)\n▸ 'fov1', with elements:\n        fov1 (Images)\n▸ 'fov2', with elements:\n        fov2 (Images)\n▸ 'fov3', with elements:\n        fov3 (Images)\n▸ 'fov4', with elements:\n        fov4 (Images)\n▸ 'fov5', with elements:\n        fov5 (Images)\n▸ 'fov6', with elements:\n        fov6 (Images)\n▸ 'fov7', with elements:\n        fov7 (Images)\n▸ 'fov8', with elements:\n        fov8 (Images)\n▸ 'fov9', with elements:\n        fov9 (Images)\n▸ 'fov10', with elements:\n        fov10 (Images)"
     },
     "execution_count": 10,
     "metadata": {},
     "output_type": "execute_result"
    }
   ],
   "source": [
    "sdata"
   ]
  },
  {
   "cell_type": "markdown",
   "metadata": {},
   "source": [
    "We can access any Image in the Spatial Data object by using the image name as a key in the `images` dictionary."
   ]
  },
  {
   "cell_type": "code",
   "execution_count": 11,
   "metadata": {
    "ExecuteTime": {
     "end_time": "2023-10-04T23:31:19.584823Z",
     "start_time": "2023-10-04T23:31:19.537805Z"
    }
   },
   "outputs": [
    {
     "data": {
      "text/plain": "dict_keys(['fov4', 'fov3', 'fov10', 'fov2', 'fov5', 'fov0', 'fov7', 'fov9', 'fov8', 'fov6', 'fov1'])"
     },
     "execution_count": 11,
     "metadata": {},
     "output_type": "execute_result"
    }
   ],
   "source": [
    "sdata.images.keys()"
   ]
  },
  {
   "cell_type": "code",
   "execution_count": 12,
   "metadata": {
    "ExecuteTime": {
     "end_time": "2023-10-04T23:31:20.839416Z",
     "start_time": "2023-10-04T23:31:20.778142Z"
    }
   },
   "outputs": [
    {
     "data": {
      "text/plain": "<xarray.SpatialImage 'image' (c: 24, y: 512, x: 512)>\ndask.array<_map_read_frame, shape=(24, 512, 512), dtype=float32, chunksize=(1, 512, 512), chunktype=numpy.ndarray>\nCoordinates:\n  * c        (c) <U17 'CD3' 'CD4' 'CD8' 'CD14' ... 'Ki67' 'PD1' 'SMA' 'Vim'\n  * y        (y) float64 0.5 1.5 2.5 3.5 4.5 ... 507.5 508.5 509.5 510.5 511.5\n  * x        (x) float64 0.5 1.5 2.5 3.5 4.5 ... 507.5 508.5 509.5 510.5 511.5\nAttributes:\n    transform:  {'fov0': Identity }",
      "text/html": "<div><svg style=\"position: absolute; width: 0; height: 0; overflow: hidden\">\n<defs>\n<symbol id=\"icon-database\" viewBox=\"0 0 32 32\">\n<path d=\"M16 0c-8.837 0-16 2.239-16 5v4c0 2.761 7.163 5 16 5s16-2.239 16-5v-4c0-2.761-7.163-5-16-5z\"></path>\n<path d=\"M16 17c-8.837 0-16-2.239-16-5v6c0 2.761 7.163 5 16 5s16-2.239 16-5v-6c0 2.761-7.163 5-16 5z\"></path>\n<path d=\"M16 26c-8.837 0-16-2.239-16-5v6c0 2.761 7.163 5 16 5s16-2.239 16-5v-6c0 2.761-7.163 5-16 5z\"></path>\n</symbol>\n<symbol id=\"icon-file-text2\" viewBox=\"0 0 32 32\">\n<path d=\"M28.681 7.159c-0.694-0.947-1.662-2.053-2.724-3.116s-2.169-2.030-3.116-2.724c-1.612-1.182-2.393-1.319-2.841-1.319h-15.5c-1.378 0-2.5 1.121-2.5 2.5v27c0 1.378 1.122 2.5 2.5 2.5h23c1.378 0 2.5-1.122 2.5-2.5v-19.5c0-0.448-0.137-1.23-1.319-2.841zM24.543 5.457c0.959 0.959 1.712 1.825 2.268 2.543h-4.811v-4.811c0.718 0.556 1.584 1.309 2.543 2.268zM28 29.5c0 0.271-0.229 0.5-0.5 0.5h-23c-0.271 0-0.5-0.229-0.5-0.5v-27c0-0.271 0.229-0.5 0.5-0.5 0 0 15.499-0 15.5 0v7c0 0.552 0.448 1 1 1h7v19.5z\"></path>\n<path d=\"M23 26h-14c-0.552 0-1-0.448-1-1s0.448-1 1-1h14c0.552 0 1 0.448 1 1s-0.448 1-1 1z\"></path>\n<path d=\"M23 22h-14c-0.552 0-1-0.448-1-1s0.448-1 1-1h14c0.552 0 1 0.448 1 1s-0.448 1-1 1z\"></path>\n<path d=\"M23 18h-14c-0.552 0-1-0.448-1-1s0.448-1 1-1h14c0.552 0 1 0.448 1 1s-0.448 1-1 1z\"></path>\n</symbol>\n</defs>\n</svg>\n<style>/* CSS stylesheet for displaying xarray objects in jupyterlab.\n *\n */\n\n:root {\n  --xr-font-color0: var(--jp-content-font-color0, rgba(0, 0, 0, 1));\n  --xr-font-color2: var(--jp-content-font-color2, rgba(0, 0, 0, 0.54));\n  --xr-font-color3: var(--jp-content-font-color3, rgba(0, 0, 0, 0.38));\n  --xr-border-color: var(--jp-border-color2, #e0e0e0);\n  --xr-disabled-color: var(--jp-layout-color3, #bdbdbd);\n  --xr-background-color: var(--jp-layout-color0, white);\n  --xr-background-color-row-even: var(--jp-layout-color1, white);\n  --xr-background-color-row-odd: var(--jp-layout-color2, #eeeeee);\n}\n\nhtml[theme=dark],\nbody[data-theme=dark],\nbody.vscode-dark {\n  --xr-font-color0: rgba(255, 255, 255, 1);\n  --xr-font-color2: rgba(255, 255, 255, 0.54);\n  --xr-font-color3: rgba(255, 255, 255, 0.38);\n  --xr-border-color: #1F1F1F;\n  --xr-disabled-color: #515151;\n  --xr-background-color: #111111;\n  --xr-background-color-row-even: #111111;\n  --xr-background-color-row-odd: #313131;\n}\n\n.xr-wrap {\n  display: block !important;\n  min-width: 300px;\n  max-width: 700px;\n}\n\n.xr-text-repr-fallback {\n  /* fallback to plain text repr when CSS is not injected (untrusted notebook) */\n  display: none;\n}\n\n.xr-header {\n  padding-top: 6px;\n  padding-bottom: 6px;\n  margin-bottom: 4px;\n  border-bottom: solid 1px var(--xr-border-color);\n}\n\n.xr-header > div,\n.xr-header > ul {\n  display: inline;\n  margin-top: 0;\n  margin-bottom: 0;\n}\n\n.xr-obj-type,\n.xr-array-name {\n  margin-left: 2px;\n  margin-right: 10px;\n}\n\n.xr-obj-type {\n  color: var(--xr-font-color2);\n}\n\n.xr-sections {\n  padding-left: 0 !important;\n  display: grid;\n  grid-template-columns: 150px auto auto 1fr 20px 20px;\n}\n\n.xr-section-item {\n  display: contents;\n}\n\n.xr-section-item input {\n  display: none;\n}\n\n.xr-section-item input + label {\n  color: var(--xr-disabled-color);\n}\n\n.xr-section-item input:enabled + label {\n  cursor: pointer;\n  color: var(--xr-font-color2);\n}\n\n.xr-section-item input:enabled + label:hover {\n  color: var(--xr-font-color0);\n}\n\n.xr-section-summary {\n  grid-column: 1;\n  color: var(--xr-font-color2);\n  font-weight: 500;\n}\n\n.xr-section-summary > span {\n  display: inline-block;\n  padding-left: 0.5em;\n}\n\n.xr-section-summary-in:disabled + label {\n  color: var(--xr-font-color2);\n}\n\n.xr-section-summary-in + label:before {\n  display: inline-block;\n  content: '►';\n  font-size: 11px;\n  width: 15px;\n  text-align: center;\n}\n\n.xr-section-summary-in:disabled + label:before {\n  color: var(--xr-disabled-color);\n}\n\n.xr-section-summary-in:checked + label:before {\n  content: '▼';\n}\n\n.xr-section-summary-in:checked + label > span {\n  display: none;\n}\n\n.xr-section-summary,\n.xr-section-inline-details {\n  padding-top: 4px;\n  padding-bottom: 4px;\n}\n\n.xr-section-inline-details {\n  grid-column: 2 / -1;\n}\n\n.xr-section-details {\n  display: none;\n  grid-column: 1 / -1;\n  margin-bottom: 5px;\n}\n\n.xr-section-summary-in:checked ~ .xr-section-details {\n  display: contents;\n}\n\n.xr-array-wrap {\n  grid-column: 1 / -1;\n  display: grid;\n  grid-template-columns: 20px auto;\n}\n\n.xr-array-wrap > label {\n  grid-column: 1;\n  vertical-align: top;\n}\n\n.xr-preview {\n  color: var(--xr-font-color3);\n}\n\n.xr-array-preview,\n.xr-array-data {\n  padding: 0 5px !important;\n  grid-column: 2;\n}\n\n.xr-array-data,\n.xr-array-in:checked ~ .xr-array-preview {\n  display: none;\n}\n\n.xr-array-in:checked ~ .xr-array-data,\n.xr-array-preview {\n  display: inline-block;\n}\n\n.xr-dim-list {\n  display: inline-block !important;\n  list-style: none;\n  padding: 0 !important;\n  margin: 0;\n}\n\n.xr-dim-list li {\n  display: inline-block;\n  padding: 0;\n  margin: 0;\n}\n\n.xr-dim-list:before {\n  content: '(';\n}\n\n.xr-dim-list:after {\n  content: ')';\n}\n\n.xr-dim-list li:not(:last-child):after {\n  content: ',';\n  padding-right: 5px;\n}\n\n.xr-has-index {\n  font-weight: bold;\n}\n\n.xr-var-list,\n.xr-var-item {\n  display: contents;\n}\n\n.xr-var-item > div,\n.xr-var-item label,\n.xr-var-item > .xr-var-name span {\n  background-color: var(--xr-background-color-row-even);\n  margin-bottom: 0;\n}\n\n.xr-var-item > .xr-var-name:hover span {\n  padding-right: 5px;\n}\n\n.xr-var-list > li:nth-child(odd) > div,\n.xr-var-list > li:nth-child(odd) > label,\n.xr-var-list > li:nth-child(odd) > .xr-var-name span {\n  background-color: var(--xr-background-color-row-odd);\n}\n\n.xr-var-name {\n  grid-column: 1;\n}\n\n.xr-var-dims {\n  grid-column: 2;\n}\n\n.xr-var-dtype {\n  grid-column: 3;\n  text-align: right;\n  color: var(--xr-font-color2);\n}\n\n.xr-var-preview {\n  grid-column: 4;\n}\n\n.xr-index-preview {\n  grid-column: 2 / 5;\n  color: var(--xr-font-color2);\n}\n\n.xr-var-name,\n.xr-var-dims,\n.xr-var-dtype,\n.xr-preview,\n.xr-attrs dt {\n  white-space: nowrap;\n  overflow: hidden;\n  text-overflow: ellipsis;\n  padding-right: 10px;\n}\n\n.xr-var-name:hover,\n.xr-var-dims:hover,\n.xr-var-dtype:hover,\n.xr-attrs dt:hover {\n  overflow: visible;\n  width: auto;\n  z-index: 1;\n}\n\n.xr-var-attrs,\n.xr-var-data,\n.xr-index-data {\n  display: none;\n  background-color: var(--xr-background-color) !important;\n  padding-bottom: 5px !important;\n}\n\n.xr-var-attrs-in:checked ~ .xr-var-attrs,\n.xr-var-data-in:checked ~ .xr-var-data,\n.xr-index-data-in:checked ~ .xr-index-data {\n  display: block;\n}\n\n.xr-var-data > table {\n  float: right;\n}\n\n.xr-var-name span,\n.xr-var-data,\n.xr-index-name div,\n.xr-index-data,\n.xr-attrs {\n  padding-left: 25px !important;\n}\n\n.xr-attrs,\n.xr-var-attrs,\n.xr-var-data,\n.xr-index-data {\n  grid-column: 1 / -1;\n}\n\ndl.xr-attrs {\n  padding: 0;\n  margin: 0;\n  display: grid;\n  grid-template-columns: 125px auto;\n}\n\n.xr-attrs dt,\n.xr-attrs dd {\n  padding: 0;\n  margin: 0;\n  float: left;\n  padding-right: 10px;\n  width: auto;\n}\n\n.xr-attrs dt {\n  font-weight: normal;\n  grid-column: 1;\n}\n\n.xr-attrs dt:hover span {\n  display: inline-block;\n  background: var(--xr-background-color);\n  padding-right: 10px;\n}\n\n.xr-attrs dd {\n  grid-column: 2;\n  white-space: pre-wrap;\n  word-break: break-all;\n}\n\n.xr-icon-database,\n.xr-icon-file-text2,\n.xr-no-icon {\n  display: inline-block;\n  vertical-align: middle;\n  width: 1em;\n  height: 1.5em !important;\n  stroke-width: 0;\n  stroke: currentColor;\n  fill: currentColor;\n}\n</style><pre class='xr-text-repr-fallback'>&lt;xarray.SpatialImage &#x27;image&#x27; (c: 24, y: 512, x: 512)&gt;\ndask.array&lt;_map_read_frame, shape=(24, 512, 512), dtype=float32, chunksize=(1, 512, 512), chunktype=numpy.ndarray&gt;\nCoordinates:\n  * c        (c) &lt;U17 &#x27;CD3&#x27; &#x27;CD4&#x27; &#x27;CD8&#x27; &#x27;CD14&#x27; ... &#x27;Ki67&#x27; &#x27;PD1&#x27; &#x27;SMA&#x27; &#x27;Vim&#x27;\n  * y        (y) float64 0.5 1.5 2.5 3.5 4.5 ... 507.5 508.5 509.5 510.5 511.5\n  * x        (x) float64 0.5 1.5 2.5 3.5 4.5 ... 507.5 508.5 509.5 510.5 511.5\nAttributes:\n    transform:  {&#x27;fov0&#x27;: Identity }</pre><div class='xr-wrap' style='display:none'><div class='xr-header'><div class='xr-obj-type'>xarray.SpatialImage</div><div class='xr-array-name'>'image'</div><ul class='xr-dim-list'><li><span class='xr-has-index'>c</span>: 24</li><li><span class='xr-has-index'>y</span>: 512</li><li><span class='xr-has-index'>x</span>: 512</li></ul></div><ul class='xr-sections'><li class='xr-section-item'><div class='xr-array-wrap'><input id='section-954c9f2c-5420-4dfc-a4cf-9a031409b1e3' class='xr-array-in' type='checkbox' checked><label for='section-954c9f2c-5420-4dfc-a4cf-9a031409b1e3' title='Show/hide data repr'><svg class='icon xr-icon-database'><use xlink:href='#icon-database'></use></svg></label><div class='xr-array-preview xr-preview'><span>dask.array&lt;chunksize=(1, 512, 512), meta=np.ndarray&gt;</span></div><div class='xr-array-data'><table>\n    <tr>\n        <td>\n            <table style=\"border-collapse: collapse;\">\n                <thead>\n                    <tr>\n                        <td> </td>\n                        <th> Array </th>\n                        <th> Chunk </th>\n                    </tr>\n                </thead>\n                <tbody>\n                    \n                    <tr>\n                        <th> Bytes </th>\n                        <td> 24.00 MiB </td>\n                        <td> 1.00 MiB </td>\n                    </tr>\n                    \n                    <tr>\n                        <th> Shape </th>\n                        <td> (24, 512, 512) </td>\n                        <td> (1, 512, 512) </td>\n                    </tr>\n                    <tr>\n                        <th> Dask graph </th>\n                        <td colspan=\"2\"> 24 chunks in 3 graph layers </td>\n                    </tr>\n                    <tr>\n                        <th> Data type </th>\n                        <td colspan=\"2\"> float32 numpy.ndarray </td>\n                    </tr>\n                </tbody>\n            </table>\n        </td>\n        <td>\n        <svg width=\"200\" height=\"190\" style=\"stroke:rgb(0,0,0);stroke-width:1\" >\n\n  <!-- Horizontal lines -->\n  <line x1=\"10\" y1=\"0\" x2=\"30\" y2=\"20\" style=\"stroke-width:2\" />\n  <line x1=\"10\" y1=\"120\" x2=\"30\" y2=\"140\" style=\"stroke-width:2\" />\n\n  <!-- Vertical lines -->\n  <line x1=\"10\" y1=\"0\" x2=\"10\" y2=\"120\" style=\"stroke-width:2\" />\n  <line x1=\"10\" y1=\"0\" x2=\"10\" y2=\"120\" />\n  <line x1=\"11\" y1=\"1\" x2=\"11\" y2=\"121\" />\n  <line x1=\"12\" y1=\"2\" x2=\"12\" y2=\"122\" />\n  <line x1=\"14\" y1=\"4\" x2=\"14\" y2=\"124\" />\n  <line x1=\"15\" y1=\"5\" x2=\"15\" y2=\"125\" />\n  <line x1=\"15\" y1=\"5\" x2=\"15\" y2=\"125\" />\n  <line x1=\"16\" y1=\"6\" x2=\"16\" y2=\"126\" />\n  <line x1=\"18\" y1=\"8\" x2=\"18\" y2=\"128\" />\n  <line x1=\"19\" y1=\"9\" x2=\"19\" y2=\"129\" />\n  <line x1=\"20\" y1=\"10\" x2=\"20\" y2=\"130\" />\n  <line x1=\"20\" y1=\"10\" x2=\"20\" y2=\"130\" />\n  <line x1=\"22\" y1=\"12\" x2=\"22\" y2=\"132\" />\n  <line x1=\"23\" y1=\"13\" x2=\"23\" y2=\"133\" />\n  <line x1=\"24\" y1=\"14\" x2=\"24\" y2=\"134\" />\n  <line x1=\"25\" y1=\"15\" x2=\"25\" y2=\"135\" />\n  <line x1=\"26\" y1=\"16\" x2=\"26\" y2=\"136\" />\n  <line x1=\"27\" y1=\"17\" x2=\"27\" y2=\"137\" />\n  <line x1=\"28\" y1=\"18\" x2=\"28\" y2=\"138\" />\n  <line x1=\"30\" y1=\"20\" x2=\"30\" y2=\"140\" style=\"stroke-width:2\" />\n\n  <!-- Colored Rectangle -->\n  <polygon points=\"10.0,0.0 30.062102251177688,20.062102251177688 30.062102251177688,140.0621022511777 10.0,120.0\" style=\"fill:#8B4903A0;stroke-width:0\"/>\n\n  <!-- Horizontal lines -->\n  <line x1=\"10\" y1=\"0\" x2=\"130\" y2=\"0\" style=\"stroke-width:2\" />\n  <line x1=\"10\" y1=\"0\" x2=\"130\" y2=\"0\" />\n  <line x1=\"11\" y1=\"1\" x2=\"131\" y2=\"1\" />\n  <line x1=\"12\" y1=\"2\" x2=\"132\" y2=\"2\" />\n  <line x1=\"14\" y1=\"4\" x2=\"134\" y2=\"4\" />\n  <line x1=\"15\" y1=\"5\" x2=\"135\" y2=\"5\" />\n  <line x1=\"15\" y1=\"5\" x2=\"135\" y2=\"5\" />\n  <line x1=\"16\" y1=\"6\" x2=\"136\" y2=\"6\" />\n  <line x1=\"18\" y1=\"8\" x2=\"138\" y2=\"8\" />\n  <line x1=\"19\" y1=\"9\" x2=\"139\" y2=\"9\" />\n  <line x1=\"20\" y1=\"10\" x2=\"140\" y2=\"10\" />\n  <line x1=\"20\" y1=\"10\" x2=\"140\" y2=\"10\" />\n  <line x1=\"22\" y1=\"12\" x2=\"142\" y2=\"12\" />\n  <line x1=\"23\" y1=\"13\" x2=\"143\" y2=\"13\" />\n  <line x1=\"24\" y1=\"14\" x2=\"144\" y2=\"14\" />\n  <line x1=\"25\" y1=\"15\" x2=\"145\" y2=\"15\" />\n  <line x1=\"26\" y1=\"16\" x2=\"146\" y2=\"16\" />\n  <line x1=\"27\" y1=\"17\" x2=\"147\" y2=\"17\" />\n  <line x1=\"28\" y1=\"18\" x2=\"148\" y2=\"18\" />\n  <line x1=\"30\" y1=\"20\" x2=\"150\" y2=\"20\" style=\"stroke-width:2\" />\n\n  <!-- Vertical lines -->\n  <line x1=\"10\" y1=\"0\" x2=\"30\" y2=\"20\" style=\"stroke-width:2\" />\n  <line x1=\"130\" y1=\"0\" x2=\"150\" y2=\"20\" style=\"stroke-width:2\" />\n\n  <!-- Colored Rectangle -->\n  <polygon points=\"10.0,0.0 130.0,0.0 150.0621022511777,20.062102251177688 30.062102251177688,20.062102251177688\" style=\"fill:#8B4903A0;stroke-width:0\"/>\n\n  <!-- Horizontal lines -->\n  <line x1=\"30\" y1=\"20\" x2=\"150\" y2=\"20\" style=\"stroke-width:2\" />\n  <line x1=\"30\" y1=\"140\" x2=\"150\" y2=\"140\" style=\"stroke-width:2\" />\n\n  <!-- Vertical lines -->\n  <line x1=\"30\" y1=\"20\" x2=\"30\" y2=\"140\" style=\"stroke-width:2\" />\n  <line x1=\"150\" y1=\"20\" x2=\"150\" y2=\"140\" style=\"stroke-width:2\" />\n\n  <!-- Colored Rectangle -->\n  <polygon points=\"30.062102251177688,20.062102251177688 150.0621022511777,20.062102251177688 150.0621022511777,140.0621022511777 30.062102251177688,140.0621022511777\" style=\"fill:#ECB172A0;stroke-width:0\"/>\n\n  <!-- Text -->\n  <text x=\"90.062102\" y=\"160.062102\" font-size=\"1.0rem\" font-weight=\"100\" text-anchor=\"middle\" >512</text>\n  <text x=\"170.062102\" y=\"80.062102\" font-size=\"1.0rem\" font-weight=\"100\" text-anchor=\"middle\" transform=\"rotate(-90,170.062102,80.062102)\">512</text>\n  <text x=\"10.031051\" y=\"150.031051\" font-size=\"1.0rem\" font-weight=\"100\" text-anchor=\"middle\" transform=\"rotate(45,10.031051,150.031051)\">24</text>\n</svg>\n        </td>\n    </tr>\n</table></div></div></li><li class='xr-section-item'><input id='section-d520efa7-4c11-4db8-b7fd-cee19336ad40' class='xr-section-summary-in' type='checkbox'  checked><label for='section-d520efa7-4c11-4db8-b7fd-cee19336ad40' class='xr-section-summary' >Coordinates: <span>(3)</span></label><div class='xr-section-inline-details'></div><div class='xr-section-details'><ul class='xr-var-list'><li class='xr-var-item'><div class='xr-var-name'><span class='xr-has-index'>c</span></div><div class='xr-var-dims'>(c)</div><div class='xr-var-dtype'>&lt;U17</div><div class='xr-var-preview xr-preview'>&#x27;CD3&#x27; &#x27;CD4&#x27; &#x27;CD8&#x27; ... &#x27;SMA&#x27; &#x27;Vim&#x27;</div><input id='attrs-77a7dff2-bd26-4a06-a800-03d1be7aedbb' class='xr-var-attrs-in' type='checkbox' ><label for='attrs-77a7dff2-bd26-4a06-a800-03d1be7aedbb' title='Show/Hide attributes'><svg class='icon xr-icon-file-text2'><use xlink:href='#icon-file-text2'></use></svg></label><input id='data-e9a48451-01e8-4e36-9137-22fdedce9ebf' class='xr-var-data-in' type='checkbox'><label for='data-e9a48451-01e8-4e36-9137-22fdedce9ebf' title='Show/Hide data repr'><svg class='icon xr-icon-database'><use xlink:href='#icon-database'></use></svg></label><div class='xr-var-attrs'><dl class='xr-attrs'><dt><span>long_name :</span></dt><dd>c</dd><dt><span>units :</span></dt><dd></dd></dl></div><div class='xr-var-data'><pre>array([&#x27;CD3&#x27;, &#x27;CD4&#x27;, &#x27;CD8&#x27;, &#x27;CD14&#x27;, &#x27;CD20&#x27;, &#x27;CD31&#x27;, &#x27;CD45&#x27;, &#x27;CD68&#x27;, &#x27;CD163&#x27;,\n       &#x27;CD163_nuc_exclude&#x27;, &#x27;CK17&#x27;, &#x27;Collagen1&#x27;, &#x27;ECAD&#x27;, &#x27;ECAD_smoothed&#x27;,\n       &#x27;Fibronectin&#x27;, &#x27;GLUT1&#x27;, &#x27;H3K9ac&#x27;, &#x27;H3K27me3&#x27;, &#x27;HLADR&#x27;, &#x27;IDO&#x27;, &#x27;Ki67&#x27;,\n       &#x27;PD1&#x27;, &#x27;SMA&#x27;, &#x27;Vim&#x27;], dtype=&#x27;&lt;U17&#x27;)</pre></div></li><li class='xr-var-item'><div class='xr-var-name'><span class='xr-has-index'>y</span></div><div class='xr-var-dims'>(y)</div><div class='xr-var-dtype'>float64</div><div class='xr-var-preview xr-preview'>0.5 1.5 2.5 ... 509.5 510.5 511.5</div><input id='attrs-2d4a925d-e158-4c40-885c-4f5378095a03' class='xr-var-attrs-in' type='checkbox' disabled><label for='attrs-2d4a925d-e158-4c40-885c-4f5378095a03' title='Show/Hide attributes'><svg class='icon xr-icon-file-text2'><use xlink:href='#icon-file-text2'></use></svg></label><input id='data-c366d935-af4c-4911-a286-4369da11e8f8' class='xr-var-data-in' type='checkbox'><label for='data-c366d935-af4c-4911-a286-4369da11e8f8' title='Show/Hide data repr'><svg class='icon xr-icon-database'><use xlink:href='#icon-database'></use></svg></label><div class='xr-var-attrs'><dl class='xr-attrs'></dl></div><div class='xr-var-data'><pre>array([5.000e-01, 1.500e+00, 2.500e+00, ..., 5.095e+02, 5.105e+02, 5.115e+02])</pre></div></li><li class='xr-var-item'><div class='xr-var-name'><span class='xr-has-index'>x</span></div><div class='xr-var-dims'>(x)</div><div class='xr-var-dtype'>float64</div><div class='xr-var-preview xr-preview'>0.5 1.5 2.5 ... 509.5 510.5 511.5</div><input id='attrs-603603c3-e4ed-4737-af52-b7e0dd6c3379' class='xr-var-attrs-in' type='checkbox' disabled><label for='attrs-603603c3-e4ed-4737-af52-b7e0dd6c3379' title='Show/Hide attributes'><svg class='icon xr-icon-file-text2'><use xlink:href='#icon-file-text2'></use></svg></label><input id='data-f82e3e0a-8f48-4132-a154-71e22af6b61c' class='xr-var-data-in' type='checkbox'><label for='data-f82e3e0a-8f48-4132-a154-71e22af6b61c' title='Show/Hide data repr'><svg class='icon xr-icon-database'><use xlink:href='#icon-database'></use></svg></label><div class='xr-var-attrs'><dl class='xr-attrs'></dl></div><div class='xr-var-data'><pre>array([5.000e-01, 1.500e+00, 2.500e+00, ..., 5.095e+02, 5.105e+02, 5.115e+02])</pre></div></li></ul></div></li><li class='xr-section-item'><input id='section-694cca76-6538-4f13-800b-d35fd996bed1' class='xr-section-summary-in' type='checkbox'  ><label for='section-694cca76-6538-4f13-800b-d35fd996bed1' class='xr-section-summary' >Indexes: <span>(3)</span></label><div class='xr-section-inline-details'></div><div class='xr-section-details'><ul class='xr-var-list'><li class='xr-var-item'><div class='xr-index-name'><div>c</div></div><div class='xr-index-preview'>PandasIndex</div><div></div><input id='index-be7977f5-d390-4e47-a02c-744bf79ce159' class='xr-index-data-in' type='checkbox'/><label for='index-be7977f5-d390-4e47-a02c-744bf79ce159' title='Show/Hide index repr'><svg class='icon xr-icon-database'><use xlink:href='#icon-database'></use></svg></label><div class='xr-index-data'><pre>PandasIndex(Index([&#x27;CD3&#x27;, &#x27;CD4&#x27;, &#x27;CD8&#x27;, &#x27;CD14&#x27;, &#x27;CD20&#x27;, &#x27;CD31&#x27;, &#x27;CD45&#x27;, &#x27;CD68&#x27;, &#x27;CD163&#x27;,\n       &#x27;CD163_nuc_exclude&#x27;, &#x27;CK17&#x27;, &#x27;Collagen1&#x27;, &#x27;ECAD&#x27;, &#x27;ECAD_smoothed&#x27;,\n       &#x27;Fibronectin&#x27;, &#x27;GLUT1&#x27;, &#x27;H3K9ac&#x27;, &#x27;H3K27me3&#x27;, &#x27;HLADR&#x27;, &#x27;IDO&#x27;, &#x27;Ki67&#x27;,\n       &#x27;PD1&#x27;, &#x27;SMA&#x27;, &#x27;Vim&#x27;],\n      dtype=&#x27;object&#x27;, name=&#x27;c&#x27;))</pre></div></li><li class='xr-var-item'><div class='xr-index-name'><div>y</div></div><div class='xr-index-preview'>PandasIndex</div><div></div><input id='index-1737257c-7d10-4716-b240-5c9e60e4365b' class='xr-index-data-in' type='checkbox'/><label for='index-1737257c-7d10-4716-b240-5c9e60e4365b' title='Show/Hide index repr'><svg class='icon xr-icon-database'><use xlink:href='#icon-database'></use></svg></label><div class='xr-index-data'><pre>PandasIndex(Index([  0.5,   1.5,   2.5,   3.5,   4.5,   5.5,   6.5,   7.5,   8.5,   9.5,\n       ...\n       502.5, 503.5, 504.5, 505.5, 506.5, 507.5, 508.5, 509.5, 510.5, 511.5],\n      dtype=&#x27;float64&#x27;, name=&#x27;y&#x27;, length=512))</pre></div></li><li class='xr-var-item'><div class='xr-index-name'><div>x</div></div><div class='xr-index-preview'>PandasIndex</div><div></div><input id='index-c7b462d9-9e57-4ee1-a8e1-a295f8058167' class='xr-index-data-in' type='checkbox'/><label for='index-c7b462d9-9e57-4ee1-a8e1-a295f8058167' title='Show/Hide index repr'><svg class='icon xr-icon-database'><use xlink:href='#icon-database'></use></svg></label><div class='xr-index-data'><pre>PandasIndex(Index([  0.5,   1.5,   2.5,   3.5,   4.5,   5.5,   6.5,   7.5,   8.5,   9.5,\n       ...\n       502.5, 503.5, 504.5, 505.5, 506.5, 507.5, 508.5, 509.5, 510.5, 511.5],\n      dtype=&#x27;float64&#x27;, name=&#x27;x&#x27;, length=512))</pre></div></li></ul></div></li><li class='xr-section-item'><input id='section-d5d7b949-22ce-4dc8-a133-77b18849000d' class='xr-section-summary-in' type='checkbox'  checked><label for='section-d5d7b949-22ce-4dc8-a133-77b18849000d' class='xr-section-summary' >Attributes: <span>(1)</span></label><div class='xr-section-inline-details'></div><div class='xr-section-details'><dl class='xr-attrs'><dt><span>transform :</span></dt><dd>{&#x27;fov0&#x27;: Identity }</dd></dl></div></li></ul></div></div>"
     },
     "execution_count": 12,
     "metadata": {},
     "output_type": "execute_result"
    }
   ],
   "source": [
    "sdata.images[\"fov0\"]"
   ]
  },
  {
   "cell_type": "markdown",
   "metadata": {},
   "source": [
    "Even better, we can access a coordinate system. Each FOV is mapped to a coordinate system which is a unique identifier for a collection of Spatial Data objects. We will see the benefits of this later on."
   ]
  },
  {
   "cell_type": "code",
   "execution_count": 13,
   "metadata": {
    "ExecuteTime": {
     "end_time": "2023-10-04T23:31:45.168013Z",
     "start_time": "2023-10-04T23:31:45.118491Z"
    }
   },
   "outputs": [
    {
     "data": {
      "text/plain": "['fov3',\n 'fov9',\n 'fov5',\n 'fov10',\n 'fov1',\n 'fov4',\n 'fov6',\n 'fov8',\n 'fov7',\n 'fov0',\n 'fov2']"
     },
     "execution_count": 13,
     "metadata": {},
     "output_type": "execute_result"
    }
   ],
   "source": [
    "sdata.coordinate_systems"
   ]
  },
  {
   "cell_type": "code",
   "execution_count": 14,
   "metadata": {
    "ExecuteTime": {
     "end_time": "2023-10-04T23:31:51.585915Z",
     "start_time": "2023-10-04T23:31:51.536833Z"
    }
   },
   "outputs": [
    {
     "data": {
      "text/plain": "<xarray.SpatialImage 'image' (c: 24, y: 512, x: 512)>\ndask.array<_map_read_frame, shape=(24, 512, 512), dtype=float32, chunksize=(1, 512, 512), chunktype=numpy.ndarray>\nCoordinates:\n  * c        (c) <U17 'CD3' 'CD4' 'CD8' 'CD14' ... 'Ki67' 'PD1' 'SMA' 'Vim'\n  * y        (y) float64 0.5 1.5 2.5 3.5 4.5 ... 507.5 508.5 509.5 510.5 511.5\n  * x        (x) float64 0.5 1.5 2.5 3.5 4.5 ... 507.5 508.5 509.5 510.5 511.5\nAttributes:\n    transform:  {'fov0': Identity }",
      "text/html": "<div><svg style=\"position: absolute; width: 0; height: 0; overflow: hidden\">\n<defs>\n<symbol id=\"icon-database\" viewBox=\"0 0 32 32\">\n<path d=\"M16 0c-8.837 0-16 2.239-16 5v4c0 2.761 7.163 5 16 5s16-2.239 16-5v-4c0-2.761-7.163-5-16-5z\"></path>\n<path d=\"M16 17c-8.837 0-16-2.239-16-5v6c0 2.761 7.163 5 16 5s16-2.239 16-5v-6c0 2.761-7.163 5-16 5z\"></path>\n<path d=\"M16 26c-8.837 0-16-2.239-16-5v6c0 2.761 7.163 5 16 5s16-2.239 16-5v-6c0 2.761-7.163 5-16 5z\"></path>\n</symbol>\n<symbol id=\"icon-file-text2\" viewBox=\"0 0 32 32\">\n<path d=\"M28.681 7.159c-0.694-0.947-1.662-2.053-2.724-3.116s-2.169-2.030-3.116-2.724c-1.612-1.182-2.393-1.319-2.841-1.319h-15.5c-1.378 0-2.5 1.121-2.5 2.5v27c0 1.378 1.122 2.5 2.5 2.5h23c1.378 0 2.5-1.122 2.5-2.5v-19.5c0-0.448-0.137-1.23-1.319-2.841zM24.543 5.457c0.959 0.959 1.712 1.825 2.268 2.543h-4.811v-4.811c0.718 0.556 1.584 1.309 2.543 2.268zM28 29.5c0 0.271-0.229 0.5-0.5 0.5h-23c-0.271 0-0.5-0.229-0.5-0.5v-27c0-0.271 0.229-0.5 0.5-0.5 0 0 15.499-0 15.5 0v7c0 0.552 0.448 1 1 1h7v19.5z\"></path>\n<path d=\"M23 26h-14c-0.552 0-1-0.448-1-1s0.448-1 1-1h14c0.552 0 1 0.448 1 1s-0.448 1-1 1z\"></path>\n<path d=\"M23 22h-14c-0.552 0-1-0.448-1-1s0.448-1 1-1h14c0.552 0 1 0.448 1 1s-0.448 1-1 1z\"></path>\n<path d=\"M23 18h-14c-0.552 0-1-0.448-1-1s0.448-1 1-1h14c0.552 0 1 0.448 1 1s-0.448 1-1 1z\"></path>\n</symbol>\n</defs>\n</svg>\n<style>/* CSS stylesheet for displaying xarray objects in jupyterlab.\n *\n */\n\n:root {\n  --xr-font-color0: var(--jp-content-font-color0, rgba(0, 0, 0, 1));\n  --xr-font-color2: var(--jp-content-font-color2, rgba(0, 0, 0, 0.54));\n  --xr-font-color3: var(--jp-content-font-color3, rgba(0, 0, 0, 0.38));\n  --xr-border-color: var(--jp-border-color2, #e0e0e0);\n  --xr-disabled-color: var(--jp-layout-color3, #bdbdbd);\n  --xr-background-color: var(--jp-layout-color0, white);\n  --xr-background-color-row-even: var(--jp-layout-color1, white);\n  --xr-background-color-row-odd: var(--jp-layout-color2, #eeeeee);\n}\n\nhtml[theme=dark],\nbody[data-theme=dark],\nbody.vscode-dark {\n  --xr-font-color0: rgba(255, 255, 255, 1);\n  --xr-font-color2: rgba(255, 255, 255, 0.54);\n  --xr-font-color3: rgba(255, 255, 255, 0.38);\n  --xr-border-color: #1F1F1F;\n  --xr-disabled-color: #515151;\n  --xr-background-color: #111111;\n  --xr-background-color-row-even: #111111;\n  --xr-background-color-row-odd: #313131;\n}\n\n.xr-wrap {\n  display: block !important;\n  min-width: 300px;\n  max-width: 700px;\n}\n\n.xr-text-repr-fallback {\n  /* fallback to plain text repr when CSS is not injected (untrusted notebook) */\n  display: none;\n}\n\n.xr-header {\n  padding-top: 6px;\n  padding-bottom: 6px;\n  margin-bottom: 4px;\n  border-bottom: solid 1px var(--xr-border-color);\n}\n\n.xr-header > div,\n.xr-header > ul {\n  display: inline;\n  margin-top: 0;\n  margin-bottom: 0;\n}\n\n.xr-obj-type,\n.xr-array-name {\n  margin-left: 2px;\n  margin-right: 10px;\n}\n\n.xr-obj-type {\n  color: var(--xr-font-color2);\n}\n\n.xr-sections {\n  padding-left: 0 !important;\n  display: grid;\n  grid-template-columns: 150px auto auto 1fr 20px 20px;\n}\n\n.xr-section-item {\n  display: contents;\n}\n\n.xr-section-item input {\n  display: none;\n}\n\n.xr-section-item input + label {\n  color: var(--xr-disabled-color);\n}\n\n.xr-section-item input:enabled + label {\n  cursor: pointer;\n  color: var(--xr-font-color2);\n}\n\n.xr-section-item input:enabled + label:hover {\n  color: var(--xr-font-color0);\n}\n\n.xr-section-summary {\n  grid-column: 1;\n  color: var(--xr-font-color2);\n  font-weight: 500;\n}\n\n.xr-section-summary > span {\n  display: inline-block;\n  padding-left: 0.5em;\n}\n\n.xr-section-summary-in:disabled + label {\n  color: var(--xr-font-color2);\n}\n\n.xr-section-summary-in + label:before {\n  display: inline-block;\n  content: '►';\n  font-size: 11px;\n  width: 15px;\n  text-align: center;\n}\n\n.xr-section-summary-in:disabled + label:before {\n  color: var(--xr-disabled-color);\n}\n\n.xr-section-summary-in:checked + label:before {\n  content: '▼';\n}\n\n.xr-section-summary-in:checked + label > span {\n  display: none;\n}\n\n.xr-section-summary,\n.xr-section-inline-details {\n  padding-top: 4px;\n  padding-bottom: 4px;\n}\n\n.xr-section-inline-details {\n  grid-column: 2 / -1;\n}\n\n.xr-section-details {\n  display: none;\n  grid-column: 1 / -1;\n  margin-bottom: 5px;\n}\n\n.xr-section-summary-in:checked ~ .xr-section-details {\n  display: contents;\n}\n\n.xr-array-wrap {\n  grid-column: 1 / -1;\n  display: grid;\n  grid-template-columns: 20px auto;\n}\n\n.xr-array-wrap > label {\n  grid-column: 1;\n  vertical-align: top;\n}\n\n.xr-preview {\n  color: var(--xr-font-color3);\n}\n\n.xr-array-preview,\n.xr-array-data {\n  padding: 0 5px !important;\n  grid-column: 2;\n}\n\n.xr-array-data,\n.xr-array-in:checked ~ .xr-array-preview {\n  display: none;\n}\n\n.xr-array-in:checked ~ .xr-array-data,\n.xr-array-preview {\n  display: inline-block;\n}\n\n.xr-dim-list {\n  display: inline-block !important;\n  list-style: none;\n  padding: 0 !important;\n  margin: 0;\n}\n\n.xr-dim-list li {\n  display: inline-block;\n  padding: 0;\n  margin: 0;\n}\n\n.xr-dim-list:before {\n  content: '(';\n}\n\n.xr-dim-list:after {\n  content: ')';\n}\n\n.xr-dim-list li:not(:last-child):after {\n  content: ',';\n  padding-right: 5px;\n}\n\n.xr-has-index {\n  font-weight: bold;\n}\n\n.xr-var-list,\n.xr-var-item {\n  display: contents;\n}\n\n.xr-var-item > div,\n.xr-var-item label,\n.xr-var-item > .xr-var-name span {\n  background-color: var(--xr-background-color-row-even);\n  margin-bottom: 0;\n}\n\n.xr-var-item > .xr-var-name:hover span {\n  padding-right: 5px;\n}\n\n.xr-var-list > li:nth-child(odd) > div,\n.xr-var-list > li:nth-child(odd) > label,\n.xr-var-list > li:nth-child(odd) > .xr-var-name span {\n  background-color: var(--xr-background-color-row-odd);\n}\n\n.xr-var-name {\n  grid-column: 1;\n}\n\n.xr-var-dims {\n  grid-column: 2;\n}\n\n.xr-var-dtype {\n  grid-column: 3;\n  text-align: right;\n  color: var(--xr-font-color2);\n}\n\n.xr-var-preview {\n  grid-column: 4;\n}\n\n.xr-index-preview {\n  grid-column: 2 / 5;\n  color: var(--xr-font-color2);\n}\n\n.xr-var-name,\n.xr-var-dims,\n.xr-var-dtype,\n.xr-preview,\n.xr-attrs dt {\n  white-space: nowrap;\n  overflow: hidden;\n  text-overflow: ellipsis;\n  padding-right: 10px;\n}\n\n.xr-var-name:hover,\n.xr-var-dims:hover,\n.xr-var-dtype:hover,\n.xr-attrs dt:hover {\n  overflow: visible;\n  width: auto;\n  z-index: 1;\n}\n\n.xr-var-attrs,\n.xr-var-data,\n.xr-index-data {\n  display: none;\n  background-color: var(--xr-background-color) !important;\n  padding-bottom: 5px !important;\n}\n\n.xr-var-attrs-in:checked ~ .xr-var-attrs,\n.xr-var-data-in:checked ~ .xr-var-data,\n.xr-index-data-in:checked ~ .xr-index-data {\n  display: block;\n}\n\n.xr-var-data > table {\n  float: right;\n}\n\n.xr-var-name span,\n.xr-var-data,\n.xr-index-name div,\n.xr-index-data,\n.xr-attrs {\n  padding-left: 25px !important;\n}\n\n.xr-attrs,\n.xr-var-attrs,\n.xr-var-data,\n.xr-index-data {\n  grid-column: 1 / -1;\n}\n\ndl.xr-attrs {\n  padding: 0;\n  margin: 0;\n  display: grid;\n  grid-template-columns: 125px auto;\n}\n\n.xr-attrs dt,\n.xr-attrs dd {\n  padding: 0;\n  margin: 0;\n  float: left;\n  padding-right: 10px;\n  width: auto;\n}\n\n.xr-attrs dt {\n  font-weight: normal;\n  grid-column: 1;\n}\n\n.xr-attrs dt:hover span {\n  display: inline-block;\n  background: var(--xr-background-color);\n  padding-right: 10px;\n}\n\n.xr-attrs dd {\n  grid-column: 2;\n  white-space: pre-wrap;\n  word-break: break-all;\n}\n\n.xr-icon-database,\n.xr-icon-file-text2,\n.xr-no-icon {\n  display: inline-block;\n  vertical-align: middle;\n  width: 1em;\n  height: 1.5em !important;\n  stroke-width: 0;\n  stroke: currentColor;\n  fill: currentColor;\n}\n</style><pre class='xr-text-repr-fallback'>&lt;xarray.SpatialImage &#x27;image&#x27; (c: 24, y: 512, x: 512)&gt;\ndask.array&lt;_map_read_frame, shape=(24, 512, 512), dtype=float32, chunksize=(1, 512, 512), chunktype=numpy.ndarray&gt;\nCoordinates:\n  * c        (c) &lt;U17 &#x27;CD3&#x27; &#x27;CD4&#x27; &#x27;CD8&#x27; &#x27;CD14&#x27; ... &#x27;Ki67&#x27; &#x27;PD1&#x27; &#x27;SMA&#x27; &#x27;Vim&#x27;\n  * y        (y) float64 0.5 1.5 2.5 3.5 4.5 ... 507.5 508.5 509.5 510.5 511.5\n  * x        (x) float64 0.5 1.5 2.5 3.5 4.5 ... 507.5 508.5 509.5 510.5 511.5\nAttributes:\n    transform:  {&#x27;fov0&#x27;: Identity }</pre><div class='xr-wrap' style='display:none'><div class='xr-header'><div class='xr-obj-type'>xarray.SpatialImage</div><div class='xr-array-name'>'image'</div><ul class='xr-dim-list'><li><span class='xr-has-index'>c</span>: 24</li><li><span class='xr-has-index'>y</span>: 512</li><li><span class='xr-has-index'>x</span>: 512</li></ul></div><ul class='xr-sections'><li class='xr-section-item'><div class='xr-array-wrap'><input id='section-f0334730-cf4f-406f-adbc-7ada9cbc9032' class='xr-array-in' type='checkbox' checked><label for='section-f0334730-cf4f-406f-adbc-7ada9cbc9032' title='Show/hide data repr'><svg class='icon xr-icon-database'><use xlink:href='#icon-database'></use></svg></label><div class='xr-array-preview xr-preview'><span>dask.array&lt;chunksize=(1, 512, 512), meta=np.ndarray&gt;</span></div><div class='xr-array-data'><table>\n    <tr>\n        <td>\n            <table style=\"border-collapse: collapse;\">\n                <thead>\n                    <tr>\n                        <td> </td>\n                        <th> Array </th>\n                        <th> Chunk </th>\n                    </tr>\n                </thead>\n                <tbody>\n                    \n                    <tr>\n                        <th> Bytes </th>\n                        <td> 24.00 MiB </td>\n                        <td> 1.00 MiB </td>\n                    </tr>\n                    \n                    <tr>\n                        <th> Shape </th>\n                        <td> (24, 512, 512) </td>\n                        <td> (1, 512, 512) </td>\n                    </tr>\n                    <tr>\n                        <th> Dask graph </th>\n                        <td colspan=\"2\"> 24 chunks in 3 graph layers </td>\n                    </tr>\n                    <tr>\n                        <th> Data type </th>\n                        <td colspan=\"2\"> float32 numpy.ndarray </td>\n                    </tr>\n                </tbody>\n            </table>\n        </td>\n        <td>\n        <svg width=\"200\" height=\"190\" style=\"stroke:rgb(0,0,0);stroke-width:1\" >\n\n  <!-- Horizontal lines -->\n  <line x1=\"10\" y1=\"0\" x2=\"30\" y2=\"20\" style=\"stroke-width:2\" />\n  <line x1=\"10\" y1=\"120\" x2=\"30\" y2=\"140\" style=\"stroke-width:2\" />\n\n  <!-- Vertical lines -->\n  <line x1=\"10\" y1=\"0\" x2=\"10\" y2=\"120\" style=\"stroke-width:2\" />\n  <line x1=\"10\" y1=\"0\" x2=\"10\" y2=\"120\" />\n  <line x1=\"11\" y1=\"1\" x2=\"11\" y2=\"121\" />\n  <line x1=\"12\" y1=\"2\" x2=\"12\" y2=\"122\" />\n  <line x1=\"14\" y1=\"4\" x2=\"14\" y2=\"124\" />\n  <line x1=\"15\" y1=\"5\" x2=\"15\" y2=\"125\" />\n  <line x1=\"15\" y1=\"5\" x2=\"15\" y2=\"125\" />\n  <line x1=\"16\" y1=\"6\" x2=\"16\" y2=\"126\" />\n  <line x1=\"18\" y1=\"8\" x2=\"18\" y2=\"128\" />\n  <line x1=\"19\" y1=\"9\" x2=\"19\" y2=\"129\" />\n  <line x1=\"20\" y1=\"10\" x2=\"20\" y2=\"130\" />\n  <line x1=\"20\" y1=\"10\" x2=\"20\" y2=\"130\" />\n  <line x1=\"22\" y1=\"12\" x2=\"22\" y2=\"132\" />\n  <line x1=\"23\" y1=\"13\" x2=\"23\" y2=\"133\" />\n  <line x1=\"24\" y1=\"14\" x2=\"24\" y2=\"134\" />\n  <line x1=\"25\" y1=\"15\" x2=\"25\" y2=\"135\" />\n  <line x1=\"26\" y1=\"16\" x2=\"26\" y2=\"136\" />\n  <line x1=\"27\" y1=\"17\" x2=\"27\" y2=\"137\" />\n  <line x1=\"28\" y1=\"18\" x2=\"28\" y2=\"138\" />\n  <line x1=\"30\" y1=\"20\" x2=\"30\" y2=\"140\" style=\"stroke-width:2\" />\n\n  <!-- Colored Rectangle -->\n  <polygon points=\"10.0,0.0 30.062102251177688,20.062102251177688 30.062102251177688,140.0621022511777 10.0,120.0\" style=\"fill:#8B4903A0;stroke-width:0\"/>\n\n  <!-- Horizontal lines -->\n  <line x1=\"10\" y1=\"0\" x2=\"130\" y2=\"0\" style=\"stroke-width:2\" />\n  <line x1=\"10\" y1=\"0\" x2=\"130\" y2=\"0\" />\n  <line x1=\"11\" y1=\"1\" x2=\"131\" y2=\"1\" />\n  <line x1=\"12\" y1=\"2\" x2=\"132\" y2=\"2\" />\n  <line x1=\"14\" y1=\"4\" x2=\"134\" y2=\"4\" />\n  <line x1=\"15\" y1=\"5\" x2=\"135\" y2=\"5\" />\n  <line x1=\"15\" y1=\"5\" x2=\"135\" y2=\"5\" />\n  <line x1=\"16\" y1=\"6\" x2=\"136\" y2=\"6\" />\n  <line x1=\"18\" y1=\"8\" x2=\"138\" y2=\"8\" />\n  <line x1=\"19\" y1=\"9\" x2=\"139\" y2=\"9\" />\n  <line x1=\"20\" y1=\"10\" x2=\"140\" y2=\"10\" />\n  <line x1=\"20\" y1=\"10\" x2=\"140\" y2=\"10\" />\n  <line x1=\"22\" y1=\"12\" x2=\"142\" y2=\"12\" />\n  <line x1=\"23\" y1=\"13\" x2=\"143\" y2=\"13\" />\n  <line x1=\"24\" y1=\"14\" x2=\"144\" y2=\"14\" />\n  <line x1=\"25\" y1=\"15\" x2=\"145\" y2=\"15\" />\n  <line x1=\"26\" y1=\"16\" x2=\"146\" y2=\"16\" />\n  <line x1=\"27\" y1=\"17\" x2=\"147\" y2=\"17\" />\n  <line x1=\"28\" y1=\"18\" x2=\"148\" y2=\"18\" />\n  <line x1=\"30\" y1=\"20\" x2=\"150\" y2=\"20\" style=\"stroke-width:2\" />\n\n  <!-- Vertical lines -->\n  <line x1=\"10\" y1=\"0\" x2=\"30\" y2=\"20\" style=\"stroke-width:2\" />\n  <line x1=\"130\" y1=\"0\" x2=\"150\" y2=\"20\" style=\"stroke-width:2\" />\n\n  <!-- Colored Rectangle -->\n  <polygon points=\"10.0,0.0 130.0,0.0 150.0621022511777,20.062102251177688 30.062102251177688,20.062102251177688\" style=\"fill:#8B4903A0;stroke-width:0\"/>\n\n  <!-- Horizontal lines -->\n  <line x1=\"30\" y1=\"20\" x2=\"150\" y2=\"20\" style=\"stroke-width:2\" />\n  <line x1=\"30\" y1=\"140\" x2=\"150\" y2=\"140\" style=\"stroke-width:2\" />\n\n  <!-- Vertical lines -->\n  <line x1=\"30\" y1=\"20\" x2=\"30\" y2=\"140\" style=\"stroke-width:2\" />\n  <line x1=\"150\" y1=\"20\" x2=\"150\" y2=\"140\" style=\"stroke-width:2\" />\n\n  <!-- Colored Rectangle -->\n  <polygon points=\"30.062102251177688,20.062102251177688 150.0621022511777,20.062102251177688 150.0621022511777,140.0621022511777 30.062102251177688,140.0621022511777\" style=\"fill:#ECB172A0;stroke-width:0\"/>\n\n  <!-- Text -->\n  <text x=\"90.062102\" y=\"160.062102\" font-size=\"1.0rem\" font-weight=\"100\" text-anchor=\"middle\" >512</text>\n  <text x=\"170.062102\" y=\"80.062102\" font-size=\"1.0rem\" font-weight=\"100\" text-anchor=\"middle\" transform=\"rotate(-90,170.062102,80.062102)\">512</text>\n  <text x=\"10.031051\" y=\"150.031051\" font-size=\"1.0rem\" font-weight=\"100\" text-anchor=\"middle\" transform=\"rotate(45,10.031051,150.031051)\">24</text>\n</svg>\n        </td>\n    </tr>\n</table></div></div></li><li class='xr-section-item'><input id='section-57b52099-4bb2-41f6-b620-3c3fa2318b66' class='xr-section-summary-in' type='checkbox'  checked><label for='section-57b52099-4bb2-41f6-b620-3c3fa2318b66' class='xr-section-summary' >Coordinates: <span>(3)</span></label><div class='xr-section-inline-details'></div><div class='xr-section-details'><ul class='xr-var-list'><li class='xr-var-item'><div class='xr-var-name'><span class='xr-has-index'>c</span></div><div class='xr-var-dims'>(c)</div><div class='xr-var-dtype'>&lt;U17</div><div class='xr-var-preview xr-preview'>&#x27;CD3&#x27; &#x27;CD4&#x27; &#x27;CD8&#x27; ... &#x27;SMA&#x27; &#x27;Vim&#x27;</div><input id='attrs-2e906e61-d843-4fe9-bae6-12fa05714e22' class='xr-var-attrs-in' type='checkbox' ><label for='attrs-2e906e61-d843-4fe9-bae6-12fa05714e22' title='Show/Hide attributes'><svg class='icon xr-icon-file-text2'><use xlink:href='#icon-file-text2'></use></svg></label><input id='data-a68f4e6a-37f8-439b-a649-d18c47ba995c' class='xr-var-data-in' type='checkbox'><label for='data-a68f4e6a-37f8-439b-a649-d18c47ba995c' title='Show/Hide data repr'><svg class='icon xr-icon-database'><use xlink:href='#icon-database'></use></svg></label><div class='xr-var-attrs'><dl class='xr-attrs'><dt><span>long_name :</span></dt><dd>c</dd><dt><span>units :</span></dt><dd></dd></dl></div><div class='xr-var-data'><pre>array([&#x27;CD3&#x27;, &#x27;CD4&#x27;, &#x27;CD8&#x27;, &#x27;CD14&#x27;, &#x27;CD20&#x27;, &#x27;CD31&#x27;, &#x27;CD45&#x27;, &#x27;CD68&#x27;, &#x27;CD163&#x27;,\n       &#x27;CD163_nuc_exclude&#x27;, &#x27;CK17&#x27;, &#x27;Collagen1&#x27;, &#x27;ECAD&#x27;, &#x27;ECAD_smoothed&#x27;,\n       &#x27;Fibronectin&#x27;, &#x27;GLUT1&#x27;, &#x27;H3K9ac&#x27;, &#x27;H3K27me3&#x27;, &#x27;HLADR&#x27;, &#x27;IDO&#x27;, &#x27;Ki67&#x27;,\n       &#x27;PD1&#x27;, &#x27;SMA&#x27;, &#x27;Vim&#x27;], dtype=&#x27;&lt;U17&#x27;)</pre></div></li><li class='xr-var-item'><div class='xr-var-name'><span class='xr-has-index'>y</span></div><div class='xr-var-dims'>(y)</div><div class='xr-var-dtype'>float64</div><div class='xr-var-preview xr-preview'>0.5 1.5 2.5 ... 509.5 510.5 511.5</div><input id='attrs-83a52091-61b0-4bab-8886-50c95353beff' class='xr-var-attrs-in' type='checkbox' disabled><label for='attrs-83a52091-61b0-4bab-8886-50c95353beff' title='Show/Hide attributes'><svg class='icon xr-icon-file-text2'><use xlink:href='#icon-file-text2'></use></svg></label><input id='data-877d7f18-5dbb-4e75-996a-8db3cfa5b5f7' class='xr-var-data-in' type='checkbox'><label for='data-877d7f18-5dbb-4e75-996a-8db3cfa5b5f7' title='Show/Hide data repr'><svg class='icon xr-icon-database'><use xlink:href='#icon-database'></use></svg></label><div class='xr-var-attrs'><dl class='xr-attrs'></dl></div><div class='xr-var-data'><pre>array([5.000e-01, 1.500e+00, 2.500e+00, ..., 5.095e+02, 5.105e+02, 5.115e+02])</pre></div></li><li class='xr-var-item'><div class='xr-var-name'><span class='xr-has-index'>x</span></div><div class='xr-var-dims'>(x)</div><div class='xr-var-dtype'>float64</div><div class='xr-var-preview xr-preview'>0.5 1.5 2.5 ... 509.5 510.5 511.5</div><input id='attrs-ef1103c5-6ac3-42bf-b8f2-5bda91a51b40' class='xr-var-attrs-in' type='checkbox' disabled><label for='attrs-ef1103c5-6ac3-42bf-b8f2-5bda91a51b40' title='Show/Hide attributes'><svg class='icon xr-icon-file-text2'><use xlink:href='#icon-file-text2'></use></svg></label><input id='data-94964e9a-a35e-48d4-ba32-148e4d9fe5fc' class='xr-var-data-in' type='checkbox'><label for='data-94964e9a-a35e-48d4-ba32-148e4d9fe5fc' title='Show/Hide data repr'><svg class='icon xr-icon-database'><use xlink:href='#icon-database'></use></svg></label><div class='xr-var-attrs'><dl class='xr-attrs'></dl></div><div class='xr-var-data'><pre>array([5.000e-01, 1.500e+00, 2.500e+00, ..., 5.095e+02, 5.105e+02, 5.115e+02])</pre></div></li></ul></div></li><li class='xr-section-item'><input id='section-826091b1-04df-42ae-82ff-8b6df6ad98ca' class='xr-section-summary-in' type='checkbox'  ><label for='section-826091b1-04df-42ae-82ff-8b6df6ad98ca' class='xr-section-summary' >Indexes: <span>(3)</span></label><div class='xr-section-inline-details'></div><div class='xr-section-details'><ul class='xr-var-list'><li class='xr-var-item'><div class='xr-index-name'><div>c</div></div><div class='xr-index-preview'>PandasIndex</div><div></div><input id='index-93680232-99a9-4aa8-a9ca-1f1950cd199e' class='xr-index-data-in' type='checkbox'/><label for='index-93680232-99a9-4aa8-a9ca-1f1950cd199e' title='Show/Hide index repr'><svg class='icon xr-icon-database'><use xlink:href='#icon-database'></use></svg></label><div class='xr-index-data'><pre>PandasIndex(Index([&#x27;CD3&#x27;, &#x27;CD4&#x27;, &#x27;CD8&#x27;, &#x27;CD14&#x27;, &#x27;CD20&#x27;, &#x27;CD31&#x27;, &#x27;CD45&#x27;, &#x27;CD68&#x27;, &#x27;CD163&#x27;,\n       &#x27;CD163_nuc_exclude&#x27;, &#x27;CK17&#x27;, &#x27;Collagen1&#x27;, &#x27;ECAD&#x27;, &#x27;ECAD_smoothed&#x27;,\n       &#x27;Fibronectin&#x27;, &#x27;GLUT1&#x27;, &#x27;H3K9ac&#x27;, &#x27;H3K27me3&#x27;, &#x27;HLADR&#x27;, &#x27;IDO&#x27;, &#x27;Ki67&#x27;,\n       &#x27;PD1&#x27;, &#x27;SMA&#x27;, &#x27;Vim&#x27;],\n      dtype=&#x27;object&#x27;, name=&#x27;c&#x27;))</pre></div></li><li class='xr-var-item'><div class='xr-index-name'><div>y</div></div><div class='xr-index-preview'>PandasIndex</div><div></div><input id='index-a026319d-cc4e-463b-a726-bed1bfffa70d' class='xr-index-data-in' type='checkbox'/><label for='index-a026319d-cc4e-463b-a726-bed1bfffa70d' title='Show/Hide index repr'><svg class='icon xr-icon-database'><use xlink:href='#icon-database'></use></svg></label><div class='xr-index-data'><pre>PandasIndex(Index([  0.5,   1.5,   2.5,   3.5,   4.5,   5.5,   6.5,   7.5,   8.5,   9.5,\n       ...\n       502.5, 503.5, 504.5, 505.5, 506.5, 507.5, 508.5, 509.5, 510.5, 511.5],\n      dtype=&#x27;float64&#x27;, name=&#x27;y&#x27;, length=512))</pre></div></li><li class='xr-var-item'><div class='xr-index-name'><div>x</div></div><div class='xr-index-preview'>PandasIndex</div><div></div><input id='index-041a124c-54cf-40a4-a054-c2cfaea72e54' class='xr-index-data-in' type='checkbox'/><label for='index-041a124c-54cf-40a4-a054-c2cfaea72e54' title='Show/Hide index repr'><svg class='icon xr-icon-database'><use xlink:href='#icon-database'></use></svg></label><div class='xr-index-data'><pre>PandasIndex(Index([  0.5,   1.5,   2.5,   3.5,   4.5,   5.5,   6.5,   7.5,   8.5,   9.5,\n       ...\n       502.5, 503.5, 504.5, 505.5, 506.5, 507.5, 508.5, 509.5, 510.5, 511.5],\n      dtype=&#x27;float64&#x27;, name=&#x27;x&#x27;, length=512))</pre></div></li></ul></div></li><li class='xr-section-item'><input id='section-361ec96d-74b0-4eac-850a-e4d11a02da12' class='xr-section-summary-in' type='checkbox'  checked><label for='section-361ec96d-74b0-4eac-850a-e4d11a02da12' class='xr-section-summary' >Attributes: <span>(1)</span></label><div class='xr-section-inline-details'></div><div class='xr-section-details'><dl class='xr-attrs'><dt><span>transform :</span></dt><dd>{&#x27;fov0&#x27;: Identity }</dd></dl></div></li></ul></div></div>"
     },
     "execution_count": 14,
     "metadata": {},
     "output_type": "execute_result"
    }
   ],
   "source": [
    "sdata.images[\"fov0\"]"
   ]
  },
  {
   "cell_type": "markdown",
   "metadata": {},
   "source": [
    "We can look at the channels in our cohort"
   ]
  },
  {
   "cell_type": "code",
   "execution_count": 15,
   "metadata": {
    "ExecuteTime": {
     "end_time": "2023-10-04T23:31:53.894968Z",
     "start_time": "2023-10-04T23:31:53.862809Z"
    }
   },
   "outputs": [
    {
     "data": {
      "text/plain": "<xarray.SpatialImage 'c' (c: 24)>\narray(['CD3', 'CD4', 'CD8', 'CD14', 'CD20', 'CD31', 'CD45', 'CD68', 'CD163',\n       'CD163_nuc_exclude', 'CK17', 'Collagen1', 'ECAD', 'ECAD_smoothed',\n       'Fibronectin', 'GLUT1', 'H3K9ac', 'H3K27me3', 'HLADR', 'IDO', 'Ki67',\n       'PD1', 'SMA', 'Vim'], dtype='<U17')\nCoordinates:\n  * c        (c) <U17 'CD3' 'CD4' 'CD8' 'CD14' ... 'Ki67' 'PD1' 'SMA' 'Vim'\nAttributes:\n    long_name:  c\n    units:      ",
      "text/html": "<div><svg style=\"position: absolute; width: 0; height: 0; overflow: hidden\">\n<defs>\n<symbol id=\"icon-database\" viewBox=\"0 0 32 32\">\n<path d=\"M16 0c-8.837 0-16 2.239-16 5v4c0 2.761 7.163 5 16 5s16-2.239 16-5v-4c0-2.761-7.163-5-16-5z\"></path>\n<path d=\"M16 17c-8.837 0-16-2.239-16-5v6c0 2.761 7.163 5 16 5s16-2.239 16-5v-6c0 2.761-7.163 5-16 5z\"></path>\n<path d=\"M16 26c-8.837 0-16-2.239-16-5v6c0 2.761 7.163 5 16 5s16-2.239 16-5v-6c0 2.761-7.163 5-16 5z\"></path>\n</symbol>\n<symbol id=\"icon-file-text2\" viewBox=\"0 0 32 32\">\n<path d=\"M28.681 7.159c-0.694-0.947-1.662-2.053-2.724-3.116s-2.169-2.030-3.116-2.724c-1.612-1.182-2.393-1.319-2.841-1.319h-15.5c-1.378 0-2.5 1.121-2.5 2.5v27c0 1.378 1.122 2.5 2.5 2.5h23c1.378 0 2.5-1.122 2.5-2.5v-19.5c0-0.448-0.137-1.23-1.319-2.841zM24.543 5.457c0.959 0.959 1.712 1.825 2.268 2.543h-4.811v-4.811c0.718 0.556 1.584 1.309 2.543 2.268zM28 29.5c0 0.271-0.229 0.5-0.5 0.5h-23c-0.271 0-0.5-0.229-0.5-0.5v-27c0-0.271 0.229-0.5 0.5-0.5 0 0 15.499-0 15.5 0v7c0 0.552 0.448 1 1 1h7v19.5z\"></path>\n<path d=\"M23 26h-14c-0.552 0-1-0.448-1-1s0.448-1 1-1h14c0.552 0 1 0.448 1 1s-0.448 1-1 1z\"></path>\n<path d=\"M23 22h-14c-0.552 0-1-0.448-1-1s0.448-1 1-1h14c0.552 0 1 0.448 1 1s-0.448 1-1 1z\"></path>\n<path d=\"M23 18h-14c-0.552 0-1-0.448-1-1s0.448-1 1-1h14c0.552 0 1 0.448 1 1s-0.448 1-1 1z\"></path>\n</symbol>\n</defs>\n</svg>\n<style>/* CSS stylesheet for displaying xarray objects in jupyterlab.\n *\n */\n\n:root {\n  --xr-font-color0: var(--jp-content-font-color0, rgba(0, 0, 0, 1));\n  --xr-font-color2: var(--jp-content-font-color2, rgba(0, 0, 0, 0.54));\n  --xr-font-color3: var(--jp-content-font-color3, rgba(0, 0, 0, 0.38));\n  --xr-border-color: var(--jp-border-color2, #e0e0e0);\n  --xr-disabled-color: var(--jp-layout-color3, #bdbdbd);\n  --xr-background-color: var(--jp-layout-color0, white);\n  --xr-background-color-row-even: var(--jp-layout-color1, white);\n  --xr-background-color-row-odd: var(--jp-layout-color2, #eeeeee);\n}\n\nhtml[theme=dark],\nbody[data-theme=dark],\nbody.vscode-dark {\n  --xr-font-color0: rgba(255, 255, 255, 1);\n  --xr-font-color2: rgba(255, 255, 255, 0.54);\n  --xr-font-color3: rgba(255, 255, 255, 0.38);\n  --xr-border-color: #1F1F1F;\n  --xr-disabled-color: #515151;\n  --xr-background-color: #111111;\n  --xr-background-color-row-even: #111111;\n  --xr-background-color-row-odd: #313131;\n}\n\n.xr-wrap {\n  display: block !important;\n  min-width: 300px;\n  max-width: 700px;\n}\n\n.xr-text-repr-fallback {\n  /* fallback to plain text repr when CSS is not injected (untrusted notebook) */\n  display: none;\n}\n\n.xr-header {\n  padding-top: 6px;\n  padding-bottom: 6px;\n  margin-bottom: 4px;\n  border-bottom: solid 1px var(--xr-border-color);\n}\n\n.xr-header > div,\n.xr-header > ul {\n  display: inline;\n  margin-top: 0;\n  margin-bottom: 0;\n}\n\n.xr-obj-type,\n.xr-array-name {\n  margin-left: 2px;\n  margin-right: 10px;\n}\n\n.xr-obj-type {\n  color: var(--xr-font-color2);\n}\n\n.xr-sections {\n  padding-left: 0 !important;\n  display: grid;\n  grid-template-columns: 150px auto auto 1fr 20px 20px;\n}\n\n.xr-section-item {\n  display: contents;\n}\n\n.xr-section-item input {\n  display: none;\n}\n\n.xr-section-item input + label {\n  color: var(--xr-disabled-color);\n}\n\n.xr-section-item input:enabled + label {\n  cursor: pointer;\n  color: var(--xr-font-color2);\n}\n\n.xr-section-item input:enabled + label:hover {\n  color: var(--xr-font-color0);\n}\n\n.xr-section-summary {\n  grid-column: 1;\n  color: var(--xr-font-color2);\n  font-weight: 500;\n}\n\n.xr-section-summary > span {\n  display: inline-block;\n  padding-left: 0.5em;\n}\n\n.xr-section-summary-in:disabled + label {\n  color: var(--xr-font-color2);\n}\n\n.xr-section-summary-in + label:before {\n  display: inline-block;\n  content: '►';\n  font-size: 11px;\n  width: 15px;\n  text-align: center;\n}\n\n.xr-section-summary-in:disabled + label:before {\n  color: var(--xr-disabled-color);\n}\n\n.xr-section-summary-in:checked + label:before {\n  content: '▼';\n}\n\n.xr-section-summary-in:checked + label > span {\n  display: none;\n}\n\n.xr-section-summary,\n.xr-section-inline-details {\n  padding-top: 4px;\n  padding-bottom: 4px;\n}\n\n.xr-section-inline-details {\n  grid-column: 2 / -1;\n}\n\n.xr-section-details {\n  display: none;\n  grid-column: 1 / -1;\n  margin-bottom: 5px;\n}\n\n.xr-section-summary-in:checked ~ .xr-section-details {\n  display: contents;\n}\n\n.xr-array-wrap {\n  grid-column: 1 / -1;\n  display: grid;\n  grid-template-columns: 20px auto;\n}\n\n.xr-array-wrap > label {\n  grid-column: 1;\n  vertical-align: top;\n}\n\n.xr-preview {\n  color: var(--xr-font-color3);\n}\n\n.xr-array-preview,\n.xr-array-data {\n  padding: 0 5px !important;\n  grid-column: 2;\n}\n\n.xr-array-data,\n.xr-array-in:checked ~ .xr-array-preview {\n  display: none;\n}\n\n.xr-array-in:checked ~ .xr-array-data,\n.xr-array-preview {\n  display: inline-block;\n}\n\n.xr-dim-list {\n  display: inline-block !important;\n  list-style: none;\n  padding: 0 !important;\n  margin: 0;\n}\n\n.xr-dim-list li {\n  display: inline-block;\n  padding: 0;\n  margin: 0;\n}\n\n.xr-dim-list:before {\n  content: '(';\n}\n\n.xr-dim-list:after {\n  content: ')';\n}\n\n.xr-dim-list li:not(:last-child):after {\n  content: ',';\n  padding-right: 5px;\n}\n\n.xr-has-index {\n  font-weight: bold;\n}\n\n.xr-var-list,\n.xr-var-item {\n  display: contents;\n}\n\n.xr-var-item > div,\n.xr-var-item label,\n.xr-var-item > .xr-var-name span {\n  background-color: var(--xr-background-color-row-even);\n  margin-bottom: 0;\n}\n\n.xr-var-item > .xr-var-name:hover span {\n  padding-right: 5px;\n}\n\n.xr-var-list > li:nth-child(odd) > div,\n.xr-var-list > li:nth-child(odd) > label,\n.xr-var-list > li:nth-child(odd) > .xr-var-name span {\n  background-color: var(--xr-background-color-row-odd);\n}\n\n.xr-var-name {\n  grid-column: 1;\n}\n\n.xr-var-dims {\n  grid-column: 2;\n}\n\n.xr-var-dtype {\n  grid-column: 3;\n  text-align: right;\n  color: var(--xr-font-color2);\n}\n\n.xr-var-preview {\n  grid-column: 4;\n}\n\n.xr-index-preview {\n  grid-column: 2 / 5;\n  color: var(--xr-font-color2);\n}\n\n.xr-var-name,\n.xr-var-dims,\n.xr-var-dtype,\n.xr-preview,\n.xr-attrs dt {\n  white-space: nowrap;\n  overflow: hidden;\n  text-overflow: ellipsis;\n  padding-right: 10px;\n}\n\n.xr-var-name:hover,\n.xr-var-dims:hover,\n.xr-var-dtype:hover,\n.xr-attrs dt:hover {\n  overflow: visible;\n  width: auto;\n  z-index: 1;\n}\n\n.xr-var-attrs,\n.xr-var-data,\n.xr-index-data {\n  display: none;\n  background-color: var(--xr-background-color) !important;\n  padding-bottom: 5px !important;\n}\n\n.xr-var-attrs-in:checked ~ .xr-var-attrs,\n.xr-var-data-in:checked ~ .xr-var-data,\n.xr-index-data-in:checked ~ .xr-index-data {\n  display: block;\n}\n\n.xr-var-data > table {\n  float: right;\n}\n\n.xr-var-name span,\n.xr-var-data,\n.xr-index-name div,\n.xr-index-data,\n.xr-attrs {\n  padding-left: 25px !important;\n}\n\n.xr-attrs,\n.xr-var-attrs,\n.xr-var-data,\n.xr-index-data {\n  grid-column: 1 / -1;\n}\n\ndl.xr-attrs {\n  padding: 0;\n  margin: 0;\n  display: grid;\n  grid-template-columns: 125px auto;\n}\n\n.xr-attrs dt,\n.xr-attrs dd {\n  padding: 0;\n  margin: 0;\n  float: left;\n  padding-right: 10px;\n  width: auto;\n}\n\n.xr-attrs dt {\n  font-weight: normal;\n  grid-column: 1;\n}\n\n.xr-attrs dt:hover span {\n  display: inline-block;\n  background: var(--xr-background-color);\n  padding-right: 10px;\n}\n\n.xr-attrs dd {\n  grid-column: 2;\n  white-space: pre-wrap;\n  word-break: break-all;\n}\n\n.xr-icon-database,\n.xr-icon-file-text2,\n.xr-no-icon {\n  display: inline-block;\n  vertical-align: middle;\n  width: 1em;\n  height: 1.5em !important;\n  stroke-width: 0;\n  stroke: currentColor;\n  fill: currentColor;\n}\n</style><pre class='xr-text-repr-fallback'>&lt;xarray.SpatialImage &#x27;c&#x27; (c: 24)&gt;\narray([&#x27;CD3&#x27;, &#x27;CD4&#x27;, &#x27;CD8&#x27;, &#x27;CD14&#x27;, &#x27;CD20&#x27;, &#x27;CD31&#x27;, &#x27;CD45&#x27;, &#x27;CD68&#x27;, &#x27;CD163&#x27;,\n       &#x27;CD163_nuc_exclude&#x27;, &#x27;CK17&#x27;, &#x27;Collagen1&#x27;, &#x27;ECAD&#x27;, &#x27;ECAD_smoothed&#x27;,\n       &#x27;Fibronectin&#x27;, &#x27;GLUT1&#x27;, &#x27;H3K9ac&#x27;, &#x27;H3K27me3&#x27;, &#x27;HLADR&#x27;, &#x27;IDO&#x27;, &#x27;Ki67&#x27;,\n       &#x27;PD1&#x27;, &#x27;SMA&#x27;, &#x27;Vim&#x27;], dtype=&#x27;&lt;U17&#x27;)\nCoordinates:\n  * c        (c) &lt;U17 &#x27;CD3&#x27; &#x27;CD4&#x27; &#x27;CD8&#x27; &#x27;CD14&#x27; ... &#x27;Ki67&#x27; &#x27;PD1&#x27; &#x27;SMA&#x27; &#x27;Vim&#x27;\nAttributes:\n    long_name:  c\n    units:      </pre><div class='xr-wrap' style='display:none'><div class='xr-header'><div class='xr-obj-type'>xarray.SpatialImage</div><div class='xr-array-name'>'c'</div><ul class='xr-dim-list'><li><span class='xr-has-index'>c</span>: 24</li></ul></div><ul class='xr-sections'><li class='xr-section-item'><div class='xr-array-wrap'><input id='section-e6469b91-5cc6-4fd0-84e5-d0388c424e4c' class='xr-array-in' type='checkbox' checked><label for='section-e6469b91-5cc6-4fd0-84e5-d0388c424e4c' title='Show/hide data repr'><svg class='icon xr-icon-database'><use xlink:href='#icon-database'></use></svg></label><div class='xr-array-preview xr-preview'><span>&#x27;CD3&#x27; &#x27;CD4&#x27; &#x27;CD8&#x27; &#x27;CD14&#x27; &#x27;CD20&#x27; ... &#x27;IDO&#x27; &#x27;Ki67&#x27; &#x27;PD1&#x27; &#x27;SMA&#x27; &#x27;Vim&#x27;</span></div><div class='xr-array-data'><pre>array([&#x27;CD3&#x27;, &#x27;CD4&#x27;, &#x27;CD8&#x27;, &#x27;CD14&#x27;, &#x27;CD20&#x27;, &#x27;CD31&#x27;, &#x27;CD45&#x27;, &#x27;CD68&#x27;, &#x27;CD163&#x27;,\n       &#x27;CD163_nuc_exclude&#x27;, &#x27;CK17&#x27;, &#x27;Collagen1&#x27;, &#x27;ECAD&#x27;, &#x27;ECAD_smoothed&#x27;,\n       &#x27;Fibronectin&#x27;, &#x27;GLUT1&#x27;, &#x27;H3K9ac&#x27;, &#x27;H3K27me3&#x27;, &#x27;HLADR&#x27;, &#x27;IDO&#x27;, &#x27;Ki67&#x27;,\n       &#x27;PD1&#x27;, &#x27;SMA&#x27;, &#x27;Vim&#x27;], dtype=&#x27;&lt;U17&#x27;)</pre></div></div></li><li class='xr-section-item'><input id='section-bfc74789-5a62-4e5e-922c-769b219a5ee9' class='xr-section-summary-in' type='checkbox'  checked><label for='section-bfc74789-5a62-4e5e-922c-769b219a5ee9' class='xr-section-summary' >Coordinates: <span>(1)</span></label><div class='xr-section-inline-details'></div><div class='xr-section-details'><ul class='xr-var-list'><li class='xr-var-item'><div class='xr-var-name'><span class='xr-has-index'>c</span></div><div class='xr-var-dims'>(c)</div><div class='xr-var-dtype'>&lt;U17</div><div class='xr-var-preview xr-preview'>&#x27;CD3&#x27; &#x27;CD4&#x27; &#x27;CD8&#x27; ... &#x27;SMA&#x27; &#x27;Vim&#x27;</div><input id='attrs-eea3ebb9-81af-43fd-af38-695d024667a9' class='xr-var-attrs-in' type='checkbox' ><label for='attrs-eea3ebb9-81af-43fd-af38-695d024667a9' title='Show/Hide attributes'><svg class='icon xr-icon-file-text2'><use xlink:href='#icon-file-text2'></use></svg></label><input id='data-4e860615-d31c-4d81-b588-f7432ac4a043' class='xr-var-data-in' type='checkbox'><label for='data-4e860615-d31c-4d81-b588-f7432ac4a043' title='Show/Hide data repr'><svg class='icon xr-icon-database'><use xlink:href='#icon-database'></use></svg></label><div class='xr-var-attrs'><dl class='xr-attrs'><dt><span>long_name :</span></dt><dd>c</dd><dt><span>units :</span></dt><dd></dd></dl></div><div class='xr-var-data'><pre>array([&#x27;CD3&#x27;, &#x27;CD4&#x27;, &#x27;CD8&#x27;, &#x27;CD14&#x27;, &#x27;CD20&#x27;, &#x27;CD31&#x27;, &#x27;CD45&#x27;, &#x27;CD68&#x27;, &#x27;CD163&#x27;,\n       &#x27;CD163_nuc_exclude&#x27;, &#x27;CK17&#x27;, &#x27;Collagen1&#x27;, &#x27;ECAD&#x27;, &#x27;ECAD_smoothed&#x27;,\n       &#x27;Fibronectin&#x27;, &#x27;GLUT1&#x27;, &#x27;H3K9ac&#x27;, &#x27;H3K27me3&#x27;, &#x27;HLADR&#x27;, &#x27;IDO&#x27;, &#x27;Ki67&#x27;,\n       &#x27;PD1&#x27;, &#x27;SMA&#x27;, &#x27;Vim&#x27;], dtype=&#x27;&lt;U17&#x27;)</pre></div></li></ul></div></li><li class='xr-section-item'><input id='section-0454678c-a2ee-475d-8274-e61404384b07' class='xr-section-summary-in' type='checkbox'  ><label for='section-0454678c-a2ee-475d-8274-e61404384b07' class='xr-section-summary' >Indexes: <span>(1)</span></label><div class='xr-section-inline-details'></div><div class='xr-section-details'><ul class='xr-var-list'><li class='xr-var-item'><div class='xr-index-name'><div>c</div></div><div class='xr-index-preview'>PandasIndex</div><div></div><input id='index-316a0613-12b7-41c4-814e-3551f0074c5f' class='xr-index-data-in' type='checkbox'/><label for='index-316a0613-12b7-41c4-814e-3551f0074c5f' title='Show/Hide index repr'><svg class='icon xr-icon-database'><use xlink:href='#icon-database'></use></svg></label><div class='xr-index-data'><pre>PandasIndex(Index([&#x27;CD3&#x27;, &#x27;CD4&#x27;, &#x27;CD8&#x27;, &#x27;CD14&#x27;, &#x27;CD20&#x27;, &#x27;CD31&#x27;, &#x27;CD45&#x27;, &#x27;CD68&#x27;, &#x27;CD163&#x27;,\n       &#x27;CD163_nuc_exclude&#x27;, &#x27;CK17&#x27;, &#x27;Collagen1&#x27;, &#x27;ECAD&#x27;, &#x27;ECAD_smoothed&#x27;,\n       &#x27;Fibronectin&#x27;, &#x27;GLUT1&#x27;, &#x27;H3K9ac&#x27;, &#x27;H3K27me3&#x27;, &#x27;HLADR&#x27;, &#x27;IDO&#x27;, &#x27;Ki67&#x27;,\n       &#x27;PD1&#x27;, &#x27;SMA&#x27;, &#x27;Vim&#x27;],\n      dtype=&#x27;object&#x27;, name=&#x27;c&#x27;))</pre></div></li></ul></div></li><li class='xr-section-item'><input id='section-450c4614-28c9-4c81-ae06-189e4c9600d0' class='xr-section-summary-in' type='checkbox'  checked><label for='section-450c4614-28c9-4c81-ae06-189e4c9600d0' class='xr-section-summary' >Attributes: <span>(2)</span></label><div class='xr-section-inline-details'></div><div class='xr-section-details'><dl class='xr-attrs'><dt><span>long_name :</span></dt><dd>c</dd><dt><span>units :</span></dt><dd></dd></dl></div></li></ul></div></div>"
     },
     "execution_count": 15,
     "metadata": {},
     "output_type": "execute_result"
    }
   ],
   "source": [
    "sdata.images[\"fov0\"].c"
   ]
  },
  {
   "cell_type": "markdown",
   "metadata": {},
   "source": [
    "Select a few channels from `fov0`"
   ]
  },
  {
   "cell_type": "code",
   "execution_count": 16,
   "metadata": {
    "ExecuteTime": {
     "end_time": "2023-10-04T23:32:09.426986Z",
     "start_time": "2023-10-04T23:32:09.379656Z"
    }
   },
   "outputs": [
    {
     "data": {
      "text/plain": "<xarray.SpatialImage 'image' (c: 3, y: 512, x: 512)>\ndask.array<getitem, shape=(3, 512, 512), dtype=float32, chunksize=(1, 512, 512), chunktype=numpy.ndarray>\nCoordinates:\n  * c        (c) <U17 'CD3' 'CD4' 'CD8'\n  * y        (y) float64 0.5 1.5 2.5 3.5 4.5 ... 507.5 508.5 509.5 510.5 511.5\n  * x        (x) float64 0.5 1.5 2.5 3.5 4.5 ... 507.5 508.5 509.5 510.5 511.5\nAttributes:\n    transform:  {'fov0': Identity }",
      "text/html": "<div><svg style=\"position: absolute; width: 0; height: 0; overflow: hidden\">\n<defs>\n<symbol id=\"icon-database\" viewBox=\"0 0 32 32\">\n<path d=\"M16 0c-8.837 0-16 2.239-16 5v4c0 2.761 7.163 5 16 5s16-2.239 16-5v-4c0-2.761-7.163-5-16-5z\"></path>\n<path d=\"M16 17c-8.837 0-16-2.239-16-5v6c0 2.761 7.163 5 16 5s16-2.239 16-5v-6c0 2.761-7.163 5-16 5z\"></path>\n<path d=\"M16 26c-8.837 0-16-2.239-16-5v6c0 2.761 7.163 5 16 5s16-2.239 16-5v-6c0 2.761-7.163 5-16 5z\"></path>\n</symbol>\n<symbol id=\"icon-file-text2\" viewBox=\"0 0 32 32\">\n<path d=\"M28.681 7.159c-0.694-0.947-1.662-2.053-2.724-3.116s-2.169-2.030-3.116-2.724c-1.612-1.182-2.393-1.319-2.841-1.319h-15.5c-1.378 0-2.5 1.121-2.5 2.5v27c0 1.378 1.122 2.5 2.5 2.5h23c1.378 0 2.5-1.122 2.5-2.5v-19.5c0-0.448-0.137-1.23-1.319-2.841zM24.543 5.457c0.959 0.959 1.712 1.825 2.268 2.543h-4.811v-4.811c0.718 0.556 1.584 1.309 2.543 2.268zM28 29.5c0 0.271-0.229 0.5-0.5 0.5h-23c-0.271 0-0.5-0.229-0.5-0.5v-27c0-0.271 0.229-0.5 0.5-0.5 0 0 15.499-0 15.5 0v7c0 0.552 0.448 1 1 1h7v19.5z\"></path>\n<path d=\"M23 26h-14c-0.552 0-1-0.448-1-1s0.448-1 1-1h14c0.552 0 1 0.448 1 1s-0.448 1-1 1z\"></path>\n<path d=\"M23 22h-14c-0.552 0-1-0.448-1-1s0.448-1 1-1h14c0.552 0 1 0.448 1 1s-0.448 1-1 1z\"></path>\n<path d=\"M23 18h-14c-0.552 0-1-0.448-1-1s0.448-1 1-1h14c0.552 0 1 0.448 1 1s-0.448 1-1 1z\"></path>\n</symbol>\n</defs>\n</svg>\n<style>/* CSS stylesheet for displaying xarray objects in jupyterlab.\n *\n */\n\n:root {\n  --xr-font-color0: var(--jp-content-font-color0, rgba(0, 0, 0, 1));\n  --xr-font-color2: var(--jp-content-font-color2, rgba(0, 0, 0, 0.54));\n  --xr-font-color3: var(--jp-content-font-color3, rgba(0, 0, 0, 0.38));\n  --xr-border-color: var(--jp-border-color2, #e0e0e0);\n  --xr-disabled-color: var(--jp-layout-color3, #bdbdbd);\n  --xr-background-color: var(--jp-layout-color0, white);\n  --xr-background-color-row-even: var(--jp-layout-color1, white);\n  --xr-background-color-row-odd: var(--jp-layout-color2, #eeeeee);\n}\n\nhtml[theme=dark],\nbody[data-theme=dark],\nbody.vscode-dark {\n  --xr-font-color0: rgba(255, 255, 255, 1);\n  --xr-font-color2: rgba(255, 255, 255, 0.54);\n  --xr-font-color3: rgba(255, 255, 255, 0.38);\n  --xr-border-color: #1F1F1F;\n  --xr-disabled-color: #515151;\n  --xr-background-color: #111111;\n  --xr-background-color-row-even: #111111;\n  --xr-background-color-row-odd: #313131;\n}\n\n.xr-wrap {\n  display: block !important;\n  min-width: 300px;\n  max-width: 700px;\n}\n\n.xr-text-repr-fallback {\n  /* fallback to plain text repr when CSS is not injected (untrusted notebook) */\n  display: none;\n}\n\n.xr-header {\n  padding-top: 6px;\n  padding-bottom: 6px;\n  margin-bottom: 4px;\n  border-bottom: solid 1px var(--xr-border-color);\n}\n\n.xr-header > div,\n.xr-header > ul {\n  display: inline;\n  margin-top: 0;\n  margin-bottom: 0;\n}\n\n.xr-obj-type,\n.xr-array-name {\n  margin-left: 2px;\n  margin-right: 10px;\n}\n\n.xr-obj-type {\n  color: var(--xr-font-color2);\n}\n\n.xr-sections {\n  padding-left: 0 !important;\n  display: grid;\n  grid-template-columns: 150px auto auto 1fr 20px 20px;\n}\n\n.xr-section-item {\n  display: contents;\n}\n\n.xr-section-item input {\n  display: none;\n}\n\n.xr-section-item input + label {\n  color: var(--xr-disabled-color);\n}\n\n.xr-section-item input:enabled + label {\n  cursor: pointer;\n  color: var(--xr-font-color2);\n}\n\n.xr-section-item input:enabled + label:hover {\n  color: var(--xr-font-color0);\n}\n\n.xr-section-summary {\n  grid-column: 1;\n  color: var(--xr-font-color2);\n  font-weight: 500;\n}\n\n.xr-section-summary > span {\n  display: inline-block;\n  padding-left: 0.5em;\n}\n\n.xr-section-summary-in:disabled + label {\n  color: var(--xr-font-color2);\n}\n\n.xr-section-summary-in + label:before {\n  display: inline-block;\n  content: '►';\n  font-size: 11px;\n  width: 15px;\n  text-align: center;\n}\n\n.xr-section-summary-in:disabled + label:before {\n  color: var(--xr-disabled-color);\n}\n\n.xr-section-summary-in:checked + label:before {\n  content: '▼';\n}\n\n.xr-section-summary-in:checked + label > span {\n  display: none;\n}\n\n.xr-section-summary,\n.xr-section-inline-details {\n  padding-top: 4px;\n  padding-bottom: 4px;\n}\n\n.xr-section-inline-details {\n  grid-column: 2 / -1;\n}\n\n.xr-section-details {\n  display: none;\n  grid-column: 1 / -1;\n  margin-bottom: 5px;\n}\n\n.xr-section-summary-in:checked ~ .xr-section-details {\n  display: contents;\n}\n\n.xr-array-wrap {\n  grid-column: 1 / -1;\n  display: grid;\n  grid-template-columns: 20px auto;\n}\n\n.xr-array-wrap > label {\n  grid-column: 1;\n  vertical-align: top;\n}\n\n.xr-preview {\n  color: var(--xr-font-color3);\n}\n\n.xr-array-preview,\n.xr-array-data {\n  padding: 0 5px !important;\n  grid-column: 2;\n}\n\n.xr-array-data,\n.xr-array-in:checked ~ .xr-array-preview {\n  display: none;\n}\n\n.xr-array-in:checked ~ .xr-array-data,\n.xr-array-preview {\n  display: inline-block;\n}\n\n.xr-dim-list {\n  display: inline-block !important;\n  list-style: none;\n  padding: 0 !important;\n  margin: 0;\n}\n\n.xr-dim-list li {\n  display: inline-block;\n  padding: 0;\n  margin: 0;\n}\n\n.xr-dim-list:before {\n  content: '(';\n}\n\n.xr-dim-list:after {\n  content: ')';\n}\n\n.xr-dim-list li:not(:last-child):after {\n  content: ',';\n  padding-right: 5px;\n}\n\n.xr-has-index {\n  font-weight: bold;\n}\n\n.xr-var-list,\n.xr-var-item {\n  display: contents;\n}\n\n.xr-var-item > div,\n.xr-var-item label,\n.xr-var-item > .xr-var-name span {\n  background-color: var(--xr-background-color-row-even);\n  margin-bottom: 0;\n}\n\n.xr-var-item > .xr-var-name:hover span {\n  padding-right: 5px;\n}\n\n.xr-var-list > li:nth-child(odd) > div,\n.xr-var-list > li:nth-child(odd) > label,\n.xr-var-list > li:nth-child(odd) > .xr-var-name span {\n  background-color: var(--xr-background-color-row-odd);\n}\n\n.xr-var-name {\n  grid-column: 1;\n}\n\n.xr-var-dims {\n  grid-column: 2;\n}\n\n.xr-var-dtype {\n  grid-column: 3;\n  text-align: right;\n  color: var(--xr-font-color2);\n}\n\n.xr-var-preview {\n  grid-column: 4;\n}\n\n.xr-index-preview {\n  grid-column: 2 / 5;\n  color: var(--xr-font-color2);\n}\n\n.xr-var-name,\n.xr-var-dims,\n.xr-var-dtype,\n.xr-preview,\n.xr-attrs dt {\n  white-space: nowrap;\n  overflow: hidden;\n  text-overflow: ellipsis;\n  padding-right: 10px;\n}\n\n.xr-var-name:hover,\n.xr-var-dims:hover,\n.xr-var-dtype:hover,\n.xr-attrs dt:hover {\n  overflow: visible;\n  width: auto;\n  z-index: 1;\n}\n\n.xr-var-attrs,\n.xr-var-data,\n.xr-index-data {\n  display: none;\n  background-color: var(--xr-background-color) !important;\n  padding-bottom: 5px !important;\n}\n\n.xr-var-attrs-in:checked ~ .xr-var-attrs,\n.xr-var-data-in:checked ~ .xr-var-data,\n.xr-index-data-in:checked ~ .xr-index-data {\n  display: block;\n}\n\n.xr-var-data > table {\n  float: right;\n}\n\n.xr-var-name span,\n.xr-var-data,\n.xr-index-name div,\n.xr-index-data,\n.xr-attrs {\n  padding-left: 25px !important;\n}\n\n.xr-attrs,\n.xr-var-attrs,\n.xr-var-data,\n.xr-index-data {\n  grid-column: 1 / -1;\n}\n\ndl.xr-attrs {\n  padding: 0;\n  margin: 0;\n  display: grid;\n  grid-template-columns: 125px auto;\n}\n\n.xr-attrs dt,\n.xr-attrs dd {\n  padding: 0;\n  margin: 0;\n  float: left;\n  padding-right: 10px;\n  width: auto;\n}\n\n.xr-attrs dt {\n  font-weight: normal;\n  grid-column: 1;\n}\n\n.xr-attrs dt:hover span {\n  display: inline-block;\n  background: var(--xr-background-color);\n  padding-right: 10px;\n}\n\n.xr-attrs dd {\n  grid-column: 2;\n  white-space: pre-wrap;\n  word-break: break-all;\n}\n\n.xr-icon-database,\n.xr-icon-file-text2,\n.xr-no-icon {\n  display: inline-block;\n  vertical-align: middle;\n  width: 1em;\n  height: 1.5em !important;\n  stroke-width: 0;\n  stroke: currentColor;\n  fill: currentColor;\n}\n</style><pre class='xr-text-repr-fallback'>&lt;xarray.SpatialImage &#x27;image&#x27; (c: 3, y: 512, x: 512)&gt;\ndask.array&lt;getitem, shape=(3, 512, 512), dtype=float32, chunksize=(1, 512, 512), chunktype=numpy.ndarray&gt;\nCoordinates:\n  * c        (c) &lt;U17 &#x27;CD3&#x27; &#x27;CD4&#x27; &#x27;CD8&#x27;\n  * y        (y) float64 0.5 1.5 2.5 3.5 4.5 ... 507.5 508.5 509.5 510.5 511.5\n  * x        (x) float64 0.5 1.5 2.5 3.5 4.5 ... 507.5 508.5 509.5 510.5 511.5\nAttributes:\n    transform:  {&#x27;fov0&#x27;: Identity }</pre><div class='xr-wrap' style='display:none'><div class='xr-header'><div class='xr-obj-type'>xarray.SpatialImage</div><div class='xr-array-name'>'image'</div><ul class='xr-dim-list'><li><span class='xr-has-index'>c</span>: 3</li><li><span class='xr-has-index'>y</span>: 512</li><li><span class='xr-has-index'>x</span>: 512</li></ul></div><ul class='xr-sections'><li class='xr-section-item'><div class='xr-array-wrap'><input id='section-8e0dfd04-bccf-4261-87a4-0d24a9b45550' class='xr-array-in' type='checkbox' checked><label for='section-8e0dfd04-bccf-4261-87a4-0d24a9b45550' title='Show/hide data repr'><svg class='icon xr-icon-database'><use xlink:href='#icon-database'></use></svg></label><div class='xr-array-preview xr-preview'><span>dask.array&lt;chunksize=(1, 512, 512), meta=np.ndarray&gt;</span></div><div class='xr-array-data'><table>\n    <tr>\n        <td>\n            <table style=\"border-collapse: collapse;\">\n                <thead>\n                    <tr>\n                        <td> </td>\n                        <th> Array </th>\n                        <th> Chunk </th>\n                    </tr>\n                </thead>\n                <tbody>\n                    \n                    <tr>\n                        <th> Bytes </th>\n                        <td> 3.00 MiB </td>\n                        <td> 1.00 MiB </td>\n                    </tr>\n                    \n                    <tr>\n                        <th> Shape </th>\n                        <td> (3, 512, 512) </td>\n                        <td> (1, 512, 512) </td>\n                    </tr>\n                    <tr>\n                        <th> Dask graph </th>\n                        <td colspan=\"2\"> 3 chunks in 4 graph layers </td>\n                    </tr>\n                    <tr>\n                        <th> Data type </th>\n                        <td colspan=\"2\"> float32 numpy.ndarray </td>\n                    </tr>\n                </tbody>\n            </table>\n        </td>\n        <td>\n        <svg width=\"194\" height=\"184\" style=\"stroke:rgb(0,0,0);stroke-width:1\" >\n\n  <!-- Horizontal lines -->\n  <line x1=\"10\" y1=\"0\" x2=\"24\" y2=\"14\" style=\"stroke-width:2\" />\n  <line x1=\"10\" y1=\"120\" x2=\"24\" y2=\"134\" style=\"stroke-width:2\" />\n\n  <!-- Vertical lines -->\n  <line x1=\"10\" y1=\"0\" x2=\"10\" y2=\"120\" style=\"stroke-width:2\" />\n  <line x1=\"14\" y1=\"4\" x2=\"14\" y2=\"124\" />\n  <line x1=\"19\" y1=\"9\" x2=\"19\" y2=\"129\" />\n  <line x1=\"24\" y1=\"14\" x2=\"24\" y2=\"134\" style=\"stroke-width:2\" />\n\n  <!-- Colored Rectangle -->\n  <polygon points=\"10.0,0.0 24.9485979497544,14.948597949754403 24.9485979497544,134.9485979497544 10.0,120.0\" style=\"fill:#ECB172A0;stroke-width:0\"/>\n\n  <!-- Horizontal lines -->\n  <line x1=\"10\" y1=\"0\" x2=\"130\" y2=\"0\" style=\"stroke-width:2\" />\n  <line x1=\"14\" y1=\"4\" x2=\"134\" y2=\"4\" />\n  <line x1=\"19\" y1=\"9\" x2=\"139\" y2=\"9\" />\n  <line x1=\"24\" y1=\"14\" x2=\"144\" y2=\"14\" style=\"stroke-width:2\" />\n\n  <!-- Vertical lines -->\n  <line x1=\"10\" y1=\"0\" x2=\"24\" y2=\"14\" style=\"stroke-width:2\" />\n  <line x1=\"130\" y1=\"0\" x2=\"144\" y2=\"14\" style=\"stroke-width:2\" />\n\n  <!-- Colored Rectangle -->\n  <polygon points=\"10.0,0.0 130.0,0.0 144.9485979497544,14.948597949754403 24.9485979497544,14.948597949754403\" style=\"fill:#ECB172A0;stroke-width:0\"/>\n\n  <!-- Horizontal lines -->\n  <line x1=\"24\" y1=\"14\" x2=\"144\" y2=\"14\" style=\"stroke-width:2\" />\n  <line x1=\"24\" y1=\"134\" x2=\"144\" y2=\"134\" style=\"stroke-width:2\" />\n\n  <!-- Vertical lines -->\n  <line x1=\"24\" y1=\"14\" x2=\"24\" y2=\"134\" style=\"stroke-width:2\" />\n  <line x1=\"144\" y1=\"14\" x2=\"144\" y2=\"134\" style=\"stroke-width:2\" />\n\n  <!-- Colored Rectangle -->\n  <polygon points=\"24.9485979497544,14.948597949754403 144.9485979497544,14.948597949754403 144.9485979497544,134.9485979497544 24.9485979497544,134.9485979497544\" style=\"fill:#ECB172A0;stroke-width:0\"/>\n\n  <!-- Text -->\n  <text x=\"84.948598\" y=\"154.948598\" font-size=\"1.0rem\" font-weight=\"100\" text-anchor=\"middle\" >512</text>\n  <text x=\"164.948598\" y=\"74.948598\" font-size=\"1.0rem\" font-weight=\"100\" text-anchor=\"middle\" transform=\"rotate(-90,164.948598,74.948598)\">512</text>\n  <text x=\"7.474299\" y=\"147.474299\" font-size=\"1.0rem\" font-weight=\"100\" text-anchor=\"middle\" transform=\"rotate(45,7.474299,147.474299)\">3</text>\n</svg>\n        </td>\n    </tr>\n</table></div></div></li><li class='xr-section-item'><input id='section-f4446e54-cb8f-4e6e-8ca4-2d861ea8e770' class='xr-section-summary-in' type='checkbox'  checked><label for='section-f4446e54-cb8f-4e6e-8ca4-2d861ea8e770' class='xr-section-summary' >Coordinates: <span>(3)</span></label><div class='xr-section-inline-details'></div><div class='xr-section-details'><ul class='xr-var-list'><li class='xr-var-item'><div class='xr-var-name'><span class='xr-has-index'>c</span></div><div class='xr-var-dims'>(c)</div><div class='xr-var-dtype'>&lt;U17</div><div class='xr-var-preview xr-preview'>&#x27;CD3&#x27; &#x27;CD4&#x27; &#x27;CD8&#x27;</div><input id='attrs-056d8ce5-6a83-4963-9d4b-faf48f8e5b89' class='xr-var-attrs-in' type='checkbox' ><label for='attrs-056d8ce5-6a83-4963-9d4b-faf48f8e5b89' title='Show/Hide attributes'><svg class='icon xr-icon-file-text2'><use xlink:href='#icon-file-text2'></use></svg></label><input id='data-4559fe2e-6b47-4951-9cfe-2cc8645f45f8' class='xr-var-data-in' type='checkbox'><label for='data-4559fe2e-6b47-4951-9cfe-2cc8645f45f8' title='Show/Hide data repr'><svg class='icon xr-icon-database'><use xlink:href='#icon-database'></use></svg></label><div class='xr-var-attrs'><dl class='xr-attrs'><dt><span>long_name :</span></dt><dd>c</dd><dt><span>units :</span></dt><dd></dd></dl></div><div class='xr-var-data'><pre>array([&#x27;CD3&#x27;, &#x27;CD4&#x27;, &#x27;CD8&#x27;], dtype=&#x27;&lt;U17&#x27;)</pre></div></li><li class='xr-var-item'><div class='xr-var-name'><span class='xr-has-index'>y</span></div><div class='xr-var-dims'>(y)</div><div class='xr-var-dtype'>float64</div><div class='xr-var-preview xr-preview'>0.5 1.5 2.5 ... 509.5 510.5 511.5</div><input id='attrs-8b809856-76e2-47f5-b51c-d83842cbb6ce' class='xr-var-attrs-in' type='checkbox' disabled><label for='attrs-8b809856-76e2-47f5-b51c-d83842cbb6ce' title='Show/Hide attributes'><svg class='icon xr-icon-file-text2'><use xlink:href='#icon-file-text2'></use></svg></label><input id='data-cb54bf66-3558-4372-8dfa-5ecb9dfd5987' class='xr-var-data-in' type='checkbox'><label for='data-cb54bf66-3558-4372-8dfa-5ecb9dfd5987' title='Show/Hide data repr'><svg class='icon xr-icon-database'><use xlink:href='#icon-database'></use></svg></label><div class='xr-var-attrs'><dl class='xr-attrs'></dl></div><div class='xr-var-data'><pre>array([5.000e-01, 1.500e+00, 2.500e+00, ..., 5.095e+02, 5.105e+02, 5.115e+02])</pre></div></li><li class='xr-var-item'><div class='xr-var-name'><span class='xr-has-index'>x</span></div><div class='xr-var-dims'>(x)</div><div class='xr-var-dtype'>float64</div><div class='xr-var-preview xr-preview'>0.5 1.5 2.5 ... 509.5 510.5 511.5</div><input id='attrs-5725b8de-5ff0-4a45-b248-4abbdb369907' class='xr-var-attrs-in' type='checkbox' disabled><label for='attrs-5725b8de-5ff0-4a45-b248-4abbdb369907' title='Show/Hide attributes'><svg class='icon xr-icon-file-text2'><use xlink:href='#icon-file-text2'></use></svg></label><input id='data-d99978bd-d917-40b3-b381-353f331f66b8' class='xr-var-data-in' type='checkbox'><label for='data-d99978bd-d917-40b3-b381-353f331f66b8' title='Show/Hide data repr'><svg class='icon xr-icon-database'><use xlink:href='#icon-database'></use></svg></label><div class='xr-var-attrs'><dl class='xr-attrs'></dl></div><div class='xr-var-data'><pre>array([5.000e-01, 1.500e+00, 2.500e+00, ..., 5.095e+02, 5.105e+02, 5.115e+02])</pre></div></li></ul></div></li><li class='xr-section-item'><input id='section-c209d69e-ad5a-4709-907d-3f483279f7c8' class='xr-section-summary-in' type='checkbox'  ><label for='section-c209d69e-ad5a-4709-907d-3f483279f7c8' class='xr-section-summary' >Indexes: <span>(3)</span></label><div class='xr-section-inline-details'></div><div class='xr-section-details'><ul class='xr-var-list'><li class='xr-var-item'><div class='xr-index-name'><div>c</div></div><div class='xr-index-preview'>PandasIndex</div><div></div><input id='index-48f437b9-8669-4efb-8d1c-6aad9e8a2e7f' class='xr-index-data-in' type='checkbox'/><label for='index-48f437b9-8669-4efb-8d1c-6aad9e8a2e7f' title='Show/Hide index repr'><svg class='icon xr-icon-database'><use xlink:href='#icon-database'></use></svg></label><div class='xr-index-data'><pre>PandasIndex(Index([&#x27;CD3&#x27;, &#x27;CD4&#x27;, &#x27;CD8&#x27;], dtype=&#x27;object&#x27;, name=&#x27;c&#x27;))</pre></div></li><li class='xr-var-item'><div class='xr-index-name'><div>y</div></div><div class='xr-index-preview'>PandasIndex</div><div></div><input id='index-f1c80400-31e0-4330-bce0-5a533fb7999e' class='xr-index-data-in' type='checkbox'/><label for='index-f1c80400-31e0-4330-bce0-5a533fb7999e' title='Show/Hide index repr'><svg class='icon xr-icon-database'><use xlink:href='#icon-database'></use></svg></label><div class='xr-index-data'><pre>PandasIndex(Index([  0.5,   1.5,   2.5,   3.5,   4.5,   5.5,   6.5,   7.5,   8.5,   9.5,\n       ...\n       502.5, 503.5, 504.5, 505.5, 506.5, 507.5, 508.5, 509.5, 510.5, 511.5],\n      dtype=&#x27;float64&#x27;, name=&#x27;y&#x27;, length=512))</pre></div></li><li class='xr-var-item'><div class='xr-index-name'><div>x</div></div><div class='xr-index-preview'>PandasIndex</div><div></div><input id='index-345092d4-3234-40ba-812d-80ac04c0c2df' class='xr-index-data-in' type='checkbox'/><label for='index-345092d4-3234-40ba-812d-80ac04c0c2df' title='Show/Hide index repr'><svg class='icon xr-icon-database'><use xlink:href='#icon-database'></use></svg></label><div class='xr-index-data'><pre>PandasIndex(Index([  0.5,   1.5,   2.5,   3.5,   4.5,   5.5,   6.5,   7.5,   8.5,   9.5,\n       ...\n       502.5, 503.5, 504.5, 505.5, 506.5, 507.5, 508.5, 509.5, 510.5, 511.5],\n      dtype=&#x27;float64&#x27;, name=&#x27;x&#x27;, length=512))</pre></div></li></ul></div></li><li class='xr-section-item'><input id='section-4dae7bd0-da08-462d-ad6d-7f611427eb77' class='xr-section-summary-in' type='checkbox'  checked><label for='section-4dae7bd0-da08-462d-ad6d-7f611427eb77' class='xr-section-summary' >Attributes: <span>(1)</span></label><div class='xr-section-inline-details'></div><div class='xr-section-details'><dl class='xr-attrs'><dt><span>transform :</span></dt><dd>{&#x27;fov0&#x27;: Identity }</dd></dl></div></li></ul></div></div>"
     },
     "execution_count": 16,
     "metadata": {},
     "output_type": "execute_result"
    }
   ],
   "source": [
    "sdata.images[\"fov0\"].sel({C: [\"CD3\", \"CD4\", \"CD8\"]})"
   ]
  },
  {
   "cell_type": "markdown",
   "metadata": {},
   "source": [
    "We can select FOVs of interest as well"
   ]
  },
  {
   "cell_type": "code",
   "execution_count": 17,
   "metadata": {
    "ExecuteTime": {
     "end_time": "2023-10-04T23:32:49.495338Z",
     "start_time": "2023-10-04T23:32:49.443533Z"
    }
   },
   "outputs": [
    {
     "data": {
      "text/plain": "SpatialData object with:\n└── Images\n      ├── 'fov0': SpatialImage[cyx] (24, 512, 512)\n      └── 'fov8': SpatialImage[cyx] (24, 1024, 1024)\nwith coordinate systems:\n▸ 'fov0', with elements:\n        fov0 (Images)\n▸ 'fov8', with elements:\n        fov8 (Images)"
     },
     "execution_count": 17,
     "metadata": {},
     "output_type": "execute_result"
    }
   ],
   "source": [
    "sdata.sel(elements=[\"fov0\", \"fov8\"])"
   ]
  },
  {
   "cell_type": "markdown",
   "metadata": {},
   "source": [
    "We can broadcast a query across axes for certain coordinates too."
   ]
  },
  {
   "cell_type": "code",
   "execution_count": 18,
   "metadata": {
    "ExecuteTime": {
     "end_time": "2023-10-04T23:33:02.276385Z",
     "start_time": "2023-10-04T23:33:02.191032Z"
    }
   },
   "outputs": [
    {
     "data": {
      "text/plain": "SpatialData object with:\n└── Images\n      └── 'fov0': SpatialImage[cyx] (24, 256, 256)\nwith coordinate systems:\n▸ 'fov0', with elements:\n        fov0 (Images)"
     },
     "execution_count": 18,
     "metadata": {},
     "output_type": "execute_result"
    }
   ],
   "source": [
    "sdata.query.bounding_box(\n",
    "    axes=[\"x\", \"y\"],\n",
    "    min_coordinate=[0, 0],\n",
    "    max_coordinate=[256, 256],\n",
    "    target_coordinate_system=\"fov0\",\n",
    ")"
   ]
  },
  {
   "cell_type": "markdown",
   "metadata": {},
   "source": [
    "Lets save the Spatial Data object as a OME ZARR Store"
   ]
  },
  {
   "cell_type": "code",
   "execution_count": 23,
   "metadata": {
    "ExecuteTime": {
     "end_time": "2023-10-04T23:34:57.921115Z",
     "start_time": "2023-10-04T23:34:57.882114Z"
    }
   },
   "outputs": [],
   "source": [
    "cohort_sd_save_path = Path(\"../../../data/cohorts/example_cohort.ome.zarr\")"
   ]
  },
  {
   "cell_type": "code",
   "execution_count": 24,
   "metadata": {
    "ExecuteTime": {
     "end_time": "2023-10-04T23:35:02.936171Z",
     "start_time": "2023-10-04T23:34:59.912189Z"
    }
   },
   "outputs": [
    {
     "name": "stdout",
     "output_type": "stream",
     "text": [
      "\u001B[34mINFO    \u001B[0m The Zarr file used for backing will now change from ..\u001B[35m/data/cohorts/\u001B[0m\u001B[95mexample_cohort.ome.zarr\u001B[0m to            \n",
      "         ..\u001B[35m/../../data/cohorts/\u001B[0m\u001B[95mexample_cohort.ome.zarr\u001B[0m                                                             \n"
     ]
    }
   ],
   "source": [
    "sdata.write(file_path=cohort_sd_save_path)"
   ]
  },
  {
   "cell_type": "markdown",
   "metadata": {},
   "source": [
    "We can load the Zarr store to a spatial data object as well."
   ]
  },
  {
   "cell_type": "code",
   "execution_count": 25,
   "metadata": {
    "ExecuteTime": {
     "end_time": "2023-10-04T23:35:17.057183Z",
     "start_time": "2023-10-04T23:35:16.998873Z"
    }
   },
   "outputs": [],
   "source": [
    "sdata = sd.read_zarr(store=cohort_sd_save_path)"
   ]
  },
  {
   "cell_type": "markdown",
   "metadata": {},
   "source": [
    "We can also see the Zarr storage format for the Spatial Data Image elements, which is a file system store."
   ]
  },
  {
   "cell_type": "code",
   "execution_count": 26,
   "metadata": {
    "ExecuteTime": {
     "end_time": "2023-10-04T23:35:18.623066Z",
     "start_time": "2023-10-04T23:35:18.584473Z"
    }
   },
   "outputs": [
    {
     "data": {
      "text/plain": "zarr.storage.FSStore"
     },
     "execution_count": 26,
     "metadata": {},
     "output_type": "execute_result"
    }
   ],
   "source": [
    "type(sdata._get_group_for_element(\"fov0\", element_type=\"images\").store)"
   ]
  },
  {
   "cell_type": "code",
   "execution_count": null,
   "outputs": [],
   "source": [],
   "metadata": {
    "collapsed": false
   }
  }
 ],
 "metadata": {
  "kernelspec": {
   "display_name": "ark-spatial",
   "language": "python",
   "name": "python3"
  },
  "language_info": {
   "codemirror_mode": {
    "name": "ipython",
    "version": 3
   },
   "file_extension": ".py",
   "mimetype": "text/x-python",
   "name": "python",
   "nbconvert_exporter": "python",
   "pygments_lexer": "ipython3"
  }
 },
 "nbformat": 4,
 "nbformat_minor": 2
}
