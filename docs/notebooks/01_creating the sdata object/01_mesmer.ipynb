{
 "cells": [
  {
   "cell_type": "code",
   "execution_count": null,
   "metadata": {},
   "outputs": [],
   "source": [
    "%load_ext autoreload\n",
    "%autoreload 2"
   ]
  },
  {
   "cell_type": "code",
   "execution_count": null,
   "metadata": {},
   "outputs": [
    {
     "name": "stderr",
     "output_type": "stream",
     "text": [
      "/opt/homebrew/Caskroom/mambaforge/base/envs/ark-spatial-dev/lib/python3.11/site-packages/dask/config.py:742: FutureWarning: Dask configuration key 'shuffle' has been deprecated; please use 'dataframe.shuffle.algorithm' instead\n",
      "  warnings.warn(\n"
     ]
    }
   ],
   "source": [
    "from pathlib import Path\n",
    "import ark\n",
    "import spatialdata as sd\n",
    "import spatialdata_plot\n"
   ]
  },
  {
   "cell_type": "markdown",
   "metadata": {},
   "source": [
    "Load the Zarr Store as a Spatial Data Object"
   ]
  },
  {
   "cell_type": "code",
   "execution_count": null,
   "metadata": {},
   "outputs": [
    {
     "name": "stderr",
     "output_type": "stream",
     "text": [
      "/opt/homebrew/Caskroom/mambaforge/base/envs/ark-spatial-dev/lib/python3.11/site-packages/anndata/_core/anndata.py:1838: UserWarning: Observation names are not unique. To make them unique, call `.obs_names_make_unique`.\n",
      "  utils.warn_names_duplicates(\"obs\")\n"
     ]
    }
   ],
   "source": [
    "sdata = sd.read_zarr(store=\"../../data/cohorts/example_cohort.ome.zarr\")"
   ]
  },
  {
   "cell_type": "code",
   "execution_count": null,
   "metadata": {},
   "outputs": [
    {
     "data": {
      "text/plain": [
       "SpatialData object with:\n",
       "├── Images\n",
       "│     ├── 'fov0': SpatialImage[cyx] (22, 512, 512)\n",
       "│     ├── 'fov1': SpatialImage[cyx] (22, 1024, 1024)\n",
       "│     ├── 'fov2': SpatialImage[cyx] (22, 1024, 1024)\n",
       "│     ├── 'fov3': SpatialImage[cyx] (22, 1024, 1024)\n",
       "│     ├── 'fov4': SpatialImage[cyx] (22, 1024, 1024)\n",
       "│     ├── 'fov5': SpatialImage[cyx] (22, 1024, 1024)\n",
       "│     ├── 'fov6': SpatialImage[cyx] (22, 1024, 1024)\n",
       "│     ├── 'fov7': SpatialImage[cyx] (22, 1024, 1024)\n",
       "│     ├── 'fov8': SpatialImage[cyx] (22, 1024, 1024)\n",
       "│     ├── 'fov9': SpatialImage[cyx] (22, 1024, 1024)\n",
       "│     └── 'fov10': SpatialImage[cyx] (22, 1024, 1024)\n",
       "├── Labels\n",
       "│     ├── 'fov0_nuclear': SpatialImage[yx] (512, 512)\n",
       "│     ├── 'fov0_whole_cell': SpatialImage[yx] (512, 512)\n",
       "│     ├── 'fov1_nuclear': SpatialImage[yx] (1024, 1024)\n",
       "│     ├── 'fov1_whole_cell': SpatialImage[yx] (1024, 1024)\n",
       "│     ├── 'fov2_nuclear': SpatialImage[yx] (1024, 1024)\n",
       "│     ├── 'fov2_whole_cell': SpatialImage[yx] (1024, 1024)\n",
       "│     ├── 'fov3_nuclear': SpatialImage[yx] (1024, 1024)\n",
       "│     ├── 'fov3_whole_cell': SpatialImage[yx] (1024, 1024)\n",
       "│     ├── 'fov4_nuclear': SpatialImage[yx] (1024, 1024)\n",
       "│     ├── 'fov4_whole_cell': SpatialImage[yx] (1024, 1024)\n",
       "│     ├── 'fov5_nuclear': SpatialImage[yx] (1024, 1024)\n",
       "│     ├── 'fov5_whole_cell': SpatialImage[yx] (1024, 1024)\n",
       "│     ├── 'fov6_nuclear': SpatialImage[yx] (1024, 1024)\n",
       "│     ├── 'fov6_whole_cell': SpatialImage[yx] (1024, 1024)\n",
       "│     ├── 'fov7_nuclear': SpatialImage[yx] (1024, 1024)\n",
       "│     ├── 'fov7_whole_cell': SpatialImage[yx] (1024, 1024)\n",
       "│     ├── 'fov8_nuclear': SpatialImage[yx] (1024, 1024)\n",
       "│     ├── 'fov8_whole_cell': SpatialImage[yx] (1024, 1024)\n",
       "│     ├── 'fov9_nuclear': SpatialImage[yx] (1024, 1024)\n",
       "│     ├── 'fov9_whole_cell': SpatialImage[yx] (1024, 1024)\n",
       "│     ├── 'fov10_nuclear': SpatialImage[yx] (1024, 1024)\n",
       "│     └── 'fov10_whole_cell': SpatialImage[yx] (1024, 1024)\n",
       "└── Table\n",
       "      └── AnnData object with n_obs × n_vars = 32077 × 22\n",
       "    obs: 'equivalent_diameter', 'axis_major_length', 'instance_id', 'area', 'eccentricity', 'area_convex', 'x_centroid', 'y_centroid', 'axis_minor_length', 'perimeter', 'major_minor_axis_ratio', 'perim_square_over_area', 'major_axis_equiv_diam_ratio', 'convex_hull_equiv_diam_ratio', 'centroid_dif', 'num_concavities', 'region'\n",
       "    uns: 'spatialdata_attrs'\n",
       "    obsm: 'spatial': AnnData (32077, 22)\n",
       "with coordinate systems:\n",
       "▸ 'fov0', with elements:\n",
       "        fov0 (Images), fov0_nuclear (Labels), fov0_whole_cell (Labels)\n",
       "▸ 'fov1', with elements:\n",
       "        fov1 (Images), fov1_nuclear (Labels), fov1_whole_cell (Labels)\n",
       "▸ 'fov2', with elements:\n",
       "        fov2 (Images), fov2_nuclear (Labels), fov2_whole_cell (Labels)\n",
       "▸ 'fov3', with elements:\n",
       "        fov3 (Images), fov3_nuclear (Labels), fov3_whole_cell (Labels)\n",
       "▸ 'fov4', with elements:\n",
       "        fov4 (Images), fov4_nuclear (Labels), fov4_whole_cell (Labels)\n",
       "▸ 'fov5', with elements:\n",
       "        fov5 (Images), fov5_nuclear (Labels), fov5_whole_cell (Labels)\n",
       "▸ 'fov6', with elements:\n",
       "        fov6 (Images), fov6_nuclear (Labels), fov6_whole_cell (Labels)\n",
       "▸ 'fov7', with elements:\n",
       "        fov7 (Images), fov7_nuclear (Labels), fov7_whole_cell (Labels)\n",
       "▸ 'fov8', with elements:\n",
       "        fov8 (Images), fov8_nuclear (Labels), fov8_whole_cell (Labels)\n",
       "▸ 'fov9', with elements:\n",
       "        fov9 (Images), fov9_nuclear (Labels), fov9_whole_cell (Labels)\n",
       "▸ 'fov10', with elements:\n",
       "        fov10 (Images), fov10_nuclear (Labels), fov10_whole_cell (Labels)\n",
       "▸ 'global', with elements:\n",
       "        fov0 (Images), fov1 (Images), fov2 (Images), fov3 (Images), fov4 (Images), fov5 (Images), fov6 (Images), fov7 (Images), fov8 (Images), fov9 (Images), fov10 (Images)"
      ]
     },
     "execution_count": null,
     "metadata": {},
     "output_type": "execute_result"
    }
   ],
   "source": [
    "sdata"
   ]
  },
  {
   "cell_type": "code",
   "execution_count": null,
   "metadata": {},
   "outputs": [],
   "source": [
    "nucs = [\"H3K9ac\", \"H3K27me3\"]\n",
    "mems = [\"CD14\", \"CD45\", \"ECAD\"]"
   ]
  },
  {
   "cell_type": "code",
   "execution_count": null,
   "metadata": {},
   "outputs": [
    {
     "name": "stderr",
     "output_type": "stream",
     "text": [
      "/opt/homebrew/Caskroom/mambaforge/base/envs/ark-spatial-dev/lib/python3.11/site-packages/anndata/_core/anndata.py:1838: UserWarning: Observation names are not unique. To make them unique, call `.obs_names_make_unique`.\n",
      "  utils.warn_names_duplicates(\"obs\")\n",
      "/opt/homebrew/Caskroom/mambaforge/base/envs/ark-spatial-dev/lib/python3.11/site-packages/anndata/_core/anndata.py:1113: FutureWarning: is_categorical_dtype is deprecated and will be removed in a future version. Use isinstance(dtype, CategoricalDtype) instead\n",
      "  if not is_categorical_dtype(df_full[k]):\n"
     ]
    },
    {
     "data": {
      "text/plain": [
       "SpatialData object with:\n",
       "├── Images\n",
       "│     └── 'fov0': SpatialImage[cyx] (22, 512, 512)\n",
       "├── Labels\n",
       "│     ├── 'fov0_nuclear': SpatialImage[yx] (512, 512)\n",
       "│     └── 'fov0_whole_cell': SpatialImage[yx] (512, 512)\n",
       "└── Table\n",
       "      └── AnnData object with n_obs × n_vars = 1056 × 22\n",
       "    obs: 'equivalent_diameter', 'axis_major_length', 'instance_id', 'area', 'eccentricity', 'area_convex', 'x_centroid', 'y_centroid', 'axis_minor_length', 'perimeter', 'major_minor_axis_ratio', 'perim_square_over_area', 'major_axis_equiv_diam_ratio', 'convex_hull_equiv_diam_ratio', 'centroid_dif', 'num_concavities', 'region'\n",
       "    uns: 'spatialdata_attrs'\n",
       "    obsm: 'spatial': AnnData (1056, 22)\n",
       "with coordinate systems:\n",
       "▸ 'fov0', with elements:\n",
       "        fov0 (Images), fov0_nuclear (Labels), fov0_whole_cell (Labels)\n",
       "▸ 'global', with elements:\n",
       "        fov0 (Images)"
      ]
     },
     "execution_count": null,
     "metadata": {},
     "output_type": "execute_result"
    }
   ],
   "source": [
    "fov0_sd = sdata.sel(\"fov0\")\n",
    "\n",
    "sdata.segmentation._sum_markers(\"fov0\", )"
   ]
  },
  {
   "cell_type": "code",
   "execution_count": null,
   "metadata": {},
   "outputs": [],
   "source": [
    "sdata.segmentation.run_deepcell(nucs=nucs, mems=mems)"
   ]
  },
  {
   "cell_type": "code",
   "execution_count": null,
   "metadata": {},
   "outputs": [],
   "source": [
    "sdata\n"
   ]
  },
  {
   "cell_type": "code",
   "execution_count": null,
   "metadata": {},
   "outputs": [
    {
     "name": "stderr",
     "output_type": "stream",
     "text": [
      "/Users/srivarra/.pyenv/versions/3.11.4/envs/ark-spatial/lib/python3.11/site-packages/anndata/_core/anndata.py:1838: UserWarning: Observation names are not unique. To make them unique, call `.obs_names_make_unique`.\n",
      "  utils.warn_names_duplicates(\"obs\")\n"
     ]
    },
    {
     "ename": "TypeError",
     "evalue": "object of type 'Axes' has no len()",
     "output_type": "error",
     "traceback": [
      "\u001b[0;31m---------------------------------------------------------------------------\u001b[0m",
      "\u001b[0;31mTypeError\u001b[0m                                 Traceback (most recent call last)",
      "Cell \u001b[0;32mIn[20], line 7\u001b[0m\n\u001b[1;32m      3\u001b[0m fig, axs \u001b[39m=\u001b[39m plt\u001b[39m.\u001b[39msubplots(ncols\u001b[39m=\u001b[39m\u001b[39m3\u001b[39m, nrows\u001b[39m=\u001b[39m\u001b[39m1\u001b[39m, figsize\u001b[39m=\u001b[39m(\u001b[39m10\u001b[39m, \u001b[39m4\u001b[39m))\n\u001b[1;32m      5\u001b[0m sdata_fov0 \u001b[39m=\u001b[39m sdata\u001b[39m.\u001b[39msel(\u001b[39m\"\u001b[39m\u001b[39mfov0\u001b[39m\u001b[39m\"\u001b[39m)\n\u001b[0;32m----> 7\u001b[0m sdata_fov0\u001b[39m.\u001b[39;49mpl\u001b[39m.\u001b[39;49mrender_images()\u001b[39m.\u001b[39;49mpl\u001b[39m.\u001b[39;49mshow(ax\u001b[39m=\u001b[39;49maxs[\u001b[39m0\u001b[39;49m], title\u001b[39m=\u001b[39;49m\u001b[39m\"\u001b[39;49m\u001b[39mimage\u001b[39;49m\u001b[39m\"\u001b[39;49m)\n\u001b[1;32m      9\u001b[0m sdata_fov0\u001b[39m.\u001b[39mpl\u001b[39m.\u001b[39mrender_labels()\u001b[39m.\u001b[39mpl\u001b[39m.\u001b[39mshow(ax\u001b[39m=\u001b[39maxs[\u001b[39m1\u001b[39m], title\u001b[39m=\u001b[39m\u001b[39m\"\u001b[39m\u001b[39mlabels\u001b[39m\u001b[39m\"\u001b[39m)\n\u001b[1;32m     11\u001b[0m sdata_fov0\u001b[39m.\u001b[39mpl\u001b[39m.\u001b[39mrender_images()\u001b[39m.\u001b[39mpl\u001b[39m.\u001b[39mrender_labels()\u001b[39m.\u001b[39mpl\u001b[39m.\u001b[39mshow(ax\u001b[39m=\u001b[39maxs[\u001b[39m2\u001b[39m], title\u001b[39m=\u001b[39m\u001b[39m\"\u001b[39m\u001b[39mboth\u001b[39m\u001b[39m\"\u001b[39m)\n",
      "File \u001b[0;32m~/.pyenv/versions/3.11.4/envs/ark-spatial/lib/python3.11/site-packages/spatialdata_plot/pl/basic.py:613\u001b[0m, in \u001b[0;36mPlotAccessor.show\u001b[0;34m(self, coordinate_systems, legend_fontsize, legend_fontweight, legend_loc, legend_fontoutline, na_in_legend, colorbar, wspace, hspace, ncols, frameon, figsize, dpi, fig, title, share_extent, pad_extent, ax, return_ax, save)\u001b[0m\n\u001b[1;32m    610\u001b[0m coordinate_systems \u001b[39m=\u001b[39m valid_cs\n\u001b[1;32m    612\u001b[0m \u001b[39m# set up canvas\u001b[39;00m\n\u001b[0;32m--> 613\u001b[0m fig_params, scalebar_params \u001b[39m=\u001b[39m _prepare_params_plot(\n\u001b[1;32m    614\u001b[0m     num_panels\u001b[39m=\u001b[39;49m\u001b[39mlen\u001b[39;49m(coordinate_systems),\n\u001b[1;32m    615\u001b[0m     figsize\u001b[39m=\u001b[39;49mfigsize,\n\u001b[1;32m    616\u001b[0m     dpi\u001b[39m=\u001b[39;49mdpi,\n\u001b[1;32m    617\u001b[0m     fig\u001b[39m=\u001b[39;49mfig,\n\u001b[1;32m    618\u001b[0m     ax\u001b[39m=\u001b[39;49max,\n\u001b[1;32m    619\u001b[0m     wspace\u001b[39m=\u001b[39;49mwspace,\n\u001b[1;32m    620\u001b[0m     hspace\u001b[39m=\u001b[39;49mhspace,\n\u001b[1;32m    621\u001b[0m     ncols\u001b[39m=\u001b[39;49mncols,\n\u001b[1;32m    622\u001b[0m     frameon\u001b[39m=\u001b[39;49mframeon,\n\u001b[1;32m    623\u001b[0m )\n\u001b[1;32m    624\u001b[0m legend_params \u001b[39m=\u001b[39m LegendParams(\n\u001b[1;32m    625\u001b[0m     legend_fontsize\u001b[39m=\u001b[39mlegend_fontsize,\n\u001b[1;32m    626\u001b[0m     legend_fontweight\u001b[39m=\u001b[39mlegend_fontweight,\n\u001b[0;32m   (...)\u001b[0m\n\u001b[1;32m    630\u001b[0m     colorbar\u001b[39m=\u001b[39mcolorbar,\n\u001b[1;32m    631\u001b[0m )\n\u001b[1;32m    633\u001b[0m \u001b[39m# go through tree\u001b[39;00m\n",
      "File \u001b[0;32m~/.pyenv/versions/3.11.4/envs/ark-spatial/lib/python3.11/site-packages/spatialdata_plot/pl/utils.py:109\u001b[0m, in \u001b[0;36m_prepare_params_plot\u001b[0;34m(num_panels, figsize, dpi, fig, ax, wspace, hspace, ncols, frameon, cmap, norm, na_color, vmin, vmax, vcenter, scalebar_dx, scalebar_units)\u001b[0m\n\u001b[1;32m    107\u001b[0m     axs: \u001b[39mNone\u001b[39;00m \u001b[39m|\u001b[39m Sequence[Axes] \u001b[39m=\u001b[39m [plt\u001b[39m.\u001b[39msubplot(grid[c]) \u001b[39mfor\u001b[39;00m c \u001b[39min\u001b[39;00m \u001b[39mrange\u001b[39m(num_panels)]\n\u001b[1;32m    108\u001b[0m \u001b[39melif\u001b[39;00m num_panels \u001b[39m>\u001b[39m \u001b[39m1\u001b[39m \u001b[39mand\u001b[39;00m ax \u001b[39mis\u001b[39;00m \u001b[39mnot\u001b[39;00m \u001b[39mNone\u001b[39;00m:\n\u001b[0;32m--> 109\u001b[0m     \u001b[39mif\u001b[39;00m \u001b[39mlen\u001b[39m(ax) \u001b[39m!=\u001b[39m num_panels:\n\u001b[1;32m    110\u001b[0m         \u001b[39mraise\u001b[39;00m \u001b[39mValueError\u001b[39;00m(\u001b[39mf\u001b[39m\u001b[39m\"\u001b[39m\u001b[39mLen of `ax`: \u001b[39m\u001b[39m{\u001b[39;00m\u001b[39mlen\u001b[39m(ax)\u001b[39m}\u001b[39;00m\u001b[39m is not equal to number of panels: \u001b[39m\u001b[39m{\u001b[39;00mnum_panels\u001b[39m}\u001b[39;00m\u001b[39m.\u001b[39m\u001b[39m\"\u001b[39m)\n\u001b[1;32m    111\u001b[0m     \u001b[39mif\u001b[39;00m fig \u001b[39mis\u001b[39;00m \u001b[39mNone\u001b[39;00m:\n",
      "\u001b[0;31mTypeError\u001b[0m: object of type 'Axes' has no len()"
     ]
    },
    {
     "data": {
      "image/png": "[encoded data removed]",
      "text/plain": [
       "<Figure size 1000x400 with 3 Axes>"
      ]
     },
     "metadata": {},
     "output_type": "display_data"
    }
   ],
   "source": [
    "import matplotlib.pyplot as plt\n",
    "\n",
    "fig, axs = plt.subplots(ncols=3, nrows=1, figsize=(10, 4))\n",
    "\n",
    "sdata_fov0 = sdata.sel(\"fov0\")\n",
    "\n",
    "sdata_fov0.pl.render_images().pl.show(ax=axs[0], title=\"image\")\n",
    "\n",
    "sdata_fov0.pl.render_labels().pl.show(ax=axs[1], title=\"labels\")\n",
    "\n",
    "sdata_fov0.pl.render_images().pl.render_labels().pl.show(ax=axs[2], title=\"both\")\n",
    "\n",
    "plt.tight_layout()"
   ]
  }
 ],
 "metadata": {
  "kernelspec": {
   "display_name": "ark-spatial",
   "language": "python",
   "name": "python3"
  },
  "language_info": {
   "codemirror_mode": {
    "name": "ipython",
    "version": 3
   },
   "file_extension": ".py",
   "mimetype": "text/x-python",
   "name": "python",
   "nbconvert_exporter": "python",
   "pygments_lexer": "ipython3"
  }
 },
 "nbformat": 4,
 "nbformat_minor": 2
}
