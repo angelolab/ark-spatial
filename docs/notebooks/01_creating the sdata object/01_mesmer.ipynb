{
 "cells": [
  {
   "cell_type": "markdown",
   "source": [
    "# Run Mesmer for FOVs in a SpatialData Object"
   ],
   "metadata": {
    "collapsed": false
   }
  },
  {
   "cell_type": "code",
   "execution_count": 1,
   "metadata": {
    "ExecuteTime": {
     "end_time": "2023-10-05T01:10:03.341591Z",
     "start_time": "2023-10-05T01:10:03.328584Z"
    }
   },
   "outputs": [],
   "source": [
    "%load_ext autoreload\n",
    "%autoreload 2"
   ]
  },
  {
   "cell_type": "code",
   "execution_count": 2,
   "metadata": {
    "ExecuteTime": {
     "end_time": "2023-10-05T01:10:07.919799Z",
     "start_time": "2023-10-05T01:10:03.743753Z"
    }
   },
   "outputs": [
    {
     "name": "stderr",
     "output_type": "stream",
     "text": [
      "/opt/homebrew/Caskroom/mambaforge/base/envs/ark-spatial-dev/lib/python3.11/site-packages/dask/config.py:742: FutureWarning: Dask configuration key 'shuffle' has been deprecated; please use 'dataframe.shuffle.algorithm' instead\n",
      "  warnings.warn(\n"
     ]
    }
   ],
   "source": [
    "from pathlib import Path\n",
    "import ark\n",
    "import spatialdata as sd\n",
    "import spatialdata_plot\n"
   ]
  },
  {
   "cell_type": "markdown",
   "metadata": {},
   "source": [
    "Load the Zarr Store as a Spatial Data Object"
   ]
  },
  {
   "cell_type": "code",
   "execution_count": 3,
   "metadata": {
    "ExecuteTime": {
     "end_time": "2023-10-05T01:10:09.567427Z",
     "start_time": "2023-10-05T01:10:09.500483Z"
    }
   },
   "outputs": [],
   "source": [
    "sdata = sd.read_zarr(store=\"../../../data/cohorts/example_cohort.ome.zarr\")"
   ]
  },
  {
   "cell_type": "code",
   "execution_count": 4,
   "metadata": {
    "ExecuteTime": {
     "end_time": "2023-10-05T01:10:10.974745Z",
     "start_time": "2023-10-05T01:10:10.925209Z"
    }
   },
   "outputs": [
    {
     "data": {
      "text/plain": "SpatialData object with:\n└── Images\n      ├── 'fov0': SpatialImage[cyx] (24, 512, 512)\n      ├── 'fov1': SpatialImage[cyx] (24, 1024, 1024)\n      ├── 'fov2': SpatialImage[cyx] (24, 1024, 1024)\n      ├── 'fov3': SpatialImage[cyx] (24, 1024, 1024)\n      ├── 'fov4': SpatialImage[cyx] (24, 1024, 1024)\n      ├── 'fov5': SpatialImage[cyx] (24, 1024, 1024)\n      ├── 'fov6': SpatialImage[cyx] (24, 1024, 1024)\n      ├── 'fov7': SpatialImage[cyx] (24, 1024, 1024)\n      ├── 'fov8': SpatialImage[cyx] (24, 1024, 1024)\n      ├── 'fov9': SpatialImage[cyx] (24, 1024, 1024)\n      └── 'fov10': SpatialImage[cyx] (24, 1024, 1024)\nwith coordinate systems:\n▸ 'fov0', with elements:\n        fov0 (Images)\n▸ 'fov1', with elements:\n        fov1 (Images)\n▸ 'fov2', with elements:\n        fov2 (Images)\n▸ 'fov3', with elements:\n        fov3 (Images)\n▸ 'fov4', with elements:\n        fov4 (Images)\n▸ 'fov5', with elements:\n        fov5 (Images)\n▸ 'fov6', with elements:\n        fov6 (Images)\n▸ 'fov7', with elements:\n        fov7 (Images)\n▸ 'fov8', with elements:\n        fov8 (Images)\n▸ 'fov9', with elements:\n        fov9 (Images)\n▸ 'fov10', with elements:\n        fov10 (Images)"
     },
     "execution_count": 4,
     "metadata": {},
     "output_type": "execute_result"
    }
   ],
   "source": [
    "sdata"
   ]
  },
  {
   "cell_type": "code",
   "execution_count": 5,
   "metadata": {
    "ExecuteTime": {
     "end_time": "2023-10-05T01:10:12.698046Z",
     "start_time": "2023-10-05T01:10:12.649877Z"
    }
   },
   "outputs": [],
   "source": [
    "nucs = [\"H3K9ac\", \"H3K27me3\"]\n",
    "mems = [\"CD14\", \"CD45\", \"ECAD\"]"
   ]
  },
  {
   "cell_type": "code",
   "execution_count": 6,
   "metadata": {
    "ExecuteTime": {
     "end_time": "2023-10-05T01:11:36.871518Z",
     "start_time": "2023-10-05T01:10:13.326505Z"
    }
   },
   "outputs": [
    {
     "name": "stderr",
     "output_type": "stream",
     "text": [
      "2023-10-04 18:10:15,501\tINFO worker.py:1633 -- Started a local Ray instance. View the dashboard at \u001B[1m\u001B[32mhttp://127.0.0.1:8265 \u001B[39m\u001B[22m\n",
      "WARNING:ome_zarr.reader:no parent found for <ome_zarr.reader.Label object at 0x35ebf7690>: None\n",
      "WARNING:ome_zarr.reader:no parent found for <ome_zarr.reader.Label object at 0x35ee6dcd0>: None\n",
      "WARNING:ome_zarr.reader:no parent found for <ome_zarr.reader.Label object at 0x35ee9f010>: None\n",
      "WARNING:ome_zarr.reader:no parent found for <ome_zarr.reader.Label object at 0x35eed8f10>: None\n",
      "WARNING:ome_zarr.reader:no parent found for <ome_zarr.reader.Label object at 0x36d2a1e90>: None\n",
      "WARNING:ome_zarr.reader:no parent found for <ome_zarr.reader.Label object at 0x36d1b0650>: None\n",
      "WARNING:ome_zarr.reader:no parent found for <ome_zarr.reader.Label object at 0x36d2a0890>: None\n",
      "WARNING:ome_zarr.reader:no parent found for <ome_zarr.reader.Label object at 0x36d1d9290>: None\n",
      "WARNING:ome_zarr.reader:no parent found for <ome_zarr.reader.Label object at 0x2c1a5f490>: None\n",
      "WARNING:ome_zarr.reader:no parent found for <ome_zarr.reader.Label object at 0x35eef6910>: None\n",
      "WARNING:ome_zarr.reader:no parent found for <ome_zarr.reader.Label object at 0x36d373210>: None\n",
      "WARNING:ome_zarr.reader:no parent found for <ome_zarr.reader.Label object at 0x35eeaeb90>: None\n",
      "WARNING:ome_zarr.reader:no parent found for <ome_zarr.reader.Label object at 0x2c1aedad0>: None\n",
      "WARNING:ome_zarr.reader:no parent found for <ome_zarr.reader.Label object at 0x35eefde90>: None\n",
      "WARNING:ome_zarr.reader:no parent found for <ome_zarr.reader.Label object at 0x36d1d8150>: None\n",
      "WARNING:ome_zarr.reader:no parent found for <ome_zarr.reader.Label object at 0x36d1e0310>: None\n",
      "WARNING:ome_zarr.reader:no parent found for <ome_zarr.reader.Label object at 0x35eed8110>: None\n",
      "WARNING:ome_zarr.reader:no parent found for <ome_zarr.reader.Label object at 0x36d32a410>: None\n",
      "WARNING:ome_zarr.reader:no parent found for <ome_zarr.reader.Label object at 0x36d3625d0>: None\n",
      "WARNING:ome_zarr.reader:no parent found for <ome_zarr.reader.Label object at 0x36d306110>: None\n",
      "WARNING:ome_zarr.reader:no parent found for <ome_zarr.reader.Label object at 0x35ebde2d0>: None\n",
      "WARNING:ome_zarr.reader:no parent found for <ome_zarr.reader.Label object at 0x35eea5850>: None\n"
     ]
    }
   ],
   "source": [
    "sdata.segmentation.run_deepcell(nucs=nucs, mems=mems)"
   ]
  },
  {
   "cell_type": "code",
   "execution_count": 7,
   "metadata": {
    "ExecuteTime": {
     "end_time": "2023-10-05T01:13:11.881416Z",
     "start_time": "2023-10-05T01:13:11.513956Z"
    }
   },
   "outputs": [
    {
     "data": {
      "text/plain": "SpatialData object with:\n├── Images\n│     ├── 'fov0': SpatialImage[cyx] (24, 512, 512)\n│     ├── 'fov1': SpatialImage[cyx] (24, 1024, 1024)\n│     ├── 'fov2': SpatialImage[cyx] (24, 1024, 1024)\n│     ├── 'fov3': SpatialImage[cyx] (24, 1024, 1024)\n│     ├── 'fov4': SpatialImage[cyx] (24, 1024, 1024)\n│     ├── 'fov5': SpatialImage[cyx] (24, 1024, 1024)\n│     ├── 'fov6': SpatialImage[cyx] (24, 1024, 1024)\n│     ├── 'fov7': SpatialImage[cyx] (24, 1024, 1024)\n│     ├── 'fov8': SpatialImage[cyx] (24, 1024, 1024)\n│     ├── 'fov9': SpatialImage[cyx] (24, 1024, 1024)\n│     └── 'fov10': SpatialImage[cyx] (24, 1024, 1024)\n└── Labels\n      ├── 'fov0_nuclear': SpatialImage[yx] (512, 512)\n      ├── 'fov0_whole_cell': SpatialImage[yx] (512, 512)\n      ├── 'fov1_nuclear': SpatialImage[yx] (1024, 1024)\n      ├── 'fov1_whole_cell': SpatialImage[yx] (1024, 1024)\n      ├── 'fov2_nuclear': SpatialImage[yx] (1024, 1024)\n      ├── 'fov2_whole_cell': SpatialImage[yx] (1024, 1024)\n      ├── 'fov3_nuclear': SpatialImage[yx] (1024, 1024)\n      ├── 'fov3_whole_cell': SpatialImage[yx] (1024, 1024)\n      ├── 'fov4_nuclear': SpatialImage[yx] (1024, 1024)\n      ├── 'fov4_whole_cell': SpatialImage[yx] (1024, 1024)\n      ├── 'fov5_nuclear': SpatialImage[yx] (1024, 1024)\n      ├── 'fov5_whole_cell': SpatialImage[yx] (1024, 1024)\n      ├── 'fov6_nuclear': SpatialImage[yx] (1024, 1024)\n      ├── 'fov6_whole_cell': SpatialImage[yx] (1024, 1024)\n      ├── 'fov7_nuclear': SpatialImage[yx] (1024, 1024)\n      ├── 'fov7_whole_cell': SpatialImage[yx] (1024, 1024)\n      ├── 'fov8_nuclear': SpatialImage[yx] (1024, 1024)\n      ├── 'fov8_whole_cell': SpatialImage[yx] (1024, 1024)\n      ├── 'fov9_nuclear': SpatialImage[yx] (1024, 1024)\n      ├── 'fov9_whole_cell': SpatialImage[yx] (1024, 1024)\n      ├── 'fov10_nuclear': SpatialImage[yx] (1024, 1024)\n      └── 'fov10_whole_cell': SpatialImage[yx] (1024, 1024)\nwith coordinate systems:\n▸ 'fov0', with elements:\n        fov0 (Images), fov0_nuclear (Labels), fov0_whole_cell (Labels)\n▸ 'fov1', with elements:\n        fov1 (Images), fov1_nuclear (Labels), fov1_whole_cell (Labels)\n▸ 'fov2', with elements:\n        fov2 (Images), fov2_nuclear (Labels), fov2_whole_cell (Labels)\n▸ 'fov3', with elements:\n        fov3 (Images), fov3_nuclear (Labels), fov3_whole_cell (Labels)\n▸ 'fov4', with elements:\n        fov4 (Images), fov4_nuclear (Labels), fov4_whole_cell (Labels)\n▸ 'fov5', with elements:\n        fov5 (Images), fov5_nuclear (Labels), fov5_whole_cell (Labels)\n▸ 'fov6', with elements:\n        fov6 (Images), fov6_nuclear (Labels), fov6_whole_cell (Labels)\n▸ 'fov7', with elements:\n        fov7 (Images), fov7_nuclear (Labels), fov7_whole_cell (Labels)\n▸ 'fov8', with elements:\n        fov8 (Images), fov8_nuclear (Labels), fov8_whole_cell (Labels)\n▸ 'fov9', with elements:\n        fov9 (Images), fov9_nuclear (Labels), fov9_whole_cell (Labels)\n▸ 'fov10', with elements:\n        fov10 (Images), fov10_nuclear (Labels), fov10_whole_cell (Labels)"
     },
     "execution_count": 7,
     "metadata": {},
     "output_type": "execute_result"
    }
   ],
   "source": [
    "sdata\n"
   ]
  },
  {
   "cell_type": "code",
   "execution_count": null,
   "outputs": [],
   "source": [],
   "metadata": {
    "collapsed": false
   }
  }
 ],
 "metadata": {
  "kernelspec": {
   "display_name": "ark-spatial",
   "language": "python",
   "name": "python3"
  },
  "language_info": {
   "codemirror_mode": {
    "name": "ipython",
    "version": 3
   },
   "file_extension": ".py",
   "mimetype": "text/x-python",
   "name": "python",
   "nbconvert_exporter": "python",
   "pygments_lexer": "ipython3"
  }
 },
 "nbformat": 4,
 "nbformat_minor": 2
}
