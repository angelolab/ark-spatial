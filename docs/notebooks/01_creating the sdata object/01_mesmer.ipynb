{
 "cells": [
  {
   "cell_type": "markdown",
   "source": [
    "# Run Mesmer for FOVs in a SpatialData Object"
   ],
   "metadata": {
    "collapsed": false
   }
  },
  {
   "cell_type": "code",
   "execution_count": null,
   "metadata": {},
   "outputs": [],
   "source": [
    "%load_ext autoreload\n",
    "%autoreload 2"
   ]
  },
  {
   "cell_type": "code",
   "execution_count": null,
   "metadata": {},
   "outputs": [
    {
     "name": "stderr",
     "output_type": "stream",
     "text": [
      "/opt/homebrew/Caskroom/mambaforge/base/envs/ark-spatial-dev/lib/python3.11/site-packages/dask/config.py:742: FutureWarning: Dask configuration key 'shuffle' has been deprecated; please use 'dataframe.shuffle.algorithm' instead\n",
      "  warnings.warn(\n"
     ]
    }
   ],
   "source": [
    "from pathlib import Path\n",
    "import ark\n",
    "import spatialdata as sd\n",
    "import spatialdata_plot\n"
   ]
  },
  {
   "cell_type": "markdown",
   "metadata": {},
   "source": [
    "Load the Zarr Store as a Spatial Data Object"
   ]
  },
  {
   "cell_type": "code",
   "execution_count": null,
   "metadata": {},
   "outputs": [
    {
     "name": "stderr",
     "output_type": "stream",
     "text": [
      "/opt/homebrew/Caskroom/mambaforge/base/envs/ark-spatial-dev/lib/python3.11/site-packages/anndata/_core/anndata.py:1838: UserWarning: Observation names are not unique. To make them unique, call `.obs_names_make_unique`.\n",
      "  utils.warn_names_duplicates(\"obs\")\n"
     ]
    }
   ],
   "source": [
    "sdata = sd.read_zarr(store=\"../../data/cohorts/example_cohort.ome.zarr\")"
   ]
  },
  {
   "cell_type": "code",
   "execution_count": null,
   "metadata": {},
   "outputs": [
    {
     "data": {
      "text/plain": [
       "SpatialData object with:\n",
       "├── Images\n",
       "│     ├── 'fov0': SpatialImage[cyx] (22, 512, 512)\n",
       "│     ├── 'fov1': SpatialImage[cyx] (22, 1024, 1024)\n",
       "│     ├── 'fov2': SpatialImage[cyx] (22, 1024, 1024)\n",
       "│     ├── 'fov3': SpatialImage[cyx] (22, 1024, 1024)\n",
       "│     ├── 'fov4': SpatialImage[cyx] (22, 1024, 1024)\n",
       "│     ├── 'fov5': SpatialImage[cyx] (22, 1024, 1024)\n",
       "│     ├── 'fov6': SpatialImage[cyx] (22, 1024, 1024)\n",
       "│     ├── 'fov7': SpatialImage[cyx] (22, 1024, 1024)\n",
       "│     ├── 'fov8': SpatialImage[cyx] (22, 1024, 1024)\n",
       "│     ├── 'fov9': SpatialImage[cyx] (22, 1024, 1024)\n",
       "│     └── 'fov10': SpatialImage[cyx] (22, 1024, 1024)\n",
       "├── Labels\n",
       "│     ├── 'fov0_nuclear': SpatialImage[yx] (512, 512)\n",
       "│     ├── 'fov0_whole_cell': SpatialImage[yx] (512, 512)\n",
       "│     ├── 'fov1_nuclear': SpatialImage[yx] (1024, 1024)\n",
       "│     ├── 'fov1_whole_cell': SpatialImage[yx] (1024, 1024)\n",
       "│     ├── 'fov2_nuclear': SpatialImage[yx] (1024, 1024)\n",
       "│     ├── 'fov2_whole_cell': SpatialImage[yx] (1024, 1024)\n",
       "│     ├── 'fov3_nuclear': SpatialImage[yx] (1024, 1024)\n",
       "│     ├── 'fov3_whole_cell': SpatialImage[yx] (1024, 1024)\n",
       "│     ├── 'fov4_nuclear': SpatialImage[yx] (1024, 1024)\n",
       "│     ├── 'fov4_whole_cell': SpatialImage[yx] (1024, 1024)\n",
       "│     ├── 'fov5_nuclear': SpatialImage[yx] (1024, 1024)\n",
       "│     ├── 'fov5_whole_cell': SpatialImage[yx] (1024, 1024)\n",
       "│     ├── 'fov6_nuclear': SpatialImage[yx] (1024, 1024)\n",
       "│     ├── 'fov6_whole_cell': SpatialImage[yx] (1024, 1024)\n",
       "│     ├── 'fov7_nuclear': SpatialImage[yx] (1024, 1024)\n",
       "│     ├── 'fov7_whole_cell': SpatialImage[yx] (1024, 1024)\n",
       "│     ├── 'fov8_nuclear': SpatialImage[yx] (1024, 1024)\n",
       "│     ├── 'fov8_whole_cell': SpatialImage[yx] (1024, 1024)\n",
       "│     ├── 'fov9_nuclear': SpatialImage[yx] (1024, 1024)\n",
       "│     ├── 'fov9_whole_cell': SpatialImage[yx] (1024, 1024)\n",
       "│     ├── 'fov10_nuclear': SpatialImage[yx] (1024, 1024)\n",
       "│     └── 'fov10_whole_cell': SpatialImage[yx] (1024, 1024)\n",
       "└── Table\n",
       "      └── AnnData object with n_obs × n_vars = 32077 × 22\n",
       "    obs: 'equivalent_diameter', 'axis_major_length', 'instance_id', 'area', 'eccentricity', 'area_convex', 'x_centroid', 'y_centroid', 'axis_minor_length', 'perimeter', 'major_minor_axis_ratio', 'perim_square_over_area', 'major_axis_equiv_diam_ratio', 'convex_hull_equiv_diam_ratio', 'centroid_dif', 'num_concavities', 'region'\n",
       "    uns: 'spatialdata_attrs'\n",
       "    obsm: 'spatial': AnnData (32077, 22)\n",
       "with coordinate systems:\n",
       "▸ 'fov0', with elements:\n",
       "        fov0 (Images), fov0_nuclear (Labels), fov0_whole_cell (Labels)\n",
       "▸ 'fov1', with elements:\n",
       "        fov1 (Images), fov1_nuclear (Labels), fov1_whole_cell (Labels)\n",
       "▸ 'fov2', with elements:\n",
       "        fov2 (Images), fov2_nuclear (Labels), fov2_whole_cell (Labels)\n",
       "▸ 'fov3', with elements:\n",
       "        fov3 (Images), fov3_nuclear (Labels), fov3_whole_cell (Labels)\n",
       "▸ 'fov4', with elements:\n",
       "        fov4 (Images), fov4_nuclear (Labels), fov4_whole_cell (Labels)\n",
       "▸ 'fov5', with elements:\n",
       "        fov5 (Images), fov5_nuclear (Labels), fov5_whole_cell (Labels)\n",
       "▸ 'fov6', with elements:\n",
       "        fov6 (Images), fov6_nuclear (Labels), fov6_whole_cell (Labels)\n",
       "▸ 'fov7', with elements:\n",
       "        fov7 (Images), fov7_nuclear (Labels), fov7_whole_cell (Labels)\n",
       "▸ 'fov8', with elements:\n",
       "        fov8 (Images), fov8_nuclear (Labels), fov8_whole_cell (Labels)\n",
       "▸ 'fov9', with elements:\n",
       "        fov9 (Images), fov9_nuclear (Labels), fov9_whole_cell (Labels)\n",
       "▸ 'fov10', with elements:\n",
       "        fov10 (Images), fov10_nuclear (Labels), fov10_whole_cell (Labels)\n",
       "▸ 'global', with elements:\n",
       "        fov0 (Images), fov1 (Images), fov2 (Images), fov3 (Images), fov4 (Images), fov5 (Images), fov6 (Images), fov7 (Images), fov8 (Images), fov9 (Images), fov10 (Images)"
      ]
     },
     "execution_count": null,
     "metadata": {},
     "output_type": "execute_result"
    }
   ],
   "source": [
    "sdata"
   ]
  },
  {
   "cell_type": "code",
   "execution_count": null,
   "metadata": {},
   "outputs": [],
   "source": [
    "nucs = [\"H3K9ac\", \"H3K27me3\"]\n",
    "mems = [\"CD14\", \"CD45\", \"ECAD\"]"
   ]
  },
  {
   "cell_type": "code",
   "execution_count": null,
   "metadata": {},
   "outputs": [
    {
     "name": "stderr",
     "output_type": "stream",
     "text": [
      "/opt/homebrew/Caskroom/mambaforge/base/envs/ark-spatial-dev/lib/python3.11/site-packages/anndata/_core/anndata.py:1838: UserWarning: Observation names are not unique. To make them unique, call `.obs_names_make_unique`.\n",
      "  utils.warn_names_duplicates(\"obs\")\n",
      "/opt/homebrew/Caskroom/mambaforge/base/envs/ark-spatial-dev/lib/python3.11/site-packages/anndata/_core/anndata.py:1113: FutureWarning: is_categorical_dtype is deprecated and will be removed in a future version. Use isinstance(dtype, CategoricalDtype) instead\n",
      "  if not is_categorical_dtype(df_full[k]):\n"
     ]
    },
    {
     "data": {
      "text/plain": [
       "SpatialData object with:\n",
       "├── Images\n",
       "│     └── 'fov0': SpatialImage[cyx] (22, 512, 512)\n",
       "├── Labels\n",
       "│     ├── 'fov0_nuclear': SpatialImage[yx] (512, 512)\n",
       "│     └── 'fov0_whole_cell': SpatialImage[yx] (512, 512)\n",
       "└── Table\n",
       "      └── AnnData object with n_obs × n_vars = 1056 × 22\n",
       "    obs: 'equivalent_diameter', 'axis_major_length', 'instance_id', 'area', 'eccentricity', 'area_convex', 'x_centroid', 'y_centroid', 'axis_minor_length', 'perimeter', 'major_minor_axis_ratio', 'perim_square_over_area', 'major_axis_equiv_diam_ratio', 'convex_hull_equiv_diam_ratio', 'centroid_dif', 'num_concavities', 'region'\n",
       "    uns: 'spatialdata_attrs'\n",
       "    obsm: 'spatial': AnnData (1056, 22)\n",
       "with coordinate systems:\n",
       "▸ 'fov0', with elements:\n",
       "        fov0 (Images), fov0_nuclear (Labels), fov0_whole_cell (Labels)\n",
       "▸ 'global', with elements:\n",
       "        fov0 (Images)"
      ]
     },
     "execution_count": null,
     "metadata": {},
     "output_type": "execute_result"
    }
   ],
   "source": [
    "fov0_sd = sdata.sel(\"fov0\")\n",
    "\n",
    "sdata.segmentation._sum_markers(\"fov0\", )"
   ]
  },
  {
   "cell_type": "code",
   "execution_count": null,
   "metadata": {},
   "outputs": [],
   "source": [
    "sdata.segmentation.run_deepcell(nucs=nucs, mems=mems)"
   ]
  },
  {
   "cell_type": "code",
   "execution_count": null,
   "metadata": {},
   "outputs": [],
   "source": [
    "sdata\n"
   ]
  }
 ],
 "metadata": {
  "kernelspec": {
   "display_name": "ark-spatial",
   "language": "python",
   "name": "python3"
  },
  "language_info": {
   "codemirror_mode": {
    "name": "ipython",
    "version": 3
   },
   "file_extension": ".py",
   "mimetype": "text/x-python",
   "name": "python",
   "nbconvert_exporter": "python",
   "pygments_lexer": "ipython3"
  }
 },
 "nbformat": 4,
 "nbformat_minor": 2
}
