{
 "cells": [
  {
   "cell_type": "code",
   "execution_count": null,
   "metadata": {},
   "outputs": [],
   "source": [
    "%load_ext autoreload\n",
    "%autoreload 2"
   ]
  },
  {
   "cell_type": "code",
   "execution_count": null,
   "metadata": {},
   "outputs": [],
   "source": [
    "import ark\n",
    "import spatialdata as sd"
   ]
  },
  {
   "cell_type": "code",
   "execution_count": null,
   "metadata": {},
   "outputs": [],
   "source": [
    "sdata = sd.read_zarr(store=\"../../data/cohorts/example_cohort.ome.zarr/\")"
   ]
  },
  {
   "cell_type": "code",
   "execution_count": null,
   "metadata": {},
   "outputs": [],
   "source": [
    "del sdata.table"
   ]
  },
  {
   "cell_type": "code",
   "execution_count": null,
   "metadata": {},
   "outputs": [
    {
     "data": {
      "text/plain": [
       "[('fov0',\n",
       "  SpatialData object with:\n",
       "  ├── Images\n",
       "  │     └── 'fov0': SpatialImage[cyx] (22, 512, 512)\n",
       "  └── Labels\n",
       "        ├── 'fov0_nuclear': SpatialImage[yx] (512, 512)\n",
       "        └── 'fov0_whole_cell': SpatialImage[yx] (512, 512)\n",
       "  with coordinate systems:\n",
       "  ▸ 'fov0', with elements:\n",
       "          fov0 (Images), fov0_nuclear (Labels), fov0_whole_cell (Labels)\n",
       "  ▸ 'global', with elements:\n",
       "          fov0 (Images)),\n",
       " ('fov1',\n",
       "  SpatialData object with:\n",
       "  ├── Images\n",
       "  │     └── 'fov1': SpatialImage[cyx] (22, 1024, 1024)\n",
       "  └── Labels\n",
       "        ├── 'fov1_nuclear': SpatialImage[yx] (1024, 1024)\n",
       "        └── 'fov1_whole_cell': SpatialImage[yx] (1024, 1024)\n",
       "  with coordinate systems:\n",
       "  ▸ 'fov1', with elements:\n",
       "          fov1 (Images), fov1_nuclear (Labels), fov1_whole_cell (Labels)\n",
       "  ▸ 'global', with elements:\n",
       "          fov1 (Images)),\n",
       " ('fov2',\n",
       "  SpatialData object with:\n",
       "  ├── Images\n",
       "  │     └── 'fov2': SpatialImage[cyx] (22, 1024, 1024)\n",
       "  └── Labels\n",
       "        ├── 'fov2_nuclear': SpatialImage[yx] (1024, 1024)\n",
       "        └── 'fov2_whole_cell': SpatialImage[yx] (1024, 1024)\n",
       "  with coordinate systems:\n",
       "  ▸ 'fov2', with elements:\n",
       "          fov2 (Images), fov2_nuclear (Labels), fov2_whole_cell (Labels)\n",
       "  ▸ 'global', with elements:\n",
       "          fov2 (Images)),\n",
       " ('fov3',\n",
       "  SpatialData object with:\n",
       "  ├── Images\n",
       "  │     └── 'fov3': SpatialImage[cyx] (22, 1024, 1024)\n",
       "  └── Labels\n",
       "        ├── 'fov3_nuclear': SpatialImage[yx] (1024, 1024)\n",
       "        └── 'fov3_whole_cell': SpatialImage[yx] (1024, 1024)\n",
       "  with coordinate systems:\n",
       "  ▸ 'fov3', with elements:\n",
       "          fov3 (Images), fov3_nuclear (Labels), fov3_whole_cell (Labels)\n",
       "  ▸ 'global', with elements:\n",
       "          fov3 (Images)),\n",
       " ('fov4',\n",
       "  SpatialData object with:\n",
       "  ├── Images\n",
       "  │     └── 'fov4': SpatialImage[cyx] (22, 1024, 1024)\n",
       "  └── Labels\n",
       "        ├── 'fov4_nuclear': SpatialImage[yx] (1024, 1024)\n",
       "        └── 'fov4_whole_cell': SpatialImage[yx] (1024, 1024)\n",
       "  with coordinate systems:\n",
       "  ▸ 'fov4', with elements:\n",
       "          fov4 (Images), fov4_nuclear (Labels), fov4_whole_cell (Labels)\n",
       "  ▸ 'global', with elements:\n",
       "          fov4 (Images)),\n",
       " ('fov5',\n",
       "  SpatialData object with:\n",
       "  ├── Images\n",
       "  │     └── 'fov5': SpatialImage[cyx] (22, 1024, 1024)\n",
       "  └── Labels\n",
       "        ├── 'fov5_nuclear': SpatialImage[yx] (1024, 1024)\n",
       "        └── 'fov5_whole_cell': SpatialImage[yx] (1024, 1024)\n",
       "  with coordinate systems:\n",
       "  ▸ 'fov5', with elements:\n",
       "          fov5 (Images), fov5_nuclear (Labels), fov5_whole_cell (Labels)\n",
       "  ▸ 'global', with elements:\n",
       "          fov5 (Images)),\n",
       " ('fov6',\n",
       "  SpatialData object with:\n",
       "  ├── Images\n",
       "  │     └── 'fov6': SpatialImage[cyx] (22, 1024, 1024)\n",
       "  └── Labels\n",
       "        ├── 'fov6_nuclear': SpatialImage[yx] (1024, 1024)\n",
       "        └── 'fov6_whole_cell': SpatialImage[yx] (1024, 1024)\n",
       "  with coordinate systems:\n",
       "  ▸ 'fov6', with elements:\n",
       "          fov6 (Images), fov6_nuclear (Labels), fov6_whole_cell (Labels)\n",
       "  ▸ 'global', with elements:\n",
       "          fov6 (Images)),\n",
       " ('fov7',\n",
       "  SpatialData object with:\n",
       "  ├── Images\n",
       "  │     └── 'fov7': SpatialImage[cyx] (22, 1024, 1024)\n",
       "  └── Labels\n",
       "        ├── 'fov7_nuclear': SpatialImage[yx] (1024, 1024)\n",
       "        └── 'fov7_whole_cell': SpatialImage[yx] (1024, 1024)\n",
       "  with coordinate systems:\n",
       "  ▸ 'fov7', with elements:\n",
       "          fov7 (Images), fov7_nuclear (Labels), fov7_whole_cell (Labels)\n",
       "  ▸ 'global', with elements:\n",
       "          fov7 (Images)),\n",
       " ('fov8',\n",
       "  SpatialData object with:\n",
       "  ├── Images\n",
       "  │     └── 'fov8': SpatialImage[cyx] (22, 1024, 1024)\n",
       "  └── Labels\n",
       "        ├── 'fov8_nuclear': SpatialImage[yx] (1024, 1024)\n",
       "        └── 'fov8_whole_cell': SpatialImage[yx] (1024, 1024)\n",
       "  with coordinate systems:\n",
       "  ▸ 'fov8', with elements:\n",
       "          fov8 (Images), fov8_nuclear (Labels), fov8_whole_cell (Labels)\n",
       "  ▸ 'global', with elements:\n",
       "          fov8 (Images)),\n",
       " ('fov9',\n",
       "  SpatialData object with:\n",
       "  ├── Images\n",
       "  │     └── 'fov9': SpatialImage[cyx] (22, 1024, 1024)\n",
       "  └── Labels\n",
       "        ├── 'fov9_nuclear': SpatialImage[yx] (1024, 1024)\n",
       "        └── 'fov9_whole_cell': SpatialImage[yx] (1024, 1024)\n",
       "  with coordinate systems:\n",
       "  ▸ 'fov9', with elements:\n",
       "          fov9 (Images), fov9_nuclear (Labels), fov9_whole_cell (Labels)\n",
       "  ▸ 'global', with elements:\n",
       "          fov9 (Images)),\n",
       " ('fov10',\n",
       "  SpatialData object with:\n",
       "  ├── Images\n",
       "  │     └── 'fov10': SpatialImage[cyx] (22, 1024, 1024)\n",
       "  └── Labels\n",
       "        ├── 'fov10_nuclear': SpatialImage[yx] (1024, 1024)\n",
       "        └── 'fov10_whole_cell': SpatialImage[yx] (1024, 1024)\n",
       "  with coordinate systems:\n",
       "  ▸ 'fov10', with elements:\n",
       "          fov10 (Images), fov10_nuclear (Labels), fov10_whole_cell (Labels)\n",
       "  ▸ 'global', with elements:\n",
       "          fov10 (Images))]"
      ]
     },
     "execution_count": null,
     "metadata": {},
     "output_type": "execute_result"
    }
   ],
   "source": [
    "list(sdata.iter_coords)"
   ]
  },
  {
   "cell_type": "markdown",
   "metadata": {},
   "source": [
    "View the cell tables"
   ]
  },
  {
   "cell_type": "code",
   "execution_count": null,
   "metadata": {},
   "outputs": [
    {
     "name": "stderr",
     "output_type": "stream",
     "text": [
      "/Users/srivarra/Dev/Python/ark/src/ark/core/_segmentation/marker_quantification.py:17: AccessorRegistrationWarning: registration of accessor <class 'ark.core._segmentation.marker_quantification.MarkerQuantificationAccessor'> under name 'marker_quantification' for type <class 'spatialdata._core.spatialdata.SpatialData'> is overriding a preexisting attribute with the same name.\n",
      "  @register_spatial_data_accessor(\"marker_quantification\")\n",
      "/opt/homebrew/Caskroom/mambaforge/base/envs/ark-spatial-dev/lib/python3.11/site-packages/anndata/_core/anndata.py:1113: FutureWarning: is_categorical_dtype is deprecated and will be removed in a future version. Use isinstance(dtype, CategoricalDtype) instead\n",
      "  if not is_categorical_dtype(df_full[k]):\n",
      "/opt/homebrew/Caskroom/mambaforge/base/envs/ark-spatial-dev/lib/python3.11/site-packages/anndata/_core/anndata.py:1113: FutureWarning: is_categorical_dtype is deprecated and will be removed in a future version. Use isinstance(dtype, CategoricalDtype) instead\n",
      "  if not is_categorical_dtype(df_full[k]):\n",
      "/opt/homebrew/Caskroom/mambaforge/base/envs/ark-spatial-dev/lib/python3.11/site-packages/anndata/_core/anndata.py:1113: FutureWarning: is_categorical_dtype is deprecated and will be removed in a future version. Use isinstance(dtype, CategoricalDtype) instead\n",
      "  if not is_categorical_dtype(df_full[k]):\n",
      "/opt/homebrew/Caskroom/mambaforge/base/envs/ark-spatial-dev/lib/python3.11/site-packages/anndata/_core/anndata.py:1113: FutureWarning: is_categorical_dtype is deprecated and will be removed in a future version. Use isinstance(dtype, CategoricalDtype) instead\n",
      "  if not is_categorical_dtype(df_full[k]):\n",
      "/opt/homebrew/Caskroom/mambaforge/base/envs/ark-spatial-dev/lib/python3.11/site-packages/anndata/_core/anndata.py:1113: FutureWarning: is_categorical_dtype is deprecated and will be removed in a future version. Use isinstance(dtype, CategoricalDtype) instead\n",
      "  if not is_categorical_dtype(df_full[k]):\n",
      "/opt/homebrew/Caskroom/mambaforge/base/envs/ark-spatial-dev/lib/python3.11/site-packages/anndata/_core/anndata.py:1113: FutureWarning: is_categorical_dtype is deprecated and will be removed in a future version. Use isinstance(dtype, CategoricalDtype) instead\n",
      "  if not is_categorical_dtype(df_full[k]):\n",
      "/opt/homebrew/Caskroom/mambaforge/base/envs/ark-spatial-dev/lib/python3.11/site-packages/anndata/_core/anndata.py:1113: FutureWarning: is_categorical_dtype is deprecated and will be removed in a future version. Use isinstance(dtype, CategoricalDtype) instead\n",
      "  if not is_categorical_dtype(df_full[k]):\n",
      "/opt/homebrew/Caskroom/mambaforge/base/envs/ark-spatial-dev/lib/python3.11/site-packages/anndata/_core/anndata.py:1113: FutureWarning: is_categorical_dtype is deprecated and will be removed in a future version. Use isinstance(dtype, CategoricalDtype) instead\n",
      "  if not is_categorical_dtype(df_full[k]):\n",
      "/opt/homebrew/Caskroom/mambaforge/base/envs/ark-spatial-dev/lib/python3.11/site-packages/anndata/_core/anndata.py:1113: FutureWarning: is_categorical_dtype is deprecated and will be removed in a future version. Use isinstance(dtype, CategoricalDtype) instead\n",
      "  if not is_categorical_dtype(df_full[k]):\n",
      "/opt/homebrew/Caskroom/mambaforge/base/envs/ark-spatial-dev/lib/python3.11/site-packages/anndata/_core/anndata.py:1113: FutureWarning: is_categorical_dtype is deprecated and will be removed in a future version. Use isinstance(dtype, CategoricalDtype) instead\n",
      "  if not is_categorical_dtype(df_full[k]):\n",
      "/opt/homebrew/Caskroom/mambaforge/base/envs/ark-spatial-dev/lib/python3.11/site-packages/anndata/_core/anndata.py:1113: FutureWarning: is_categorical_dtype is deprecated and will be removed in a future version. Use isinstance(dtype, CategoricalDtype) instead\n",
      "  if not is_categorical_dtype(df_full[k]):\n",
      "/opt/homebrew/Caskroom/mambaforge/base/envs/ark-spatial-dev/lib/python3.11/site-packages/spatialdata/models/models.py:703: FutureWarning: is_categorical_dtype is deprecated and will be removed in a future version. Use isinstance(dtype, CategoricalDtype) instead\n",
      "  if not is_categorical_dtype(adata.obs[region_key]):\n",
      "/opt/homebrew/Caskroom/mambaforge/base/envs/ark-spatial-dev/lib/python3.11/site-packages/spatialdata/_core/operations/aggregate.py:244: UserWarning: Converting `region_key: region` to categorical dtype.\n",
      "  table = TableModel.parse(table, region=shapes_name, region_key=region_key, instance_key=instance_key)\n",
      "/opt/homebrew/Caskroom/mambaforge/base/envs/ark-spatial-dev/lib/python3.11/site-packages/spatialdata/models/models.py:703: FutureWarning: is_categorical_dtype is deprecated and will be removed in a future version. Use isinstance(dtype, CategoricalDtype) instead\n",
      "  if not is_categorical_dtype(adata.obs[region_key]):\n",
      "/opt/homebrew/Caskroom/mambaforge/base/envs/ark-spatial-dev/lib/python3.11/site-packages/spatialdata/_core/operations/aggregate.py:244: UserWarning: Converting `region_key: region` to categorical dtype.\n",
      "  table = TableModel.parse(table, region=shapes_name, region_key=region_key, instance_key=instance_key)\n",
      "/opt/homebrew/Caskroom/mambaforge/base/envs/ark-spatial-dev/lib/python3.11/site-packages/spatialdata/models/models.py:703: FutureWarning: is_categorical_dtype is deprecated and will be removed in a future version. Use isinstance(dtype, CategoricalDtype) instead\n",
      "  if not is_categorical_dtype(adata.obs[region_key]):\n",
      "/opt/homebrew/Caskroom/mambaforge/base/envs/ark-spatial-dev/lib/python3.11/site-packages/spatialdata/_core/operations/aggregate.py:244: UserWarning: Converting `region_key: region` to categorical dtype.\n",
      "  table = TableModel.parse(table, region=shapes_name, region_key=region_key, instance_key=instance_key)\n",
      "/opt/homebrew/Caskroom/mambaforge/base/envs/ark-spatial-dev/lib/python3.11/site-packages/spatialdata/models/models.py:703: FutureWarning: is_categorical_dtype is deprecated and will be removed in a future version. Use isinstance(dtype, CategoricalDtype) instead\n",
      "  if not is_categorical_dtype(adata.obs[region_key]):\n",
      "/opt/homebrew/Caskroom/mambaforge/base/envs/ark-spatial-dev/lib/python3.11/site-packages/spatialdata/_core/operations/aggregate.py:244: UserWarning: Converting `region_key: region` to categorical dtype.\n",
      "  table = TableModel.parse(table, region=shapes_name, region_key=region_key, instance_key=instance_key)\n",
      "/opt/homebrew/Caskroom/mambaforge/base/envs/ark-spatial-dev/lib/python3.11/site-packages/spatialdata/models/models.py:703: FutureWarning: is_categorical_dtype is deprecated and will be removed in a future version. Use isinstance(dtype, CategoricalDtype) instead\n",
      "  if not is_categorical_dtype(adata.obs[region_key]):\n",
      "/opt/homebrew/Caskroom/mambaforge/base/envs/ark-spatial-dev/lib/python3.11/site-packages/spatialdata/_core/operations/aggregate.py:244: UserWarning: Converting `region_key: region` to categorical dtype.\n",
      "  table = TableModel.parse(table, region=shapes_name, region_key=region_key, instance_key=instance_key)\n",
      "/opt/homebrew/Caskroom/mambaforge/base/envs/ark-spatial-dev/lib/python3.11/site-packages/spatialdata/models/models.py:703: FutureWarning: is_categorical_dtype is deprecated and will be removed in a future version. Use isinstance(dtype, CategoricalDtype) instead\n",
      "  if not is_categorical_dtype(adata.obs[region_key]):\n",
      "/opt/homebrew/Caskroom/mambaforge/base/envs/ark-spatial-dev/lib/python3.11/site-packages/spatialdata/_core/operations/aggregate.py:244: UserWarning: Converting `region_key: region` to categorical dtype.\n",
      "  table = TableModel.parse(table, region=shapes_name, region_key=region_key, instance_key=instance_key)\n",
      "/opt/homebrew/Caskroom/mambaforge/base/envs/ark-spatial-dev/lib/python3.11/site-packages/spatialdata/models/models.py:703: FutureWarning: is_categorical_dtype is deprecated and will be removed in a future version. Use isinstance(dtype, CategoricalDtype) instead\n",
      "  if not is_categorical_dtype(adata.obs[region_key]):\n",
      "/opt/homebrew/Caskroom/mambaforge/base/envs/ark-spatial-dev/lib/python3.11/site-packages/spatialdata/_core/operations/aggregate.py:244: UserWarning: Converting `region_key: region` to categorical dtype.\n",
      "  table = TableModel.parse(table, region=shapes_name, region_key=region_key, instance_key=instance_key)\n",
      "/opt/homebrew/Caskroom/mambaforge/base/envs/ark-spatial-dev/lib/python3.11/site-packages/spatialdata/models/models.py:703: FutureWarning: is_categorical_dtype is deprecated and will be removed in a future version. Use isinstance(dtype, CategoricalDtype) instead\n",
      "  if not is_categorical_dtype(adata.obs[region_key]):\n",
      "/opt/homebrew/Caskroom/mambaforge/base/envs/ark-spatial-dev/lib/python3.11/site-packages/spatialdata/_core/operations/aggregate.py:244: UserWarning: Converting `region_key: region` to categorical dtype.\n",
      "  table = TableModel.parse(table, region=shapes_name, region_key=region_key, instance_key=instance_key)\n",
      "/opt/homebrew/Caskroom/mambaforge/base/envs/ark-spatial-dev/lib/python3.11/site-packages/spatialdata/models/models.py:703: FutureWarning: is_categorical_dtype is deprecated and will be removed in a future version. Use isinstance(dtype, CategoricalDtype) instead\n",
      "  if not is_categorical_dtype(adata.obs[region_key]):\n",
      "/opt/homebrew/Caskroom/mambaforge/base/envs/ark-spatial-dev/lib/python3.11/site-packages/spatialdata/_core/operations/aggregate.py:244: UserWarning: Converting `region_key: region` to categorical dtype.\n",
      "  table = TableModel.parse(table, region=shapes_name, region_key=region_key, instance_key=instance_key)\n",
      "/opt/homebrew/Caskroom/mambaforge/base/envs/ark-spatial-dev/lib/python3.11/site-packages/spatialdata/models/models.py:703: FutureWarning: is_categorical_dtype is deprecated and will be removed in a future version. Use isinstance(dtype, CategoricalDtype) instead\n",
      "  if not is_categorical_dtype(adata.obs[region_key]):\n",
      "/opt/homebrew/Caskroom/mambaforge/base/envs/ark-spatial-dev/lib/python3.11/site-packages/spatialdata/_core/operations/aggregate.py:244: UserWarning: Converting `region_key: region` to categorical dtype.\n",
      "  table = TableModel.parse(table, region=shapes_name, region_key=region_key, instance_key=instance_key)\n",
      "/opt/homebrew/Caskroom/mambaforge/base/envs/ark-spatial-dev/lib/python3.11/site-packages/spatialdata/models/models.py:703: FutureWarning: is_categorical_dtype is deprecated and will be removed in a future version. Use isinstance(dtype, CategoricalDtype) instead\n",
      "  if not is_categorical_dtype(adata.obs[region_key]):\n",
      "/opt/homebrew/Caskroom/mambaforge/base/envs/ark-spatial-dev/lib/python3.11/site-packages/spatialdata/_core/operations/aggregate.py:244: UserWarning: Converting `region_key: region` to categorical dtype.\n",
      "  table = TableModel.parse(table, region=shapes_name, region_key=region_key, instance_key=instance_key)\n",
      "/opt/homebrew/Caskroom/mambaforge/base/envs/ark-spatial-dev/lib/python3.11/site-packages/anndata/_core/merge.py:217: FutureWarning: is_categorical_dtype is deprecated and will be removed in a future version. Use isinstance(dtype, CategoricalDtype) instead\n",
      "  if pd.api.types.is_categorical_dtype(dtype):\n",
      "/opt/homebrew/Caskroom/mambaforge/base/envs/ark-spatial-dev/lib/python3.11/site-packages/anndata/_core/anndata.py:121: ImplicitModificationWarning: Transforming to str index.\n",
      "  warnings.warn(\"Transforming to str index.\", ImplicitModificationWarning)\n",
      "/opt/homebrew/Caskroom/mambaforge/base/envs/ark-spatial-dev/lib/python3.11/site-packages/anndata/_core/anndata.py:1838: UserWarning: Observation names are not unique. To make them unique, call `.obs_names_make_unique`.\n",
      "  utils.warn_names_duplicates(\"obs\")\n"
     ]
    },
    {
     "ename": "ValueError",
     "evalue": "The table already exists. Use del sdata.table to remove it first.",
     "output_type": "error",
     "traceback": [
      "\u001b[0;31m---------------------------------------------------------------------------\u001b[0m",
      "\u001b[0;31mValueError\u001b[0m                                Traceback (most recent call last)",
      "Cell \u001b[0;32mIn[39], line 1\u001b[0m\n\u001b[0;32m----> 1\u001b[0m \u001b[43msdata\u001b[49m\u001b[38;5;241;43m.\u001b[39;49m\u001b[43mmarker_quantification\u001b[49m\u001b[38;5;241;43m.\u001b[39;49m\u001b[43mgenerate_cell_table\u001b[49m\u001b[43m(\u001b[49m\u001b[43m)\u001b[49m\n",
      "File \u001b[0;32m~/Dev/Python/ark/src/ark/core/_segmentation/marker_quantification.py:162\u001b[0m, in \u001b[0;36mMarkerQuantificationAccessor.generate_cell_table\u001b[0;34m(self, nuclear_counts, properties)\u001b[0m\n\u001b[1;32m    160\u001b[0m \u001b[38;5;66;03m# Make the obs index contain all unique values\u001b[39;00m\n\u001b[1;32m    161\u001b[0m cell_table\u001b[38;5;241m.\u001b[39mobs_names_make_unique()\n\u001b[0;32m--> 162\u001b[0m \u001b[38;5;28;43mself\u001b[39;49m\u001b[38;5;241;43m.\u001b[39;49m\u001b[43msdata\u001b[49m\u001b[38;5;241;43m.\u001b[39;49m\u001b[43mtable\u001b[49m \u001b[38;5;241m=\u001b[39m cell_table\n",
      "File \u001b[0;32m/opt/homebrew/Caskroom/mambaforge/base/envs/ark-spatial-dev/lib/python3.11/site-packages/spatialdata/_core/spatialdata.py:1118\u001b[0m, in \u001b[0;36mSpatialData.table\u001b[0;34m(self, table)\u001b[0m\n\u001b[1;32m   1116\u001b[0m TableModel()\u001b[38;5;241m.\u001b[39mvalidate(table)\n\u001b[1;32m   1117\u001b[0m \u001b[38;5;28;01mif\u001b[39;00m \u001b[38;5;28mself\u001b[39m\u001b[38;5;241m.\u001b[39mtable \u001b[38;5;129;01mis\u001b[39;00m \u001b[38;5;129;01mnot\u001b[39;00m \u001b[38;5;28;01mNone\u001b[39;00m:\n\u001b[0;32m-> 1118\u001b[0m     \u001b[38;5;28;01mraise\u001b[39;00m \u001b[38;5;167;01mValueError\u001b[39;00m(\u001b[38;5;124m\"\u001b[39m\u001b[38;5;124mThe table already exists. Use del sdata.table to remove it first.\u001b[39m\u001b[38;5;124m\"\u001b[39m)\n\u001b[1;32m   1119\u001b[0m \u001b[38;5;28mself\u001b[39m\u001b[38;5;241m.\u001b[39m_table \u001b[38;5;241m=\u001b[39m table\n\u001b[1;32m   1120\u001b[0m \u001b[38;5;28;01mif\u001b[39;00m \u001b[38;5;28mself\u001b[39m\u001b[38;5;241m.\u001b[39mis_backed():\n",
      "\u001b[0;31mValueError\u001b[0m: The table already exists. Use del sdata.table to remove it first."
     ]
    }
   ],
   "source": [
    "sdata.marker_quantification.generate_cell_table()"
   ]
  },
  {
   "cell_type": "code",
   "execution_count": null,
   "metadata": {},
   "outputs": [
    {
     "data": {
      "text/plain": [
       "AnnData object with n_obs × n_vars = 32077 × 22\n",
       "    obs: 'x_centroid', 'y_centroid', 'area_convex', 'area', 'axis_major_length', 'equivalent_diameter', 'instance_id', 'axis_minor_length', 'perimeter', 'eccentricity', 'major_minor_axis_ratio', 'perim_square_over_area', 'major_axis_equiv_diam_ratio', 'convex_hull_equiv_diam_ratio', 'centroid_dif', 'num_concavities', 'region'\n",
       "    uns: 'spatialdata_attrs'\n",
       "    obsm: 'spatial'"
      ]
     },
     "execution_count": null,
     "metadata": {},
     "output_type": "execute_result"
    }
   ],
   "source": [
    "sdata.table"
   ]
  }
 ],
 "metadata": {
  "kernelspec": {
   "display_name": "ark-spatial",
   "language": "python",
   "name": "python3"
  },
  "language_info": {
   "codemirror_mode": {
    "name": "ipython",
    "version": 3
   },
   "file_extension": ".py",
   "mimetype": "text/x-python",
   "name": "python",
   "nbconvert_exporter": "python",
   "pygments_lexer": "ipython3"
  }
 },
 "nbformat": 4,
 "nbformat_minor": 2
}
