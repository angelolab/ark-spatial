{
 "cells": [
  {
   "cell_type": "markdown",
   "source": [
    "# Generate the Cell Table"
   ],
   "metadata": {
    "collapsed": false
   }
  },
  {
   "cell_type": "code",
   "execution_count": 1,
   "metadata": {
    "ExecuteTime": {
     "end_time": "2023-10-05T01:18:44.722939Z",
     "start_time": "2023-10-05T01:18:44.712176Z"
    }
   },
   "outputs": [],
   "source": [
    "%load_ext autoreload\n",
    "%autoreload 2"
   ]
  },
  {
   "cell_type": "code",
   "execution_count": 2,
   "metadata": {
    "ExecuteTime": {
     "end_time": "2023-10-05T01:18:49.376133Z",
     "start_time": "2023-10-05T01:18:44.723493Z"
    }
   },
   "outputs": [
    {
     "name": "stderr",
     "output_type": "stream",
     "text": [
      "/opt/homebrew/Caskroom/mambaforge/base/envs/ark-spatial-dev/lib/python3.11/site-packages/distributed/node.py:182: UserWarning: Port 8787 is already in use.\n",
      "Perhaps you already have a cluster running?\n",
      "Hosting the HTTP server on port 62662 instead\n",
      "  warnings.warn(\n",
      "/opt/homebrew/Caskroom/mambaforge/base/envs/ark-spatial-dev/lib/python3.11/site-packages/dask/config.py:742: FutureWarning: Dask configuration key 'shuffle' has been deprecated; please use 'dataframe.shuffle.algorithm' instead\n",
      "  warnings.warn(\n"
     ]
    }
   ],
   "source": [
    "import ark\n",
    "import spatialdata as sd"
   ]
  },
  {
   "cell_type": "code",
   "execution_count": 3,
   "metadata": {
    "ExecuteTime": {
     "end_time": "2023-10-05T01:18:52.897794Z",
     "start_time": "2023-10-05T01:18:51.699085Z"
    }
   },
   "outputs": [],
   "source": [
    "sdata = sd.read_zarr(store=\"../../../data/cohorts/example_cohort.ome.zarr\")"
   ]
  },
  {
   "cell_type": "markdown",
   "source": [
    "View the current SpatialData object."
   ],
   "metadata": {
    "collapsed": false
   }
  },
  {
   "cell_type": "code",
   "execution_count": 4,
   "outputs": [
    {
     "data": {
      "text/plain": "SpatialData object with:\n├── Images\n│     ├── 'fov0': SpatialImage[cyx] (24, 512, 512)\n│     ├── 'fov1': SpatialImage[cyx] (24, 1024, 1024)\n│     ├── 'fov2': SpatialImage[cyx] (24, 1024, 1024)\n│     ├── 'fov3': SpatialImage[cyx] (24, 1024, 1024)\n│     ├── 'fov4': SpatialImage[cyx] (24, 1024, 1024)\n│     ├── 'fov5': SpatialImage[cyx] (24, 1024, 1024)\n│     ├── 'fov6': SpatialImage[cyx] (24, 1024, 1024)\n│     ├── 'fov7': SpatialImage[cyx] (24, 1024, 1024)\n│     ├── 'fov8': SpatialImage[cyx] (24, 1024, 1024)\n│     ├── 'fov9': SpatialImage[cyx] (24, 1024, 1024)\n│     └── 'fov10': SpatialImage[cyx] (24, 1024, 1024)\n└── Labels\n      ├── 'fov0_nuclear': SpatialImage[yx] (512, 512)\n      ├── 'fov0_whole_cell': SpatialImage[yx] (512, 512)\n      ├── 'fov1_nuclear': SpatialImage[yx] (1024, 1024)\n      ├── 'fov1_whole_cell': SpatialImage[yx] (1024, 1024)\n      ├── 'fov2_nuclear': SpatialImage[yx] (1024, 1024)\n      ├── 'fov2_whole_cell': SpatialImage[yx] (1024, 1024)\n      ├── 'fov3_nuclear': SpatialImage[yx] (1024, 1024)\n      ├── 'fov3_whole_cell': SpatialImage[yx] (1024, 1024)\n      ├── 'fov4_nuclear': SpatialImage[yx] (1024, 1024)\n      ├── 'fov4_whole_cell': SpatialImage[yx] (1024, 1024)\n      ├── 'fov5_nuclear': SpatialImage[yx] (1024, 1024)\n      ├── 'fov5_whole_cell': SpatialImage[yx] (1024, 1024)\n      ├── 'fov6_nuclear': SpatialImage[yx] (1024, 1024)\n      ├── 'fov6_whole_cell': SpatialImage[yx] (1024, 1024)\n      ├── 'fov7_nuclear': SpatialImage[yx] (1024, 1024)\n      ├── 'fov7_whole_cell': SpatialImage[yx] (1024, 1024)\n      ├── 'fov8_nuclear': SpatialImage[yx] (1024, 1024)\n      ├── 'fov8_whole_cell': SpatialImage[yx] (1024, 1024)\n      ├── 'fov9_nuclear': SpatialImage[yx] (1024, 1024)\n      ├── 'fov9_whole_cell': SpatialImage[yx] (1024, 1024)\n      ├── 'fov10_nuclear': SpatialImage[yx] (1024, 1024)\n      └── 'fov10_whole_cell': SpatialImage[yx] (1024, 1024)\nwith coordinate systems:\n▸ 'fov0', with elements:\n        fov0 (Images), fov0_nuclear (Labels), fov0_whole_cell (Labels)\n▸ 'fov1', with elements:\n        fov1 (Images), fov1_nuclear (Labels), fov1_whole_cell (Labels)\n▸ 'fov2', with elements:\n        fov2 (Images), fov2_nuclear (Labels), fov2_whole_cell (Labels)\n▸ 'fov3', with elements:\n        fov3 (Images), fov3_nuclear (Labels), fov3_whole_cell (Labels)\n▸ 'fov4', with elements:\n        fov4 (Images), fov4_nuclear (Labels), fov4_whole_cell (Labels)\n▸ 'fov5', with elements:\n        fov5 (Images), fov5_nuclear (Labels), fov5_whole_cell (Labels)\n▸ 'fov6', with elements:\n        fov6 (Images), fov6_nuclear (Labels), fov6_whole_cell (Labels)\n▸ 'fov7', with elements:\n        fov7 (Images), fov7_nuclear (Labels), fov7_whole_cell (Labels)\n▸ 'fov8', with elements:\n        fov8 (Images), fov8_nuclear (Labels), fov8_whole_cell (Labels)\n▸ 'fov9', with elements:\n        fov9 (Images), fov9_nuclear (Labels), fov9_whole_cell (Labels)\n▸ 'fov10', with elements:\n        fov10 (Images), fov10_nuclear (Labels), fov10_whole_cell (Labels)"
     },
     "execution_count": 4,
     "metadata": {},
     "output_type": "execute_result"
    }
   ],
   "source": [
    "sdata"
   ],
   "metadata": {
    "collapsed": false,
    "ExecuteTime": {
     "end_time": "2023-10-05T01:18:55.119645Z",
     "start_time": "2023-10-05T01:18:55.071758Z"
    }
   }
  },
  {
   "cell_type": "markdown",
   "source": [
    "The next cell creates the analog to the cell table. This creates an `AnnData` object, stored in the `table` property for the `Spatialdata` object, which gets written to the Zarr filestore on assignment."
   ],
   "metadata": {
    "collapsed": false
   }
  },
  {
   "cell_type": "code",
   "execution_count": 5,
   "metadata": {
    "ExecuteTime": {
     "end_time": "2023-10-05T01:20:30.019995Z",
     "start_time": "2023-10-05T01:19:03.407735Z"
    }
   },
   "outputs": [
    {
     "name": "stderr",
     "output_type": "stream",
     "text": [
      "2023-10-04 18:19:05,547\tINFO worker.py:1633 -- Started a local Ray instance. View the dashboard at \u001B[1m\u001B[32mhttp://127.0.0.1:8266 \u001B[39m\u001B[22m\n",
      "\u001B[2m\u001B[36m(dask:_compute_marker_counts-544bef9e-9a3c-4d69-9f3e-c485caedd62a pid=41954)\u001B[0m /opt/homebrew/Caskroom/mambaforge/base/envs/ark-spatial-dev/lib/python3.11/site-packages/distributed/node.py:182: UserWarning: Port 8787 is already in use.\n",
      "\u001B[2m\u001B[36m(dask:_compute_marker_counts-544bef9e-9a3c-4d69-9f3e-c485caedd62a pid=41954)\u001B[0m Perhaps you already have a cluster running?\n",
      "\u001B[2m\u001B[36m(dask:_compute_marker_counts-544bef9e-9a3c-4d69-9f3e-c485caedd62a pid=41954)\u001B[0m Hosting the HTTP server on port 62854 instead\n",
      "\u001B[2m\u001B[36m(dask:_compute_marker_counts-544bef9e-9a3c-4d69-9f3e-c485caedd62a pid=41954)\u001B[0m   warnings.warn(\n",
      "\u001B[2m\u001B[36m(dask:_compute_marker_counts-544bef9e-9a3c-4d69-9f3e-c485caedd62a pid=41954)\u001B[0m /opt/homebrew/Caskroom/mambaforge/base/envs/ark-spatial-dev/lib/python3.11/site-packages/dask/config.py:742: FutureWarning: Dask configuration key 'shuffle' has been deprecated; please use 'dataframe.shuffle.algorithm' instead\n",
      "\u001B[2m\u001B[36m(dask:_compute_regionprops-be683fa6-279d-4ef3-8c80-128022fa20b4 pid=41946)\u001B[0m /opt/homebrew/Caskroom/mambaforge/base/envs/ark-spatial-dev/lib/python3.11/site-packages/distributed/node.py:182: UserWarning: Port 8787 is already in use.\u001B[32m [repeated 9x across cluster] (Ray deduplicates logs by default. Set RAY_DEDUP_LOGS=0 to disable log deduplication, or see https://docs.ray.io/en/master/ray-observability/ray-logging.html#log-deduplication for more options.)\u001B[0m\n",
      "\u001B[2m\u001B[36m(dask:_compute_regionprops-be683fa6-279d-4ef3-8c80-128022fa20b4 pid=41946)\u001B[0m Perhaps you already have a cluster running?\u001B[32m [repeated 9x across cluster]\u001B[0m\n",
      "\u001B[2m\u001B[36m(dask:_compute_regionprops-be683fa6-279d-4ef3-8c80-128022fa20b4 pid=41946)\u001B[0m Hosting the HTTP server on port 63033 instead\u001B[32m [repeated 9x across cluster]\u001B[0m\n",
      "\u001B[2m\u001B[36m(dask:_compute_marker_counts-544bef9e-9a3c-4d69-9f3e-c485caedd62a pid=41954)\u001B[0m   warnings.warn(\u001B[32m [repeated 10x across cluster]\u001B[0m\n",
      "\u001B[2m\u001B[36m(dask:_compute_regionprops-be683fa6-279d-4ef3-8c80-128022fa20b4 pid=41946)\u001B[0m /opt/homebrew/Caskroom/mambaforge/base/envs/ark-spatial-dev/lib/python3.11/site-packages/dask/config.py:742: FutureWarning: Dask configuration key 'shuffle' has been deprecated; please use 'dataframe.shuffle.algorithm' instead\u001B[32m [repeated 9x across cluster]\u001B[0m\n",
      "\u001B[2m\u001B[36m(dask:_compute_regionprops-200f04e6-41e4-419e-948e-6d4c770434c5 pid=42134)\u001B[0m /opt/homebrew/Caskroom/mambaforge/base/envs/ark-spatial-dev/lib/python3.11/site-packages/distributed/node.py:182: UserWarning: Port 8787 is already in use.\n",
      "\u001B[2m\u001B[36m(dask:_compute_regionprops-200f04e6-41e4-419e-948e-6d4c770434c5 pid=42134)\u001B[0m Perhaps you already have a cluster running?\n",
      "\u001B[2m\u001B[36m(dask:_compute_regionprops-200f04e6-41e4-419e-948e-6d4c770434c5 pid=42134)\u001B[0m Hosting the HTTP server on port 63480 instead\n",
      "\u001B[2m\u001B[36m(dask:_compute_regionprops-200f04e6-41e4-419e-948e-6d4c770434c5 pid=42134)\u001B[0m   warnings.warn(\u001B[32m [repeated 10x across cluster]\u001B[0m\n",
      "\u001B[2m\u001B[36m(dask:_compute_regionprops-d2c1731e-6a93-48c6-b6d8-62b070926407 pid=42116)\u001B[0m /opt/homebrew/Caskroom/mambaforge/base/envs/ark-spatial-dev/lib/python3.11/site-packages/distributed/node.py:182: UserWarning: Port 8787 is already in use.\n",
      "\u001B[2m\u001B[36m(dask:_compute_regionprops-d2c1731e-6a93-48c6-b6d8-62b070926407 pid=42116)\u001B[0m Perhaps you already have a cluster running?\n",
      "\u001B[2m\u001B[36m(dask:_compute_regionprops-d2c1731e-6a93-48c6-b6d8-62b070926407 pid=42116)\u001B[0m Hosting the HTTP server on port 63481 instead\n",
      "\u001B[2m\u001B[36m(dask:_compute_regionprops-d2c1731e-6a93-48c6-b6d8-62b070926407 pid=42116)\u001B[0m /opt/homebrew/Caskroom/mambaforge/base/envs/ark-spatial-dev/lib/python3.11/site-packages/dask/config.py:742: FutureWarning: Dask configuration key 'shuffle' has been deprecated; please use 'dataframe.shuffle.algorithm' instead\n",
      "\u001B[2m\u001B[36m(dask:_compute_regionprops-d2c1731e-6a93-48c6-b6d8-62b070926407 pid=42116)\u001B[0m   warnings.warn(\u001B[32m [repeated 4x across cluster]\u001B[0m\n",
      "\u001B[2m\u001B[36m(dask:_compute_regionprops-80a4db17-7f37-4fc5-bbac-1aa738187946 pid=42132)\u001B[0m /opt/homebrew/Caskroom/mambaforge/base/envs/ark-spatial-dev/lib/python3.11/site-packages/distributed/node.py:182: UserWarning: Port 8787 is already in use.\u001B[32m [repeated 2x across cluster]\u001B[0m\n",
      "\u001B[2m\u001B[36m(dask:_compute_regionprops-80a4db17-7f37-4fc5-bbac-1aa738187946 pid=42132)\u001B[0m Perhaps you already have a cluster running?\u001B[32m [repeated 2x across cluster]\u001B[0m\n",
      "\u001B[2m\u001B[36m(dask:_compute_regionprops-80a4db17-7f37-4fc5-bbac-1aa738187946 pid=42132)\u001B[0m Hosting the HTTP server on port 63561 instead\u001B[32m [repeated 2x across cluster]\u001B[0m\n",
      "\u001B[2m\u001B[36m(dask:_compute_regionprops-200f04e6-41e4-419e-948e-6d4c770434c5 pid=42134)\u001B[0m /opt/homebrew/Caskroom/mambaforge/base/envs/ark-spatial-dev/lib/python3.11/site-packages/dask/config.py:742: FutureWarning: Dask configuration key 'shuffle' has been deprecated; please use 'dataframe.shuffle.algorithm' instead\n",
      "\u001B[2m\u001B[36m(dask:_compute_marker_counts-c6dc7748-43b4-4383-9ea3-c766c9640ab5 pid=42130)\u001B[0m   warnings.warn(\u001B[32m [repeated 5x across cluster]\u001B[0m\n",
      "\u001B[2m\u001B[36m(dask:_compute_marker_counts-c6dc7748-43b4-4383-9ea3-c766c9640ab5 pid=42130)\u001B[0m /opt/homebrew/Caskroom/mambaforge/base/envs/ark-spatial-dev/lib/python3.11/site-packages/distributed/node.py:182: UserWarning: Port 8787 is already in use.\n",
      "\u001B[2m\u001B[36m(dask:_compute_marker_counts-c6dc7748-43b4-4383-9ea3-c766c9640ab5 pid=42130)\u001B[0m Perhaps you already have a cluster running?\n",
      "\u001B[2m\u001B[36m(dask:_compute_marker_counts-c6dc7748-43b4-4383-9ea3-c766c9640ab5 pid=42130)\u001B[0m Hosting the HTTP server on port 63729 instead\n",
      "\u001B[2m\u001B[36m(dask:_compute_marker_counts-c6dc7748-43b4-4383-9ea3-c766c9640ab5 pid=42130)\u001B[0m /opt/homebrew/Caskroom/mambaforge/base/envs/ark-spatial-dev/lib/python3.11/site-packages/dask/config.py:742: FutureWarning: Dask configuration key 'shuffle' has been deprecated; please use 'dataframe.shuffle.algorithm' instead\u001B[32m [repeated 3x across cluster]\u001B[0m\n",
      "\u001B[2m\u001B[36m(dask:_compute_regionprops-edaa1f26-1788-4480-abd6-9f28b2b8cd94 pid=42133)\u001B[0m /opt/homebrew/Caskroom/mambaforge/base/envs/ark-spatial-dev/lib/python3.11/site-packages/distributed/node.py:182: UserWarning: Port 8787 is already in use.\n",
      "\u001B[2m\u001B[36m(dask:_compute_regionprops-edaa1f26-1788-4480-abd6-9f28b2b8cd94 pid=42133)\u001B[0m Perhaps you already have a cluster running?\n",
      "\u001B[2m\u001B[36m(dask:_compute_regionprops-edaa1f26-1788-4480-abd6-9f28b2b8cd94 pid=42133)\u001B[0m Hosting the HTTP server on port 63857 instead\n",
      "\u001B[2m\u001B[36m(dask:_compute_regionprops-edaa1f26-1788-4480-abd6-9f28b2b8cd94 pid=42133)\u001B[0m   warnings.warn(\u001B[32m [repeated 2x across cluster]\u001B[0m\n",
      "\u001B[2m\u001B[36m(dask:_compute_regionprops-edaa1f26-1788-4480-abd6-9f28b2b8cd94 pid=42133)\u001B[0m /opt/homebrew/Caskroom/mambaforge/base/envs/ark-spatial-dev/lib/python3.11/site-packages/dask/config.py:742: FutureWarning: Dask configuration key 'shuffle' has been deprecated; please use 'dataframe.shuffle.algorithm' instead\n",
      "\u001B[2m\u001B[36m(dask:_compute_marker_counts-4f92a1a3-07a0-464a-9418-92a8b41b05bd pid=41948)\u001B[0m /opt/homebrew/Caskroom/mambaforge/base/envs/ark-spatial-dev/lib/python3.11/site-packages/spatialdata/models/models.py:725: FutureWarning: is_categorical_dtype is deprecated and will be removed in a future version. Use isinstance(dtype, CategoricalDtype) instead\n",
      "\u001B[2m\u001B[36m(dask:_compute_marker_counts-4f92a1a3-07a0-464a-9418-92a8b41b05bd pid=41948)\u001B[0m   if not is_categorical_dtype(adata.obs[region_key]):\n",
      "\u001B[2m\u001B[36m(dask:_compute_marker_counts-4f92a1a3-07a0-464a-9418-92a8b41b05bd pid=41948)\u001B[0m /opt/homebrew/Caskroom/mambaforge/base/envs/ark-spatial-dev/lib/python3.11/site-packages/spatialdata/_core/operations/aggregate.py:244: UserWarning: Converting `region_key: region` to categorical dtype.\n",
      "\u001B[2m\u001B[36m(dask:_compute_marker_counts-4f92a1a3-07a0-464a-9418-92a8b41b05bd pid=41948)\u001B[0m   table = TableModel.parse(table, region=shapes_name, region_key=region_key, instance_key=instance_key)\n",
      "\u001B[2m\u001B[36m(dask:_compute_marker_counts-6e69c963-dd3a-4ced-a133-0e451887b184 pid=41950)\u001B[0m /opt/homebrew/Caskroom/mambaforge/base/envs/ark-spatial-dev/lib/python3.11/site-packages/spatialdata/models/models.py:725: FutureWarning: is_categorical_dtype is deprecated and will be removed in a future version. Use isinstance(dtype, CategoricalDtype) instead\u001B[32m [repeated 3x across cluster]\u001B[0m\n",
      "\u001B[2m\u001B[36m(dask:_compute_marker_counts-6e69c963-dd3a-4ced-a133-0e451887b184 pid=41950)\u001B[0m   if not is_categorical_dtype(adata.obs[region_key]):\u001B[32m [repeated 3x across cluster]\u001B[0m\n",
      "\u001B[2m\u001B[36m(dask:_compute_marker_counts-6e69c963-dd3a-4ced-a133-0e451887b184 pid=41950)\u001B[0m /opt/homebrew/Caskroom/mambaforge/base/envs/ark-spatial-dev/lib/python3.11/site-packages/spatialdata/_core/operations/aggregate.py:244: UserWarning: Converting `region_key: region` to categorical dtype.\u001B[32m [repeated 3x across cluster]\u001B[0m\n",
      "\u001B[2m\u001B[36m(dask:_compute_marker_counts-6e69c963-dd3a-4ced-a133-0e451887b184 pid=41950)\u001B[0m   table = TableModel.parse(table, region=shapes_name, region_key=region_key, instance_key=instance_key)\u001B[32m [repeated 3x across cluster]\u001B[0m\n",
      "\u001B[2m\u001B[36m(dask:_compute_fov_table-f79d91a5-89d7-4583-a5bf-8acb30d54358 pid=42275)\u001B[0m /opt/homebrew/Caskroom/mambaforge/base/envs/ark-spatial-dev/lib/python3.11/site-packages/distributed/node.py:182: UserWarning: Port 8787 is already in use.\n",
      "\u001B[2m\u001B[36m(dask:_compute_fov_table-f79d91a5-89d7-4583-a5bf-8acb30d54358 pid=42275)\u001B[0m Perhaps you already have a cluster running?\n",
      "\u001B[2m\u001B[36m(dask:_compute_fov_table-f79d91a5-89d7-4583-a5bf-8acb30d54358 pid=42275)\u001B[0m Hosting the HTTP server on port 64066 instead\n",
      "\u001B[2m\u001B[36m(dask:_compute_fov_table-f79d91a5-89d7-4583-a5bf-8acb30d54358 pid=42275)\u001B[0m   warnings.warn(\n",
      "\u001B[2m\u001B[36m(dask:_compute_fov_table-f79d91a5-89d7-4583-a5bf-8acb30d54358 pid=42275)\u001B[0m /opt/homebrew/Caskroom/mambaforge/base/envs/ark-spatial-dev/lib/python3.11/site-packages/dask/config.py:742: FutureWarning: Dask configuration key 'shuffle' has been deprecated; please use 'dataframe.shuffle.algorithm' instead\n",
      "\u001B[2m\u001B[36m(dask:_compute_marker_counts-69af8dac-4b58-4335-838c-e6b79592d448 pid=41952)\u001B[0m /opt/homebrew/Caskroom/mambaforge/base/envs/ark-spatial-dev/lib/python3.11/site-packages/spatialdata/models/models.py:725: FutureWarning: is_categorical_dtype is deprecated and will be removed in a future version. Use isinstance(dtype, CategoricalDtype) instead\u001B[32m [repeated 2x across cluster]\u001B[0m\n",
      "\u001B[2m\u001B[36m(dask:_compute_marker_counts-69af8dac-4b58-4335-838c-e6b79592d448 pid=41952)\u001B[0m   if not is_categorical_dtype(adata.obs[region_key]):\u001B[32m [repeated 2x across cluster]\u001B[0m\n",
      "\u001B[2m\u001B[36m(dask:_compute_marker_counts-69af8dac-4b58-4335-838c-e6b79592d448 pid=41952)\u001B[0m /opt/homebrew/Caskroom/mambaforge/base/envs/ark-spatial-dev/lib/python3.11/site-packages/spatialdata/_core/operations/aggregate.py:244: UserWarning: Converting `region_key: region` to categorical dtype.\u001B[32m [repeated 2x across cluster]\u001B[0m\n",
      "\u001B[2m\u001B[36m(dask:_compute_marker_counts-69af8dac-4b58-4335-838c-e6b79592d448 pid=41952)\u001B[0m   table = TableModel.parse(table, region=shapes_name, region_key=region_key, instance_key=instance_key)\u001B[32m [repeated 2x across cluster]\u001B[0m\n",
      "\u001B[2m\u001B[36m(dask:_compute_fov_table-72c48017-17b0-4b23-912b-f2992a65e9d5 pid=42226)\u001B[0m /opt/homebrew/Caskroom/mambaforge/base/envs/ark-spatial-dev/lib/python3.11/site-packages/distributed/node.py:182: UserWarning: Port 8787 is already in use.\n",
      "\u001B[2m\u001B[36m(dask:_compute_fov_table-72c48017-17b0-4b23-912b-f2992a65e9d5 pid=42226)\u001B[0m Perhaps you already have a cluster running?\n",
      "\u001B[2m\u001B[36m(dask:_compute_fov_table-72c48017-17b0-4b23-912b-f2992a65e9d5 pid=42226)\u001B[0m Hosting the HTTP server on port 64113 instead\n",
      "\u001B[2m\u001B[36m(dask:_compute_fov_table-72c48017-17b0-4b23-912b-f2992a65e9d5 pid=42226)\u001B[0m   warnings.warn(\u001B[32m [repeated 3x across cluster]\u001B[0m\n",
      "\u001B[2m\u001B[36m(dask:compute_region_props_df-f0767df5-d33a-4189-8ce1-91dcabe568e8 pid=42291)\u001B[0m /opt/homebrew/Caskroom/mambaforge/base/envs/ark-spatial-dev/lib/python3.11/site-packages/distributed/node.py:182: UserWarning: Port 8787 is already in use.\n",
      "\u001B[2m\u001B[36m(dask:compute_region_props_df-f0767df5-d33a-4189-8ce1-91dcabe568e8 pid=42291)\u001B[0m Perhaps you already have a cluster running?\n",
      "\u001B[2m\u001B[36m(dask:compute_region_props_df-f0767df5-d33a-4189-8ce1-91dcabe568e8 pid=42291)\u001B[0m Hosting the HTTP server on port 64203 instead\n",
      "\u001B[2m\u001B[36m(dask:_compute_fov_table-72c48017-17b0-4b23-912b-f2992a65e9d5 pid=42226)\u001B[0m /opt/homebrew/Caskroom/mambaforge/base/envs/ark-spatial-dev/lib/python3.11/site-packages/dask/config.py:742: FutureWarning: Dask configuration key 'shuffle' has been deprecated; please use 'dataframe.shuffle.algorithm' instead\n",
      "\u001B[2m\u001B[36m(dask:compute_region_props_df-f0767df5-d33a-4189-8ce1-91dcabe568e8 pid=42291)\u001B[0m /opt/homebrew/Caskroom/mambaforge/base/envs/ark-spatial-dev/lib/python3.11/site-packages/dask/config.py:742: FutureWarning: Dask configuration key 'shuffle' has been deprecated; please use 'dataframe.shuffle.algorithm' instead\n",
      "\u001B[2m\u001B[36m(dask:_compute_marker_counts-062d7217-73e6-43d8-8573-0eef145ca686 pid=41951)\u001B[0m /opt/homebrew/Caskroom/mambaforge/base/envs/ark-spatial-dev/lib/python3.11/site-packages/spatialdata/models/models.py:725: FutureWarning: is_categorical_dtype is deprecated and will be removed in a future version. Use isinstance(dtype, CategoricalDtype) instead\u001B[32m [repeated 2x across cluster]\u001B[0m\n",
      "\u001B[2m\u001B[36m(dask:_compute_marker_counts-062d7217-73e6-43d8-8573-0eef145ca686 pid=41951)\u001B[0m   if not is_categorical_dtype(adata.obs[region_key]):\u001B[32m [repeated 2x across cluster]\u001B[0m\n",
      "\u001B[2m\u001B[36m(dask:_compute_marker_counts-062d7217-73e6-43d8-8573-0eef145ca686 pid=41951)\u001B[0m /opt/homebrew/Caskroom/mambaforge/base/envs/ark-spatial-dev/lib/python3.11/site-packages/spatialdata/_core/operations/aggregate.py:244: UserWarning: Converting `region_key: region` to categorical dtype.\u001B[32m [repeated 2x across cluster]\u001B[0m\n",
      "\u001B[2m\u001B[36m(dask:_compute_marker_counts-062d7217-73e6-43d8-8573-0eef145ca686 pid=41951)\u001B[0m   table = TableModel.parse(table, region=shapes_name, region_key=region_key, instance_key=instance_key)\u001B[32m [repeated 2x across cluster]\u001B[0m\n",
      "\u001B[2m\u001B[36m(dask:compute_region_props_df-f0767df5-d33a-4189-8ce1-91dcabe568e8 pid=42291)\u001B[0m   warnings.warn(\u001B[32m [repeated 3x across cluster]\u001B[0m\n",
      "\u001B[2m\u001B[36m(dask:compute_region_props_df-b50bc702-f3b1-4a83-96ca-ac77406fc180 pid=42330)\u001B[0m /opt/homebrew/Caskroom/mambaforge/base/envs/ark-spatial-dev/lib/python3.11/site-packages/distributed/node.py:182: UserWarning: Port 8787 is already in use.\n",
      "\u001B[2m\u001B[36m(dask:compute_region_props_df-b50bc702-f3b1-4a83-96ca-ac77406fc180 pid=42330)\u001B[0m Perhaps you already have a cluster running?\n",
      "\u001B[2m\u001B[36m(dask:compute_region_props_df-b50bc702-f3b1-4a83-96ca-ac77406fc180 pid=42330)\u001B[0m Hosting the HTTP server on port 64233 instead\n",
      "\u001B[2m\u001B[36m(dask:_compute_fov_table-72c48017-17b0-4b23-912b-f2992a65e9d5 pid=42226)\u001B[0m 2023-10-04 18:20:17,236 - distributed.worker - ERROR - Failed to communicate with scheduler during heartbeat.\n",
      "\u001B[2m\u001B[36m(dask:_compute_fov_table-72c48017-17b0-4b23-912b-f2992a65e9d5 pid=42226)\u001B[0m Traceback (most recent call last):\n",
      "\u001B[2m\u001B[36m(dask:_compute_fov_table-72c48017-17b0-4b23-912b-f2992a65e9d5 pid=42226)\u001B[0m   File \"/opt/homebrew/Caskroom/mambaforge/base/envs/ark-spatial-dev/lib/python3.11/site-packages/distributed/comm/tcp.py\", line 224, in read\n",
      "\u001B[2m\u001B[36m(dask:_compute_fov_table-72c48017-17b0-4b23-912b-f2992a65e9d5 pid=42226)\u001B[0m     frames_nbytes = await stream.read_bytes(fmt_size)\n",
      "\u001B[2m\u001B[36m(dask:_compute_fov_table-72c48017-17b0-4b23-912b-f2992a65e9d5 pid=42226)\u001B[0m                     ^^^^^^^^^^^^^^^^^^^^^^^^^^^^^^^^^\n",
      "\u001B[2m\u001B[36m(dask:_compute_fov_table-72c48017-17b0-4b23-912b-f2992a65e9d5 pid=42226)\u001B[0m tornado.iostream.StreamClosedError: Stream is closed\n",
      "\u001B[2m\u001B[36m(dask:_compute_fov_table-72c48017-17b0-4b23-912b-f2992a65e9d5 pid=42226)\u001B[0m \n",
      "\u001B[2m\u001B[36m(dask:_compute_fov_table-72c48017-17b0-4b23-912b-f2992a65e9d5 pid=42226)\u001B[0m The above exception was the direct cause of the following exception:\n",
      "\u001B[2m\u001B[36m(dask:_compute_fov_table-72c48017-17b0-4b23-912b-f2992a65e9d5 pid=42226)\u001B[0m \n",
      "\u001B[2m\u001B[36m(dask:_compute_fov_table-72c48017-17b0-4b23-912b-f2992a65e9d5 pid=42226)\u001B[0m Traceback (most recent call last):\n",
      "\u001B[2m\u001B[36m(dask:_compute_fov_table-72c48017-17b0-4b23-912b-f2992a65e9d5 pid=42226)\u001B[0m   File \"/opt/homebrew/Caskroom/mambaforge/base/envs/ark-spatial-dev/lib/python3.11/site-packages/distributed/worker.py\", line 1253, in heartbeat\n",
      "\u001B[2m\u001B[36m(dask:_compute_fov_table-72c48017-17b0-4b23-912b-f2992a65e9d5 pid=42226)\u001B[0m     response = await retry_operation(\n",
      "\u001B[2m\u001B[36m(dask:_compute_fov_table-72c48017-17b0-4b23-912b-f2992a65e9d5 pid=42226)\u001B[0m                ^^^^^^^^^^^^^^^^^^^^^^\n",
      "\u001B[2m\u001B[36m(dask:_compute_fov_table-72c48017-17b0-4b23-912b-f2992a65e9d5 pid=42226)\u001B[0m   File \"/opt/homebrew/Caskroom/mambaforge/base/envs/ark-spatial-dev/lib/python3.11/site-packages/distributed/utils_comm.py\", line 454, in retry_operation\n",
      "\u001B[2m\u001B[36m(dask:_compute_fov_table-72c48017-17b0-4b23-912b-f2992a65e9d5 pid=42226)\u001B[0m     return await retry(\n",
      "\u001B[2m\u001B[36m(dask:_compute_fov_table-72c48017-17b0-4b23-912b-f2992a65e9d5 pid=42226)\u001B[0m            ^^^^^^^^^^^^\n",
      "\u001B[2m\u001B[36m(dask:_compute_fov_table-72c48017-17b0-4b23-912b-f2992a65e9d5 pid=42226)\u001B[0m   File \"/opt/homebrew/Caskroom/mambaforge/base/envs/ark-spatial-dev/lib/python3.11/site-packages/distributed/utils_comm.py\", line 433, in retry\n",
      "\u001B[2m\u001B[36m(dask:_compute_fov_table-72c48017-17b0-4b23-912b-f2992a65e9d5 pid=42226)\u001B[0m     return await coro()\n",
      "\u001B[2m\u001B[36m(dask:_compute_fov_table-72c48017-17b0-4b23-912b-f2992a65e9d5 pid=42226)\u001B[0m            ^^^^^^^^^^^^\n",
      "\u001B[2m\u001B[36m(dask:_compute_fov_table-72c48017-17b0-4b23-912b-f2992a65e9d5 pid=42226)\u001B[0m   File \"/opt/homebrew/Caskroom/mambaforge/base/envs/ark-spatial-dev/lib/python3.11/site-packages/distributed/core.py\", line 1347, in send_recv_from_rpc\n",
      "\u001B[2m\u001B[36m(dask:_compute_fov_table-72c48017-17b0-4b23-912b-f2992a65e9d5 pid=42226)\u001B[0m     return await send_recv(comm=comm, op=key, **kwargs)\n",
      "\u001B[2m\u001B[36m(dask:_compute_fov_table-72c48017-17b0-4b23-912b-f2992a65e9d5 pid=42226)\u001B[0m            ^^^^^^^^^^^^^^^^^^^^^^^^^^^^^^^^^^^^^^^^^^^^\n",
      "\u001B[2m\u001B[36m(dask:_compute_fov_table-72c48017-17b0-4b23-912b-f2992a65e9d5 pid=42226)\u001B[0m   File \"/opt/homebrew/Caskroom/mambaforge/base/envs/ark-spatial-dev/lib/python3.11/site-packages/distributed/core.py\", line 1106, in send_recv\n",
      "\u001B[2m\u001B[36m(dask:_compute_fov_table-72c48017-17b0-4b23-912b-f2992a65e9d5 pid=42226)\u001B[0m     response = await comm.read(deserializers=deserializers)\n",
      "\u001B[2m\u001B[36m(dask:_compute_fov_table-72c48017-17b0-4b23-912b-f2992a65e9d5 pid=42226)\u001B[0m                ^^^^^^^^^^^^^^^^^^^^^^^^^^^^^^^^^^^^^^^^^^^^\n",
      "\u001B[2m\u001B[36m(dask:_compute_fov_table-72c48017-17b0-4b23-912b-f2992a65e9d5 pid=42226)\u001B[0m   File \"/opt/homebrew/Caskroom/mambaforge/base/envs/ark-spatial-dev/lib/python3.11/site-packages/distributed/comm/tcp.py\", line 240, in read\n",
      "\u001B[2m\u001B[36m(dask:_compute_fov_table-72c48017-17b0-4b23-912b-f2992a65e9d5 pid=42226)\u001B[0m     convert_stream_closed_error(self, e)\n",
      "\u001B[2m\u001B[36m(dask:_compute_fov_table-72c48017-17b0-4b23-912b-f2992a65e9d5 pid=42226)\u001B[0m   File \"/opt/homebrew/Caskroom/mambaforge/base/envs/ark-spatial-dev/lib/python3.11/site-packages/distributed/comm/tcp.py\", line 143, in convert_stream_closed_error\n",
      "\u001B[2m\u001B[36m(dask:_compute_fov_table-72c48017-17b0-4b23-912b-f2992a65e9d5 pid=42226)\u001B[0m     raise CommClosedError(f\"in {obj}: {exc}\") from exc\n",
      "\u001B[2m\u001B[36m(dask:_compute_fov_table-72c48017-17b0-4b23-912b-f2992a65e9d5 pid=42226)\u001B[0m distributed.comm.core.CommClosedError: in <TCP (closed) ConnectionPool.heartbeat_worker local=tcp://127.0.0.1:64191 remote=tcp://127.0.0.1:64114>: Stream is closed\n",
      "\u001B[2m\u001B[36m(dask:compute_region_props_df-b50bc702-f3b1-4a83-96ca-ac77406fc180 pid=42330)\u001B[0m /opt/homebrew/Caskroom/mambaforge/base/envs/ark-spatial-dev/lib/python3.11/site-packages/dask/config.py:742: FutureWarning: Dask configuration key 'shuffle' has been deprecated; please use 'dataframe.shuffle.algorithm' instead\n",
      "\u001B[2m\u001B[36m(dask:_compute_marker_counts-b8c4d7eb-7e44-41a8-92c2-81daff668f85 pid=42138)\u001B[0m /opt/homebrew/Caskroom/mambaforge/base/envs/ark-spatial-dev/lib/python3.11/site-packages/spatialdata/models/models.py:725: FutureWarning: is_categorical_dtype is deprecated and will be removed in a future version. Use isinstance(dtype, CategoricalDtype) instead\u001B[32m [repeated 2x across cluster]\u001B[0m\n",
      "\u001B[2m\u001B[36m(dask:_compute_marker_counts-b8c4d7eb-7e44-41a8-92c2-81daff668f85 pid=42138)\u001B[0m   if not is_categorical_dtype(adata.obs[region_key]):\u001B[32m [repeated 2x across cluster]\u001B[0m\n",
      "\u001B[2m\u001B[36m(dask:_compute_marker_counts-b8c4d7eb-7e44-41a8-92c2-81daff668f85 pid=42138)\u001B[0m /opt/homebrew/Caskroom/mambaforge/base/envs/ark-spatial-dev/lib/python3.11/site-packages/spatialdata/_core/operations/aggregate.py:244: UserWarning: Converting `region_key: region` to categorical dtype.\u001B[32m [repeated 2x across cluster]\u001B[0m\n",
      "\u001B[2m\u001B[36m(dask:_compute_marker_counts-b8c4d7eb-7e44-41a8-92c2-81daff668f85 pid=42138)\u001B[0m   table = TableModel.parse(table, region=shapes_name, region_key=region_key, instance_key=instance_key)\u001B[32m [repeated 2x across cluster]\u001B[0m\n",
      "\u001B[2m\u001B[36m(dask:compute_region_props_df-b50bc702-f3b1-4a83-96ca-ac77406fc180 pid=42330)\u001B[0m   warnings.warn(\n",
      "\u001B[2m\u001B[36m(dask:compute_region_props_df-4d9eb56c-18c5-4f14-83eb-bc24f10eca41 pid=42395)\u001B[0m /opt/homebrew/Caskroom/mambaforge/base/envs/ark-spatial-dev/lib/python3.11/site-packages/distributed/node.py:182: UserWarning: Port 8787 is already in use.\n",
      "\u001B[2m\u001B[36m(dask:compute_region_props_df-4d9eb56c-18c5-4f14-83eb-bc24f10eca41 pid=42395)\u001B[0m Perhaps you already have a cluster running?\n",
      "\u001B[2m\u001B[36m(dask:compute_region_props_df-4d9eb56c-18c5-4f14-83eb-bc24f10eca41 pid=42395)\u001B[0m Hosting the HTTP server on port 64372 instead\n",
      "\u001B[2m\u001B[36m(dask:compute_region_props_df-4d9eb56c-18c5-4f14-83eb-bc24f10eca41 pid=42395)\u001B[0m   warnings.warn(\n",
      "\u001B[2m\u001B[36m(dask:compute_region_props_df-4d9eb56c-18c5-4f14-83eb-bc24f10eca41 pid=42395)\u001B[0m /opt/homebrew/Caskroom/mambaforge/base/envs/ark-spatial-dev/lib/python3.11/site-packages/dask/config.py:742: FutureWarning: Dask configuration key 'shuffle' has been deprecated; please use 'dataframe.shuffle.algorithm' instead\n",
      "\u001B[2m\u001B[36m(dask:compute_region_props_df-4d9eb56c-18c5-4f14-83eb-bc24f10eca41 pid=42395)\u001B[0m   warnings.warn(\n",
      "\u001B[2m\u001B[36m(dask:_compute_marker_counts-e600a936-3274-49aa-8305-8966a24c23b6 pid=42132)\u001B[0m /opt/homebrew/Caskroom/mambaforge/base/envs/ark-spatial-dev/lib/python3.11/site-packages/spatialdata/models/models.py:725: FutureWarning: is_categorical_dtype is deprecated and will be removed in a future version. Use isinstance(dtype, CategoricalDtype) instead\n",
      "\u001B[2m\u001B[36m(dask:_compute_marker_counts-e600a936-3274-49aa-8305-8966a24c23b6 pid=42132)\u001B[0m   if not is_categorical_dtype(adata.obs[region_key]):\n",
      "\u001B[2m\u001B[36m(dask:_compute_marker_counts-e600a936-3274-49aa-8305-8966a24c23b6 pid=42132)\u001B[0m /opt/homebrew/Caskroom/mambaforge/base/envs/ark-spatial-dev/lib/python3.11/site-packages/spatialdata/_core/operations/aggregate.py:244: UserWarning: Converting `region_key: region` to categorical dtype.\n",
      "\u001B[2m\u001B[36m(dask:_compute_marker_counts-e600a936-3274-49aa-8305-8966a24c23b6 pid=42132)\u001B[0m   table = TableModel.parse(table, region=shapes_name, region_key=region_key, instance_key=instance_key)\n",
      "\u001B[2m\u001B[36m(dask:compute_region_props_df-1a3d0c2a-0c6e-44c5-8936-fdd4be8c7d9c pid=42384)\u001B[0m /opt/homebrew/Caskroom/mambaforge/base/envs/ark-spatial-dev/lib/python3.11/site-packages/distributed/node.py:182: UserWarning: Port 8787 is already in use.\n",
      "\u001B[2m\u001B[36m(dask:compute_region_props_df-1a3d0c2a-0c6e-44c5-8936-fdd4be8c7d9c pid=42384)\u001B[0m Perhaps you already have a cluster running?\n",
      "\u001B[2m\u001B[36m(dask:compute_region_props_df-1a3d0c2a-0c6e-44c5-8936-fdd4be8c7d9c pid=42384)\u001B[0m Hosting the HTTP server on port 64437 instead\n",
      "\u001B[2m\u001B[36m(dask:compute_region_props_df-1a3d0c2a-0c6e-44c5-8936-fdd4be8c7d9c pid=42384)\u001B[0m   warnings.warn(\u001B[32m [repeated 2x across cluster]\u001B[0m\n",
      "/opt/homebrew/Caskroom/mambaforge/base/envs/ark-spatial-dev/lib/python3.11/site-packages/anndata/_core/merge.py:217: FutureWarning: is_categorical_dtype is deprecated and will be removed in a future version. Use isinstance(dtype, CategoricalDtype) instead\n",
      "  if pd.api.types.is_categorical_dtype(dtype):\n",
      "/opt/homebrew/Caskroom/mambaforge/base/envs/ark-spatial-dev/lib/python3.11/site-packages/anndata/_core/anndata.py:121: ImplicitModificationWarning: Transforming to str index.\n",
      "  warnings.warn(\"Transforming to str index.\", ImplicitModificationWarning)\n",
      "/opt/homebrew/Caskroom/mambaforge/base/envs/ark-spatial-dev/lib/python3.11/site-packages/anndata/_core/anndata.py:1838: UserWarning: Observation names are not unique. To make them unique, call `.obs_names_make_unique`.\n",
      "  utils.warn_names_duplicates(\"obs\")\n",
      "/opt/homebrew/Caskroom/mambaforge/base/envs/ark-spatial-dev/lib/python3.11/site-packages/spatialdata/_io/format.py:169: FutureWarning: is_categorical_dtype is deprecated and will be removed in a future version. Use isinstance(dtype, CategoricalDtype) instead\n",
      "  if region_key is not None and not is_categorical_dtype(table.obs[region_key]):\n"
     ]
    }
   ],
   "source": [
    "sdata.marker_quantification.generate_cell_table()"
   ]
  },
  {
   "cell_type": "markdown",
   "source": [
    "## Visualize the `SpatialData` object with Napari\n",
    "\n",
    "We can view the contents of the object using Napari.\n",
    "\n"
   ],
   "metadata": {
    "collapsed": false
   }
  },
  {
   "cell_type": "code",
   "execution_count": 6,
   "outputs": [
    {
     "data": {
      "text/plain": "AnnData object with n_obs × n_vars = 32077 × 24\n    obs: 'eccentricity', 'equivalent_diameter', 'area_convex', 'perimeter', 'axis_minor_length', 'axis_major_length', 'area', 'x_centroid', 'y_centroid', 'instance_id', 'major_minor_axis_ratio', 'perim_square_over_area', 'major_axis_equiv_diam_ratio', 'convex_hull_equiv_diam_ratio', 'centroid_dif', 'num_concavities', 'region'\n    uns: 'spatialdata_attrs'\n    obsm: 'spatial'"
     },
     "execution_count": 6,
     "metadata": {},
     "output_type": "execute_result"
    }
   ],
   "source": [
    "sdata.table"
   ],
   "metadata": {
    "collapsed": false,
    "ExecuteTime": {
     "end_time": "2023-10-05T01:20:53.912782Z",
     "start_time": "2023-10-05T01:20:53.875379Z"
    }
   }
  },
  {
   "cell_type": "code",
   "execution_count": 8,
   "outputs": [
    {
     "data": {
      "text/plain": "        channel_CD3_sum  channel_CD4_sum  channel_CD8_sum  channel_CD14_sum  \\\n0              0.025340         0.020659         0.045046          0.081799   \n1              0.017265         0.609268         0.021798          0.817269   \n2              0.328411         1.024943         0.021213          0.470112   \n3              0.062256         0.196669         0.015106          0.024797   \n4              0.466882         0.639710         0.664394          0.270846   \n...                 ...              ...              ...               ...   \n4220_1         0.099917         0.206153         0.115469          0.207178   \n4221_1         0.303997         0.678115         0.034049          0.174804   \n4222_1         0.336655         0.609324         0.021134          0.039054   \n4223_1         0.338232         0.363966         0.694436          0.023816   \n4224_1         0.059912         0.074800         0.002860          0.035510   \n\n        channel_CD20_sum  channel_CD31_sum  channel_CD45_sum  \\\n0               0.001727          0.000000          0.164227   \n1               0.081041          0.000000          0.270275   \n2               0.124985          0.011055          1.693036   \n3               0.621604          0.003757          0.487379   \n4               0.281960          0.009549          1.145025   \n...                  ...               ...               ...   \n4220_1          0.224513          0.182669          0.509513   \n4221_1          0.388279          0.022661          0.607870   \n4222_1          0.185714          0.007587          0.526689   \n4223_1          0.167806          0.008178          1.120662   \n4224_1          0.111681          0.058199          0.051970   \n\n        channel_CD68_sum  channel_CD163_sum  channel_CD163_nuc_exclude_sum  \\\n0               0.004322           0.107446                       0.008518   \n1               0.028348           0.908287                       0.730472   \n2               0.041517           0.664849                       0.654467   \n3               0.022258           0.033839                       0.001570   \n4               0.049755           0.545117                       0.018572   \n...                  ...                ...                            ...   \n4220_1          0.056120           0.306294                       0.306294   \n4221_1          0.057167           0.102481                       0.102481   \n4222_1          0.024845           0.083741                       0.081996   \n4223_1          0.036341           0.066425                       0.050512   \n4224_1          0.004891           0.008806                       0.008806   \n\n        ...  channel_Fibronectin_sum  channel_GLUT1_sum  channel_H3K9ac_sum  \\\n0       ...                 0.009404           0.000244            1.038766   \n1       ...                 0.212969           0.059790            1.014783   \n2       ...                 0.054047           0.117842            0.774562   \n3       ...                 0.015190           0.088556            2.071908   \n4       ...                 0.083246           0.162881            3.997383   \n...     ...                      ...                ...                 ...   \n4220_1  ...                 0.016708           0.129557            0.122325   \n4221_1  ...                 0.002875           0.229963            0.270706   \n4222_1  ...                 0.007048           0.223563            0.772965   \n4223_1  ...                 0.010769           0.354879            1.794186   \n4224_1  ...                 0.000566           0.026291            0.006915   \n\n        channel_H3K27me3_sum  channel_HLADR_sum  channel_IDO_sum  \\\n0                   1.072152           0.036621         0.000463   \n1                   0.857497           0.262435         0.008764   \n2                   1.632253           0.129497         0.011400   \n3                   7.829748           0.106393         0.010953   \n4                   9.710749           0.180013         0.063508   \n...                      ...                ...              ...   \n4220_1              0.119352           0.092254         0.009510   \n4221_1              0.263090           0.302116         0.051283   \n4222_1              0.564037           0.080481         0.002268   \n4223_1              0.769695           0.048490         0.073405   \n4224_1              0.047763           0.010329         0.005890   \n\n        channel_Ki67_sum  channel_PD1_sum  channel_SMA_sum  channel_Vim_sum  \n0               0.084934         0.004242         0.000000         0.013612  \n1               0.022468         0.000000         0.133997         0.057654  \n2               0.095668         0.071717         0.000000         1.408726  \n3               0.002760         0.007683         0.082824         0.274711  \n4               0.098277         0.015389         0.029311         0.085868  \n...                  ...              ...              ...              ...  \n4220_1          0.025041         0.012108         0.028424         0.059797  \n4221_1          0.017100         0.015537         1.344576         0.238244  \n4222_1          0.018048         0.000000         1.479497         0.612269  \n4223_1          0.104780         0.007004         0.078885         0.267632  \n4224_1          0.003267         0.004165         0.256268         0.183286  \n\n[32077 rows x 24 columns]",
      "text/html": "<div>\n<style scoped>\n    .dataframe tbody tr th:only-of-type {\n        vertical-align: middle;\n    }\n\n    .dataframe tbody tr th {\n        vertical-align: top;\n    }\n\n    .dataframe thead th {\n        text-align: right;\n    }\n</style>\n<table border=\"1\" class=\"dataframe\">\n  <thead>\n    <tr style=\"text-align: right;\">\n      <th></th>\n      <th>channel_CD3_sum</th>\n      <th>channel_CD4_sum</th>\n      <th>channel_CD8_sum</th>\n      <th>channel_CD14_sum</th>\n      <th>channel_CD20_sum</th>\n      <th>channel_CD31_sum</th>\n      <th>channel_CD45_sum</th>\n      <th>channel_CD68_sum</th>\n      <th>channel_CD163_sum</th>\n      <th>channel_CD163_nuc_exclude_sum</th>\n      <th>...</th>\n      <th>channel_Fibronectin_sum</th>\n      <th>channel_GLUT1_sum</th>\n      <th>channel_H3K9ac_sum</th>\n      <th>channel_H3K27me3_sum</th>\n      <th>channel_HLADR_sum</th>\n      <th>channel_IDO_sum</th>\n      <th>channel_Ki67_sum</th>\n      <th>channel_PD1_sum</th>\n      <th>channel_SMA_sum</th>\n      <th>channel_Vim_sum</th>\n    </tr>\n  </thead>\n  <tbody>\n    <tr>\n      <th>0</th>\n      <td>0.025340</td>\n      <td>0.020659</td>\n      <td>0.045046</td>\n      <td>0.081799</td>\n      <td>0.001727</td>\n      <td>0.000000</td>\n      <td>0.164227</td>\n      <td>0.004322</td>\n      <td>0.107446</td>\n      <td>0.008518</td>\n      <td>...</td>\n      <td>0.009404</td>\n      <td>0.000244</td>\n      <td>1.038766</td>\n      <td>1.072152</td>\n      <td>0.036621</td>\n      <td>0.000463</td>\n      <td>0.084934</td>\n      <td>0.004242</td>\n      <td>0.000000</td>\n      <td>0.013612</td>\n    </tr>\n    <tr>\n      <th>1</th>\n      <td>0.017265</td>\n      <td>0.609268</td>\n      <td>0.021798</td>\n      <td>0.817269</td>\n      <td>0.081041</td>\n      <td>0.000000</td>\n      <td>0.270275</td>\n      <td>0.028348</td>\n      <td>0.908287</td>\n      <td>0.730472</td>\n      <td>...</td>\n      <td>0.212969</td>\n      <td>0.059790</td>\n      <td>1.014783</td>\n      <td>0.857497</td>\n      <td>0.262435</td>\n      <td>0.008764</td>\n      <td>0.022468</td>\n      <td>0.000000</td>\n      <td>0.133997</td>\n      <td>0.057654</td>\n    </tr>\n    <tr>\n      <th>2</th>\n      <td>0.328411</td>\n      <td>1.024943</td>\n      <td>0.021213</td>\n      <td>0.470112</td>\n      <td>0.124985</td>\n      <td>0.011055</td>\n      <td>1.693036</td>\n      <td>0.041517</td>\n      <td>0.664849</td>\n      <td>0.654467</td>\n      <td>...</td>\n      <td>0.054047</td>\n      <td>0.117842</td>\n      <td>0.774562</td>\n      <td>1.632253</td>\n      <td>0.129497</td>\n      <td>0.011400</td>\n      <td>0.095668</td>\n      <td>0.071717</td>\n      <td>0.000000</td>\n      <td>1.408726</td>\n    </tr>\n    <tr>\n      <th>3</th>\n      <td>0.062256</td>\n      <td>0.196669</td>\n      <td>0.015106</td>\n      <td>0.024797</td>\n      <td>0.621604</td>\n      <td>0.003757</td>\n      <td>0.487379</td>\n      <td>0.022258</td>\n      <td>0.033839</td>\n      <td>0.001570</td>\n      <td>...</td>\n      <td>0.015190</td>\n      <td>0.088556</td>\n      <td>2.071908</td>\n      <td>7.829748</td>\n      <td>0.106393</td>\n      <td>0.010953</td>\n      <td>0.002760</td>\n      <td>0.007683</td>\n      <td>0.082824</td>\n      <td>0.274711</td>\n    </tr>\n    <tr>\n      <th>4</th>\n      <td>0.466882</td>\n      <td>0.639710</td>\n      <td>0.664394</td>\n      <td>0.270846</td>\n      <td>0.281960</td>\n      <td>0.009549</td>\n      <td>1.145025</td>\n      <td>0.049755</td>\n      <td>0.545117</td>\n      <td>0.018572</td>\n      <td>...</td>\n      <td>0.083246</td>\n      <td>0.162881</td>\n      <td>3.997383</td>\n      <td>9.710749</td>\n      <td>0.180013</td>\n      <td>0.063508</td>\n      <td>0.098277</td>\n      <td>0.015389</td>\n      <td>0.029311</td>\n      <td>0.085868</td>\n    </tr>\n    <tr>\n      <th>...</th>\n      <td>...</td>\n      <td>...</td>\n      <td>...</td>\n      <td>...</td>\n      <td>...</td>\n      <td>...</td>\n      <td>...</td>\n      <td>...</td>\n      <td>...</td>\n      <td>...</td>\n      <td>...</td>\n      <td>...</td>\n      <td>...</td>\n      <td>...</td>\n      <td>...</td>\n      <td>...</td>\n      <td>...</td>\n      <td>...</td>\n      <td>...</td>\n      <td>...</td>\n      <td>...</td>\n    </tr>\n    <tr>\n      <th>4220_1</th>\n      <td>0.099917</td>\n      <td>0.206153</td>\n      <td>0.115469</td>\n      <td>0.207178</td>\n      <td>0.224513</td>\n      <td>0.182669</td>\n      <td>0.509513</td>\n      <td>0.056120</td>\n      <td>0.306294</td>\n      <td>0.306294</td>\n      <td>...</td>\n      <td>0.016708</td>\n      <td>0.129557</td>\n      <td>0.122325</td>\n      <td>0.119352</td>\n      <td>0.092254</td>\n      <td>0.009510</td>\n      <td>0.025041</td>\n      <td>0.012108</td>\n      <td>0.028424</td>\n      <td>0.059797</td>\n    </tr>\n    <tr>\n      <th>4221_1</th>\n      <td>0.303997</td>\n      <td>0.678115</td>\n      <td>0.034049</td>\n      <td>0.174804</td>\n      <td>0.388279</td>\n      <td>0.022661</td>\n      <td>0.607870</td>\n      <td>0.057167</td>\n      <td>0.102481</td>\n      <td>0.102481</td>\n      <td>...</td>\n      <td>0.002875</td>\n      <td>0.229963</td>\n      <td>0.270706</td>\n      <td>0.263090</td>\n      <td>0.302116</td>\n      <td>0.051283</td>\n      <td>0.017100</td>\n      <td>0.015537</td>\n      <td>1.344576</td>\n      <td>0.238244</td>\n    </tr>\n    <tr>\n      <th>4222_1</th>\n      <td>0.336655</td>\n      <td>0.609324</td>\n      <td>0.021134</td>\n      <td>0.039054</td>\n      <td>0.185714</td>\n      <td>0.007587</td>\n      <td>0.526689</td>\n      <td>0.024845</td>\n      <td>0.083741</td>\n      <td>0.081996</td>\n      <td>...</td>\n      <td>0.007048</td>\n      <td>0.223563</td>\n      <td>0.772965</td>\n      <td>0.564037</td>\n      <td>0.080481</td>\n      <td>0.002268</td>\n      <td>0.018048</td>\n      <td>0.000000</td>\n      <td>1.479497</td>\n      <td>0.612269</td>\n    </tr>\n    <tr>\n      <th>4223_1</th>\n      <td>0.338232</td>\n      <td>0.363966</td>\n      <td>0.694436</td>\n      <td>0.023816</td>\n      <td>0.167806</td>\n      <td>0.008178</td>\n      <td>1.120662</td>\n      <td>0.036341</td>\n      <td>0.066425</td>\n      <td>0.050512</td>\n      <td>...</td>\n      <td>0.010769</td>\n      <td>0.354879</td>\n      <td>1.794186</td>\n      <td>0.769695</td>\n      <td>0.048490</td>\n      <td>0.073405</td>\n      <td>0.104780</td>\n      <td>0.007004</td>\n      <td>0.078885</td>\n      <td>0.267632</td>\n    </tr>\n    <tr>\n      <th>4224_1</th>\n      <td>0.059912</td>\n      <td>0.074800</td>\n      <td>0.002860</td>\n      <td>0.035510</td>\n      <td>0.111681</td>\n      <td>0.058199</td>\n      <td>0.051970</td>\n      <td>0.004891</td>\n      <td>0.008806</td>\n      <td>0.008806</td>\n      <td>...</td>\n      <td>0.000566</td>\n      <td>0.026291</td>\n      <td>0.006915</td>\n      <td>0.047763</td>\n      <td>0.010329</td>\n      <td>0.005890</td>\n      <td>0.003267</td>\n      <td>0.004165</td>\n      <td>0.256268</td>\n      <td>0.183286</td>\n    </tr>\n  </tbody>\n</table>\n<p>32077 rows × 24 columns</p>\n</div>"
     },
     "execution_count": 8,
     "metadata": {},
     "output_type": "execute_result"
    }
   ],
   "source": [
    "sdata.table.to_df()"
   ],
   "metadata": {
    "collapsed": false,
    "ExecuteTime": {
     "end_time": "2023-10-05T01:21:11.154453Z",
     "start_time": "2023-10-05T01:21:11.104508Z"
    }
   }
  },
  {
   "cell_type": "code",
   "execution_count": 9,
   "outputs": [],
   "source": [
    "from napari_spatialdata import Interactive\n"
   ],
   "metadata": {
    "collapsed": false,
    "ExecuteTime": {
     "end_time": "2023-10-05T01:21:59.498243Z",
     "start_time": "2023-10-05T01:21:57.402234Z"
    }
   }
  },
  {
   "cell_type": "code",
   "execution_count": 10,
   "outputs": [
    {
     "data": {
      "text/plain": "<napari_spatialdata._interactive.Interactive at 0x2d5cb9bd0>"
     },
     "execution_count": 10,
     "metadata": {},
     "output_type": "execute_result"
    }
   ],
   "source": [
    "Interactive(sdata)"
   ],
   "metadata": {
    "collapsed": false,
    "ExecuteTime": {
     "end_time": "2023-10-05T01:22:03.517039Z",
     "start_time": "2023-10-05T01:22:01.502637Z"
    }
   }
  },
  {
   "cell_type": "code",
   "execution_count": null,
   "outputs": [],
   "source": [],
   "metadata": {
    "collapsed": false
   }
  }
 ],
 "metadata": {
  "kernelspec": {
   "display_name": "ark-spatial",
   "language": "python",
   "name": "python3"
  },
  "language_info": {
   "codemirror_mode": {
    "name": "ipython",
    "version": 3
   },
   "file_extension": ".py",
   "mimetype": "text/x-python",
   "name": "python",
   "nbconvert_exporter": "python",
   "pygments_lexer": "ipython3"
  }
 },
 "nbformat": 4,
 "nbformat_minor": 2
}
