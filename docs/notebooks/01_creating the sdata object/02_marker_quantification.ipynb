{
 "cells": [
  {
   "cell_type": "markdown",
   "source": [
    "# Generate the Cell Table"
   ],
   "metadata": {
    "collapsed": false
   }
  },
  {
   "cell_type": "code",
   "execution_count": 3,
   "metadata": {
    "ExecuteTime": {
     "end_time": "2023-09-25T21:00:42.487410Z",
     "start_time": "2023-09-25T21:00:42.384323Z"
    }
   },
   "outputs": [],
   "source": [
    "%load_ext autoreload\n",
    "%autoreload 2"
   ]
  },
  {
   "cell_type": "code",
   "execution_count": 4,
   "metadata": {
    "ExecuteTime": {
     "end_time": "2023-09-25T21:00:44.362093Z",
     "start_time": "2023-09-25T21:00:42.782377Z"
    }
   },
   "outputs": [
    {
     "name": "stderr",
     "output_type": "stream",
     "text": [
      "/opt/homebrew/Caskroom/mambaforge/base/envs/ark-spatial-dev/lib/python3.11/site-packages/dask/config.py:742: FutureWarning: Dask configuration key 'shuffle' has been deprecated; please use 'dataframe.shuffle.algorithm' instead\n",
      "  warnings.warn(\n"
     ]
    }
   ],
   "source": [
    "import ark\n",
    "import spatialdata as sd"
   ]
  },
  {
   "cell_type": "code",
   "execution_count": 5,
   "metadata": {
    "ExecuteTime": {
     "end_time": "2023-09-25T21:00:44.469624Z",
     "start_time": "2023-09-25T21:00:44.361198Z"
    }
   },
   "outputs": [],
   "source": [
    "sdata = sd.read_zarr(store=\"../../../data/cohorts/example_cohort.ome.zarr\")"
   ]
  },
  {
   "cell_type": "markdown",
   "source": [
    "View the current SpatialData object."
   ],
   "metadata": {
    "collapsed": false
   }
  },
  {
   "cell_type": "code",
   "execution_count": 6,
   "outputs": [
    {
     "data": {
      "text/plain": "SpatialData object with:\n├── Images\n│     ├── 'fov0': SpatialImage[cyx] (22, 512, 512)\n│     ├── 'fov1': SpatialImage[cyx] (22, 1024, 1024)\n│     ├── 'fov2': SpatialImage[cyx] (22, 1024, 1024)\n│     ├── 'fov3': SpatialImage[cyx] (22, 1024, 1024)\n│     ├── 'fov4': SpatialImage[cyx] (22, 1024, 1024)\n│     ├── 'fov5': SpatialImage[cyx] (22, 1024, 1024)\n│     ├── 'fov6': SpatialImage[cyx] (22, 1024, 1024)\n│     ├── 'fov7': SpatialImage[cyx] (22, 1024, 1024)\n│     ├── 'fov8': SpatialImage[cyx] (22, 1024, 1024)\n│     ├── 'fov9': SpatialImage[cyx] (22, 1024, 1024)\n│     └── 'fov10': SpatialImage[cyx] (22, 1024, 1024)\n└── Labels\n      ├── 'fov0_nuclear': SpatialImage[yx] (512, 512)\n      ├── 'fov0_whole_cell': SpatialImage[yx] (512, 512)\n      ├── 'fov1_nuclear': SpatialImage[yx] (1024, 1024)\n      ├── 'fov1_whole_cell': SpatialImage[yx] (1024, 1024)\n      ├── 'fov2_nuclear': SpatialImage[yx] (1024, 1024)\n      ├── 'fov2_whole_cell': SpatialImage[yx] (1024, 1024)\n      ├── 'fov3_nuclear': SpatialImage[yx] (1024, 1024)\n      ├── 'fov3_whole_cell': SpatialImage[yx] (1024, 1024)\n      ├── 'fov4_nuclear': SpatialImage[yx] (1024, 1024)\n      ├── 'fov4_whole_cell': SpatialImage[yx] (1024, 1024)\n      ├── 'fov5_nuclear': SpatialImage[yx] (1024, 1024)\n      ├── 'fov5_whole_cell': SpatialImage[yx] (1024, 1024)\n      ├── 'fov6_nuclear': SpatialImage[yx] (1024, 1024)\n      ├── 'fov6_whole_cell': SpatialImage[yx] (1024, 1024)\n      ├── 'fov7_nuclear': SpatialImage[yx] (1024, 1024)\n      ├── 'fov7_whole_cell': SpatialImage[yx] (1024, 1024)\n      ├── 'fov8_nuclear': SpatialImage[yx] (1024, 1024)\n      ├── 'fov8_whole_cell': SpatialImage[yx] (1024, 1024)\n      ├── 'fov9_nuclear': SpatialImage[yx] (1024, 1024)\n      ├── 'fov9_whole_cell': SpatialImage[yx] (1024, 1024)\n      ├── 'fov10_nuclear': SpatialImage[yx] (1024, 1024)\n      └── 'fov10_whole_cell': SpatialImage[yx] (1024, 1024)\nwith coordinate systems:\n▸ 'fov0', with elements:\n        fov0 (Images), fov0_nuclear (Labels), fov0_whole_cell (Labels)\n▸ 'fov1', with elements:\n        fov1 (Images), fov1_nuclear (Labels), fov1_whole_cell (Labels)\n▸ 'fov2', with elements:\n        fov2 (Images), fov2_nuclear (Labels), fov2_whole_cell (Labels)\n▸ 'fov3', with elements:\n        fov3 (Images), fov3_nuclear (Labels), fov3_whole_cell (Labels)\n▸ 'fov4', with elements:\n        fov4 (Images), fov4_nuclear (Labels), fov4_whole_cell (Labels)\n▸ 'fov5', with elements:\n        fov5 (Images), fov5_nuclear (Labels), fov5_whole_cell (Labels)\n▸ 'fov6', with elements:\n        fov6 (Images), fov6_nuclear (Labels), fov6_whole_cell (Labels)\n▸ 'fov7', with elements:\n        fov7 (Images), fov7_nuclear (Labels), fov7_whole_cell (Labels)\n▸ 'fov8', with elements:\n        fov8 (Images), fov8_nuclear (Labels), fov8_whole_cell (Labels)\n▸ 'fov9', with elements:\n        fov9 (Images), fov9_nuclear (Labels), fov9_whole_cell (Labels)\n▸ 'fov10', with elements:\n        fov10 (Images), fov10_nuclear (Labels), fov10_whole_cell (Labels)\n▸ 'global', with elements:\n        fov0 (Images), fov1 (Images), fov2 (Images), fov3 (Images), fov4 (Images), fov5 (Images), fov6 (Images), fov7 (Images), fov8 (Images), fov9 (Images), fov10 (Images)"
     },
     "execution_count": 6,
     "metadata": {},
     "output_type": "execute_result"
    }
   ],
   "source": [
    "sdata"
   ],
   "metadata": {
    "collapsed": false,
    "ExecuteTime": {
     "end_time": "2023-09-25T21:00:46.114192Z",
     "start_time": "2023-09-25T21:00:46.039811Z"
    }
   }
  },
  {
   "cell_type": "markdown",
   "source": [
    "The next cell creates the analog to the cell table. This creates an `AnnData` object, stored in the `table` property for the `Spatialdata` object, which gets written to the Zarr filestore on assignment."
   ],
   "metadata": {
    "collapsed": false
   }
  },
  {
   "cell_type": "code",
   "execution_count": null,
   "metadata": {},
   "outputs": [],
   "source": [
    "sdata.marker_quantification.generate_cell_table()"
   ]
  },
  {
   "cell_type": "markdown",
   "source": [
    "## Visualize the `SpatialData` object with Napari\n",
    "\n",
    "We can view the contents of the object using Napari.\n",
    "\n"
   ],
   "metadata": {
    "collapsed": false
   }
  },
  {
   "cell_type": "code",
   "execution_count": 8,
   "outputs": [],
   "source": [
    "from napari_spatialdata import Interactive\n"
   ],
   "metadata": {
    "collapsed": false,
    "ExecuteTime": {
     "end_time": "2023-09-25T21:02:17.318595Z",
     "start_time": "2023-09-25T21:02:17.249792Z"
    }
   }
  },
  {
   "cell_type": "code",
   "execution_count": null,
   "outputs": [],
   "source": [
    "Interactive(sdata)"
   ],
   "metadata": {
    "collapsed": false
   }
  },
  {
   "cell_type": "code",
   "execution_count": null,
   "outputs": [],
   "source": [],
   "metadata": {
    "collapsed": false
   }
  }
 ],
 "metadata": {
  "kernelspec": {
   "display_name": "ark-spatial",
   "language": "python",
   "name": "python3"
  },
  "language_info": {
   "codemirror_mode": {
    "name": "ipython",
    "version": 3
   },
   "file_extension": ".py",
   "mimetype": "text/x-python",
   "name": "python",
   "nbconvert_exporter": "python",
   "pygments_lexer": "ipython3"
  }
 },
 "nbformat": 4,
 "nbformat_minor": 2
}
