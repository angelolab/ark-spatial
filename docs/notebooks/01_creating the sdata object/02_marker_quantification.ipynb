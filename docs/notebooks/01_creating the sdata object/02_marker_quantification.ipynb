{
 "cells": [
  {
   "cell_type": "markdown",
   "source": [
    "# Generate the Cell Table"
   ],
   "metadata": {
    "collapsed": false
   }
  },
  {
   "cell_type": "code",
   "execution_count": 3,
   "metadata": {
    "ExecuteTime": {
     "end_time": "2023-09-25T21:00:42.487410Z",
     "start_time": "2023-09-25T21:00:42.384323Z"
    }
   },
   "outputs": [],
   "source": [
    "%load_ext autoreload\n",
    "%autoreload 2"
   ]
  },
  {
   "cell_type": "code",
   "execution_count": 4,
   "metadata": {
    "ExecuteTime": {
     "end_time": "2023-09-25T21:00:44.362093Z",
     "start_time": "2023-09-25T21:00:42.782377Z"
    }
   },
   "outputs": [
    {
     "name": "stderr",
     "output_type": "stream",
     "text": [
      "/opt/homebrew/Caskroom/mambaforge/base/envs/ark-spatial-dev/lib/python3.11/site-packages/dask/config.py:742: FutureWarning: Dask configuration key 'shuffle' has been deprecated; please use 'dataframe.shuffle.algorithm' instead\n",
      "  warnings.warn(\n"
     ]
    }
   ],
   "source": [
    "import ark\n",
    "import spatialdata as sd"
   ]
  },
  {
   "cell_type": "code",
   "execution_count": 5,
   "metadata": {
    "ExecuteTime": {
     "end_time": "2023-09-25T21:00:44.469624Z",
     "start_time": "2023-09-25T21:00:44.361198Z"
    }
   },
   "outputs": [],
   "source": [
    "sdata = sd.read_zarr(store=\"../../../data/cohorts/example_cohort.ome.zarr\")"
   ]
  },
  {
   "cell_type": "markdown",
   "source": [
    "View the current SpatialData object."
   ],
   "metadata": {
    "collapsed": false
   }
  },
  {
   "cell_type": "code",
   "execution_count": 6,
   "outputs": [
    {
     "data": {
      "text/plain": "SpatialData object with:\n├── Images\n│     ├── 'fov0': SpatialImage[cyx] (22, 512, 512)\n│     ├── 'fov1': SpatialImage[cyx] (22, 1024, 1024)\n│     ├── 'fov2': SpatialImage[cyx] (22, 1024, 1024)\n│     ├── 'fov3': SpatialImage[cyx] (22, 1024, 1024)\n│     ├── 'fov4': SpatialImage[cyx] (22, 1024, 1024)\n│     ├── 'fov5': SpatialImage[cyx] (22, 1024, 1024)\n│     ├── 'fov6': SpatialImage[cyx] (22, 1024, 1024)\n│     ├── 'fov7': SpatialImage[cyx] (22, 1024, 1024)\n│     ├── 'fov8': SpatialImage[cyx] (22, 1024, 1024)\n│     ├── 'fov9': SpatialImage[cyx] (22, 1024, 1024)\n│     └── 'fov10': SpatialImage[cyx] (22, 1024, 1024)\n└── Labels\n      ├── 'fov0_nuclear': SpatialImage[yx] (512, 512)\n      ├── 'fov0_whole_cell': SpatialImage[yx] (512, 512)\n      ├── 'fov1_nuclear': SpatialImage[yx] (1024, 1024)\n      ├── 'fov1_whole_cell': SpatialImage[yx] (1024, 1024)\n      ├── 'fov2_nuclear': SpatialImage[yx] (1024, 1024)\n      ├── 'fov2_whole_cell': SpatialImage[yx] (1024, 1024)\n      ├── 'fov3_nuclear': SpatialImage[yx] (1024, 1024)\n      ├── 'fov3_whole_cell': SpatialImage[yx] (1024, 1024)\n      ├── 'fov4_nuclear': SpatialImage[yx] (1024, 1024)\n      ├── 'fov4_whole_cell': SpatialImage[yx] (1024, 1024)\n      ├── 'fov5_nuclear': SpatialImage[yx] (1024, 1024)\n      ├── 'fov5_whole_cell': SpatialImage[yx] (1024, 1024)\n      ├── 'fov6_nuclear': SpatialImage[yx] (1024, 1024)\n      ├── 'fov6_whole_cell': SpatialImage[yx] (1024, 1024)\n      ├── 'fov7_nuclear': SpatialImage[yx] (1024, 1024)\n      ├── 'fov7_whole_cell': SpatialImage[yx] (1024, 1024)\n      ├── 'fov8_nuclear': SpatialImage[yx] (1024, 1024)\n      ├── 'fov8_whole_cell': SpatialImage[yx] (1024, 1024)\n      ├── 'fov9_nuclear': SpatialImage[yx] (1024, 1024)\n      ├── 'fov9_whole_cell': SpatialImage[yx] (1024, 1024)\n      ├── 'fov10_nuclear': SpatialImage[yx] (1024, 1024)\n      └── 'fov10_whole_cell': SpatialImage[yx] (1024, 1024)\nwith coordinate systems:\n▸ 'fov0', with elements:\n        fov0 (Images), fov0_nuclear (Labels), fov0_whole_cell (Labels)\n▸ 'fov1', with elements:\n        fov1 (Images), fov1_nuclear (Labels), fov1_whole_cell (Labels)\n▸ 'fov2', with elements:\n        fov2 (Images), fov2_nuclear (Labels), fov2_whole_cell (Labels)\n▸ 'fov3', with elements:\n        fov3 (Images), fov3_nuclear (Labels), fov3_whole_cell (Labels)\n▸ 'fov4', with elements:\n        fov4 (Images), fov4_nuclear (Labels), fov4_whole_cell (Labels)\n▸ 'fov5', with elements:\n        fov5 (Images), fov5_nuclear (Labels), fov5_whole_cell (Labels)\n▸ 'fov6', with elements:\n        fov6 (Images), fov6_nuclear (Labels), fov6_whole_cell (Labels)\n▸ 'fov7', with elements:\n        fov7 (Images), fov7_nuclear (Labels), fov7_whole_cell (Labels)\n▸ 'fov8', with elements:\n        fov8 (Images), fov8_nuclear (Labels), fov8_whole_cell (Labels)\n▸ 'fov9', with elements:\n        fov9 (Images), fov9_nuclear (Labels), fov9_whole_cell (Labels)\n▸ 'fov10', with elements:\n        fov10 (Images), fov10_nuclear (Labels), fov10_whole_cell (Labels)\n▸ 'global', with elements:\n        fov0 (Images), fov1 (Images), fov2 (Images), fov3 (Images), fov4 (Images), fov5 (Images), fov6 (Images), fov7 (Images), fov8 (Images), fov9 (Images), fov10 (Images)"
     },
     "execution_count": 6,
     "metadata": {},
     "output_type": "execute_result"
    }
   ],
   "source": [
    "sdata"
   ],
   "metadata": {
    "collapsed": false,
    "ExecuteTime": {
     "end_time": "2023-09-25T21:00:46.114192Z",
     "start_time": "2023-09-25T21:00:46.039811Z"
    }
   }
  },
  {
   "cell_type": "markdown",
   "source": [
    "The next cell creates the analog to the cell table. This creates an `AnnData` object, stored in the `table` property for the `Spatialdata` object, which gets written to the Zarr filestore on assignment."
   ],
   "metadata": {
    "collapsed": false
   }
  },
  {
   "cell_type": "code",
   "execution_count": 7,
   "metadata": {
    "ExecuteTime": {
     "end_time": "2023-09-25T21:01:49.805332Z",
     "start_time": "2023-09-25T21:00:54.203192Z"
    }
   },
   "outputs": [
    {
     "name": "stderr",
     "output_type": "stream",
     "text": [
      "2023-09-25 14:00:56,239\tINFO worker.py:1633 -- Started a local Ray instance. View the dashboard at \u001B[1m\u001B[32mhttp://127.0.0.1:8265 \u001B[39m\u001B[22m\n",
      "\u001B[2m\u001B[36m(dask:_compute_regionprops-a5b491df-2664-4539-a12b-574fdf630ff3 pid=18538)\u001B[0m /opt/homebrew/Caskroom/mambaforge/base/envs/ark-spatial-dev/lib/python3.11/site-packages/distributed/node.py:182: UserWarning: Port 8787 is already in use.\n",
      "\u001B[2m\u001B[36m(dask:_compute_regionprops-a5b491df-2664-4539-a12b-574fdf630ff3 pid=18538)\u001B[0m Perhaps you already have a cluster running?\n",
      "\u001B[2m\u001B[36m(dask:_compute_regionprops-a5b491df-2664-4539-a12b-574fdf630ff3 pid=18538)\u001B[0m Hosting the HTTP server on port 53748 instead\n",
      "\u001B[2m\u001B[36m(dask:_compute_regionprops-a5b491df-2664-4539-a12b-574fdf630ff3 pid=18538)\u001B[0m   warnings.warn(\n",
      "\u001B[2m\u001B[36m(dask:_compute_regionprops-a5b491df-2664-4539-a12b-574fdf630ff3 pid=18538)\u001B[0m /opt/homebrew/Caskroom/mambaforge/base/envs/ark-spatial-dev/lib/python3.11/site-packages/dask/config.py:742: FutureWarning: Dask configuration key 'shuffle' has been deprecated; please use 'dataframe.shuffle.algorithm' instead\n",
      "\u001B[2m\u001B[36m(dask:_compute_regionprops-58aa42df-8b9b-42b8-83a3-0ba5d737f0b9 pid=18540)\u001B[0m /opt/homebrew/Caskroom/mambaforge/base/envs/ark-spatial-dev/lib/python3.11/site-packages/distributed/node.py:182: UserWarning: Port 8787 is already in use.\u001B[32m [repeated 9x across cluster] (Ray deduplicates logs by default. Set RAY_DEDUP_LOGS=0 to disable log deduplication, or see https://docs.ray.io/en/master/ray-observability/ray-logging.html#log-deduplication for more options.)\u001B[0m\n",
      "\u001B[2m\u001B[36m(dask:_compute_regionprops-58aa42df-8b9b-42b8-83a3-0ba5d737f0b9 pid=18540)\u001B[0m Perhaps you already have a cluster running?\u001B[32m [repeated 9x across cluster]\u001B[0m\n",
      "\u001B[2m\u001B[36m(dask:_compute_regionprops-58aa42df-8b9b-42b8-83a3-0ba5d737f0b9 pid=18540)\u001B[0m Hosting the HTTP server on port 53814 instead\u001B[32m [repeated 9x across cluster]\u001B[0m\n",
      "\u001B[2m\u001B[36m(dask:_compute_regionprops-a5b491df-2664-4539-a12b-574fdf630ff3 pid=18538)\u001B[0m   warnings.warn(\u001B[32m [repeated 10x across cluster]\u001B[0m\n",
      "\u001B[2m\u001B[36m(dask:_compute_regionprops-58aa42df-8b9b-42b8-83a3-0ba5d737f0b9 pid=18540)\u001B[0m /opt/homebrew/Caskroom/mambaforge/base/envs/ark-spatial-dev/lib/python3.11/site-packages/dask/config.py:742: FutureWarning: Dask configuration key 'shuffle' has been deprecated; please use 'dataframe.shuffle.algorithm' instead\u001B[32m [repeated 9x across cluster]\u001B[0m\n",
      "\u001B[2m\u001B[36m(dask:_compute_regionprops-2e313e9c-ce02-4f48-9135-2ff083c1f882 pid=18713)\u001B[0m /opt/homebrew/Caskroom/mambaforge/base/envs/ark-spatial-dev/lib/python3.11/site-packages/distributed/node.py:182: UserWarning: Port 8787 is already in use.\n",
      "\u001B[2m\u001B[36m(dask:_compute_regionprops-2e313e9c-ce02-4f48-9135-2ff083c1f882 pid=18713)\u001B[0m Perhaps you already have a cluster running?\n",
      "\u001B[2m\u001B[36m(dask:_compute_regionprops-2e313e9c-ce02-4f48-9135-2ff083c1f882 pid=18713)\u001B[0m Hosting the HTTP server on port 54337 instead\n",
      "\u001B[2m\u001B[36m(dask:_compute_regionprops-2e313e9c-ce02-4f48-9135-2ff083c1f882 pid=18713)\u001B[0m   warnings.warn(\u001B[32m [repeated 10x across cluster]\u001B[0m\n",
      "\u001B[2m\u001B[36m(dask:_compute_marker_counts-f1d1eded-f2a1-4b34-a1ec-cbe0cf9798f2 pid=18716)\u001B[0m /opt/homebrew/Caskroom/mambaforge/base/envs/ark-spatial-dev/lib/python3.11/site-packages/distributed/node.py:182: UserWarning: Port 8787 is already in use.\n",
      "\u001B[2m\u001B[36m(dask:_compute_marker_counts-f1d1eded-f2a1-4b34-a1ec-cbe0cf9798f2 pid=18716)\u001B[0m Perhaps you already have a cluster running?\n",
      "\u001B[2m\u001B[36m(dask:_compute_marker_counts-f1d1eded-f2a1-4b34-a1ec-cbe0cf9798f2 pid=18716)\u001B[0m Hosting the HTTP server on port 54365 instead\n",
      "\u001B[2m\u001B[36m(dask:_compute_marker_counts-f1d1eded-f2a1-4b34-a1ec-cbe0cf9798f2 pid=18716)\u001B[0m /opt/homebrew/Caskroom/mambaforge/base/envs/ark-spatial-dev/lib/python3.11/site-packages/dask/config.py:742: FutureWarning: Dask configuration key 'shuffle' has been deprecated; please use 'dataframe.shuffle.algorithm' instead\u001B[32m [repeated 2x across cluster]\u001B[0m\n",
      "\u001B[2m\u001B[36m(dask:_compute_regionprops-0982ef9b-5286-4e51-a656-00c25fa29db6 pid=18721)\u001B[0m   warnings.warn(\u001B[32m [repeated 4x across cluster]\u001B[0m\n",
      "\u001B[2m\u001B[36m(dask:_compute_marker_counts-cd6be536-99c4-4dcc-95f4-8516bbc1eb70 pid=18540)\u001B[0m /opt/homebrew/Caskroom/mambaforge/base/envs/ark-spatial-dev/lib/python3.11/site-packages/spatialdata/models/models.py:703: FutureWarning: is_categorical_dtype is deprecated and will be removed in a future version. Use isinstance(dtype, CategoricalDtype) instead\n",
      "\u001B[2m\u001B[36m(dask:_compute_marker_counts-cd6be536-99c4-4dcc-95f4-8516bbc1eb70 pid=18540)\u001B[0m   if not is_categorical_dtype(adata.obs[region_key]):\n",
      "\u001B[2m\u001B[36m(dask:_compute_marker_counts-cd6be536-99c4-4dcc-95f4-8516bbc1eb70 pid=18540)\u001B[0m /opt/homebrew/Caskroom/mambaforge/base/envs/ark-spatial-dev/lib/python3.11/site-packages/spatialdata/_core/operations/aggregate.py:244: UserWarning: Converting `region_key: region` to categorical dtype.\n",
      "\u001B[2m\u001B[36m(dask:_compute_marker_counts-cd6be536-99c4-4dcc-95f4-8516bbc1eb70 pid=18540)\u001B[0m   table = TableModel.parse(table, region=shapes_name, region_key=region_key, instance_key=instance_key)\n",
      "\u001B[2m\u001B[36m(dask:_compute_regionprops-0982ef9b-5286-4e51-a656-00c25fa29db6 pid=18721)\u001B[0m /opt/homebrew/Caskroom/mambaforge/base/envs/ark-spatial-dev/lib/python3.11/site-packages/distributed/node.py:182: UserWarning: Port 8787 is already in use.\n",
      "\u001B[2m\u001B[36m(dask:_compute_regionprops-0982ef9b-5286-4e51-a656-00c25fa29db6 pid=18721)\u001B[0m Perhaps you already have a cluster running?\n",
      "\u001B[2m\u001B[36m(dask:_compute_regionprops-0982ef9b-5286-4e51-a656-00c25fa29db6 pid=18721)\u001B[0m Hosting the HTTP server on port 54504 instead\n",
      "\u001B[2m\u001B[36m(dask:compute_region_props_df-38222b2a-8da6-458b-9001-6a5c8ca288ca pid=18720)\u001B[0m /opt/homebrew/Caskroom/mambaforge/base/envs/ark-spatial-dev/lib/python3.11/site-packages/distributed/node.py:182: UserWarning: Port 8787 is already in use.\n",
      "\u001B[2m\u001B[36m(dask:compute_region_props_df-38222b2a-8da6-458b-9001-6a5c8ca288ca pid=18720)\u001B[0m Perhaps you already have a cluster running?\n",
      "\u001B[2m\u001B[36m(dask:compute_region_props_df-38222b2a-8da6-458b-9001-6a5c8ca288ca pid=18720)\u001B[0m Hosting the HTTP server on port 54649 instead\n",
      "\u001B[2m\u001B[36m(dask:_compute_regionprops-0982ef9b-5286-4e51-a656-00c25fa29db6 pid=18721)\u001B[0m /opt/homebrew/Caskroom/mambaforge/base/envs/ark-spatial-dev/lib/python3.11/site-packages/dask/config.py:742: FutureWarning: Dask configuration key 'shuffle' has been deprecated; please use 'dataframe.shuffle.algorithm' instead\n",
      "\u001B[2m\u001B[36m(dask:compute_region_props_df-38222b2a-8da6-458b-9001-6a5c8ca288ca pid=18720)\u001B[0m   warnings.warn(\u001B[32m [repeated 2x across cluster]\u001B[0m\n",
      "\u001B[2m\u001B[36m(dask:_compute_marker_counts-a7e3cfa4-d24b-4e1d-bd3f-4d40b7002ee8 pid=18533)\u001B[0m /opt/homebrew/Caskroom/mambaforge/base/envs/ark-spatial-dev/lib/python3.11/site-packages/spatialdata/models/models.py:703: FutureWarning: is_categorical_dtype is deprecated and will be removed in a future version. Use isinstance(dtype, CategoricalDtype) instead\u001B[32m [repeated 3x across cluster]\u001B[0m\n",
      "\u001B[2m\u001B[36m(dask:_compute_marker_counts-a7e3cfa4-d24b-4e1d-bd3f-4d40b7002ee8 pid=18533)\u001B[0m   if not is_categorical_dtype(adata.obs[region_key]):\u001B[32m [repeated 3x across cluster]\u001B[0m\n",
      "\u001B[2m\u001B[36m(dask:_compute_marker_counts-a7e3cfa4-d24b-4e1d-bd3f-4d40b7002ee8 pid=18533)\u001B[0m /opt/homebrew/Caskroom/mambaforge/base/envs/ark-spatial-dev/lib/python3.11/site-packages/spatialdata/_core/operations/aggregate.py:244: UserWarning: Converting `region_key: region` to categorical dtype.\u001B[32m [repeated 3x across cluster]\u001B[0m\n",
      "\u001B[2m\u001B[36m(dask:_compute_marker_counts-a7e3cfa4-d24b-4e1d-bd3f-4d40b7002ee8 pid=18533)\u001B[0m   table = TableModel.parse(table, region=shapes_name, region_key=region_key, instance_key=instance_key)\u001B[32m [repeated 3x across cluster]\u001B[0m\n",
      "\u001B[2m\u001B[36m(dask:compute_region_props_df-38222b2a-8da6-458b-9001-6a5c8ca288ca pid=18720)\u001B[0m /opt/homebrew/Caskroom/mambaforge/base/envs/ark-spatial-dev/lib/python3.11/site-packages/dask/config.py:742: FutureWarning: Dask configuration key 'shuffle' has been deprecated; please use 'dataframe.shuffle.algorithm' instead\n",
      "\u001B[2m\u001B[36m(dask:_compute_fov_table-e815c6dc-5797-42c3-b374-97f738067b58 pid=18709)\u001B[0m /opt/homebrew/Caskroom/mambaforge/base/envs/ark-spatial-dev/lib/python3.11/site-packages/distributed/node.py:182: UserWarning: Port 8787 is already in use.\u001B[32m [repeated 2x across cluster]\u001B[0m\n",
      "\u001B[2m\u001B[36m(dask:_compute_fov_table-e815c6dc-5797-42c3-b374-97f738067b58 pid=18709)\u001B[0m Perhaps you already have a cluster running?\u001B[32m [repeated 2x across cluster]\u001B[0m\n",
      "\u001B[2m\u001B[36m(dask:_compute_fov_table-e815c6dc-5797-42c3-b374-97f738067b58 pid=18709)\u001B[0m Hosting the HTTP server on port 54688 instead\u001B[32m [repeated 2x across cluster]\u001B[0m\n",
      "\u001B[2m\u001B[36m(dask:compute_region_props_df-7a185bb5-7679-4d45-942a-f91affda5b34 pid=18719)\u001B[0m   warnings.warn(\u001B[32m [repeated 4x across cluster]\u001B[0m\n",
      "\u001B[2m\u001B[36m(dask:_compute_marker_counts-f6653635-0fbc-474d-88aa-7b7db40957a1 pid=18539)\u001B[0m /opt/homebrew/Caskroom/mambaforge/base/envs/ark-spatial-dev/lib/python3.11/site-packages/spatialdata/models/models.py:703: FutureWarning: is_categorical_dtype is deprecated and will be removed in a future version. Use isinstance(dtype, CategoricalDtype) instead\n",
      "\u001B[2m\u001B[36m(dask:_compute_marker_counts-f6653635-0fbc-474d-88aa-7b7db40957a1 pid=18539)\u001B[0m   if not is_categorical_dtype(adata.obs[region_key]):\n",
      "\u001B[2m\u001B[36m(dask:_compute_marker_counts-f6653635-0fbc-474d-88aa-7b7db40957a1 pid=18539)\u001B[0m /opt/homebrew/Caskroom/mambaforge/base/envs/ark-spatial-dev/lib/python3.11/site-packages/spatialdata/_core/operations/aggregate.py:244: UserWarning: Converting `region_key: region` to categorical dtype.\n",
      "\u001B[2m\u001B[36m(dask:_compute_marker_counts-f6653635-0fbc-474d-88aa-7b7db40957a1 pid=18539)\u001B[0m   table = TableModel.parse(table, region=shapes_name, region_key=region_key, instance_key=instance_key)\n",
      "\u001B[2m\u001B[36m(dask:_compute_fov_table-e815c6dc-5797-42c3-b374-97f738067b58 pid=18709)\u001B[0m /opt/homebrew/Caskroom/mambaforge/base/envs/ark-spatial-dev/lib/python3.11/site-packages/dask/config.py:742: FutureWarning: Dask configuration key 'shuffle' has been deprecated; please use 'dataframe.shuffle.algorithm' instead\u001B[32m [repeated 2x across cluster]\u001B[0m\n",
      "\u001B[2m\u001B[36m(dask:_compute_fov_table-e815c6dc-5797-42c3-b374-97f738067b58 pid=18709)\u001B[0m   warnings.warn(\n",
      "\u001B[2m\u001B[36m(dask:_compute_fov_table-2dc32ab1-0c63-4743-8b90-59aa76447eea pid=18843)\u001B[0m /opt/homebrew/Caskroom/mambaforge/base/envs/ark-spatial-dev/lib/python3.11/site-packages/distributed/node.py:182: UserWarning: Port 8787 is already in use.\n",
      "\u001B[2m\u001B[36m(dask:_compute_fov_table-2dc32ab1-0c63-4743-8b90-59aa76447eea pid=18843)\u001B[0m Perhaps you already have a cluster running?\n",
      "\u001B[2m\u001B[36m(dask:_compute_fov_table-2dc32ab1-0c63-4743-8b90-59aa76447eea pid=18843)\u001B[0m Hosting the HTTP server on port 54867 instead\n",
      "\u001B[2m\u001B[36m(dask:_compute_fov_table-2dc32ab1-0c63-4743-8b90-59aa76447eea pid=18843)\u001B[0m   warnings.warn(\n",
      "\u001B[2m\u001B[36m(dask:_compute_marker_counts-5eacf513-81b5-4d70-8ae0-577b543420f6 pid=18534)\u001B[0m /opt/homebrew/Caskroom/mambaforge/base/envs/ark-spatial-dev/lib/python3.11/site-packages/spatialdata/models/models.py:703: FutureWarning: is_categorical_dtype is deprecated and will be removed in a future version. Use isinstance(dtype, CategoricalDtype) instead\u001B[32m [repeated 5x across cluster]\u001B[0m\n",
      "\u001B[2m\u001B[36m(dask:_compute_marker_counts-5eacf513-81b5-4d70-8ae0-577b543420f6 pid=18534)\u001B[0m   if not is_categorical_dtype(adata.obs[region_key]):\u001B[32m [repeated 5x across cluster]\u001B[0m\n",
      "\u001B[2m\u001B[36m(dask:_compute_marker_counts-5eacf513-81b5-4d70-8ae0-577b543420f6 pid=18534)\u001B[0m /opt/homebrew/Caskroom/mambaforge/base/envs/ark-spatial-dev/lib/python3.11/site-packages/spatialdata/_core/operations/aggregate.py:244: UserWarning: Converting `region_key: region` to categorical dtype.\u001B[32m [repeated 5x across cluster]\u001B[0m\n",
      "\u001B[2m\u001B[36m(dask:_compute_marker_counts-5eacf513-81b5-4d70-8ae0-577b543420f6 pid=18534)\u001B[0m   table = TableModel.parse(table, region=shapes_name, region_key=region_key, instance_key=instance_key)\u001B[32m [repeated 5x across cluster]\u001B[0m\n",
      "\u001B[2m\u001B[36m(dask:_compute_fov_table-2dc32ab1-0c63-4743-8b90-59aa76447eea pid=18843)\u001B[0m   warnings.warn(\n",
      "\u001B[2m\u001B[36m(dask:_compute_fov_table-2dc32ab1-0c63-4743-8b90-59aa76447eea pid=18843)\u001B[0m /opt/homebrew/Caskroom/mambaforge/base/envs/ark-spatial-dev/lib/python3.11/site-packages/dask/config.py:742: FutureWarning: Dask configuration key 'shuffle' has been deprecated; please use 'dataframe.shuffle.algorithm' instead\n",
      "\u001B[2m\u001B[36m(dask:('from-dask-array-763d6ccba87b111ef3ff25f1e7849f72', 0) pid=18539)\u001B[0m 2023-09-25 14:01:46,002 - distributed.worker - ERROR - Failed to communicate with scheduler during heartbeat.\n",
      "\u001B[2m\u001B[36m(dask:('from-dask-array-763d6ccba87b111ef3ff25f1e7849f72', 0) pid=18539)\u001B[0m Traceback (most recent call last):\n",
      "\u001B[2m\u001B[36m(dask:('from-dask-array-763d6ccba87b111ef3ff25f1e7849f72', 0) pid=18539)\u001B[0m   File \"/opt/homebrew/Caskroom/mambaforge/base/envs/ark-spatial-dev/lib/python3.11/site-packages/distributed/comm/tcp.py\", line 224, in read\n",
      "\u001B[2m\u001B[36m(dask:('from-dask-array-763d6ccba87b111ef3ff25f1e7849f72', 0) pid=18539)\u001B[0m     frames_nbytes = await stream.read_bytes(fmt_size)\n",
      "\u001B[2m\u001B[36m(dask:('from-dask-array-763d6ccba87b111ef3ff25f1e7849f72', 0) pid=18539)\u001B[0m                     ^^^^^^^^^^^^^^^^^^^^^^^^^^^^^^^^^\n",
      "\u001B[2m\u001B[36m(dask:('from-dask-array-763d6ccba87b111ef3ff25f1e7849f72', 0) pid=18539)\u001B[0m tornado.iostream.StreamClosedError: Stream is closed\n",
      "\u001B[2m\u001B[36m(dask:('from-dask-array-763d6ccba87b111ef3ff25f1e7849f72', 0) pid=18539)\u001B[0m \n",
      "\u001B[2m\u001B[36m(dask:('from-dask-array-763d6ccba87b111ef3ff25f1e7849f72', 0) pid=18539)\u001B[0m The above exception was the direct cause of the following exception:\n",
      "\u001B[2m\u001B[36m(dask:('from-dask-array-763d6ccba87b111ef3ff25f1e7849f72', 0) pid=18539)\u001B[0m \n",
      "\u001B[2m\u001B[36m(dask:('from-dask-array-763d6ccba87b111ef3ff25f1e7849f72', 0) pid=18539)\u001B[0m Traceback (most recent call last):\n",
      "\u001B[2m\u001B[36m(dask:('from-dask-array-763d6ccba87b111ef3ff25f1e7849f72', 0) pid=18539)\u001B[0m   File \"/opt/homebrew/Caskroom/mambaforge/base/envs/ark-spatial-dev/lib/python3.11/site-packages/distributed/worker.py\", line 1253, in heartbeat\n",
      "\u001B[2m\u001B[36m(dask:('from-dask-array-763d6ccba87b111ef3ff25f1e7849f72', 0) pid=18539)\u001B[0m     response = await retry_operation(\n",
      "\u001B[2m\u001B[36m(dask:('from-dask-array-763d6ccba87b111ef3ff25f1e7849f72', 0) pid=18539)\u001B[0m                ^^^^^^^^^^^^^^^^^^^^^^\n",
      "\u001B[2m\u001B[36m(dask:('from-dask-array-763d6ccba87b111ef3ff25f1e7849f72', 0) pid=18539)\u001B[0m   File \"/opt/homebrew/Caskroom/mambaforge/base/envs/ark-spatial-dev/lib/python3.11/site-packages/distributed/utils_comm.py\", line 454, in retry_operation\n",
      "\u001B[2m\u001B[36m(dask:('from-dask-array-763d6ccba87b111ef3ff25f1e7849f72', 0) pid=18539)\u001B[0m     return await retry(\n",
      "\u001B[2m\u001B[36m(dask:('from-dask-array-763d6ccba87b111ef3ff25f1e7849f72', 0) pid=18539)\u001B[0m            ^^^^^^^^^^^^\n",
      "\u001B[2m\u001B[36m(dask:('from-dask-array-763d6ccba87b111ef3ff25f1e7849f72', 0) pid=18539)\u001B[0m   File \"/opt/homebrew/Caskroom/mambaforge/base/envs/ark-spatial-dev/lib/python3.11/site-packages/distributed/utils_comm.py\", line 433, in retry\n",
      "\u001B[2m\u001B[36m(dask:('from-dask-array-763d6ccba87b111ef3ff25f1e7849f72', 0) pid=18539)\u001B[0m     return await coro()\n",
      "\u001B[2m\u001B[36m(dask:('from-dask-array-763d6ccba87b111ef3ff25f1e7849f72', 0) pid=18539)\u001B[0m            ^^^^^^^^^^^^\n",
      "\u001B[2m\u001B[36m(dask:('from-dask-array-763d6ccba87b111ef3ff25f1e7849f72', 0) pid=18539)\u001B[0m   File \"/opt/homebrew/Caskroom/mambaforge/base/envs/ark-spatial-dev/lib/python3.11/site-packages/distributed/core.py\", line 1347, in send_recv_from_rpc\n",
      "\u001B[2m\u001B[36m(dask:('from-dask-array-763d6ccba87b111ef3ff25f1e7849f72', 0) pid=18539)\u001B[0m     return await send_recv(comm=comm, op=key, **kwargs)\n",
      "\u001B[2m\u001B[36m(dask:('from-dask-array-763d6ccba87b111ef3ff25f1e7849f72', 0) pid=18539)\u001B[0m            ^^^^^^^^^^^^^^^^^^^^^^^^^^^^^^^^^^^^^^^^^^^^\n",
      "\u001B[2m\u001B[36m(dask:('from-dask-array-763d6ccba87b111ef3ff25f1e7849f72', 0) pid=18539)\u001B[0m   File \"/opt/homebrew/Caskroom/mambaforge/base/envs/ark-spatial-dev/lib/python3.11/site-packages/distributed/core.py\", line 1106, in send_recv\n",
      "\u001B[2m\u001B[36m(dask:('from-dask-array-763d6ccba87b111ef3ff25f1e7849f72', 0) pid=18539)\u001B[0m     response = await comm.read(deserializers=deserializers)\n",
      "\u001B[2m\u001B[36m(dask:('from-dask-array-763d6ccba87b111ef3ff25f1e7849f72', 0) pid=18539)\u001B[0m                ^^^^^^^^^^^^^^^^^^^^^^^^^^^^^^^^^^^^^^^^^^^^\n",
      "\u001B[2m\u001B[36m(dask:('from-dask-array-763d6ccba87b111ef3ff25f1e7849f72', 0) pid=18539)\u001B[0m   File \"/opt/homebrew/Caskroom/mambaforge/base/envs/ark-spatial-dev/lib/python3.11/site-packages/distributed/comm/tcp.py\", line 240, in read\n",
      "\u001B[2m\u001B[36m(dask:('from-dask-array-763d6ccba87b111ef3ff25f1e7849f72', 0) pid=18539)\u001B[0m     convert_stream_closed_error(self, e)\n",
      "\u001B[2m\u001B[36m(dask:('from-dask-array-763d6ccba87b111ef3ff25f1e7849f72', 0) pid=18539)\u001B[0m   File \"/opt/homebrew/Caskroom/mambaforge/base/envs/ark-spatial-dev/lib/python3.11/site-packages/distributed/comm/tcp.py\", line 143, in convert_stream_closed_error\n",
      "\u001B[2m\u001B[36m(dask:('from-dask-array-763d6ccba87b111ef3ff25f1e7849f72', 0) pid=18539)\u001B[0m     raise CommClosedError(f\"in {obj}: {exc}\") from exc\n",
      "\u001B[2m\u001B[36m(dask:('from-dask-array-763d6ccba87b111ef3ff25f1e7849f72', 0) pid=18539)\u001B[0m distributed.comm.core.CommClosedError: in <TCP (closed) ConnectionPool.heartbeat_worker local=tcp://127.0.0.1:54208 remote=tcp://127.0.0.1:53830>: Stream is closed\n",
      "\u001B[2m\u001B[36m(dask:compute_region_props_df-25caebf8-c9b2-4013-9b3c-cd0f397c81c8 pid=18917)\u001B[0m /opt/homebrew/Caskroom/mambaforge/base/envs/ark-spatial-dev/lib/python3.11/site-packages/distributed/node.py:182: UserWarning: Port 8787 is already in use.\n",
      "\u001B[2m\u001B[36m(dask:compute_region_props_df-25caebf8-c9b2-4013-9b3c-cd0f397c81c8 pid=18917)\u001B[0m Perhaps you already have a cluster running?\n",
      "\u001B[2m\u001B[36m(dask:compute_region_props_df-25caebf8-c9b2-4013-9b3c-cd0f397c81c8 pid=18917)\u001B[0m Hosting the HTTP server on port 54921 instead\n",
      "\u001B[2m\u001B[36m(dask:compute_region_props_df-25caebf8-c9b2-4013-9b3c-cd0f397c81c8 pid=18917)\u001B[0m   warnings.warn(\n",
      "\u001B[2m\u001B[36m(dask:compute_region_props_df-25caebf8-c9b2-4013-9b3c-cd0f397c81c8 pid=18917)\u001B[0m /opt/homebrew/Caskroom/mambaforge/base/envs/ark-spatial-dev/lib/python3.11/site-packages/dask/config.py:742: FutureWarning: Dask configuration key 'shuffle' has been deprecated; please use 'dataframe.shuffle.algorithm' instead\n",
      "\u001B[2m\u001B[36m(dask:compute_region_props_df-25caebf8-c9b2-4013-9b3c-cd0f397c81c8 pid=18917)\u001B[0m   warnings.warn(\n",
      "\u001B[2m\u001B[36m(dask:_compute_marker_counts-27cf9841-44d1-4453-b1fc-a2524dc11da8 pid=18536)\u001B[0m /opt/homebrew/Caskroom/mambaforge/base/envs/ark-spatial-dev/lib/python3.11/site-packages/spatialdata/models/models.py:703: FutureWarning: is_categorical_dtype is deprecated and will be removed in a future version. Use isinstance(dtype, CategoricalDtype) instead\n",
      "\u001B[2m\u001B[36m(dask:_compute_marker_counts-27cf9841-44d1-4453-b1fc-a2524dc11da8 pid=18536)\u001B[0m   if not is_categorical_dtype(adata.obs[region_key]):\n",
      "\u001B[2m\u001B[36m(dask:_compute_marker_counts-27cf9841-44d1-4453-b1fc-a2524dc11da8 pid=18536)\u001B[0m /opt/homebrew/Caskroom/mambaforge/base/envs/ark-spatial-dev/lib/python3.11/site-packages/spatialdata/_core/operations/aggregate.py:244: UserWarning: Converting `region_key: region` to categorical dtype.\n",
      "\u001B[2m\u001B[36m(dask:_compute_marker_counts-27cf9841-44d1-4453-b1fc-a2524dc11da8 pid=18536)\u001B[0m   table = TableModel.parse(table, region=shapes_name, region_key=region_key, instance_key=instance_key)\n",
      "/opt/homebrew/Caskroom/mambaforge/base/envs/ark-spatial-dev/lib/python3.11/site-packages/anndata/_core/merge.py:217: FutureWarning: is_categorical_dtype is deprecated and will be removed in a future version. Use isinstance(dtype, CategoricalDtype) instead\n",
      "  if pd.api.types.is_categorical_dtype(dtype):\n",
      "/opt/homebrew/Caskroom/mambaforge/base/envs/ark-spatial-dev/lib/python3.11/site-packages/anndata/_core/anndata.py:121: ImplicitModificationWarning: Transforming to str index.\n",
      "  warnings.warn(\"Transforming to str index.\", ImplicitModificationWarning)\n",
      "/opt/homebrew/Caskroom/mambaforge/base/envs/ark-spatial-dev/lib/python3.11/site-packages/anndata/_core/anndata.py:1838: UserWarning: Observation names are not unique. To make them unique, call `.obs_names_make_unique`.\n",
      "  utils.warn_names_duplicates(\"obs\")\n",
      "/opt/homebrew/Caskroom/mambaforge/base/envs/ark-spatial-dev/lib/python3.11/site-packages/spatialdata/_io/format.py:169: FutureWarning: is_categorical_dtype is deprecated and will be removed in a future version. Use isinstance(dtype, CategoricalDtype) instead\n",
      "  if region_key is not None and not is_categorical_dtype(table.obs[region_key]):\n"
     ]
    }
   ],
   "source": [
    "sdata.marker_quantification.generate_cell_table()"
   ]
  },
  {
   "cell_type": "markdown",
   "source": [
    "## Visualize the `SpatialData` object with Napari\n",
    "\n",
    "We can view the contents of the object using Napari.\n",
    "\n"
   ],
   "metadata": {
    "collapsed": false
   }
  },
  {
   "cell_type": "code",
   "execution_count": 8,
   "outputs": [],
   "source": [
    "from napari_spatialdata import Interactive\n"
   ],
   "metadata": {
    "collapsed": false,
    "ExecuteTime": {
     "end_time": "2023-09-25T21:02:17.318595Z",
     "start_time": "2023-09-25T21:02:17.249792Z"
    }
   }
  },
  {
   "cell_type": "code",
   "execution_count": 9,
   "outputs": [
    {
     "data": {
      "text/plain": "<napari_spatialdata._interactive.Interactive at 0x2c9d77550>"
     },
     "execution_count": 9,
     "metadata": {},
     "output_type": "execute_result"
    }
   ],
   "source": [
    "Interactive(sdata)"
   ],
   "metadata": {
    "collapsed": false,
    "ExecuteTime": {
     "end_time": "2023-09-25T21:02:21.218134Z",
     "start_time": "2023-09-25T21:02:19.389916Z"
    }
   }
  },
  {
   "cell_type": "code",
   "execution_count": null,
   "outputs": [],
   "source": [],
   "metadata": {
    "collapsed": false
   }
  }
 ],
 "metadata": {
  "kernelspec": {
   "display_name": "ark-spatial",
   "language": "python",
   "name": "python3"
  },
  "language_info": {
   "codemirror_mode": {
    "name": "ipython",
    "version": 3
   },
   "file_extension": ".py",
   "mimetype": "text/x-python",
   "name": "python",
   "nbconvert_exporter": "python",
   "pygments_lexer": "ipython3"
  }
 },
 "nbformat": 4,
 "nbformat_minor": 2
}
