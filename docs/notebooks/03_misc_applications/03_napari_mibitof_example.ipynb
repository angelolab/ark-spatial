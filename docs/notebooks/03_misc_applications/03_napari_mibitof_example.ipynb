{
 "cells": [
  {
   "cell_type": "markdown",
   "source": [
    "# MIBI-TOF Example with SquidPy and Napari"
   ],
   "metadata": {
    "collapsed": false
   },
   "id": "3feb59dab660ac5"
  },
  {
   "cell_type": "code",
   "execution_count": null,
   "outputs": [],
   "source": [
    "import ark\n",
    "import spatialdata as sd\n",
    "from napari_spatialdata import Interactive\n",
    "import spatialdata_plot\n",
    "import squidpy as sq\n",
    "import scanpy as sc\n",
    "from pathlib import Path"
   ],
   "metadata": {
    "collapsed": false
   },
   "id": "ced21776ac3bcf94"
  },
  {
   "cell_type": "markdown",
   "source": [],
   "metadata": {
    "collapsed": false
   },
   "id": "73c7b1db5571226d"
  },
  {
   "cell_type": "code",
   "execution_count": null,
   "outputs": [],
   "source": [
    "!mkdir ../../../data/mibitof_example_data/\n",
    "!mkdir ../../../data/mibitof_example_data/mibitof_data\n",
    "!wget -P ../../../data/mibitof_example_data/mibitof_data https://s3.embl.de/spatialdata/spatialdata-sandbox/mibitof.zip\n",
    "!tar -xzf ../../../data/mibitof_example_data/mibitof_data/mibitof.zip -C ../../../data/mibitof_example_data/mibitof_data/."
   ],
   "metadata": {
    "collapsed": false
   },
   "id": "eb9b9c89caa03bae"
  },
  {
   "cell_type": "code",
   "execution_count": null,
   "outputs": [],
   "source": [
    "sdata = sd.read_zarr(\"../../../data/mibitof_example_data/mibitof_data/data.zarr\")\n",
    "sdata"
   ],
   "metadata": {
    "collapsed": false
   },
   "id": "fd165881d68aaa3"
  },
  {
   "cell_type": "code",
   "execution_count": null,
   "outputs": [],
   "source": [
    "sdata.table.uns"
   ],
   "metadata": {
    "collapsed": false
   },
   "id": "9bfdbd6ff2994d2a"
  },
  {
   "cell_type": "code",
   "execution_count": null,
   "outputs": [],
   "source": [
    "sdata.table.uns[\"spatialdata_attrs\"][\"instance_key\"] = \"instance_id\"\n",
    "sdata.table.uns[\"spatialdata_attrs\"][\"region_key\"] = \"region\"\n",
    "sdata.table.obs.rename(columns={\"library_id\": \"region\", \"cell_id\": \"instance_id\"}, inplace=True)\n",
    "sdata.table.obs"
   ],
   "metadata": {
    "collapsed": false
   },
   "id": "7f90c43b79c7095d"
  },
  {
   "cell_type": "markdown",
   "source": [
    "## Co-occurrence across spatial dimensions\n",
    "\n",
    "We can visualize cluster co-occurrence in spatial dimensions using the original spatial coordinates. The co-occurrence score is defined as:\n",
    "\n",
    "$$\\frac{p(A|B)}{p(A)} $$\n",
    "\n",
    "where $p(A|B)$ is the conditional probability of observing a cluster $exp$ conditioned on the presence of a cluster $cond$, whereas $p(A)$ is the probability of observing in the radius size of interest. The score is computed across increasing radii size around each cell in the tissue.\n",
    "\n",
    "\"co-occurrence\" aka conditional probability can be extended to multiple clusters as well.\n",
    "\n"
   ],
   "metadata": {
    "collapsed": false
   },
   "id": "d735a5b520381608"
  },
  {
   "cell_type": "code",
   "execution_count": null,
   "outputs": [],
   "source": [
    "for fov_id, fov_sd in sdata.iter_coords:\n",
    "    sq.gr.co_occurrence(fov_sd, cluster_key=\"Cluster\")\n",
    "    \n",
    "    sq.pl.co_occurrence(\n",
    "        fov_sd.table,\n",
    "        cluster_key=\"Cluster\",\n",
    "        clusters=[\"Epithelial\", \"Imm_other\", \"Myeloid_CD68\"],\n",
    "        figsize=(15, 4),\n",
    "    )"
   ],
   "metadata": {
    "collapsed": false
   },
   "id": "f2d2f55576c32308"
  },
  {
   "cell_type": "code",
   "execution_count": null,
   "outputs": [],
   "source": [
    "sds = []\n",
    "\n",
    "for fov_id, fov_sd in sdata.iter_coords:\n",
    "    sq.gr.spatial_neighbors(fov_sd, library_key=\"region\",)\n",
    "    sc.pp.pca(fov_sd.table)\n",
    "    sc.pp.neighbors(fov_sd.table)\n",
    "    sc.tl.leiden(fov_sd.table)\n",
    "    sq.gr.nhood_enrichment(fov_sd, cluster_key=\"leiden\")\n",
    "    sq.gr.nhood_enrichment(fov_sd, cluster_key=\"Cluster\")\n",
    "    sq.gr.centrality_scores(fov_sd, cluster_key=\"Cluster\", score = None)\n",
    "    sds.append(fov_sd)"
   ],
   "metadata": {
    "collapsed": false
   },
   "id": "f7a18a0ffd4e91bc"
  },
  {
   "cell_type": "code",
   "execution_count": null,
   "outputs": [],
   "source": [
    "sdata2 = sd.concatenate(sds)"
   ],
   "metadata": {
    "collapsed": false
   },
   "id": "d45f2f03398d0a44"
  },
  {
   "cell_type": "code",
   "execution_count": null,
   "outputs": [],
   "source": [
    "sdata2"
   ],
   "metadata": {
    "collapsed": false
   },
   "id": "4b0369b79cd01ba5"
  },
  {
   "cell_type": "code",
   "execution_count": null,
   "outputs": [],
   "source": [
    "sds[0].table"
   ],
   "metadata": {
    "collapsed": false
   },
   "id": "5c9d6ff123049266"
  },
  {
   "cell_type": "code",
   "execution_count": null,
   "outputs": [],
   "source": [
    "Interactive(sds)"
   ],
   "metadata": {
    "collapsed": false
   },
   "id": "90a8fb74938e24dc"
  },
  {
   "cell_type": "code",
   "execution_count": null,
   "outputs": [],
   "source": [
    "sq.pl.nhood_enrichment(sds[0].table, cluster_key=\"leiden\", figsize=(5, 5))"
   ],
   "metadata": {
    "collapsed": false
   },
   "id": "3bd8608728c22fbe"
  },
  {
   "cell_type": "code",
   "execution_count": null,
   "outputs": [],
   "source": [
    "sq.pl.nhood_enrichment(sds[0].table, cluster_key=\"Cluster\", figsize=(5, 5))"
   ],
   "metadata": {
    "collapsed": false
   },
   "id": "d538f6fdd7437792"
  }
 ],
 "metadata": {
  "kernelspec": {
   "display_name": "Python 3",
   "language": "python",
   "name": "python3"
  },
  "language_info": {
   "codemirror_mode": {
    "name": "ipython",
    "version": 2
   },
   "file_extension": ".py",
   "mimetype": "text/x-python",
   "name": "python",
   "nbconvert_exporter": "python",
   "pygments_lexer": "ipython2",
   "version": "2.7.6"
  }
 },
 "nbformat": 4,
 "nbformat_minor": 5
}
