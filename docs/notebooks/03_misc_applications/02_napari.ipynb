{
 "cells": [
  {
   "cell_type": "markdown",
   "source": [
    "# Visualize Data with `Napari-SpatialData`"
   ],
   "metadata": {
    "collapsed": false
   },
   "id": "68ad69987077b2af"
  },
  {
   "cell_type": "code",
   "execution_count": null,
   "id": "fd0d428c05db1fac",
   "metadata": {},
   "outputs": [],
   "source": [
    "%matplotlib inline\n",
    "import matplotlib.pyplot as plt\n",
    "from napari_spatialdata import Interactive\n",
    "import spatialdata as sd\n",
    "import squidpy as sq\n",
    "import scanpy as sc\n",
    "\n",
    "plt.rcParams['figure.figsize'] = (20, 20)"
   ]
  },
  {
   "cell_type": "code",
   "execution_count": null,
   "id": "bfcf522a86916c13",
   "metadata": {},
   "outputs": [],
   "source": [
    "sdata = sd.read_zarr(store=\"../../../data/cohorts/example_cohort.ome.zarr/\")\n"
   ]
  },
  {
   "cell_type": "code",
   "execution_count": null,
   "id": "b9803cb213d798df",
   "metadata": {},
   "outputs": [],
   "source": [
    "Interactive(sdata)"
   ]
  },
  {
   "cell_type": "code",
   "execution_count": null,
   "outputs": [],
   "source": [
    "sdata.table.uns"
   ],
   "metadata": {
    "collapsed": false
   },
   "id": "7b2946e7b7c0e897"
  },
  {
   "cell_type": "code",
   "execution_count": null,
   "outputs": [],
   "source": [],
   "metadata": {
    "collapsed": false
   },
   "id": "80728d47a0e82c8b"
  }
 ],
 "metadata": {
  "kernelspec": {
   "display_name": "Python 3",
   "language": "python",
   "name": "python3"
  },
  "language_info": {
   "codemirror_mode": {
    "name": "ipython",
    "version": 2
   },
   "file_extension": ".py",
   "mimetype": "text/x-python",
   "name": "python",
   "nbconvert_exporter": "python",
   "pygments_lexer": "ipython2"
  }
 },
 "nbformat": 4,
 "nbformat_minor": 5
}
