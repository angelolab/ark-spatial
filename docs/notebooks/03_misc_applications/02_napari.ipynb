{
 "cells": [
  {
   "cell_type": "markdown",
   "source": [
    "# Visualize Data with `Napari-SpatialData`"
   ],
   "metadata": {
    "collapsed": false
   },
   "id": "68ad69987077b2af"
  },
  {
   "cell_type": "code",
   "execution_count": 5,
   "id": "fd0d428c05db1fac",
   "metadata": {
    "ExecuteTime": {
     "end_time": "2023-10-05T02:42:06.767346Z",
     "start_time": "2023-10-05T02:42:06.764721Z"
    }
   },
   "outputs": [],
   "source": [
    "%matplotlib inline\n",
    "import matplotlib.pyplot as plt\n",
    "from napari_spatialdata import Interactive\n",
    "import spatialdata as sd\n",
    "import squidpy as sq\n",
    "import scanpy as sc\n",
    "\n",
    "plt.rcParams['figure.figsize'] = (20, 20)"
   ]
  },
  {
   "cell_type": "code",
   "execution_count": 6,
   "id": "bfcf522a86916c13",
   "metadata": {
    "ExecuteTime": {
     "end_time": "2023-10-05T02:42:07.055635Z",
     "start_time": "2023-10-05T02:42:06.969256Z"
    }
   },
   "outputs": [],
   "source": [
    "sdata = sd.read_zarr(store=\"../../../data/cohorts/example_cohort.ome.zarr/\")\n"
   ]
  },
  {
   "cell_type": "code",
   "execution_count": 7,
   "id": "b9803cb213d798df",
   "metadata": {
    "ExecuteTime": {
     "end_time": "2023-10-05T02:42:07.779907Z",
     "start_time": "2023-10-05T02:42:07.309930Z"
    }
   },
   "outputs": [
    {
     "data": {
      "text/plain": "<napari_spatialdata._interactive.Interactive at 0x2b83c5c90>"
     },
     "execution_count": 7,
     "metadata": {},
     "output_type": "execute_result"
    }
   ],
   "source": [
    "Interactive(sdata)"
   ]
  },
  {
   "cell_type": "code",
   "execution_count": 8,
   "outputs": [
    {
     "data": {
      "text/plain": "{'spatialdata_attrs': {'instance_key': 'instance_id',\n  'region': ['fov0_whole_cell',\n   'fov1_whole_cell',\n   'fov2_whole_cell',\n   'fov3_whole_cell',\n   'fov4_whole_cell',\n   'fov5_whole_cell',\n   'fov6_whole_cell',\n   'fov7_whole_cell',\n   'fov8_whole_cell',\n   'fov9_whole_cell',\n   'fov10_whole_cell'],\n  'region_key': 'region'}}"
     },
     "execution_count": 8,
     "metadata": {},
     "output_type": "execute_result"
    }
   ],
   "source": [
    "sdata.table.uns"
   ],
   "metadata": {
    "collapsed": false,
    "ExecuteTime": {
     "end_time": "2023-10-05T05:31:03.355321Z",
     "start_time": "2023-10-05T05:31:03.346665Z"
    }
   },
   "id": "7b2946e7b7c0e897"
  },
  {
   "cell_type": "code",
   "execution_count": null,
   "outputs": [],
   "source": [],
   "metadata": {
    "collapsed": false
   },
   "id": "80728d47a0e82c8b"
  }
 ],
 "metadata": {
  "kernelspec": {
   "display_name": "Python 3",
   "language": "python",
   "name": "python3"
  },
  "language_info": {
   "codemirror_mode": {
    "name": "ipython",
    "version": 2
   },
   "file_extension": ".py",
   "mimetype": "text/x-python",
   "name": "python",
   "nbconvert_exporter": "python",
   "pygments_lexer": "ipython2"
  }
 },
 "nbformat": 4,
 "nbformat_minor": 5
}
