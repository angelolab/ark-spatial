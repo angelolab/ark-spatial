{
 "cells": [
  {
   "cell_type": "markdown",
   "source": [
    "# Run some of Squidpy's Spatial Analysis Workflows"
   ],
   "metadata": {
    "collapsed": false
   }
  },
  {
   "cell_type": "code",
   "execution_count": null,
   "metadata": {},
   "outputs": [],
   "source": [
    "from pathlib import Path\n",
    "import ark\n",
    "import scanpy as sc\n",
    "import spatialdata as sd\n",
    "import spatialdata_plot\n",
    "import squidpy as sq"
   ]
  },
  {
   "cell_type": "markdown",
   "metadata": {},
   "source": [
    "Load the data"
   ]
  },
  {
   "cell_type": "code",
   "execution_count": null,
   "metadata": {},
   "outputs": [],
   "source": [
    "sdata = sd.read_zarr(\"../../data/cohorts/example_cohort.ome.zarr/\")"
   ]
  },
  {
   "cell_type": "code",
   "execution_count": null,
   "metadata": {},
   "outputs": [
    {
     "data": {
      "text/plain": [
       "SpatialData object with:\n",
       "├── Images\n",
       "│     ├── 'fov0': SpatialImage[cyx] (22, 512, 512)\n",
       "│     ├── 'fov1': SpatialImage[cyx] (22, 1024, 1024)\n",
       "│     ├── 'fov2': SpatialImage[cyx] (22, 1024, 1024)\n",
       "│     ├── 'fov3': SpatialImage[cyx] (22, 1024, 1024)\n",
       "│     ├── 'fov4': SpatialImage[cyx] (22, 1024, 1024)\n",
       "│     ├── 'fov5': SpatialImage[cyx] (22, 1024, 1024)\n",
       "│     ├── 'fov6': SpatialImage[cyx] (22, 1024, 1024)\n",
       "│     ├── 'fov7': SpatialImage[cyx] (22, 1024, 1024)\n",
       "│     ├── 'fov8': SpatialImage[cyx] (22, 1024, 1024)\n",
       "│     ├── 'fov9': SpatialImage[cyx] (22, 1024, 1024)\n",
       "│     └── 'fov10': SpatialImage[cyx] (22, 1024, 1024)\n",
       "├── Labels\n",
       "│     ├── 'fov0_nuclear': SpatialImage[yx] (512, 512)\n",
       "│     ├── 'fov0_whole_cell': SpatialImage[yx] (512, 512)\n",
       "│     ├── 'fov1_nuclear': SpatialImage[yx] (1024, 1024)\n",
       "│     ├── 'fov1_whole_cell': SpatialImage[yx] (1024, 1024)\n",
       "│     ├── 'fov2_nuclear': SpatialImage[yx] (1024, 1024)\n",
       "│     ├── 'fov2_whole_cell': SpatialImage[yx] (1024, 1024)\n",
       "│     ├── 'fov3_nuclear': SpatialImage[yx] (1024, 1024)\n",
       "│     ├── 'fov3_whole_cell': SpatialImage[yx] (1024, 1024)\n",
       "│     ├── 'fov4_nuclear': SpatialImage[yx] (1024, 1024)\n",
       "│     ├── 'fov4_whole_cell': SpatialImage[yx] (1024, 1024)\n",
       "│     ├── 'fov5_nuclear': SpatialImage[yx] (1024, 1024)\n",
       "│     ├── 'fov5_whole_cell': SpatialImage[yx] (1024, 1024)\n",
       "│     ├── 'fov6_nuclear': SpatialImage[yx] (1024, 1024)\n",
       "│     ├── 'fov6_whole_cell': SpatialImage[yx] (1024, 1024)\n",
       "│     ├── 'fov7_nuclear': SpatialImage[yx] (1024, 1024)\n",
       "│     ├── 'fov7_whole_cell': SpatialImage[yx] (1024, 1024)\n",
       "│     ├── 'fov8_nuclear': SpatialImage[yx] (1024, 1024)\n",
       "│     ├── 'fov8_whole_cell': SpatialImage[yx] (1024, 1024)\n",
       "│     ├── 'fov9_nuclear': SpatialImage[yx] (1024, 1024)\n",
       "│     ├── 'fov9_whole_cell': SpatialImage[yx] (1024, 1024)\n",
       "│     ├── 'fov10_nuclear': SpatialImage[yx] (1024, 1024)\n",
       "│     └── 'fov10_whole_cell': SpatialImage[yx] (1024, 1024)\n",
       "└── Table\n",
       "      └── AnnData object with n_obs × n_vars = 32077 × 22\n",
       "    obs: 'equivalent_diameter', 'axis_major_length', 'instance_id', 'area', 'eccentricity', 'area_convex', 'x_centroid', 'y_centroid', 'axis_minor_length', 'perimeter', 'major_minor_axis_ratio', 'perim_square_over_area', 'major_axis_equiv_diam_ratio', 'convex_hull_equiv_diam_ratio', 'centroid_dif', 'num_concavities', 'region'\n",
       "    uns: 'spatialdata_attrs'\n",
       "    obsm: 'spatial': AnnData (32077, 22)\n",
       "with coordinate systems:\n",
       "▸ 'fov0', with elements:\n",
       "        fov0 (Images), fov0_nuclear (Labels), fov0_whole_cell (Labels)\n",
       "▸ 'fov1', with elements:\n",
       "        fov1 (Images), fov1_nuclear (Labels), fov1_whole_cell (Labels)\n",
       "▸ 'fov2', with elements:\n",
       "        fov2 (Images), fov2_nuclear (Labels), fov2_whole_cell (Labels)\n",
       "▸ 'fov3', with elements:\n",
       "        fov3 (Images), fov3_nuclear (Labels), fov3_whole_cell (Labels)\n",
       "▸ 'fov4', with elements:\n",
       "        fov4 (Images), fov4_nuclear (Labels), fov4_whole_cell (Labels)\n",
       "▸ 'fov5', with elements:\n",
       "        fov5 (Images), fov5_nuclear (Labels), fov5_whole_cell (Labels)\n",
       "▸ 'fov6', with elements:\n",
       "        fov6 (Images), fov6_nuclear (Labels), fov6_whole_cell (Labels)\n",
       "▸ 'fov7', with elements:\n",
       "        fov7 (Images), fov7_nuclear (Labels), fov7_whole_cell (Labels)\n",
       "▸ 'fov8', with elements:\n",
       "        fov8 (Images), fov8_nuclear (Labels), fov8_whole_cell (Labels)\n",
       "▸ 'fov9', with elements:\n",
       "        fov9 (Images), fov9_nuclear (Labels), fov9_whole_cell (Labels)\n",
       "▸ 'fov10', with elements:\n",
       "        fov10 (Images), fov10_nuclear (Labels), fov10_whole_cell (Labels)\n",
       "▸ 'global', with elements:\n",
       "        fov0 (Images), fov1 (Images), fov2 (Images), fov3 (Images), fov4 (Images), fov5 (Images), fov6 (Images), fov7 (Images), fov8 (Images), fov9 (Images), fov10 (Images)"
      ]
     },
     "execution_count": null,
     "metadata": {},
     "output_type": "execute_result"
    }
   ],
   "source": [
    "sdata"
   ]
  },
  {
   "cell_type": "markdown",
   "metadata": {},
   "source": [
    "Compute the nearest neighbors graph for `fov0`"
   ]
  },
  {
   "cell_type": "code",
   "execution_count": null,
   "metadata": {},
   "outputs": [
    {
     "name": "stderr",
     "output_type": "stream",
     "text": [
      "/Users/srivarra/.pyenv/versions/3.11.4/envs/ark-spatial/lib/python3.11/site-packages/anndata/_core/anndata.py:1838: UserWarning: Observation names are not unique. To make them unique, call `.obs_names_make_unique`.\n",
      "  utils.warn_names_duplicates(\"obs\")\n"
     ]
    },
    {
     "data": {
      "text/plain": [
       "SpatialData object with:\n",
       "├── Images\n",
       "│     └── 'fov0': SpatialImage[cyx] (22, 512, 512)\n",
       "├── Labels\n",
       "│     ├── 'fov0_nuclear': SpatialImage[yx] (512, 512)\n",
       "│     └── 'fov0_whole_cell': SpatialImage[yx] (512, 512)\n",
       "└── Table\n",
       "      └── AnnData object with n_obs × n_vars = 1056 × 22\n",
       "    obs: 'equivalent_diameter', 'axis_major_length', 'instance_id', 'area', 'eccentricity', 'area_convex', 'x_centroid', 'y_centroid', 'axis_minor_length', 'perimeter', 'major_minor_axis_ratio', 'perim_square_over_area', 'major_axis_equiv_diam_ratio', 'convex_hull_equiv_diam_ratio', 'centroid_dif', 'num_concavities', 'region'\n",
       "    uns: 'spatialdata_attrs'\n",
       "    obsm: 'spatial': AnnData (1056, 22)\n",
       "with coordinate systems:\n",
       "▸ 'fov0', with elements:\n",
       "        fov0 (Images), fov0_nuclear (Labels), fov0_whole_cell (Labels)\n",
       "▸ 'global', with elements:\n",
       "        fov0 (Images)"
      ]
     },
     "execution_count": null,
     "metadata": {},
     "output_type": "execute_result"
    }
   ],
   "source": [
    "fov0_sd = sdata.sel(\"fov0\")\n",
    "fov0_sd"
   ]
  },
  {
   "cell_type": "code",
   "execution_count": null,
   "metadata": {},
   "outputs": [],
   "source": [
    "sq.gr.spatial_neighbors(fov0_sd)"
   ]
  },
  {
   "cell_type": "code",
   "execution_count": null,
   "metadata": {},
   "outputs": [
    {
     "name": "stderr",
     "output_type": "stream",
     "text": [
      "/Users/srivarra/.pyenv/versions/3.11.4/envs/ark-spatial/lib/python3.11/site-packages/umap/distances.py:1063: NumbaDeprecationWarning: \u001B[1mThe 'nopython' keyword argument was not supplied to the 'numba.jit' decorator. The implicit default value for this argument is currently False, but it will be changed to True in Numba 0.59.0. See https://numba.readthedocs.io/en/stable/reference/deprecation.html#deprecation-of-object-mode-fall-back-behaviour-when-using-jit for details.\u001B[0m\n",
      "  @numba.jit()\n",
      "/Users/srivarra/.pyenv/versions/3.11.4/envs/ark-spatial/lib/python3.11/site-packages/umap/distances.py:1071: NumbaDeprecationWarning: \u001B[1mThe 'nopython' keyword argument was not supplied to the 'numba.jit' decorator. The implicit default value for this argument is currently False, but it will be changed to True in Numba 0.59.0. See https://numba.readthedocs.io/en/stable/reference/deprecation.html#deprecation-of-object-mode-fall-back-behaviour-when-using-jit for details.\u001B[0m\n",
      "  @numba.jit()\n",
      "/Users/srivarra/.pyenv/versions/3.11.4/envs/ark-spatial/lib/python3.11/site-packages/umap/distances.py:1086: NumbaDeprecationWarning: \u001B[1mThe 'nopython' keyword argument was not supplied to the 'numba.jit' decorator. The implicit default value for this argument is currently False, but it will be changed to True in Numba 0.59.0. See https://numba.readthedocs.io/en/stable/reference/deprecation.html#deprecation-of-object-mode-fall-back-behaviour-when-using-jit for details.\u001B[0m\n",
      "  @numba.jit()\n",
      "/Users/srivarra/.pyenv/versions/3.11.4/envs/ark-spatial/lib/python3.11/site-packages/umap/umap_.py:660: NumbaDeprecationWarning: \u001B[1mThe 'nopython' keyword argument was not supplied to the 'numba.jit' decorator. The implicit default value for this argument is currently False, but it will be changed to True in Numba 0.59.0. See https://numba.readthedocs.io/en/stable/reference/deprecation.html#deprecation-of-object-mode-fall-back-behaviour-when-using-jit for details.\u001B[0m\n",
      "  @numba.jit()\n"
     ]
    }
   ],
   "source": [
    "sc.pp.pca(fov0_sd.table)\n",
    "sc.pp.neighbors(fov0_sd.table)\n",
    "sc.tl.leiden(fov0_sd.table)"
   ]
  },
  {
   "cell_type": "code",
   "execution_count": null,
   "metadata": {},
   "outputs": [
    {
     "data": {
      "application/vnd.jupyter.widget-view+json": {
       "model_id": "a60c3adb50874fe59e7d56182bfcc7fd",
       "version_major": 2,
       "version_minor": 0
      },
      "text/plain": [
       "  0%|          | 0/1000 [00:00<?, ?/s]"
      ]
     },
     "metadata": {},
     "output_type": "display_data"
    },
    {
     "name": "stderr",
     "output_type": "stream",
     "text": [
      "/Users/srivarra/.pyenv/versions/3.11.4/envs/ark-spatial/lib/python3.11/site-packages/geopandas/_compat.py:124: UserWarning: The Shapely GEOS version (3.11.1-CAPI-1.17.1) is incompatible with the GEOS version PyGEOS was compiled with (3.10.4-CAPI-1.16.2). Conversions between both will be slow.\n",
      "  warnings.warn(\n",
      "/Users/srivarra/.pyenv/versions/3.11.4/envs/ark-spatial/lib/python3.11/site-packages/spatialdata/__init__.py:9: UserWarning: Geopandas was set to use PyGEOS, changing to shapely 2.0 with:\n",
      "\n",
      "\tgeopandas.options.use_pygeos = True\n",
      "\n",
      "If you intended to use PyGEOS, set the option to False.\n",
      "  _check_geopandas_using_shapely()\n"
     ]
    },
    {
     "data": {
      "image/png": "[encoded data removed]",
      "text/plain": [
       "<Figure size 500x500 with 4 Axes>"
      ]
     },
     "metadata": {},
     "output_type": "display_data"
    }
   ],
   "source": [
    "sq.gr.nhood_enrichment(fov0_sd.table, cluster_key=\"leiden\")\n",
    "sq.pl.nhood_enrichment(fov0_sd.table, cluster_key=\"leiden\", figsize=(5, 5), title = \"fov0\")"
   ]
  },
  {
   "cell_type": "code",
   "execution_count": null,
   "metadata": {},
   "outputs": [],
   "source": [
    "fov0_sd.pl.render_labels(elements=\"fov0\", color=\"leiden\").pl.show()"
   ]
  },
  {
   "cell_type": "code",
   "execution_count": null,
   "metadata": {},
   "outputs": [],
   "source": [
    "fov0_sd.pl.render_images(element=\"fov0\").pl.render_labels(element=\"fov0_whole_cell\", color=\"leiden\").pl.show()"
   ]
  }
 ],
 "metadata": {
  "kernelspec": {
   "display_name": "ark-spatial",
   "language": "python",
   "name": "python3"
  },
  "language_info": {
   "codemirror_mode": {
    "name": "ipython",
    "version": 3
   },
   "file_extension": ".py",
   "mimetype": "text/x-python",
   "name": "python",
   "nbconvert_exporter": "python",
   "pygments_lexer": "ipython3"
  }
 },
 "nbformat": 4,
 "nbformat_minor": 2
}
