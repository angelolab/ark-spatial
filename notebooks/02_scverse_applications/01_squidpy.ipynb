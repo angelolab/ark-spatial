{
 "cells": [
  {
   "cell_type": "code",
   "execution_count": 1,
   "metadata": {},
   "outputs": [
    {
     "name": "stderr",
     "output_type": "stream",
     "text": [
      "/Users/srivarra/.pyenv/versions/3.11.4/envs/ark-spatial/lib/python3.11/site-packages/geopandas/_compat.py:124: UserWarning: The Shapely GEOS version (3.11.1-CAPI-1.17.1) is incompatible with the GEOS version PyGEOS was compiled with (3.10.4-CAPI-1.16.2). Conversions between both will be slow.\n",
      "  warnings.warn(\n",
      "/Users/srivarra/.pyenv/versions/3.11.4/envs/ark-spatial/lib/python3.11/site-packages/spatialdata/__init__.py:9: UserWarning: Geopandas was set to use PyGEOS, changing to shapely 2.0 with:\n",
      "\n",
      "\tgeopandas.options.use_pygeos = True\n",
      "\n",
      "If you intended to use PyGEOS, set the option to False.\n",
      "  _check_geopandas_using_shapely()\n",
      "/Users/srivarra/.pyenv/versions/3.11.4/envs/ark-spatial/lib/python3.11/site-packages/distributed/node.py:182: UserWarning: Port 8787 is already in use.\n",
      "Perhaps you already have a cluster running?\n",
      "Hosting the HTTP server on port 57766 instead\n",
      "  warnings.warn(\n",
      "/Users/srivarra/.pyenv/versions/3.11.4/envs/ark-spatial/lib/python3.11/site-packages/dask/config.py:694: UserWarning: Configuration key \"shuffle\" has been deprecated. Please use \"dataframe.shuffle.algorithm\" instead\n",
      "  warnings.warn(\n"
     ]
    }
   ],
   "source": [
    "from pathlib import Path\n",
    "import ark\n",
    "import scanpy as sc\n",
    "import spatialdata as sd\n",
    "import spatialdata_plot\n",
    "import squidpy as sq"
   ]
  },
  {
   "cell_type": "markdown",
   "metadata": {},
   "source": [
    "Load the data"
   ]
  },
  {
   "cell_type": "code",
   "execution_count": 2,
   "metadata": {},
   "outputs": [
    {
     "name": "stderr",
     "output_type": "stream",
     "text": [
      "/Users/srivarra/.pyenv/versions/3.11.4/envs/ark-spatial/lib/python3.11/site-packages/anndata/_core/anndata.py:1838: UserWarning: Observation names are not unique. To make them unique, call `.obs_names_make_unique`.\n",
      "  utils.warn_names_duplicates(\"obs\")\n"
     ]
    }
   ],
   "source": [
    "sdata = sd.read_zarr(\"../../data/cohorts/example_cohort.ome.zarr/\")"
   ]
  },
  {
   "cell_type": "code",
   "execution_count": 3,
   "metadata": {},
   "outputs": [
    {
     "data": {
      "text/plain": [
       "SpatialData object with:\n",
       "├── Images\n",
       "│     ├── 'fov0': SpatialImage[cyx] (22, 512, 512)\n",
       "│     ├── 'fov1': SpatialImage[cyx] (22, 1024, 1024)\n",
       "│     ├── 'fov2': SpatialImage[cyx] (22, 1024, 1024)\n",
       "│     ├── 'fov3': SpatialImage[cyx] (22, 1024, 1024)\n",
       "│     ├── 'fov4': SpatialImage[cyx] (22, 1024, 1024)\n",
       "│     ├── 'fov5': SpatialImage[cyx] (22, 1024, 1024)\n",
       "│     ├── 'fov6': SpatialImage[cyx] (22, 1024, 1024)\n",
       "│     ├── 'fov7': SpatialImage[cyx] (22, 1024, 1024)\n",
       "│     ├── 'fov8': SpatialImage[cyx] (22, 1024, 1024)\n",
       "│     ├── 'fov9': SpatialImage[cyx] (22, 1024, 1024)\n",
       "│     └── 'fov10': SpatialImage[cyx] (22, 1024, 1024)\n",
       "├── Labels\n",
       "│     ├── 'fov0_nuclear': SpatialImage[yx] (512, 512)\n",
       "│     ├── 'fov0_whole_cell': SpatialImage[yx] (512, 512)\n",
       "│     ├── 'fov1_nuclear': SpatialImage[yx] (1024, 1024)\n",
       "│     ├── 'fov1_whole_cell': SpatialImage[yx] (1024, 1024)\n",
       "│     ├── 'fov2_nuclear': SpatialImage[yx] (1024, 1024)\n",
       "│     ├── 'fov2_whole_cell': SpatialImage[yx] (1024, 1024)\n",
       "│     ├── 'fov3_nuclear': SpatialImage[yx] (1024, 1024)\n",
       "│     ├── 'fov3_whole_cell': SpatialImage[yx] (1024, 1024)\n",
       "│     ├── 'fov4_nuclear': SpatialImage[yx] (1024, 1024)\n",
       "│     ├── 'fov4_whole_cell': SpatialImage[yx] (1024, 1024)\n",
       "│     ├── 'fov5_nuclear': SpatialImage[yx] (1024, 1024)\n",
       "│     ├── 'fov5_whole_cell': SpatialImage[yx] (1024, 1024)\n",
       "│     ├── 'fov6_nuclear': SpatialImage[yx] (1024, 1024)\n",
       "│     ├── 'fov6_whole_cell': SpatialImage[yx] (1024, 1024)\n",
       "│     ├── 'fov7_nuclear': SpatialImage[yx] (1024, 1024)\n",
       "│     ├── 'fov7_whole_cell': SpatialImage[yx] (1024, 1024)\n",
       "│     ├── 'fov8_nuclear': SpatialImage[yx] (1024, 1024)\n",
       "│     ├── 'fov8_whole_cell': SpatialImage[yx] (1024, 1024)\n",
       "│     ├── 'fov9_nuclear': SpatialImage[yx] (1024, 1024)\n",
       "│     ├── 'fov9_whole_cell': SpatialImage[yx] (1024, 1024)\n",
       "│     ├── 'fov10_nuclear': SpatialImage[yx] (1024, 1024)\n",
       "│     └── 'fov10_whole_cell': SpatialImage[yx] (1024, 1024)\n",
       "└── Table\n",
       "      └── AnnData object with n_obs × n_vars = 32077 × 22\n",
       "    obs: 'equivalent_diameter', 'axis_major_length', 'instance_id', 'area', 'eccentricity', 'area_convex', 'x_centroid', 'y_centroid', 'axis_minor_length', 'perimeter', 'major_minor_axis_ratio', 'perim_square_over_area', 'major_axis_equiv_diam_ratio', 'convex_hull_equiv_diam_ratio', 'centroid_dif', 'num_concavities', 'region'\n",
       "    uns: 'spatialdata_attrs'\n",
       "    obsm: 'spatial': AnnData (32077, 22)\n",
       "with coordinate systems:\n",
       "▸ 'fov0', with elements:\n",
       "        fov0 (Images), fov0_nuclear (Labels), fov0_whole_cell (Labels)\n",
       "▸ 'fov1', with elements:\n",
       "        fov1 (Images), fov1_nuclear (Labels), fov1_whole_cell (Labels)\n",
       "▸ 'fov2', with elements:\n",
       "        fov2 (Images), fov2_nuclear (Labels), fov2_whole_cell (Labels)\n",
       "▸ 'fov3', with elements:\n",
       "        fov3 (Images), fov3_nuclear (Labels), fov3_whole_cell (Labels)\n",
       "▸ 'fov4', with elements:\n",
       "        fov4 (Images), fov4_nuclear (Labels), fov4_whole_cell (Labels)\n",
       "▸ 'fov5', with elements:\n",
       "        fov5 (Images), fov5_nuclear (Labels), fov5_whole_cell (Labels)\n",
       "▸ 'fov6', with elements:\n",
       "        fov6 (Images), fov6_nuclear (Labels), fov6_whole_cell (Labels)\n",
       "▸ 'fov7', with elements:\n",
       "        fov7 (Images), fov7_nuclear (Labels), fov7_whole_cell (Labels)\n",
       "▸ 'fov8', with elements:\n",
       "        fov8 (Images), fov8_nuclear (Labels), fov8_whole_cell (Labels)\n",
       "▸ 'fov9', with elements:\n",
       "        fov9 (Images), fov9_nuclear (Labels), fov9_whole_cell (Labels)\n",
       "▸ 'fov10', with elements:\n",
       "        fov10 (Images), fov10_nuclear (Labels), fov10_whole_cell (Labels)\n",
       "▸ 'global', with elements:\n",
       "        fov0 (Images), fov1 (Images), fov2 (Images), fov3 (Images), fov4 (Images), fov5 (Images), fov6 (Images), fov7 (Images), fov8 (Images), fov9 (Images), fov10 (Images)"
      ]
     },
     "execution_count": 3,
     "metadata": {},
     "output_type": "execute_result"
    }
   ],
   "source": [
    "sdata"
   ]
  },
  {
   "cell_type": "markdown",
   "metadata": {},
   "source": [
    "Compute the nearest neighbors graph for `fov0`"
   ]
  },
  {
   "cell_type": "code",
   "execution_count": 17,
   "metadata": {},
   "outputs": [
    {
     "name": "stderr",
     "output_type": "stream",
     "text": [
      "/Users/srivarra/.pyenv/versions/3.11.4/envs/ark-spatial/lib/python3.11/site-packages/anndata/_core/anndata.py:1838: UserWarning: Observation names are not unique. To make them unique, call `.obs_names_make_unique`.\n",
      "  utils.warn_names_duplicates(\"obs\")\n"
     ]
    },
    {
     "data": {
      "text/plain": [
       "SpatialData object with:\n",
       "├── Images\n",
       "│     └── 'fov0': SpatialImage[cyx] (22, 512, 512)\n",
       "├── Labels\n",
       "│     ├── 'fov0_nuclear': SpatialImage[yx] (512, 512)\n",
       "│     └── 'fov0_whole_cell': SpatialImage[yx] (512, 512)\n",
       "└── Table\n",
       "      └── AnnData object with n_obs × n_vars = 1056 × 22\n",
       "    obs: 'equivalent_diameter', 'axis_major_length', 'instance_id', 'area', 'eccentricity', 'area_convex', 'x_centroid', 'y_centroid', 'axis_minor_length', 'perimeter', 'major_minor_axis_ratio', 'perim_square_over_area', 'major_axis_equiv_diam_ratio', 'convex_hull_equiv_diam_ratio', 'centroid_dif', 'num_concavities', 'region'\n",
       "    uns: 'spatialdata_attrs'\n",
       "    obsm: 'spatial': AnnData (1056, 22)\n",
       "with coordinate systems:\n",
       "▸ 'fov0', with elements:\n",
       "        fov0 (Images), fov0_nuclear (Labels), fov0_whole_cell (Labels)\n",
       "▸ 'global', with elements:\n",
       "        fov0 (Images)"
      ]
     },
     "execution_count": 17,
     "metadata": {},
     "output_type": "execute_result"
    }
   ],
   "source": [
    "fov0_sd = sdata.sel(\"fov0\")\n",
    "fov0_sd"
   ]
  },
  {
   "cell_type": "code",
   "execution_count": 5,
   "metadata": {},
   "outputs": [],
   "source": [
    "sq.gr.spatial_neighbors(fov0_sd)"
   ]
  },
  {
   "cell_type": "code",
   "execution_count": 6,
   "metadata": {},
   "outputs": [
    {
     "name": "stderr",
     "output_type": "stream",
     "text": [
      "/Users/srivarra/.pyenv/versions/3.11.4/envs/ark-spatial/lib/python3.11/site-packages/umap/distances.py:1063: NumbaDeprecationWarning: \u001b[1mThe 'nopython' keyword argument was not supplied to the 'numba.jit' decorator. The implicit default value for this argument is currently False, but it will be changed to True in Numba 0.59.0. See https://numba.readthedocs.io/en/stable/reference/deprecation.html#deprecation-of-object-mode-fall-back-behaviour-when-using-jit for details.\u001b[0m\n",
      "  @numba.jit()\n",
      "/Users/srivarra/.pyenv/versions/3.11.4/envs/ark-spatial/lib/python3.11/site-packages/umap/distances.py:1071: NumbaDeprecationWarning: \u001b[1mThe 'nopython' keyword argument was not supplied to the 'numba.jit' decorator. The implicit default value for this argument is currently False, but it will be changed to True in Numba 0.59.0. See https://numba.readthedocs.io/en/stable/reference/deprecation.html#deprecation-of-object-mode-fall-back-behaviour-when-using-jit for details.\u001b[0m\n",
      "  @numba.jit()\n",
      "/Users/srivarra/.pyenv/versions/3.11.4/envs/ark-spatial/lib/python3.11/site-packages/umap/distances.py:1086: NumbaDeprecationWarning: \u001b[1mThe 'nopython' keyword argument was not supplied to the 'numba.jit' decorator. The implicit default value for this argument is currently False, but it will be changed to True in Numba 0.59.0. See https://numba.readthedocs.io/en/stable/reference/deprecation.html#deprecation-of-object-mode-fall-back-behaviour-when-using-jit for details.\u001b[0m\n",
      "  @numba.jit()\n",
      "/Users/srivarra/.pyenv/versions/3.11.4/envs/ark-spatial/lib/python3.11/site-packages/umap/umap_.py:660: NumbaDeprecationWarning: \u001b[1mThe 'nopython' keyword argument was not supplied to the 'numba.jit' decorator. The implicit default value for this argument is currently False, but it will be changed to True in Numba 0.59.0. See https://numba.readthedocs.io/en/stable/reference/deprecation.html#deprecation-of-object-mode-fall-back-behaviour-when-using-jit for details.\u001b[0m\n",
      "  @numba.jit()\n"
     ]
    }
   ],
   "source": [
    "sc.pp.pca(fov0_sd.table)\n",
    "sc.pp.neighbors(fov0_sd.table)\n",
    "sc.tl.leiden(fov0_sd.table)"
   ]
  },
  {
   "cell_type": "code",
   "execution_count": 8,
   "metadata": {},
   "outputs": [
    {
     "data": {
      "application/vnd.jupyter.widget-view+json": {
       "model_id": "ac7a4d2c189c466884ed99005b305021",
       "version_major": 2,
       "version_minor": 0
      },
      "text/plain": [
       "  0%|          | 0/1000 [00:00<?, ?/s]"
      ]
     },
     "metadata": {},
     "output_type": "display_data"
    },
    {
     "name": "stderr",
     "output_type": "stream",
     "text": [
      "/Users/srivarra/.pyenv/versions/3.11.4/envs/ark-spatial/lib/python3.11/site-packages/geopandas/_compat.py:124: UserWarning: The Shapely GEOS version (3.11.1-CAPI-1.17.1) is incompatible with the GEOS version PyGEOS was compiled with (3.10.4-CAPI-1.16.2). Conversions between both will be slow.\n",
      "  warnings.warn(\n",
      "/Users/srivarra/.pyenv/versions/3.11.4/envs/ark-spatial/lib/python3.11/site-packages/spatialdata/__init__.py:9: UserWarning: Geopandas was set to use PyGEOS, changing to shapely 2.0 with:\n",
      "\n",
      "\tgeopandas.options.use_pygeos = True\n",
      "\n",
      "If you intended to use PyGEOS, set the option to False.\n",
      "  _check_geopandas_using_shapely()\n"
     ]
    },
    {
     "data": {
      "image/png": "[encoded data removed]",
      "text/plain": [
       "<Figure size 500x500 with 4 Axes>"
      ]
     },
     "metadata": {},
     "output_type": "display_data"
    }
   ],
   "source": [
    "sq.gr.nhood_enrichment(fov0_sd.table, cluster_key=\"leiden\")\n",
    "sq.pl.nhood_enrichment(fov0_sd.table, cluster_key=\"leiden\", figsize=(5, 5))"
   ]
  },
  {
   "cell_type": "code",
   "execution_count": 13,
   "metadata": {},
   "outputs": [
    {
     "name": "stdout",
     "output_type": "stream",
     "text": [
      "\u001b[34mINFO    \u001b[0m Dropping coordinate system \u001b[32m'global'\u001b[0m since it doesn't have relevant elements.                              \n"
     ]
    },
    {
     "ename": "ValueError",
     "evalue": "buffer source array is read-only",
     "output_type": "error",
     "traceback": [
      "\u001b[0;31m---------------------------------------------------------------------------\u001b[0m",
      "\u001b[0;31mValueError\u001b[0m                                Traceback (most recent call last)",
      "Cell \u001b[0;32mIn[13], line 1\u001b[0m\n\u001b[0;32m----> 1\u001b[0m fov0_sd\u001b[39m.\u001b[39;49mpl\u001b[39m.\u001b[39;49mrender_labels(coordinate_system\u001b[39m=\u001b[39;49m\u001b[39m\"\u001b[39;49m\u001b[39mfov0\u001b[39;49m\u001b[39m\"\u001b[39;49m, color\u001b[39m=\u001b[39;49m\u001b[39m\"\u001b[39;49m\u001b[39mleiden\u001b[39;49m\u001b[39m\"\u001b[39;49m)\u001b[39m.\u001b[39;49mpl\u001b[39m.\u001b[39;49mshow()\n",
      "File \u001b[0;32m~/.pyenv/versions/3.11.4/envs/ark-spatial/lib/python3.11/site-packages/spatialdata_plot/pl/basic.py:710\u001b[0m, in \u001b[0;36mPlotAccessor.show\u001b[0;34m(self, coordinate_systems, legend_fontsize, legend_fontweight, legend_loc, legend_fontoutline, na_in_legend, colorbar, wspace, hspace, ncols, frameon, figsize, dpi, fig, title, share_extent, pad_extent, ax, return_ax, save)\u001b[0m\n\u001b[1;32m    703\u001b[0m         \u001b[39mif\u001b[39;00m is_categorical_dtype(colors):\n\u001b[1;32m    704\u001b[0m             _maybe_set_colors(\n\u001b[1;32m    705\u001b[0m                 source\u001b[39m=\u001b[39msdata\u001b[39m.\u001b[39mtable,\n\u001b[1;32m    706\u001b[0m                 target\u001b[39m=\u001b[39msdata\u001b[39m.\u001b[39mtable,\n\u001b[1;32m    707\u001b[0m                 key\u001b[39m=\u001b[39mparams\u001b[39m.\u001b[39mcolor,\n\u001b[1;32m    708\u001b[0m                 palette\u001b[39m=\u001b[39mparams\u001b[39m.\u001b[39mpalette,\n\u001b[1;32m    709\u001b[0m             )\n\u001b[0;32m--> 710\u001b[0m     _render_labels(\n\u001b[1;32m    711\u001b[0m         sdata\u001b[39m=\u001b[39;49msdata,\n\u001b[1;32m    712\u001b[0m         render_params\u001b[39m=\u001b[39;49mparams,\n\u001b[1;32m    713\u001b[0m         coordinate_system\u001b[39m=\u001b[39;49mcs,\n\u001b[1;32m    714\u001b[0m         ax\u001b[39m=\u001b[39;49max,\n\u001b[1;32m    715\u001b[0m         fig_params\u001b[39m=\u001b[39;49mfig_params,\n\u001b[1;32m    716\u001b[0m         scalebar_params\u001b[39m=\u001b[39;49mscalebar_params,\n\u001b[1;32m    717\u001b[0m         legend_params\u001b[39m=\u001b[39;49mlegend_params,\n\u001b[1;32m    718\u001b[0m     )\n\u001b[1;32m    720\u001b[0m \u001b[39mif\u001b[39;00m title \u001b[39mis\u001b[39;00m \u001b[39mnot\u001b[39;00m \u001b[39mNone\u001b[39;00m:\n\u001b[1;32m    721\u001b[0m     \u001b[39mif\u001b[39;00m \u001b[39mlen\u001b[39m(title) \u001b[39m==\u001b[39m \u001b[39m1\u001b[39m:\n",
      "File \u001b[0;32m~/.pyenv/versions/3.11.4/envs/ark-spatial/lib/python3.11/site-packages/spatialdata_plot/pl/render.py:558\u001b[0m, in \u001b[0;36m_render_labels\u001b[0;34m(sdata, render_params, coordinate_system, ax, fig_params, scalebar_params, legend_params)\u001b[0m\n\u001b[1;32m    545\u001b[0m color_source_vector, color_vector, categorical \u001b[39m=\u001b[39m _set_color_source_vec(\n\u001b[1;32m    546\u001b[0m     adata\u001b[39m=\u001b[39mtable,\n\u001b[1;32m    547\u001b[0m     value_to_plot\u001b[39m=\u001b[39mrender_params\u001b[39m.\u001b[39mcolor,\n\u001b[0;32m   (...)\u001b[0m\n\u001b[1;32m    553\u001b[0m     alpha\u001b[39m=\u001b[39mrender_params\u001b[39m.\u001b[39mfill_alpha,\n\u001b[1;32m    554\u001b[0m )\n\u001b[1;32m    556\u001b[0m \u001b[39mif\u001b[39;00m (render_params\u001b[39m.\u001b[39mfill_alpha \u001b[39m!=\u001b[39m render_params\u001b[39m.\u001b[39moutline_alpha) \u001b[39mand\u001b[39;00m render_params\u001b[39m.\u001b[39mcontour_px \u001b[39mis\u001b[39;00m \u001b[39mnot\u001b[39;00m \u001b[39mNone\u001b[39;00m:\n\u001b[1;32m    557\u001b[0m     \u001b[39m# First get the labels infill and plot them\u001b[39;00m\n\u001b[0;32m--> 558\u001b[0m     labels_infill \u001b[39m=\u001b[39m _map_color_seg(\n\u001b[1;32m    559\u001b[0m         seg\u001b[39m=\u001b[39;49mlabel\u001b[39m.\u001b[39;49mvalues,\n\u001b[1;32m    560\u001b[0m         cell_id\u001b[39m=\u001b[39;49minstance_id,\n\u001b[1;32m    561\u001b[0m         color_vector\u001b[39m=\u001b[39;49mcolor_vector,\n\u001b[1;32m    562\u001b[0m         color_source_vector\u001b[39m=\u001b[39;49mcolor_source_vector,\n\u001b[1;32m    563\u001b[0m         cmap_params\u001b[39m=\u001b[39;49mrender_params\u001b[39m.\u001b[39;49mcmap_params,\n\u001b[1;32m    564\u001b[0m         seg_erosionpx\u001b[39m=\u001b[39;49m\u001b[39mNone\u001b[39;49;00m,\n\u001b[1;32m    565\u001b[0m         seg_boundaries\u001b[39m=\u001b[39;49mrender_params\u001b[39m.\u001b[39;49moutline,\n\u001b[1;32m    566\u001b[0m         na_color\u001b[39m=\u001b[39;49mrender_params\u001b[39m.\u001b[39;49mcmap_params\u001b[39m.\u001b[39;49mna_color,\n\u001b[1;32m    567\u001b[0m     )\n\u001b[1;32m    569\u001b[0m     _cax \u001b[39m=\u001b[39m ax\u001b[39m.\u001b[39mimshow(\n\u001b[1;32m    570\u001b[0m         labels_infill,\n\u001b[1;32m    571\u001b[0m         rasterized\u001b[39m=\u001b[39m\u001b[39mTrue\u001b[39;00m,\n\u001b[0;32m   (...)\u001b[0m\n\u001b[1;32m    576\u001b[0m         \u001b[39m# zorder=3,\u001b[39;00m\n\u001b[1;32m    577\u001b[0m     )\n\u001b[1;32m    578\u001b[0m     cax \u001b[39m=\u001b[39m ax\u001b[39m.\u001b[39madd_image(_cax)\n",
      "File \u001b[0;32m~/.pyenv/versions/3.11.4/envs/ark-spatial/lib/python3.11/site-packages/spatialdata_plot/pl/utils.py:770\u001b[0m, in \u001b[0;36m_map_color_seg\u001b[0;34m(seg, cell_id, color_vector, color_source_vector, cmap_params, seg_erosionpx, seg_boundaries, na_color)\u001b[0m\n\u001b[1;32m    768\u001b[0m     \u001b[39mif\u001b[39;00m \u001b[39misinstance\u001b[39m(na_color, \u001b[39mtuple\u001b[39m) \u001b[39mand\u001b[39;00m \u001b[39mlen\u001b[39m(na_color) \u001b[39m==\u001b[39m \u001b[39m4\u001b[39m \u001b[39mand\u001b[39;00m np\u001b[39m.\u001b[39many(color_source_vector\u001b[39m.\u001b[39misna()):\n\u001b[1;32m    769\u001b[0m         cell_id[color_source_vector\u001b[39m.\u001b[39misna()] \u001b[39m=\u001b[39m \u001b[39m0\u001b[39m\n\u001b[0;32m--> 770\u001b[0m     val_im: ArrayLike \u001b[39m=\u001b[39m map_array(seg, cell_id, color_vector\u001b[39m.\u001b[39;49mcodes \u001b[39m+\u001b[39;49m \u001b[39m1\u001b[39;49m)\n\u001b[1;32m    771\u001b[0m     cols \u001b[39m=\u001b[39m colors\u001b[39m.\u001b[39mto_rgba_array(color_vector\u001b[39m.\u001b[39mcategories)\n\u001b[1;32m    773\u001b[0m \u001b[39melse\u001b[39;00m:\n",
      "File \u001b[0;32m~/.pyenv/versions/3.11.4/envs/ark-spatial/lib/python3.11/site-packages/skimage/util/_map_array.py:57\u001b[0m, in \u001b[0;36mmap_array\u001b[0;34m(input_arr, input_vals, output_vals, out)\u001b[0m\n\u001b[1;32m     55\u001b[0m input_vals \u001b[39m=\u001b[39m input_vals\u001b[39m.\u001b[39mastype(input_arr\u001b[39m.\u001b[39mdtype, copy\u001b[39m=\u001b[39m\u001b[39mFalse\u001b[39;00m)\n\u001b[1;32m     56\u001b[0m output_vals \u001b[39m=\u001b[39m output_vals\u001b[39m.\u001b[39mastype(out\u001b[39m.\u001b[39mdtype, copy\u001b[39m=\u001b[39m\u001b[39mFalse\u001b[39;00m)\n\u001b[0;32m---> 57\u001b[0m _map_array(input_arr, out_view, input_vals, output_vals)\n\u001b[1;32m     58\u001b[0m \u001b[39mreturn\u001b[39;00m out\n",
      "File \u001b[0;32m_remap.pyx:7\u001b[0m, in \u001b[0;36mskimage.util._remap._map_array\u001b[0;34m()\u001b[0m\n",
      "File \u001b[0;32mstringsource:660\u001b[0m, in \u001b[0;36mView.MemoryView.memoryview_cwrapper\u001b[0;34m()\u001b[0m\n",
      "File \u001b[0;32mstringsource:350\u001b[0m, in \u001b[0;36mView.MemoryView.memoryview.__cinit__\u001b[0;34m()\u001b[0m\n",
      "\u001b[0;31mValueError\u001b[0m: buffer source array is read-only"
     ]
    },
    {
     "data": {
      "image/png": "[encoded data removed]",
      "text/plain": [
       "<Figure size 640x480 with 1 Axes>"
      ]
     },
     "metadata": {},
     "output_type": "display_data"
    }
   ],
   "source": [
    "fov0_sd.pl.render_labels(elements=\"fov0\", color=\"leiden\").pl.show()"
   ]
  },
  {
   "cell_type": "code",
   "execution_count": null,
   "metadata": {},
   "outputs": [],
   "source": [
    "fov0_sd.pl.render_images(element=\"fov0\").pl.render_labels(element=\"fov0_whole_cell\", color=\"leiden\").pl.show()"
   ]
  },
  {
   "cell_type": "code",
   "execution_count": null,
   "metadata": {},
   "outputs": [],
   "source": []
  }
 ],
 "metadata": {
  "kernelspec": {
   "display_name": "ark-spatial",
   "language": "python",
   "name": "python3"
  },
  "language_info": {
   "codemirror_mode": {
    "name": "ipython",
    "version": 3
   },
   "file_extension": ".py",
   "mimetype": "text/x-python",
   "name": "python",
   "nbconvert_exporter": "python",
   "pygments_lexer": "ipython3",
   "version": "3.11.4"
  },
  "orig_nbformat": 4
 },
 "nbformat": 4,
 "nbformat_minor": 2
}
