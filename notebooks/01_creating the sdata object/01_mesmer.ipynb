{
 "cells": [
  {
   "cell_type": "code",
   "execution_count": 1,
   "metadata": {},
   "outputs": [],
   "source": [
    "%load_ext autoreload\n",
    "%autoreload 2"
   ]
  },
  {
   "cell_type": "code",
   "execution_count": 2,
   "metadata": {},
   "outputs": [
    {
     "name": "stderr",
     "output_type": "stream",
     "text": [
      "/Users/srivarra/.pyenv/versions/3.11.4/envs/ark-spatial/lib/python3.11/site-packages/geopandas/_compat.py:124: UserWarning: The Shapely GEOS version (3.11.1-CAPI-1.17.1) is incompatible with the GEOS version PyGEOS was compiled with (3.10.4-CAPI-1.16.2). Conversions between both will be slow.\n",
      "  warnings.warn(\n",
      "/Users/srivarra/.pyenv/versions/3.11.4/envs/ark-spatial/lib/python3.11/site-packages/spatialdata/__init__.py:9: UserWarning: Geopandas was set to use PyGEOS, changing to shapely 2.0 with:\n",
      "\n",
      "\tgeopandas.options.use_pygeos = True\n",
      "\n",
      "If you intended to use PyGEOS, set the option to False.\n",
      "  _check_geopandas_using_shapely()\n",
      "/Users/srivarra/.pyenv/versions/3.11.4/envs/ark-spatial/lib/python3.11/site-packages/distributed/node.py:182: UserWarning: Port 8787 is already in use.\n",
      "Perhaps you already have a cluster running?\n",
      "Hosting the HTTP server on port 52977 instead\n",
      "  warnings.warn(\n",
      "/Users/srivarra/.pyenv/versions/3.11.4/envs/ark-spatial/lib/python3.11/site-packages/dask/config.py:694: UserWarning: Configuration key \"shuffle\" has been deprecated. Please use \"dataframe.shuffle.algorithm\" instead\n",
      "  warnings.warn(\n"
     ]
    }
   ],
   "source": [
    "from pathlib import Path\n",
    "import ark\n",
    "import spatialdata as sd"
   ]
  },
  {
   "cell_type": "markdown",
   "metadata": {},
   "source": [
    "Load the Zarr Store as a Spatial Data Object"
   ]
  },
  {
   "cell_type": "code",
   "execution_count": 3,
   "metadata": {},
   "outputs": [],
   "source": [
    "sdata = sd.read_zarr(store=\"../data/cohorts/example_cohort.ome.zarr\")"
   ]
  },
  {
   "cell_type": "code",
   "execution_count": 4,
   "metadata": {},
   "outputs": [
    {
     "data": {
      "text/plain": [
       "SpatialData object with:\n",
       "└── Images\n",
       "      ├── 'fov0': SpatialImage[cyx] (22, 512, 512)\n",
       "      ├── 'fov1': SpatialImage[cyx] (22, 1024, 1024)\n",
       "      ├── 'fov2': SpatialImage[cyx] (22, 1024, 1024)\n",
       "      ├── 'fov3': SpatialImage[cyx] (22, 1024, 1024)\n",
       "      ├── 'fov4': SpatialImage[cyx] (22, 1024, 1024)\n",
       "      ├── 'fov5': SpatialImage[cyx] (22, 1024, 1024)\n",
       "      ├── 'fov6': SpatialImage[cyx] (22, 1024, 1024)\n",
       "      ├── 'fov7': SpatialImage[cyx] (22, 1024, 1024)\n",
       "      ├── 'fov8': SpatialImage[cyx] (22, 1024, 1024)\n",
       "      ├── 'fov9': SpatialImage[cyx] (22, 1024, 1024)\n",
       "      └── 'fov10': SpatialImage[cyx] (22, 1024, 1024)\n",
       "with coordinate systems:\n",
       "▸ 'fov0', with elements:\n",
       "        fov0 (Images)\n",
       "▸ 'fov1', with elements:\n",
       "        fov1 (Images)\n",
       "▸ 'fov2', with elements:\n",
       "        fov2 (Images)\n",
       "▸ 'fov3', with elements:\n",
       "        fov3 (Images)\n",
       "▸ 'fov4', with elements:\n",
       "        fov4 (Images)\n",
       "▸ 'fov5', with elements:\n",
       "        fov5 (Images)\n",
       "▸ 'fov6', with elements:\n",
       "        fov6 (Images)\n",
       "▸ 'fov7', with elements:\n",
       "        fov7 (Images)\n",
       "▸ 'fov8', with elements:\n",
       "        fov8 (Images)\n",
       "▸ 'fov9', with elements:\n",
       "        fov9 (Images)\n",
       "▸ 'fov10', with elements:\n",
       "        fov10 (Images)\n",
       "▸ 'global', with elements:\n",
       "        fov0 (Images), fov1 (Images), fov2 (Images), fov3 (Images), fov4 (Images), fov5 (Images), fov6 (Images), fov7 (Images), fov8 (Images), fov9 (Images), fov10 (Images)"
      ]
     },
     "execution_count": 4,
     "metadata": {},
     "output_type": "execute_result"
    }
   ],
   "source": [
    "sdata"
   ]
  },
  {
   "cell_type": "code",
   "execution_count": 5,
   "metadata": {},
   "outputs": [],
   "source": [
    "nucs = [\"H3K9ac\", \"H3K27me3\"]\n",
    "mems = [\"CD14\", \"CD45\", \"ECAD\"]"
   ]
  },
  {
   "cell_type": "code",
   "execution_count": 6,
   "metadata": {},
   "outputs": [
    {
     "name": "stderr",
     "output_type": "stream",
     "text": [
      "2023-08-31 16:27:05,664\tINFO worker.py:1612 -- Started a local Ray instance. View the dashboard at \u001b[1m\u001b[32mhttp://127.0.0.1:8266 \u001b[39m\u001b[22m\n",
      "no parent found for <ome_zarr.reader.Label object at 0x2dafd5a10>: None\n",
      "no parent found for <ome_zarr.reader.Label object at 0x360c3af10>: None\n",
      "no parent found for <ome_zarr.reader.Label object at 0x360ccc4d0>: None\n",
      "no parent found for <ome_zarr.reader.Label object at 0x360c31690>: None\n",
      "no parent found for <ome_zarr.reader.Label object at 0x3652071d0>: None\n",
      "no parent found for <ome_zarr.reader.Label object at 0x360e1ca90>: None\n",
      "no parent found for <ome_zarr.reader.Label object at 0x360e10e90>: None\n",
      "no parent found for <ome_zarr.reader.Label object at 0x360ee4e90>: None\n",
      "no parent found for <ome_zarr.reader.Label object at 0x360eb4ad0>: None\n",
      "no parent found for <ome_zarr.reader.Label object at 0x360ed5b10>: None\n",
      "no parent found for <ome_zarr.reader.Label object at 0x360e59a90>: None\n",
      "no parent found for <ome_zarr.reader.Label object at 0x360c8a150>: None\n",
      "no parent found for <ome_zarr.reader.Label object at 0x360e28b50>: None\n",
      "no parent found for <ome_zarr.reader.Label object at 0x2dafa23d0>: None\n",
      "no parent found for <ome_zarr.reader.Label object at 0x360e94cd0>: None\n",
      "no parent found for <ome_zarr.reader.Label object at 0x360e102d0>: None\n",
      "no parent found for <ome_zarr.reader.Label object at 0x3608fd850>: None\n",
      "no parent found for <ome_zarr.reader.Label object at 0x360eee650>: None\n",
      "no parent found for <ome_zarr.reader.Label object at 0x360cf6ed0>: None\n",
      "no parent found for <ome_zarr.reader.Label object at 0x36087ab90>: None\n",
      "no parent found for <ome_zarr.reader.Label object at 0x360854050>: None\n",
      "no parent found for <ome_zarr.reader.Label object at 0x360ea8810>: None\n"
     ]
    }
   ],
   "source": [
    "sdata.segmentation.run_deepcell(nucs=nucs, mems=mems)"
   ]
  },
  {
   "cell_type": "code",
   "execution_count": 7,
   "metadata": {},
   "outputs": [
    {
     "data": {
      "text/plain": [
       "SpatialData object with:\n",
       "├── Images\n",
       "│     ├── 'fov0': SpatialImage[cyx] (22, 512, 512)\n",
       "│     ├── 'fov1': SpatialImage[cyx] (22, 1024, 1024)\n",
       "│     ├── 'fov2': SpatialImage[cyx] (22, 1024, 1024)\n",
       "│     ├── 'fov3': SpatialImage[cyx] (22, 1024, 1024)\n",
       "│     ├── 'fov4': SpatialImage[cyx] (22, 1024, 1024)\n",
       "│     ├── 'fov5': SpatialImage[cyx] (22, 1024, 1024)\n",
       "│     ├── 'fov6': SpatialImage[cyx] (22, 1024, 1024)\n",
       "│     ├── 'fov7': SpatialImage[cyx] (22, 1024, 1024)\n",
       "│     ├── 'fov8': SpatialImage[cyx] (22, 1024, 1024)\n",
       "│     ├── 'fov9': SpatialImage[cyx] (22, 1024, 1024)\n",
       "│     └── 'fov10': SpatialImage[cyx] (22, 1024, 1024)\n",
       "└── Labels\n",
       "      ├── 'fov0_nuclear': SpatialImage[yx] (512, 512)\n",
       "      ├── 'fov0_whole_cell': SpatialImage[yx] (512, 512)\n",
       "      ├── 'fov1_nuclear': SpatialImage[yx] (1024, 1024)\n",
       "      ├── 'fov1_whole_cell': SpatialImage[yx] (1024, 1024)\n",
       "      ├── 'fov2_nuclear': SpatialImage[yx] (1024, 1024)\n",
       "      ├── 'fov2_whole_cell': SpatialImage[yx] (1024, 1024)\n",
       "      ├── 'fov3_nuclear': SpatialImage[yx] (1024, 1024)\n",
       "      ├── 'fov3_whole_cell': SpatialImage[yx] (1024, 1024)\n",
       "      ├── 'fov4_nuclear': SpatialImage[yx] (1024, 1024)\n",
       "      ├── 'fov4_whole_cell': SpatialImage[yx] (1024, 1024)\n",
       "      ├── 'fov5_nuclear': SpatialImage[yx] (1024, 1024)\n",
       "      ├── 'fov5_whole_cell': SpatialImage[yx] (1024, 1024)\n",
       "      ├── 'fov6_nuclear': SpatialImage[yx] (1024, 1024)\n",
       "      ├── 'fov6_whole_cell': SpatialImage[yx] (1024, 1024)\n",
       "      ├── 'fov7_nuclear': SpatialImage[yx] (1024, 1024)\n",
       "      ├── 'fov7_whole_cell': SpatialImage[yx] (1024, 1024)\n",
       "      ├── 'fov8_nuclear': SpatialImage[yx] (1024, 1024)\n",
       "      ├── 'fov8_whole_cell': SpatialImage[yx] (1024, 1024)\n",
       "      ├── 'fov9_nuclear': SpatialImage[yx] (1024, 1024)\n",
       "      ├── 'fov9_whole_cell': SpatialImage[yx] (1024, 1024)\n",
       "      ├── 'fov10_nuclear': SpatialImage[yx] (1024, 1024)\n",
       "      └── 'fov10_whole_cell': SpatialImage[yx] (1024, 1024)\n",
       "with coordinate systems:\n",
       "▸ 'fov0', with elements:\n",
       "        fov0 (Images), fov0_nuclear (Labels), fov0_whole_cell (Labels)\n",
       "▸ 'fov1', with elements:\n",
       "        fov1 (Images), fov1_nuclear (Labels), fov1_whole_cell (Labels)\n",
       "▸ 'fov2', with elements:\n",
       "        fov2 (Images), fov2_nuclear (Labels), fov2_whole_cell (Labels)\n",
       "▸ 'fov3', with elements:\n",
       "        fov3 (Images), fov3_nuclear (Labels), fov3_whole_cell (Labels)\n",
       "▸ 'fov4', with elements:\n",
       "        fov4 (Images), fov4_nuclear (Labels), fov4_whole_cell (Labels)\n",
       "▸ 'fov5', with elements:\n",
       "        fov5 (Images), fov5_nuclear (Labels), fov5_whole_cell (Labels)\n",
       "▸ 'fov6', with elements:\n",
       "        fov6 (Images), fov6_nuclear (Labels), fov6_whole_cell (Labels)\n",
       "▸ 'fov7', with elements:\n",
       "        fov7 (Images), fov7_nuclear (Labels), fov7_whole_cell (Labels)\n",
       "▸ 'fov8', with elements:\n",
       "        fov8 (Images), fov8_nuclear (Labels), fov8_whole_cell (Labels)\n",
       "▸ 'fov9', with elements:\n",
       "        fov9 (Images), fov9_nuclear (Labels), fov9_whole_cell (Labels)\n",
       "▸ 'fov10', with elements:\n",
       "        fov10 (Images), fov10_nuclear (Labels), fov10_whole_cell (Labels)\n",
       "▸ 'global', with elements:\n",
       "        fov0 (Images), fov1 (Images), fov2 (Images), fov3 (Images), fov4 (Images), fov5 (Images), fov6 (Images), fov7 (Images), fov8 (Images), fov9 (Images), fov10 (Images)"
      ]
     },
     "execution_count": 7,
     "metadata": {},
     "output_type": "execute_result"
    }
   ],
   "source": [
    "sdata"
   ]
  },
  {
   "cell_type": "code",
   "execution_count": null,
   "metadata": {},
   "outputs": [],
   "source": []
  }
 ],
 "metadata": {
  "kernelspec": {
   "display_name": "ark-spatial",
   "language": "python",
   "name": "python3"
  },
  "language_info": {
   "codemirror_mode": {
    "name": "ipython",
    "version": 3
   },
   "file_extension": ".py",
   "mimetype": "text/x-python",
   "name": "python",
   "nbconvert_exporter": "python",
   "pygments_lexer": "ipython3",
   "version": "3.11.4"
  },
  "orig_nbformat": 4
 },
 "nbformat": 4,
 "nbformat_minor": 2
}
