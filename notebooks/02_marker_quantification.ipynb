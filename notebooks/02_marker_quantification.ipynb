{
 "cells": [
  {
   "cell_type": "code",
   "execution_count": 1,
   "metadata": {},
   "outputs": [],
   "source": [
    "%load_ext autoreload\n",
    "%autoreload 2"
   ]
  },
  {
   "cell_type": "code",
   "execution_count": 2,
   "metadata": {},
   "outputs": [
    {
     "name": "stderr",
     "output_type": "stream",
     "text": [
      "/Users/srivarra/.pyenv/versions/3.11.4/envs/ark-spatial/lib/python3.11/site-packages/geopandas/_compat.py:124: UserWarning: The Shapely GEOS version (3.11.1-CAPI-1.17.1) is incompatible with the GEOS version PyGEOS was compiled with (3.10.4-CAPI-1.16.2). Conversions between both will be slow.\n",
      "  warnings.warn(\n",
      "/Users/srivarra/.pyenv/versions/3.11.4/envs/ark-spatial/lib/python3.11/site-packages/spatialdata/__init__.py:9: UserWarning: Geopandas was set to use PyGEOS, changing to shapely 2.0 with:\n",
      "\n",
      "\tgeopandas.options.use_pygeos = True\n",
      "\n",
      "If you intended to use PyGEOS, set the option to False.\n",
      "  _check_geopandas_using_shapely()\n",
      "/Users/srivarra/.pyenv/versions/3.11.4/envs/ark-spatial/lib/python3.11/site-packages/dask/config.py:694: UserWarning: Configuration key \"shuffle\" has been deprecated. Please use \"dataframe.shuffle.algorithm\" instead\n",
      "  warnings.warn(\n"
     ]
    }
   ],
   "source": [
    "import ark\n",
    "import spatialdata as sd"
   ]
  },
  {
   "cell_type": "code",
   "execution_count": 3,
   "metadata": {},
   "outputs": [],
   "source": [
    "sdata = sd.read_zarr(store=\"../data/cohorts/example_cohort.ome.zarr/\")"
   ]
  },
  {
   "cell_type": "code",
   "execution_count": 9,
   "metadata": {},
   "outputs": [
    {
     "name": "stderr",
     "output_type": "stream",
     "text": [
      "/Users/srivarra/Dev/Python/ark/src/ark/core/_indexing/indexing.py:21: AccessorRegistrationWarning: registration of accessor <class 'ark.core._indexing.indexing.IndexingAccessor'> under name 'sel' for type <class 'spatialdata._core.spatialdata.SpatialData'> is overriding a preexisting attribute with the same name.\n",
      "  @register_spatial_data_accessor(\"sel\")\n",
      "/Users/srivarra/Dev/Python/ark/src/ark/core/_indexing/indexing.py:316: AccessorRegistrationWarning: registration of accessor <class 'ark.core._indexing.indexing.ArkIteratorAccessor'> under name 'ArkIteratorAccessor' for type <class 'spatialdata._core.spatialdata.SpatialData'> is overriding a preexisting attribute with the same name.\n",
      "  @register_spatial_data_accessor(\"ArkIteratorAccessor\")\n",
      "/Users/srivarra/Dev/Python/ark/src/ark/core/_indexing/indexing.py:327: AccessorRegistrationWarning: registration of accessor <class 'ark.core._indexing.indexing.IteratorImageAccessor'> under name 'iter' for type <class 'spatialdata._core.spatialdata.SpatialData'> is overriding a preexisting attribute with the same name.\n",
      "  @register_spatial_data_accessor(\"iter\")\n"
     ]
    },
    {
     "data": {
      "text/plain": [
       "[('fov0',\n",
       "  SpatialData object with:\n",
       "  ├── Images\n",
       "  │     └── 'fov0': SpatialImage[cyx] (22, 512, 512)\n",
       "  └── Labels\n",
       "        └── 'fov0_whole_cell': SpatialImage[yx] (512, 512)\n",
       "  with coordinate systems:\n",
       "  ▸ 'global', with elements:\n",
       "          fov0 (Images), fov0_whole_cell (Labels)),\n",
       " ('fov1',\n",
       "  SpatialData object with:\n",
       "  ├── Images\n",
       "  │     └── 'fov1': SpatialImage[cyx] (22, 1024, 1024)\n",
       "  └── Labels\n",
       "        └── 'fov1_whole_cell': SpatialImage[yx] (1024, 1024)\n",
       "  with coordinate systems:\n",
       "  ▸ 'global', with elements:\n",
       "          fov1 (Images), fov1_whole_cell (Labels)),\n",
       " ('fov2',\n",
       "  SpatialData object with:\n",
       "  ├── Images\n",
       "  │     └── 'fov2': SpatialImage[cyx] (22, 1024, 1024)\n",
       "  └── Labels\n",
       "        └── 'fov2_whole_cell': SpatialImage[yx] (1024, 1024)\n",
       "  with coordinate systems:\n",
       "  ▸ 'global', with elements:\n",
       "          fov2 (Images), fov2_whole_cell (Labels)),\n",
       " ('fov3',\n",
       "  SpatialData object with:\n",
       "  ├── Images\n",
       "  │     └── 'fov3': SpatialImage[cyx] (22, 1024, 1024)\n",
       "  └── Labels\n",
       "        └── 'fov3_whole_cell': SpatialImage[yx] (1024, 1024)\n",
       "  with coordinate systems:\n",
       "  ▸ 'global', with elements:\n",
       "          fov3 (Images), fov3_whole_cell (Labels)),\n",
       " ('fov4',\n",
       "  SpatialData object with:\n",
       "  ├── Images\n",
       "  │     └── 'fov4': SpatialImage[cyx] (22, 1024, 1024)\n",
       "  └── Labels\n",
       "        └── 'fov4_whole_cell': SpatialImage[yx] (1024, 1024)\n",
       "  with coordinate systems:\n",
       "  ▸ 'global', with elements:\n",
       "          fov4 (Images), fov4_whole_cell (Labels)),\n",
       " ('fov5',\n",
       "  SpatialData object with:\n",
       "  ├── Images\n",
       "  │     └── 'fov5': SpatialImage[cyx] (22, 1024, 1024)\n",
       "  └── Labels\n",
       "        └── 'fov5_whole_cell': SpatialImage[yx] (1024, 1024)\n",
       "  with coordinate systems:\n",
       "  ▸ 'global', with elements:\n",
       "          fov5 (Images), fov5_whole_cell (Labels)),\n",
       " ('fov6',\n",
       "  SpatialData object with:\n",
       "  ├── Images\n",
       "  │     └── 'fov6': SpatialImage[cyx] (22, 1024, 1024)\n",
       "  └── Labels\n",
       "        └── 'fov6_whole_cell': SpatialImage[yx] (1024, 1024)\n",
       "  with coordinate systems:\n",
       "  ▸ 'global', with elements:\n",
       "          fov6 (Images), fov6_whole_cell (Labels)),\n",
       " ('fov7',\n",
       "  SpatialData object with:\n",
       "  ├── Images\n",
       "  │     └── 'fov7': SpatialImage[cyx] (22, 1024, 1024)\n",
       "  └── Labels\n",
       "        └── 'fov7_whole_cell': SpatialImage[yx] (1024, 1024)\n",
       "  with coordinate systems:\n",
       "  ▸ 'global', with elements:\n",
       "          fov7 (Images), fov7_whole_cell (Labels)),\n",
       " ('fov8',\n",
       "  SpatialData object with:\n",
       "  ├── Images\n",
       "  │     └── 'fov8': SpatialImage[cyx] (22, 1024, 1024)\n",
       "  └── Labels\n",
       "        └── 'fov8_whole_cell': SpatialImage[yx] (1024, 1024)\n",
       "  with coordinate systems:\n",
       "  ▸ 'global', with elements:\n",
       "          fov8 (Images), fov8_whole_cell (Labels)),\n",
       " ('fov9',\n",
       "  SpatialData object with:\n",
       "  ├── Images\n",
       "  │     └── 'fov9': SpatialImage[cyx] (22, 1024, 1024)\n",
       "  └── Labels\n",
       "        └── 'fov9_whole_cell': SpatialImage[yx] (1024, 1024)\n",
       "  with coordinate systems:\n",
       "  ▸ 'global', with elements:\n",
       "          fov9 (Images), fov9_whole_cell (Labels)),\n",
       " ('fov10',\n",
       "  SpatialData object with:\n",
       "  ├── Images\n",
       "  │     └── 'fov10': SpatialImage[cyx] (22, 1024, 1024)\n",
       "  └── Labels\n",
       "        └── 'fov10_whole_cell': SpatialImage[yx] (1024, 1024)\n",
       "  with coordinate systems:\n",
       "  ▸ 'global', with elements:\n",
       "          fov10 (Images), fov10_whole_cell (Labels))]"
      ]
     },
     "execution_count": 9,
     "metadata": {},
     "output_type": "execute_result"
    }
   ],
   "source": [
    "list(sdata.iter.cohort(labels=\"whole_cell\"))"
   ]
  },
  {
   "cell_type": "code",
   "execution_count": 11,
   "metadata": {},
   "outputs": [
    {
     "name": "stderr",
     "output_type": "stream",
     "text": [
      "/Users/srivarra/Dev/Python/ark/src/ark/core/_segmentation/marker_quantification.py:18: AccessorRegistrationWarning: registration of accessor <class 'ark.core._segmentation.marker_quantification.MarkerQuantificationAccessor'> under name 'marker_quantification' for type <class 'spatialdata._core.spatialdata.SpatialData'> is overriding a preexisting attribute with the same name.\n",
      "  @register_spatial_data_accessor(\"marker_quantification\")\n"
     ]
    },
    {
     "data": {
      "application/vnd.jupyter.widget-view+json": {
       "model_id": "e8248ad95daf41bd98338e3ae281b583",
       "version_major": 2,
       "version_minor": 0
      },
      "text/plain": [
       "  0%|          | 0/11 [00:00<?, ?it/s]"
      ]
     },
     "metadata": {},
     "output_type": "display_data"
    },
    {
     "name": "stderr",
     "output_type": "stream",
     "text": [
      "\u001b[2m\u001b[36m(dask:regionprops_df-6068a3e0-cc2e-46c9-bc1d-ea9fcac2f3f0 pid=34955)\u001b[0m /Users/srivarra/.pyenv/versions/3.11.4/envs/ark-spatial/lib/python3.11/site-packages/geopandas/_compat.py:124: UserWarning: The Shapely GEOS version (3.11.1-CAPI-1.17.1) is incompatible with the GEOS version PyGEOS was compiled with (3.10.4-CAPI-1.16.2). Conversions between both will be slow.\n",
      "\u001b[2m\u001b[36m(dask:regionprops_df-6068a3e0-cc2e-46c9-bc1d-ea9fcac2f3f0 pid=34955)\u001b[0m   warnings.warn(\n",
      "\u001b[2m\u001b[36m(dask:regionprops_df-6068a3e0-cc2e-46c9-bc1d-ea9fcac2f3f0 pid=34955)\u001b[0m /Users/srivarra/.pyenv/versions/3.11.4/envs/ark-spatial/lib/python3.11/site-packages/spatialdata/__init__.py:9: UserWarning: Geopandas was set to use PyGEOS, changing to shapely 2.0 with:\n",
      "\u001b[2m\u001b[36m(dask:regionprops_df-6068a3e0-cc2e-46c9-bc1d-ea9fcac2f3f0 pid=34955)\u001b[0m \n",
      "\u001b[2m\u001b[36m(dask:regionprops_df-6068a3e0-cc2e-46c9-bc1d-ea9fcac2f3f0 pid=34955)\u001b[0m \tgeopandas.options.use_pygeos = True\n",
      "\u001b[2m\u001b[36m(dask:regionprops_df-6068a3e0-cc2e-46c9-bc1d-ea9fcac2f3f0 pid=34955)\u001b[0m \n",
      "\u001b[2m\u001b[36m(dask:regionprops_df-6068a3e0-cc2e-46c9-bc1d-ea9fcac2f3f0 pid=34955)\u001b[0m If you intended to use PyGEOS, set the option to False.\n",
      "\u001b[2m\u001b[36m(dask:regionprops_df-6068a3e0-cc2e-46c9-bc1d-ea9fcac2f3f0 pid=34955)\u001b[0m   _check_geopandas_using_shapely()\n",
      "\u001b[2m\u001b[36m(dask:('assign-9f90efbc750289f8f0298d03658c22fd', 0) pid=32100)\u001b[0m 2023-08-26 00:17:55,605 - distributed.worker - ERROR - Failed to communicate with scheduler during heartbeat.\n",
      "\u001b[2m\u001b[36m(dask:('assign-9f90efbc750289f8f0298d03658c22fd', 0) pid=32100)\u001b[0m Traceback (most recent call last):\n",
      "\u001b[2m\u001b[36m(dask:('assign-9f90efbc750289f8f0298d03658c22fd', 0) pid=32100)\u001b[0m   File \"/Users/srivarra/.pyenv/versions/3.11.4/envs/ark-spatial/lib/python3.11/site-packages/distributed/comm/tcp.py\", line 224, in read\n",
      "\u001b[2m\u001b[36m(dask:('assign-9f90efbc750289f8f0298d03658c22fd', 0) pid=32100)\u001b[0m     frames_nbytes = await stream.read_bytes(fmt_size)\n",
      "\u001b[2m\u001b[36m(dask:('assign-9f90efbc750289f8f0298d03658c22fd', 0) pid=32100)\u001b[0m                     ^^^^^^^^^^^^^^^^^^^^^^^^^^^^^^^^^\n",
      "\u001b[2m\u001b[36m(dask:('assign-9f90efbc750289f8f0298d03658c22fd', 0) pid=32100)\u001b[0m tornado.iostream.StreamClosedError: Stream is closed\n",
      "\u001b[2m\u001b[36m(dask:('assign-9f90efbc750289f8f0298d03658c22fd', 0) pid=32100)\u001b[0m The above exception was the direct cause of the following exception:\n",
      "\u001b[2m\u001b[36m(dask:('assign-9f90efbc750289f8f0298d03658c22fd', 0) pid=32100)\u001b[0m Traceback (most recent call last):\n",
      "\u001b[2m\u001b[36m(dask:('assign-9f90efbc750289f8f0298d03658c22fd', 0) pid=32100)\u001b[0m   File \"/Users/srivarra/.pyenv/versions/3.11.4/envs/ark-spatial/lib/python3.11/site-packages/distributed/worker.py\", line 1253, in heartbeat\n",
      "\u001b[2m\u001b[36m(dask:('assign-9f90efbc750289f8f0298d03658c22fd', 0) pid=32100)\u001b[0m     response = await retry_operation(\n",
      "\u001b[2m\u001b[36m(dask:('assign-9f90efbc750289f8f0298d03658c22fd', 0) pid=32100)\u001b[0m                ^^^^^^^^^^^^^^^^^^^^^^\n",
      "\u001b[2m\u001b[36m(dask:('assign-9f90efbc750289f8f0298d03658c22fd', 0) pid=32100)\u001b[0m   File \"/Users/srivarra/.pyenv/versions/3.11.4/envs/ark-spatial/lib/python3.11/site-packages/distributed/utils_comm.py\", line 454, in retry_operation\n",
      "\u001b[2m\u001b[36m(dask:('assign-9f90efbc750289f8f0298d03658c22fd', 0) pid=32100)\u001b[0m     return await retry(\n",
      "\u001b[2m\u001b[36m(dask:('assign-9f90efbc750289f8f0298d03658c22fd', 0) pid=32100)\u001b[0m            ^^^^^^^^^^^^\n",
      "\u001b[2m\u001b[36m(dask:('assign-9f90efbc750289f8f0298d03658c22fd', 0) pid=32100)\u001b[0m   File \"/Users/srivarra/.pyenv/versions/3.11.4/envs/ark-spatial/lib/python3.11/site-packages/distributed/utils_comm.py\", line 433, in retry\n",
      "\u001b[2m\u001b[36m(dask:('assign-9f90efbc750289f8f0298d03658c22fd', 0) pid=32100)\u001b[0m     return await coro()\n",
      "\u001b[2m\u001b[36m(dask:('assign-9f90efbc750289f8f0298d03658c22fd', 0) pid=32100)\u001b[0m            ^^^^^^^^^^^^\n",
      "\u001b[2m\u001b[36m(dask:('assign-9f90efbc750289f8f0298d03658c22fd', 0) pid=32100)\u001b[0m   File \"/Users/srivarra/.pyenv/versions/3.11.4/envs/ark-spatial/lib/python3.11/site-packages/distributed/core.py\", line 1356, in send_recv_from_rpc\n",
      "\u001b[2m\u001b[36m(dask:('assign-9f90efbc750289f8f0298d03658c22fd', 0) pid=32100)\u001b[0m     return await send_recv(comm=comm, op=key, **kwargs)\n",
      "\u001b[2m\u001b[36m(dask:('assign-9f90efbc750289f8f0298d03658c22fd', 0) pid=32100)\u001b[0m            ^^^^^^^^^^^^^^^^^^^^^^^^^^^^^^^^^^^^^^^^^^^^\n",
      "\u001b[2m\u001b[36m(dask:('assign-9f90efbc750289f8f0298d03658c22fd', 0) pid=32100)\u001b[0m   File \"/Users/srivarra/.pyenv/versions/3.11.4/envs/ark-spatial/lib/python3.11/site-packages/distributed/core.py\", line 1115, in send_recv\n",
      "\u001b[2m\u001b[36m(dask:('assign-9f90efbc750289f8f0298d03658c22fd', 0) pid=32100)\u001b[0m     response = await comm.read(deserializers=deserializers)\n",
      "\u001b[2m\u001b[36m(dask:('assign-9f90efbc750289f8f0298d03658c22fd', 0) pid=32100)\u001b[0m                ^^^^^^^^^^^^^^^^^^^^^^^^^^^^^^^^^^^^^^^^^^^^\n",
      "\u001b[2m\u001b[36m(dask:('assign-9f90efbc750289f8f0298d03658c22fd', 0) pid=32100)\u001b[0m   File \"/Users/srivarra/.pyenv/versions/3.11.4/envs/ark-spatial/lib/python3.11/site-packages/distributed/comm/tcp.py\", line 240, in read\n",
      "\u001b[2m\u001b[36m(dask:('assign-9f90efbc750289f8f0298d03658c22fd', 0) pid=32100)\u001b[0m     convert_stream_closed_error(self, e)\n",
      "\u001b[2m\u001b[36m(dask:('assign-9f90efbc750289f8f0298d03658c22fd', 0) pid=32100)\u001b[0m   File \"/Users/srivarra/.pyenv/versions/3.11.4/envs/ark-spatial/lib/python3.11/site-packages/distributed/comm/tcp.py\", line 143, in convert_stream_closed_error\n",
      "\u001b[2m\u001b[36m(dask:('assign-9f90efbc750289f8f0298d03658c22fd', 0) pid=32100)\u001b[0m     raise CommClosedError(f\"in {obj}: {exc}\") from exc\n",
      "\u001b[2m\u001b[36m(dask:('assign-9f90efbc750289f8f0298d03658c22fd', 0) pid=32100)\u001b[0m distributed.comm.core.CommClosedError: in <TCP (closed) ConnectionPool.heartbeat_worker local=tcp://127.0.0.1:59197 remote=tcp://127.0.0.1:58939>: Stream is closed\n",
      "\u001b[2m\u001b[36m(dask:regionprops_df-6068a3e0-cc2e-46c9-bc1d-ea9fcac2f3f0 pid=34955)\u001b[0m /Users/srivarra/.pyenv/versions/3.11.4/envs/ark-spatial/lib/python3.11/site-packages/distributed/node.py:182: UserWarning: Port 8787 is already in use.\n",
      "\u001b[2m\u001b[36m(dask:regionprops_df-6068a3e0-cc2e-46c9-bc1d-ea9fcac2f3f0 pid=34955)\u001b[0m Perhaps you already have a cluster running?\n",
      "\u001b[2m\u001b[36m(dask:regionprops_df-6068a3e0-cc2e-46c9-bc1d-ea9fcac2f3f0 pid=34955)\u001b[0m Hosting the HTTP server on port 62307 instead\n",
      "\u001b[2m\u001b[36m(dask:regionprops_df-6068a3e0-cc2e-46c9-bc1d-ea9fcac2f3f0 pid=34955)\u001b[0m   warnings.warn(\n",
      "\u001b[2m\u001b[36m(dask:regionprops_df-6068a3e0-cc2e-46c9-bc1d-ea9fcac2f3f0 pid=34955)\u001b[0m /Users/srivarra/.pyenv/versions/3.11.4/envs/ark-spatial/lib/python3.11/site-packages/dask/config.py:694: UserWarning: Configuration key \"shuffle\" has been deprecated. Please use \"dataframe.shuffle.algorithm\" instead\n",
      "\u001b[2m\u001b[36m(dask:regionprops_df-6068a3e0-cc2e-46c9-bc1d-ea9fcac2f3f0 pid=34955)\u001b[0m   warnings.warn(\n"
     ]
    },
    {
     "name": "stdout",
     "output_type": "stream",
     "text": [
      "\u001b[2m\u001b[36m(dask:regionprops_df-6068a3e0-cc2e-46c9-bc1d-ea9fcac2f3f0 pid=34955)\u001b[0m Metal device set to: Apple M1 Max\n",
      "\u001b[2m\u001b[36m(dask:regionprops_df-6068a3e0-cc2e-46c9-bc1d-ea9fcac2f3f0 pid=34955)\u001b[0m \n",
      "\u001b[2m\u001b[36m(dask:regionprops_df-6068a3e0-cc2e-46c9-bc1d-ea9fcac2f3f0 pid=34955)\u001b[0m systemMemory: 64.00 GB\n",
      "\u001b[2m\u001b[36m(dask:regionprops_df-6068a3e0-cc2e-46c9-bc1d-ea9fcac2f3f0 pid=34955)\u001b[0m maxCacheSize: 24.00 GB\n",
      "\u001b[2m\u001b[36m(dask:regionprops_df-6068a3e0-cc2e-46c9-bc1d-ea9fcac2f3f0 pid=34955)\u001b[0m \n"
     ]
    },
    {
     "name": "stderr",
     "output_type": "stream",
     "text": [
      "\u001b[2m\u001b[36m(dask:regionprops_df-6068a3e0-cc2e-46c9-bc1d-ea9fcac2f3f0 pid=34955)\u001b[0m 2023-08-26 00:17:58.581270: W pjrt_plugin/src/mps_client.cc:535] WARNING: JAX Apple GPU support is experimental and not all JAX functionality is correctly supported!\n"
     ]
    },
    {
     "ename": "KeyboardInterrupt",
     "evalue": "",
     "output_type": "error",
     "traceback": [
      "\u001b[0;31m---------------------------------------------------------------------------\u001b[0m",
      "\u001b[0;31mKeyboardInterrupt\u001b[0m                         Traceback (most recent call last)",
      "Cell \u001b[0;32mIn[11], line 1\u001b[0m\n\u001b[0;32m----> 1\u001b[0m d \u001b[39m=\u001b[39m sdata\u001b[39m.\u001b[39;49mmarker_quantification\u001b[39m.\u001b[39;49mgenerate_cell_table(nuclear_counts\u001b[39m=\u001b[39;49m\u001b[39mTrue\u001b[39;49;00m)\n",
      "File \u001b[0;32m~/Dev/Python/ark/src/ark/core/_segmentation/marker_quantification.py:53\u001b[0m, in \u001b[0;36mMarkerQuantificationAccessor.generate_cell_table\u001b[0;34m(self, nuclear_counts, properties)\u001b[0m\n\u001b[1;32m     50\u001b[0m     fov_markers_tables\u001b[39m.\u001b[39mappend(g)\n\u001b[1;32m     52\u001b[0m obs: dd\u001b[39m.\u001b[39mDataFrame \u001b[39m=\u001b[39m dd\u001b[39m.\u001b[39mconcat(dfs\u001b[39m=\u001b[39mfov_regionprops_tables)\u001b[39m.\u001b[39mcompute()\n\u001b[0;32m---> 53\u001b[0m d \u001b[39m=\u001b[39m concat(adatas\u001b[39m=\u001b[39mark\u001b[39m.\u001b[39;49mclient\u001b[39m.\u001b[39;49mgather(fov_markers_tables))\n\u001b[1;32m     54\u001b[0m tab1 \u001b[39m=\u001b[39m AnnData(X\u001b[39m=\u001b[39md\u001b[39m.\u001b[39mX, obs\u001b[39m=\u001b[39mobs, uns\u001b[39m=\u001b[39md\u001b[39m.\u001b[39muns, var\u001b[39m=\u001b[39md\u001b[39m.\u001b[39mvar)\n\u001b[1;32m     56\u001b[0m \u001b[39mreturn\u001b[39;00m obs, tab1\n",
      "File \u001b[0;32m~/.pyenv/versions/3.11.4/envs/ark-spatial/lib/python3.11/site-packages/distributed/client.py:2403\u001b[0m, in \u001b[0;36mClient.gather\u001b[0;34m(self, futures, errors, direct, asynchronous)\u001b[0m\n\u001b[1;32m   2401\u001b[0m \u001b[39mexcept\u001b[39;00m \u001b[39mValueError\u001b[39;00m:\n\u001b[1;32m   2402\u001b[0m     local_worker \u001b[39m=\u001b[39m \u001b[39mNone\u001b[39;00m\n\u001b[0;32m-> 2403\u001b[0m \u001b[39mreturn\u001b[39;00m \u001b[39mself\u001b[39;49m\u001b[39m.\u001b[39;49msync(\n\u001b[1;32m   2404\u001b[0m     \u001b[39mself\u001b[39;49m\u001b[39m.\u001b[39;49m_gather,\n\u001b[1;32m   2405\u001b[0m     futures,\n\u001b[1;32m   2406\u001b[0m     errors\u001b[39m=\u001b[39;49merrors,\n\u001b[1;32m   2407\u001b[0m     direct\u001b[39m=\u001b[39;49mdirect,\n\u001b[1;32m   2408\u001b[0m     local_worker\u001b[39m=\u001b[39;49mlocal_worker,\n\u001b[1;32m   2409\u001b[0m     asynchronous\u001b[39m=\u001b[39;49masynchronous,\n\u001b[1;32m   2410\u001b[0m )\n",
      "File \u001b[0;32m~/.pyenv/versions/3.11.4/envs/ark-spatial/lib/python3.11/site-packages/distributed/utils.py:359\u001b[0m, in \u001b[0;36mSyncMethodMixin.sync\u001b[0;34m(self, func, asynchronous, callback_timeout, *args, **kwargs)\u001b[0m\n\u001b[1;32m    357\u001b[0m     \u001b[39mreturn\u001b[39;00m future\n\u001b[1;32m    358\u001b[0m \u001b[39melse\u001b[39;00m:\n\u001b[0;32m--> 359\u001b[0m     \u001b[39mreturn\u001b[39;00m sync(\n\u001b[1;32m    360\u001b[0m         \u001b[39mself\u001b[39;49m\u001b[39m.\u001b[39;49mloop, func, \u001b[39m*\u001b[39;49margs, callback_timeout\u001b[39m=\u001b[39;49mcallback_timeout, \u001b[39m*\u001b[39;49m\u001b[39m*\u001b[39;49mkwargs\n\u001b[1;32m    361\u001b[0m     )\n",
      "File \u001b[0;32m~/.pyenv/versions/3.11.4/envs/ark-spatial/lib/python3.11/site-packages/distributed/utils.py:422\u001b[0m, in \u001b[0;36msync\u001b[0;34m(loop, func, callback_timeout, *args, **kwargs)\u001b[0m\n\u001b[1;32m    420\u001b[0m \u001b[39melse\u001b[39;00m:\n\u001b[1;32m    421\u001b[0m     \u001b[39mwhile\u001b[39;00m \u001b[39mnot\u001b[39;00m e\u001b[39m.\u001b[39mis_set():\n\u001b[0;32m--> 422\u001b[0m         wait(\u001b[39m10\u001b[39;49m)\n\u001b[1;32m    424\u001b[0m \u001b[39mif\u001b[39;00m error:\n\u001b[1;32m    425\u001b[0m     typ, exc, tb \u001b[39m=\u001b[39m error\n",
      "File \u001b[0;32m~/.pyenv/versions/3.11.4/envs/ark-spatial/lib/python3.11/site-packages/distributed/utils.py:411\u001b[0m, in \u001b[0;36msync.<locals>.wait\u001b[0;34m(timeout)\u001b[0m\n\u001b[1;32m    409\u001b[0m \u001b[39mdef\u001b[39;00m \u001b[39mwait\u001b[39m(timeout):\n\u001b[1;32m    410\u001b[0m     \u001b[39mtry\u001b[39;00m:\n\u001b[0;32m--> 411\u001b[0m         \u001b[39mreturn\u001b[39;00m e\u001b[39m.\u001b[39;49mwait(timeout)\n\u001b[1;32m    412\u001b[0m     \u001b[39mexcept\u001b[39;00m \u001b[39mKeyboardInterrupt\u001b[39;00m:\n\u001b[1;32m    413\u001b[0m         loop\u001b[39m.\u001b[39madd_callback(cancel)\n",
      "File \u001b[0;32m~/.pyenv/versions/3.11.4/lib/python3.11/threading.py:622\u001b[0m, in \u001b[0;36mEvent.wait\u001b[0;34m(self, timeout)\u001b[0m\n\u001b[1;32m    620\u001b[0m signaled \u001b[39m=\u001b[39m \u001b[39mself\u001b[39m\u001b[39m.\u001b[39m_flag\n\u001b[1;32m    621\u001b[0m \u001b[39mif\u001b[39;00m \u001b[39mnot\u001b[39;00m signaled:\n\u001b[0;32m--> 622\u001b[0m     signaled \u001b[39m=\u001b[39m \u001b[39mself\u001b[39;49m\u001b[39m.\u001b[39;49m_cond\u001b[39m.\u001b[39;49mwait(timeout)\n\u001b[1;32m    623\u001b[0m \u001b[39mreturn\u001b[39;00m signaled\n",
      "File \u001b[0;32m~/.pyenv/versions/3.11.4/lib/python3.11/threading.py:324\u001b[0m, in \u001b[0;36mCondition.wait\u001b[0;34m(self, timeout)\u001b[0m\n\u001b[1;32m    322\u001b[0m \u001b[39melse\u001b[39;00m:\n\u001b[1;32m    323\u001b[0m     \u001b[39mif\u001b[39;00m timeout \u001b[39m>\u001b[39m \u001b[39m0\u001b[39m:\n\u001b[0;32m--> 324\u001b[0m         gotit \u001b[39m=\u001b[39m waiter\u001b[39m.\u001b[39;49macquire(\u001b[39mTrue\u001b[39;49;00m, timeout)\n\u001b[1;32m    325\u001b[0m     \u001b[39melse\u001b[39;00m:\n\u001b[1;32m    326\u001b[0m         gotit \u001b[39m=\u001b[39m waiter\u001b[39m.\u001b[39macquire(\u001b[39mFalse\u001b[39;00m)\n",
      "\u001b[0;31mKeyboardInterrupt\u001b[0m: "
     ]
    },
    {
     "name": "stderr",
     "output_type": "stream",
     "text": [
      "2023-08-26 00:25:29,175 - distributed.scheduler - WARNING - Worker failed to heartbeat within 300 seconds. Closing: <WorkerState 'tcp://127.0.0.1:58650', name: 0, status: running, memory: 0, processing: 4>\n",
      "2023-08-26 00:25:29,177 - distributed.scheduler - WARNING - Worker failed to heartbeat within 300 seconds. Closing: <WorkerState 'tcp://127.0.0.1:58652', name: 2, status: running, memory: 0, processing: 4>\n",
      "2023-08-26 00:25:29,178 - distributed.scheduler - WARNING - Worker failed to heartbeat within 300 seconds. Closing: <WorkerState 'tcp://127.0.0.1:58660', name: 3, status: running, memory: 0, processing: 4>\n",
      "2023-08-26 00:25:47,382 - distributed.nanny - WARNING - Worker process still alive after 3.199999389648438 seconds, killing\n",
      "2023-08-26 00:25:47,384 - distributed.nanny - WARNING - Worker process still alive after 3.199999389648438 seconds, killing\n",
      "2023-08-26 00:25:47,384 - distributed.nanny - WARNING - Worker process still alive after 3.199999389648438 seconds, killing\n",
      "2023-08-26 00:30:29,174 - distributed.scheduler - WARNING - Worker failed to heartbeat within 300 seconds. Closing: <WorkerState 'tcp://127.0.0.1:58651', name: 4, status: running, memory: 0, processing: 3>\n",
      "2023-08-26 00:30:47,376 - distributed.nanny - WARNING - Worker process still alive after 3.199999389648438 seconds, killing\n",
      "2023-08-26 00:35:29,175 - distributed.scheduler - WARNING - Worker failed to heartbeat within 300 seconds. Closing: <WorkerState 'tcp://127.0.0.1:58659', name: 1, status: running, memory: 0, processing: 3>\n",
      "2023-08-26 00:35:47,381 - distributed.nanny - WARNING - Worker process still alive after 3.199999389648438 seconds, killing\n"
     ]
    }
   ],
   "source": [
    "d = sdata.marker_quantification.generate_cell_table(nuclear_counts=True)"
   ]
  },
  {
   "cell_type": "code",
   "execution_count": 17,
   "metadata": {},
   "outputs": [
    {
     "name": "stderr",
     "output_type": "stream",
     "text": [
      "/Users/srivarra/.pyenv/versions/3.11.4/envs/ark-spatial/lib/python3.11/site-packages/spatialdata/_core/operations/aggregate.py:244: UserWarning: Converting `region_key: fov_id` to categorical dtype.\n",
      "  table = TableModel.parse(table, region=shapes_name, region_key=region_key, instance_key=instance_key)\n"
     ]
    },
    {
     "data": {
      "text/plain": [
       "AnnData object with n_obs × n_vars = 766 × 22\n",
       "    obs: 'cell_id', 'fov_id'\n",
       "    uns: 'spatialdata_attrs'"
      ]
     },
     "execution_count": 17,
     "metadata": {},
     "output_type": "execute_result"
    }
   ],
   "source": [
    "sdata.aggregate(\n",
    "    values=\"fov1\",\n",
    "    by=\"fov1_whole_cell\",\n",
    "    agg_func=\"sum\",\n",
    "    instance_key=\"cell_id\",\n",
    "    region_key=\"fov_id\",\n",
    ").table"
   ]
  },
  {
   "cell_type": "code",
   "execution_count": 29,
   "metadata": {},
   "outputs": [
    {
     "data": {
      "text/plain": [
       "[SpatialData object with:\n",
       " └── Images\n",
       "       └── 'fov0': SpatialImage[cyx] (22, 512, 512)\n",
       " with coordinate systems:\n",
       " ▸ 'global', with elements:\n",
       "         fov0 (Images),\n",
       " SpatialData object with:\n",
       " └── Images\n",
       "       └── 'fov1': SpatialImage[cyx] (22, 1024, 1024)\n",
       " with coordinate systems:\n",
       " ▸ 'global', with elements:\n",
       "         fov1 (Images),\n",
       " SpatialData object with:\n",
       " └── Images\n",
       "       └── 'fov2': SpatialImage[cyx] (22, 1024, 1024)\n",
       " with coordinate systems:\n",
       " ▸ 'global', with elements:\n",
       "         fov2 (Images),\n",
       " SpatialData object with:\n",
       " └── Images\n",
       "       └── 'fov3': SpatialImage[cyx] (22, 1024, 1024)\n",
       " with coordinate systems:\n",
       " ▸ 'global', with elements:\n",
       "         fov3 (Images),\n",
       " SpatialData object with:\n",
       " └── Images\n",
       "       └── 'fov4': SpatialImage[cyx] (22, 1024, 1024)\n",
       " with coordinate systems:\n",
       " ▸ 'global', with elements:\n",
       "         fov4 (Images),\n",
       " SpatialData object with:\n",
       " └── Images\n",
       "       └── 'fov5': SpatialImage[cyx] (22, 1024, 1024)\n",
       " with coordinate systems:\n",
       " ▸ 'global', with elements:\n",
       "         fov5 (Images),\n",
       " SpatialData object with:\n",
       " └── Images\n",
       "       └── 'fov6': SpatialImage[cyx] (22, 1024, 1024)\n",
       " with coordinate systems:\n",
       " ▸ 'global', with elements:\n",
       "         fov6 (Images),\n",
       " SpatialData object with:\n",
       " └── Images\n",
       "       └── 'fov7': SpatialImage[cyx] (22, 1024, 1024)\n",
       " with coordinate systems:\n",
       " ▸ 'global', with elements:\n",
       "         fov7 (Images),\n",
       " SpatialData object with:\n",
       " └── Images\n",
       "       └── 'fov8': SpatialImage[cyx] (22, 1024, 1024)\n",
       " with coordinate systems:\n",
       " ▸ 'global', with elements:\n",
       "         fov8 (Images),\n",
       " SpatialData object with:\n",
       " └── Images\n",
       "       └── 'fov9': SpatialImage[cyx] (22, 1024, 1024)\n",
       " with coordinate systems:\n",
       " ▸ 'global', with elements:\n",
       "         fov9 (Images),\n",
       " SpatialData object with:\n",
       " └── Images\n",
       "       └── 'fov10': SpatialImage[cyx] (22, 1024, 1024)\n",
       " with coordinate systems:\n",
       " ▸ 'global', with elements:\n",
       "         fov10 (Images)]"
      ]
     },
     "execution_count": 29,
     "metadata": {},
     "output_type": "execute_result"
    }
   ],
   "source": [
    "list(sdata.iter_images)"
   ]
  },
  {
   "cell_type": "code",
   "execution_count": 31,
   "metadata": {},
   "outputs": [
    {
     "ename": "TypeError",
     "evalue": "Dask no longer supports mapping over Iterators or Queues.Consider using a normal for loop and Client.submit",
     "output_type": "error",
     "traceback": [
      "\u001b[0;31m---------------------------------------------------------------------------\u001b[0m",
      "\u001b[0;31mTypeError\u001b[0m                                 Traceback (most recent call last)",
      "Cell \u001b[0;32mIn[31], line 1\u001b[0m\n\u001b[0;32m----> 1\u001b[0m ark\u001b[39m.\u001b[39;49mclient\u001b[39m.\u001b[39;49mmap(\n\u001b[1;32m      2\u001b[0m     \u001b[39mlambda\u001b[39;49;00m f: sdata\u001b[39m.\u001b[39;49maggregate(\n\u001b[1;32m      3\u001b[0m         values\u001b[39m=\u001b[39;49mf, by\u001b[39m=\u001b[39;49m\u001b[39m\"\u001b[39;49m\u001b[39m{f}\u001b[39;49;00m\u001b[39m_whole_cell\u001b[39;49m\u001b[39m\"\u001b[39;49m, agg_func\u001b[39m=\u001b[39;49m\u001b[39m\"\u001b[39;49m\u001b[39msum\u001b[39;49m\u001b[39m\"\u001b[39;49m, instance_key\u001b[39m=\u001b[39;49m\u001b[39m\"\u001b[39;49m\u001b[39mcell_id\u001b[39;49m\u001b[39m\"\u001b[39;49m,\n\u001b[1;32m      4\u001b[0m         region_key\u001b[39m=\u001b[39;49m\u001b[39m\"\u001b[39;49m\u001b[39mfov_id\u001b[39;49m\u001b[39m\"\u001b[39;49m)\u001b[39m.\u001b[39;49mtable,)\n",
      "File \u001b[0;32m~/.pyenv/versions/3.11.4/envs/ark-spatial/lib/python3.11/site-packages/distributed/client.py:2099\u001b[0m, in \u001b[0;36mClient.map\u001b[0;34m(self, func, key, workers, retries, resources, priority, allow_other_workers, fifo_timeout, actor, actors, pure, batch_size, *iterables, **kwargs)\u001b[0m\n\u001b[1;32m   2094\u001b[0m     \u001b[39mraise\u001b[39;00m \u001b[39mTypeError\u001b[39;00m(\u001b[39m\"\u001b[39m\u001b[39mFirst input to map must be a callable function\u001b[39m\u001b[39m\"\u001b[39m)\n\u001b[1;32m   2096\u001b[0m \u001b[39mif\u001b[39;00m \u001b[39mall\u001b[39m(\u001b[39misinstance\u001b[39m(it, pyQueue) \u001b[39mfor\u001b[39;00m it \u001b[39min\u001b[39;00m iterables) \u001b[39mor\u001b[39;00m \u001b[39mall\u001b[39m(\n\u001b[1;32m   2097\u001b[0m     \u001b[39misinstance\u001b[39m(i, Iterator) \u001b[39mfor\u001b[39;00m i \u001b[39min\u001b[39;00m iterables\n\u001b[1;32m   2098\u001b[0m ):\n\u001b[0;32m-> 2099\u001b[0m     \u001b[39mraise\u001b[39;00m \u001b[39mTypeError\u001b[39;00m(\n\u001b[1;32m   2100\u001b[0m         \u001b[39m\"\u001b[39m\u001b[39mDask no longer supports mapping over Iterators or Queues.\u001b[39m\u001b[39m\"\u001b[39m\n\u001b[1;32m   2101\u001b[0m         \u001b[39m\"\u001b[39m\u001b[39mConsider using a normal for loop and Client.submit\u001b[39m\u001b[39m\"\u001b[39m\n\u001b[1;32m   2102\u001b[0m     )\n\u001b[1;32m   2103\u001b[0m total_length \u001b[39m=\u001b[39m \u001b[39msum\u001b[39m(\u001b[39mlen\u001b[39m(x) \u001b[39mfor\u001b[39;00m x \u001b[39min\u001b[39;00m iterables)\n\u001b[1;32m   2105\u001b[0m \u001b[39mif\u001b[39;00m batch_size \u001b[39mand\u001b[39;00m batch_size \u001b[39m>\u001b[39m \u001b[39m1\u001b[39m \u001b[39mand\u001b[39;00m total_length \u001b[39m>\u001b[39m batch_size:\n",
      "\u001b[0;31mTypeError\u001b[0m: Dask no longer supports mapping over Iterators or Queues.Consider using a normal for loop and Client.submit"
     ]
    }
   ],
   "source": [
    "ark.client.map(\n",
    "    lambda f: sdata.aggregate(\n",
    "        values=f, by=\"{f}_whole_cell\", agg_func=\"sum\", instance_key=\"cell_id\",\n",
    "        region_key=\"fov_id\").table,)"
   ]
  },
  {
   "cell_type": "code",
   "execution_count": null,
   "metadata": {},
   "outputs": [],
   "source": []
  }
 ],
 "metadata": {
  "kernelspec": {
   "display_name": "ark-spatial",
   "language": "python",
   "name": "python3"
  },
  "language_info": {
   "codemirror_mode": {
    "name": "ipython",
    "version": 3
   },
   "file_extension": ".py",
   "mimetype": "text/x-python",
   "name": "python",
   "nbconvert_exporter": "python",
   "pygments_lexer": "ipython3",
   "version": "3.11.4"
  },
  "orig_nbformat": 4
 },
 "nbformat": 4,
 "nbformat_minor": 2
}
