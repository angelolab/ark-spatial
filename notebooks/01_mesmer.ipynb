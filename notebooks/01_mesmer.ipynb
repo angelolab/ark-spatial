{
 "cells": [
  {
   "cell_type": "code",
   "execution_count": 2,
   "metadata": {},
   "outputs": [],
   "source": [
    "%load_ext autoreload\n",
    "\n",
    "%autoreload 2"
   ]
  },
  {
   "cell_type": "code",
   "execution_count": 3,
   "metadata": {},
   "outputs": [
    {
     "name": "stderr",
     "output_type": "stream",
     "text": [
      "/Users/srivarra/.pyenv/versions/3.11.4/envs/ark-spatial/lib/python3.11/site-packages/geopandas/_compat.py:124: UserWarning: The Shapely GEOS version (3.11.1-CAPI-1.17.1) is incompatible with the GEOS version PyGEOS was compiled with (3.10.4-CAPI-1.16.2). Conversions between both will be slow.\n",
      "  warnings.warn(\n",
      "/Users/srivarra/.pyenv/versions/3.11.4/envs/ark-spatial/lib/python3.11/site-packages/spatialdata/__init__.py:9: UserWarning: Geopandas was set to use PyGEOS, changing to shapely 2.0 with:\n",
      "\n",
      "\tgeopandas.options.use_pygeos = True\n",
      "\n",
      "If you intended to use PyGEOS, set the option to False.\n",
      "  _check_geopandas_using_shapely()\n"
     ]
    }
   ],
   "source": [
    "from ark import io\n",
    "from pathlib import Path\n",
    "import spatialdata as sd\n",
    "from spatialdata.models import C\n",
    "from spatial_image import SpatialImage"
   ]
  },
  {
   "cell_type": "markdown",
   "metadata": {},
   "source": [
    "Load the Zarr Store as a Spatial Data Object"
   ]
  },
  {
   "cell_type": "code",
   "execution_count": 4,
   "metadata": {},
   "outputs": [],
   "source": [
    "sdata = sd.read_zarr(store=\"../data/cohorts/example_cohort.ome.zarr/\")"
   ]
  },
  {
   "cell_type": "code",
   "execution_count": 14,
   "metadata": {},
   "outputs": [],
   "source": [
    "nucs = [\"H3K9ac\", \"H3K27me3\"]\n",
    "mems = [\"CD14\", \"CD45\", \"ECAD\"]"
   ]
  },
  {
   "cell_type": "code",
   "execution_count": 16,
   "metadata": {},
   "outputs": [
    {
     "name": "stderr",
     "output_type": "stream",
     "text": [
      "no parent found for <ome_zarr.reader.Label object at 0x2cbb425d0>: None\n",
      "no parent found for <ome_zarr.reader.Label object at 0x2c84e5510>: None\n",
      "no parent found for <ome_zarr.reader.Label object at 0x2cbbed850>: None\n",
      "no parent found for <ome_zarr.reader.Label object at 0x2ca6e3b10>: None\n",
      "no parent found for <ome_zarr.reader.Label object at 0x2ca64b510>: None\n",
      "no parent found for <ome_zarr.reader.Label object at 0x2cbb9ce50>: None\n",
      "no parent found for <ome_zarr.reader.Label object at 0x2c85c9850>: None\n",
      "no parent found for <ome_zarr.reader.Label object at 0x2cbb85450>: None\n",
      "no parent found for <ome_zarr.reader.Label object at 0x2cbef7e10>: None\n",
      "no parent found for <ome_zarr.reader.Label object at 0x2c85e6910>: None\n",
      "no parent found for <ome_zarr.reader.Label object at 0x2cbf0ead0>: None\n",
      "no parent found for <ome_zarr.reader.Label object at 0x2cbef5710>: None\n",
      "no parent found for <ome_zarr.reader.Label object at 0x2cbb6a910>: None\n",
      "no parent found for <ome_zarr.reader.Label object at 0x2c85ada10>: None\n",
      "no parent found for <ome_zarr.reader.Label object at 0x2cbf32310>: None\n",
      "no parent found for <ome_zarr.reader.Label object at 0x2cbeebd50>: None\n",
      "no parent found for <ome_zarr.reader.Label object at 0x2c85c8310>: None\n",
      "no parent found for <ome_zarr.reader.Label object at 0x2cbe79f50>: None\n",
      "no parent found for <ome_zarr.reader.Label object at 0x2cbf3e550>: None\n",
      "no parent found for <ome_zarr.reader.Label object at 0x2cbf41410>: None\n",
      "no parent found for <ome_zarr.reader.Label object at 0x2ca6bced0>: None\n",
      "no parent found for <ome_zarr.reader.Label object at 0x2cbc05490>: None\n"
     ]
    }
   ],
   "source": [
    "sdata.segmentation.run_deepcell(nucs=nucs, mems=mems)"
   ]
  },
  {
   "cell_type": "code",
   "execution_count": null,
   "metadata": {},
   "outputs": [],
   "source": [
    "sdata"
   ]
  },
  {
   "cell_type": "code",
   "execution_count": null,
   "metadata": {},
   "outputs": [],
   "source": [
    "import xbatcher\n",
    "from xbatcher import BatchAccessor"
   ]
  },
  {
   "cell_type": "code",
   "execution_count": null,
   "metadata": {},
   "outputs": [],
   "source": [
    "for i in xbatcher.BatchGenerator(sdata.images[\"fov0\"], input_dims={C: 8}):\n",
    "    print(i)"
   ]
  },
  {
   "cell_type": "code",
   "execution_count": 11,
   "metadata": {},
   "outputs": [
    {
     "name": "stderr",
     "output_type": "stream",
     "text": [
      "/Users/srivarra/Dev/Python/ark/src/ark/core/_segmentation/pp/segmentation.py:16: AccessorRegistrationWarning: registration of accessor <class 'ark.core._segmentation.pp.segmentation.SegmentationAccessor'> under name 'segmentation' for type <class 'spatialdata._core.spatialdata.SpatialData'> is overriding a preexisting attribute with the same name.\n",
      "  @register_spatial_data_accessor(\"segmentation\")\n"
     ]
    },
    {
     "data": {
      "text/plain": [
       "['global']"
      ]
     },
     "execution_count": 11,
     "metadata": {},
     "output_type": "execute_result"
    }
   ],
   "source": [
    "sdata.coordinate_systems"
   ]
  },
  {
   "cell_type": "code",
   "execution_count": null,
   "metadata": {},
   "outputs": [],
   "source": []
  }
 ],
 "metadata": {
  "kernelspec": {
   "display_name": "ark-spatial",
   "language": "python",
   "name": "python3"
  },
  "language_info": {
   "codemirror_mode": {
    "name": "ipython",
    "version": 3
   },
   "file_extension": ".py",
   "mimetype": "text/x-python",
   "name": "python",
   "nbconvert_exporter": "python",
   "pygments_lexer": "ipython3",
   "version": "3.11.4"
  },
  "orig_nbformat": 4
 },
 "nbformat": 4,
 "nbformat_minor": 2
}
