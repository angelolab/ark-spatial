{
 "cells": [
  {
   "cell_type": "code",
   "execution_count": 1,
   "metadata": {},
   "outputs": [],
   "source": [
    "%load_ext autoreload\n",
    "%autoreload 2"
   ]
  },
  {
   "cell_type": "code",
   "execution_count": 2,
   "metadata": {},
   "outputs": [
    {
     "name": "stderr",
     "output_type": "stream",
     "text": [
      "/Users/srivarra/.pyenv/versions/3.11.4/envs/ark-spatial/lib/python3.11/site-packages/geopandas/_compat.py:124: UserWarning: The Shapely GEOS version (3.11.1-CAPI-1.17.1) is incompatible with the GEOS version PyGEOS was compiled with (3.10.4-CAPI-1.16.2). Conversions between both will be slow.\n",
      "  warnings.warn(\n",
      "/Users/srivarra/.pyenv/versions/3.11.4/envs/ark-spatial/lib/python3.11/site-packages/spatialdata/__init__.py:9: UserWarning: Geopandas was set to use PyGEOS, changing to shapely 2.0 with:\n",
      "\n",
      "\tgeopandas.options.use_pygeos = True\n",
      "\n",
      "If you intended to use PyGEOS, set the option to False.\n",
      "  _check_geopandas_using_shapely()\n",
      "/Users/srivarra/.pyenv/versions/3.11.4/envs/ark-spatial/lib/python3.11/site-packages/dask/config.py:694: UserWarning: Configuration key \"shuffle\" has been deprecated. Please use \"dataframe.shuffle.algorithm\" instead\n",
      "  warnings.warn(\n"
     ]
    }
   ],
   "source": [
    "from pathlib import Path\n",
    "import ark\n",
    "import spatialdata as sd"
   ]
  },
  {
   "cell_type": "markdown",
   "metadata": {},
   "source": [
    "Load the Zarr Store as a Spatial Data Object"
   ]
  },
  {
   "cell_type": "code",
   "execution_count": 3,
   "metadata": {},
   "outputs": [],
   "source": [
    "sdata = sd.read_zarr(store=\"../data/cohorts/example_cohort.ome.zarr\")"
   ]
  },
  {
   "cell_type": "markdown",
   "metadata": {},
   "source": [
    "Select the "
   ]
  },
  {
   "cell_type": "code",
   "execution_count": 4,
   "metadata": {},
   "outputs": [],
   "source": [
    "nucs = [\"H3K9ac\", \"H3K27me3\"]\n",
    "mems = [\"CD14\", \"CD45\", \"ECAD\"]"
   ]
  },
  {
   "cell_type": "code",
   "execution_count": 5,
   "metadata": {},
   "outputs": [
    {
     "ename": "AttributeError",
     "evalue": "'SpatialData' object has no attribute 'name'",
     "output_type": "error",
     "traceback": [
      "\u001b[0;31m---------------------------------------------------------------------------\u001b[0m",
      "\u001b[0;31mAttributeError\u001b[0m                            Traceback (most recent call last)",
      "Cell \u001b[0;32mIn[5], line 1\u001b[0m\n\u001b[0;32m----> 1\u001b[0m sdata\u001b[39m.\u001b[39;49msegmentation\u001b[39m.\u001b[39;49mrun_deepcell(nucs\u001b[39m=\u001b[39;49mnucs, mems\u001b[39m=\u001b[39;49mmems)\n",
      "File \u001b[0;32m~/Dev/Python/ark/src/ark/core/_segmentation/segmentation.py:63\u001b[0m, in \u001b[0;36mSegmentationAccessor.run_deepcell\u001b[0;34m(self, nucs, mems)\u001b[0m\n\u001b[1;32m     58\u001b[0m futures \u001b[39m=\u001b[39m [\n\u001b[1;32m     59\u001b[0m     portal\u001b[39m.\u001b[39mstart_task_soon(\u001b[39mself\u001b[39m\u001b[39m.\u001b[39m_create_deepcell_input, fov_name, fov_sd)\n\u001b[1;32m     60\u001b[0m     \u001b[39mfor\u001b[39;00m fov_name, fov_sd \u001b[39min\u001b[39;00m \u001b[39mself\u001b[39m\u001b[39m.\u001b[39msdata\u001b[39m.\u001b[39miter_coords\n\u001b[1;32m     61\u001b[0m ]\n\u001b[1;32m     62\u001b[0m \u001b[39mfor\u001b[39;00m future \u001b[39min\u001b[39;00m as_completed(futures):\n\u001b[0;32m---> 63\u001b[0m     sic: SegmentationImageContainer \u001b[39m=\u001b[39m future\u001b[39m.\u001b[39;49mresult()\n\u001b[1;32m     64\u001b[0m     \u001b[39mfor\u001b[39;00m seg_type, seg_label \u001b[39min\u001b[39;00m sic\u001b[39m.\u001b[39msegmentation_label_masks\u001b[39m.\u001b[39mitems():\n\u001b[1;32m     65\u001b[0m         \u001b[39mself\u001b[39m\u001b[39m.\u001b[39msdata\u001b[39m.\u001b[39madd_labels(name\u001b[39m=\u001b[39m\u001b[39mf\u001b[39m\u001b[39m\"\u001b[39m\u001b[39m{\u001b[39;00msic\u001b[39m.\u001b[39mfov_name\u001b[39m}\u001b[39;00m\u001b[39m_\u001b[39m\u001b[39m{\u001b[39;00mseg_type\u001b[39m}\u001b[39;00m\u001b[39m\"\u001b[39m, labels\u001b[39m=\u001b[39mseg_label)\n",
      "File \u001b[0;32m~/.pyenv/versions/3.11.4/lib/python3.11/concurrent/futures/_base.py:449\u001b[0m, in \u001b[0;36mFuture.result\u001b[0;34m(self, timeout)\u001b[0m\n\u001b[1;32m    447\u001b[0m     \u001b[39mraise\u001b[39;00m CancelledError()\n\u001b[1;32m    448\u001b[0m \u001b[39melif\u001b[39;00m \u001b[39mself\u001b[39m\u001b[39m.\u001b[39m_state \u001b[39m==\u001b[39m FINISHED:\n\u001b[0;32m--> 449\u001b[0m     \u001b[39mreturn\u001b[39;00m \u001b[39mself\u001b[39;49m\u001b[39m.\u001b[39;49m__get_result()\n\u001b[1;32m    451\u001b[0m \u001b[39mself\u001b[39m\u001b[39m.\u001b[39m_condition\u001b[39m.\u001b[39mwait(timeout)\n\u001b[1;32m    453\u001b[0m \u001b[39mif\u001b[39;00m \u001b[39mself\u001b[39m\u001b[39m.\u001b[39m_state \u001b[39min\u001b[39;00m [CANCELLED, CANCELLED_AND_NOTIFIED]:\n",
      "File \u001b[0;32m~/.pyenv/versions/3.11.4/lib/python3.11/concurrent/futures/_base.py:401\u001b[0m, in \u001b[0;36mFuture.__get_result\u001b[0;34m(self)\u001b[0m\n\u001b[1;32m    399\u001b[0m \u001b[39mif\u001b[39;00m \u001b[39mself\u001b[39m\u001b[39m.\u001b[39m_exception:\n\u001b[1;32m    400\u001b[0m     \u001b[39mtry\u001b[39;00m:\n\u001b[0;32m--> 401\u001b[0m         \u001b[39mraise\u001b[39;00m \u001b[39mself\u001b[39m\u001b[39m.\u001b[39m_exception\n\u001b[1;32m    402\u001b[0m     \u001b[39mfinally\u001b[39;00m:\n\u001b[1;32m    403\u001b[0m         \u001b[39m# Break a reference cycle with the exception in self._exception\u001b[39;00m\n\u001b[1;32m    404\u001b[0m         \u001b[39mself\u001b[39m \u001b[39m=\u001b[39m \u001b[39mNone\u001b[39;00m\n",
      "File \u001b[0;32m~/.pyenv/versions/3.11.4/envs/ark-spatial/lib/python3.11/site-packages/anyio/from_thread.py:217\u001b[0m, in \u001b[0;36mBlockingPortal._call_func\u001b[0;34m(self, func, args, kwargs, future)\u001b[0m\n\u001b[1;32m    214\u001b[0m             \u001b[39melse\u001b[39;00m:\n\u001b[1;32m    215\u001b[0m                 future\u001b[39m.\u001b[39madd_done_callback(callback)\n\u001b[0;32m--> 217\u001b[0m             retval \u001b[39m=\u001b[39m \u001b[39mawait\u001b[39;00m retval\n\u001b[1;32m    218\u001b[0m \u001b[39mexcept\u001b[39;00m \u001b[39mself\u001b[39m\u001b[39m.\u001b[39m_cancelled_exc_class:\n\u001b[1;32m    219\u001b[0m     future\u001b[39m.\u001b[39mcancel()\n",
      "File \u001b[0;32m~/Dev/Python/ark/src/ark/core/_segmentation/segmentation.py:118\u001b[0m, in \u001b[0;36mSegmentationAccessor._create_deepcell_input\u001b[0;34m(self, fov_name, fov_sd)\u001b[0m\n\u001b[1;32m    112\u001b[0m \u001b[39masync\u001b[39;00m \u001b[39mdef\u001b[39;00m \u001b[39m_create_deepcell_input\u001b[39m(\n\u001b[1;32m    113\u001b[0m     \u001b[39mself\u001b[39m,\n\u001b[1;32m    114\u001b[0m     fov_name: \u001b[39mstr\u001b[39m,\n\u001b[1;32m    115\u001b[0m     fov_sd: SpatialImage,\n\u001b[1;32m    116\u001b[0m ) \u001b[39m-\u001b[39m\u001b[39m>\u001b[39m SegmentationImageContainer:\n\u001b[1;32m    117\u001b[0m     \u001b[39masync\u001b[39;00m \u001b[39mwith\u001b[39;00m httpx\u001b[39m.\u001b[39mAsyncClient(base_url\u001b[39m=\u001b[39mDEEPCELL_URL) \u001b[39mas\u001b[39;00m dc_session:\n\u001b[0;32m--> 118\u001b[0m         segmentation_images: SegmentationImageContainer \u001b[39m=\u001b[39m \u001b[39mawait\u001b[39;00m _create_deepcell_input(\n\u001b[1;32m    119\u001b[0m             fov_sd, dc_session\n\u001b[1;32m    120\u001b[0m         )\n\u001b[1;32m    122\u001b[0m     \u001b[39mreturn\u001b[39;00m segmentation_images\n",
      "File \u001b[0;32m~/Dev/Python/ark/src/ark/core/_segmentation/utils/deepcell.py:32\u001b[0m, in \u001b[0;36m_create_deepcell_input\u001b[0;34m(fov, dc_session)\u001b[0m\n\u001b[1;32m     28\u001b[0m \u001b[39masync\u001b[39;00m \u001b[39mdef\u001b[39;00m \u001b[39m_create_deepcell_input\u001b[39m(\n\u001b[1;32m     29\u001b[0m     fov: SpatialImage \u001b[39m|\u001b[39m MultiscaleSpatialImage, dc_session: httpx\u001b[39m.\u001b[39mAsyncClient\n\u001b[1;32m     30\u001b[0m ):\n\u001b[1;32m     31\u001b[0m     \u001b[39mwith\u001b[39;00m tempfile\u001b[39m.\u001b[39mTemporaryDirectory() \u001b[39mas\u001b[39;00m tmpdir:\n\u001b[0;32m---> 32\u001b[0m         temp_fov_dir \u001b[39m=\u001b[39m pathlib\u001b[39m.\u001b[39mPath(tmpdir) \u001b[39m/\u001b[39m fov\u001b[39m.\u001b[39;49mname\n\u001b[1;32m     33\u001b[0m         temp_fov_dir\u001b[39m.\u001b[39mmkdir()\n\u001b[1;32m     35\u001b[0m         spaital_data_to_fov(fov, temp_fov_dir)\n",
      "\u001b[0;31mAttributeError\u001b[0m: 'SpatialData' object has no attribute 'name'"
     ]
    }
   ],
   "source": [
    "sdata.segmentation.run_deepcell(nucs=nucs, mems=mems)"
   ]
  },
  {
   "cell_type": "code",
   "execution_count": 6,
   "metadata": {},
   "outputs": [
    {
     "data": {
      "text/plain": [
       "SpatialData object with:\n",
       "├── Images\n",
       "│     ├── 'fov0': SpatialImage[cyx] (22, 512, 512)\n",
       "│     ├── 'fov1': SpatialImage[cyx] (22, 1024, 1024)\n",
       "│     ├── 'fov2': SpatialImage[cyx] (22, 1024, 1024)\n",
       "│     ├── 'fov3': SpatialImage[cyx] (22, 1024, 1024)\n",
       "│     ├── 'fov4': SpatialImage[cyx] (22, 1024, 1024)\n",
       "│     ├── 'fov5': SpatialImage[cyx] (22, 1024, 1024)\n",
       "│     ├── 'fov6': SpatialImage[cyx] (22, 1024, 1024)\n",
       "│     ├── 'fov7': SpatialImage[cyx] (22, 1024, 1024)\n",
       "│     ├── 'fov8': SpatialImage[cyx] (22, 1024, 1024)\n",
       "│     ├── 'fov9': SpatialImage[cyx] (22, 1024, 1024)\n",
       "│     └── 'fov10': SpatialImage[cyx] (22, 1024, 1024)\n",
       "└── Labels\n",
       "      ├── 'fov0_nuclear': SpatialImage[yx] (512, 512)\n",
       "      ├── 'fov0_whole_cell': SpatialImage[yx] (512, 512)\n",
       "      ├── 'fov1_nuclear': SpatialImage[yx] (1024, 1024)\n",
       "      ├── 'fov1_whole_cell': SpatialImage[yx] (1024, 1024)\n",
       "      ├── 'fov2_nuclear': SpatialImage[yx] (1024, 1024)\n",
       "      ├── 'fov2_whole_cell': SpatialImage[yx] (1024, 1024)\n",
       "      ├── 'fov3_nuclear': SpatialImage[yx] (1024, 1024)\n",
       "      ├── 'fov3_whole_cell': SpatialImage[yx] (1024, 1024)\n",
       "      ├── 'fov4_nuclear': SpatialImage[yx] (1024, 1024)\n",
       "      ├── 'fov4_whole_cell': SpatialImage[yx] (1024, 1024)\n",
       "      ├── 'fov5_nuclear': SpatialImage[yx] (1024, 1024)\n",
       "      ├── 'fov5_whole_cell': SpatialImage[yx] (1024, 1024)\n",
       "      ├── 'fov6_nuclear': SpatialImage[yx] (1024, 1024)\n",
       "      ├── 'fov6_whole_cell': SpatialImage[yx] (1024, 1024)\n",
       "      ├── 'fov7_nuclear': SpatialImage[yx] (1024, 1024)\n",
       "      ├── 'fov7_whole_cell': SpatialImage[yx] (1024, 1024)\n",
       "      ├── 'fov8_nuclear': SpatialImage[yx] (1024, 1024)\n",
       "      ├── 'fov8_whole_cell': SpatialImage[yx] (1024, 1024)\n",
       "      ├── 'fov9_nuclear': SpatialImage[yx] (1024, 1024)\n",
       "      ├── 'fov9_whole_cell': SpatialImage[yx] (1024, 1024)\n",
       "      ├── 'fov10_nuclear': SpatialImage[yx] (1024, 1024)\n",
       "      └── 'fov10_whole_cell': SpatialImage[yx] (1024, 1024)\n",
       "with coordinate systems:\n",
       "▸ 'fov0', with elements:\n",
       "        fov0 (Images), fov0_whole_cell (Labels)\n",
       "▸ 'fov1', with elements:\n",
       "        fov1 (Images), fov1_whole_cell (Labels)\n",
       "▸ 'fov2', with elements:\n",
       "        fov2 (Images), fov2_whole_cell (Labels)\n",
       "▸ 'fov3', with elements:\n",
       "        fov3 (Images), fov3_whole_cell (Labels)\n",
       "▸ 'fov4', with elements:\n",
       "        fov4 (Images), fov4_whole_cell (Labels)\n",
       "▸ 'fov5', with elements:\n",
       "        fov5 (Images), fov5_whole_cell (Labels)\n",
       "▸ 'fov6', with elements:\n",
       "        fov6 (Images), fov6_whole_cell (Labels)\n",
       "▸ 'fov7', with elements:\n",
       "        fov7 (Images), fov7_whole_cell (Labels)\n",
       "▸ 'fov8', with elements:\n",
       "        fov8 (Images), fov8_whole_cell (Labels)\n",
       "▸ 'fov9', with elements:\n",
       "        fov9 (Images), fov9_whole_cell (Labels)\n",
       "▸ 'fov10', with elements:\n",
       "        fov10 (Images), fov10_whole_cell (Labels)\n",
       "▸ 'global', with elements:\n",
       "        fov0 (Images), fov1 (Images), fov2 (Images), fov3 (Images), fov4 (Images), fov5 (Images), fov6 (Images), fov7 (Images), fov8 (Images), fov9 (Images), fov10 (Images), fov0_nuclear (Labels), fov1_nuclear (Labels), fov2_nuclear (Labels), fov3_nuclear (Labels), fov4_nuclear (Labels), fov5_nuclear (Labels), fov6_nuclear (Labels), fov7_nuclear (Labels), fov8_nuclear (Labels), fov9_nuclear (Labels), fov10_nuclear (Labels)"
      ]
     },
     "execution_count": 6,
     "metadata": {},
     "output_type": "execute_result"
    }
   ],
   "source": [
    "sdata"
   ]
  },
  {
   "cell_type": "code",
   "execution_count": 44,
   "metadata": {},
   "outputs": [
    {
     "name": "stderr",
     "output_type": "stream",
     "text": [
      "/Users/srivarra/Dev/Python/ark/src/ark/core/_segmentation/segmentation.py:16: AccessorRegistrationWarning: registration of accessor <class 'ark.core._segmentation.segmentation.SegmentationAccessor'> under name 'segmentation' for type <class 'spatialdata._core.spatialdata.SpatialData'> is overriding a preexisting attribute with the same name.\n",
      "  class SegmentationAccessor(SpatialDataAccessor):\n",
      "/Users/srivarra/Dev/Python/ark/src/ark/core/_indexing/indexing.py:19: AccessorRegistrationWarning: registration of accessor <class 'ark.core._indexing.indexing.IndexingAccessor'> under name 'sel' for type <class 'spatialdata._core.spatialdata.SpatialData'> is overriding a preexisting attribute with the same name.\n",
      "  @register_spatial_data_accessor(\"sel\")\n",
      "/Users/srivarra/Dev/Python/ark/src/ark/core/_indexing/indexing.py:243: AccessorRegistrationWarning: registration of accessor <class 'ark.core._indexing.indexing.ArkIteratorAccessor'> under name 'iter_coords' for type <class 'spatialdata._core.spatialdata.SpatialData'> is overriding a preexisting attribute with the same name.\n",
      "  @register_spatial_data_accessor(\"iter_coords\")\n"
     ]
    },
    {
     "name": "stdout",
     "output_type": "stream",
     "text": [
      "11\n"
     ]
    },
    {
     "data": {
      "application/vnd.jupyter.widget-view+json": {
       "model_id": "2d4381b4b6044735ad760596f2812d49",
       "version_major": 2,
       "version_minor": 0
      },
      "text/plain": [
       "  0%|          | 0/11 [00:00<?, ?it/s]"
      ]
     },
     "metadata": {},
     "output_type": "display_data"
    },
    {
     "name": "stdout",
     "output_type": "stream",
     "text": [
      "fov0\n",
      "fov1\n",
      "fov2\n",
      "fov3\n",
      "fov4\n",
      "fov5\n",
      "fov6\n",
      "fov7\n",
      "fov8\n",
      "fov9\n",
      "fov10\n"
     ]
    }
   ],
   "source": [
    "from tqdm.auto import tqdm\n",
    "\n",
    "print(len(sdata.iter_coords))\n",
    "for f, i in tqdm(sdata.iter_coords):\n",
    "    print(i.images[f].name)"
   ]
  },
  {
   "cell_type": "code",
   "execution_count": null,
   "metadata": {},
   "outputs": [],
   "source": []
  }
 ],
 "metadata": {
  "kernelspec": {
   "display_name": "ark-spatial",
   "language": "python",
   "name": "python3"
  },
  "language_info": {
   "codemirror_mode": {
    "name": "ipython",
    "version": 3
   },
   "file_extension": ".py",
   "mimetype": "text/x-python",
   "name": "python",
   "nbconvert_exporter": "python",
   "pygments_lexer": "ipython3",
   "version": "3.11.4"
  },
  "orig_nbformat": 4
 },
 "nbformat": 4,
 "nbformat_minor": 2
}
