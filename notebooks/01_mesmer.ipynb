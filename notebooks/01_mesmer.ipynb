{
 "cells": [
  {
   "cell_type": "code",
   "execution_count": 1,
   "metadata": {},
   "outputs": [],
   "source": [
    "%load_ext autoreload\n",
    "%autoreload 2"
   ]
  },
  {
   "cell_type": "code",
   "execution_count": 2,
   "metadata": {},
   "outputs": [
    {
     "name": "stderr",
     "output_type": "stream",
     "text": [
      "/Users/srivarra/.pyenv/versions/3.11.4/envs/ark-spatial/lib/python3.11/site-packages/geopandas/_compat.py:124: UserWarning: The Shapely GEOS version (3.11.1-CAPI-1.17.1) is incompatible with the GEOS version PyGEOS was compiled with (3.10.4-CAPI-1.16.2). Conversions between both will be slow.\n",
      "  warnings.warn(\n",
      "/Users/srivarra/.pyenv/versions/3.11.4/envs/ark-spatial/lib/python3.11/site-packages/spatialdata/__init__.py:9: UserWarning: Geopandas was set to use PyGEOS, changing to shapely 2.0 with:\n",
      "\n",
      "\tgeopandas.options.use_pygeos = True\n",
      "\n",
      "If you intended to use PyGEOS, set the option to False.\n",
      "  _check_geopandas_using_shapely()\n"
     ]
    }
   ],
   "source": [
    "from pathlib import Path\n",
    "import ark\n",
    "import spatialdata as sd"
   ]
  },
  {
   "cell_type": "markdown",
   "metadata": {},
   "source": [
    "Load the Zarr Store as a Spatial Data Object"
   ]
  },
  {
   "cell_type": "code",
   "execution_count": 3,
   "metadata": {},
   "outputs": [],
   "source": [
    "sdata = sd.read_zarr(store=\"../data/cohorts/example_cohort.ome.zarr\")"
   ]
  },
  {
   "cell_type": "markdown",
   "metadata": {},
   "source": [
    "Select the "
   ]
  },
  {
   "cell_type": "code",
   "execution_count": 4,
   "metadata": {},
   "outputs": [],
   "source": [
    "nucs = [\"H3K9ac\", \"H3K27me3\"]\n",
    "mems = [\"CD14\", \"CD45\", \"ECAD\"]"
   ]
  },
  {
   "cell_type": "code",
   "execution_count": 5,
   "metadata": {},
   "outputs": [
    {
     "name": "stderr",
     "output_type": "stream",
     "text": [
      "no parent found for <ome_zarr.reader.Label object at 0x2a7ef5c90>: None\n",
      "no parent found for <ome_zarr.reader.Label object at 0x2b293a210>: None\n",
      "no parent found for <ome_zarr.reader.Label object at 0x2b4da0f90>: None\n",
      "no parent found for <ome_zarr.reader.Label object at 0x2b4da4710>: None\n",
      "no parent found for <ome_zarr.reader.Label object at 0x2b4dd8190>: None\n",
      "no parent found for <ome_zarr.reader.Label object at 0x2b4dd3650>: None\n",
      "no parent found for <ome_zarr.reader.Label object at 0x2a7e36090>: None\n",
      "no parent found for <ome_zarr.reader.Label object at 0x2b4d20250>: None\n",
      "no parent found for <ome_zarr.reader.Label object at 0x2b4dc3b10>: None\n",
      "no parent found for <ome_zarr.reader.Label object at 0x2a7ef8890>: None\n",
      "no parent found for <ome_zarr.reader.Label object at 0x2b29a6fd0>: None\n",
      "no parent found for <ome_zarr.reader.Label object at 0x2a7ec0050>: None\n",
      "no parent found for <ome_zarr.reader.Label object at 0x2a7ece210>: None\n",
      "no parent found for <ome_zarr.reader.Label object at 0x2a7eb0e90>: None\n",
      "no parent found for <ome_zarr.reader.Label object at 0x2b2973310>: None\n",
      "no parent found for <ome_zarr.reader.Label object at 0x2b4dd0bd0>: None\n",
      "no parent found for <ome_zarr.reader.Label object at 0x2b4dc2950>: None\n",
      "no parent found for <ome_zarr.reader.Label object at 0x2b4d50450>: None\n",
      "no parent found for <ome_zarr.reader.Label object at 0x2a7e97ed0>: None\n",
      "no parent found for <ome_zarr.reader.Label object at 0x2a7e7ed50>: None\n",
      "no parent found for <ome_zarr.reader.Label object at 0x2b4d3bf10>: None\n",
      "no parent found for <ome_zarr.reader.Label object at 0x2a7e1e890>: None\n"
     ]
    }
   ],
   "source": [
    "sdata.segmentation.run_deepcell(nucs=nucs, mems=mems)"
   ]
  },
  {
   "cell_type": "code",
   "execution_count": 11,
   "metadata": {},
   "outputs": [
    {
     "data": {
      "text/plain": [
       "SpatialData object with:\n",
       "├── Images\n",
       "│     ├── 'fov0': SpatialImage[cyx] (22, 512, 512)\n",
       "│     ├── 'fov1': SpatialImage[cyx] (22, 1024, 1024)\n",
       "│     ├── 'fov2': SpatialImage[cyx] (22, 1024, 1024)\n",
       "│     ├── 'fov3': SpatialImage[cyx] (22, 1024, 1024)\n",
       "│     ├── 'fov4': SpatialImage[cyx] (22, 1024, 1024)\n",
       "│     ├── 'fov5': SpatialImage[cyx] (22, 1024, 1024)\n",
       "│     ├── 'fov6': SpatialImage[cyx] (22, 1024, 1024)\n",
       "│     ├── 'fov7': SpatialImage[cyx] (22, 1024, 1024)\n",
       "│     ├── 'fov8': SpatialImage[cyx] (22, 1024, 1024)\n",
       "│     ├── 'fov9': SpatialImage[cyx] (22, 1024, 1024)\n",
       "│     └── 'fov10': SpatialImage[cyx] (22, 1024, 1024)\n",
       "└── Labels\n",
       "      ├── 'fov0_nuclear': SpatialImage[yx] (512, 512)\n",
       "      ├── 'fov0_whole_cell': SpatialImage[yx] (512, 512)\n",
       "      ├── 'fov1_nuclear': SpatialImage[yx] (1024, 1024)\n",
       "      ├── 'fov1_whole_cell': SpatialImage[yx] (1024, 1024)\n",
       "      ├── 'fov2_nuclear': SpatialImage[yx] (1024, 1024)\n",
       "      ├── 'fov2_whole_cell': SpatialImage[yx] (1024, 1024)\n",
       "      ├── 'fov3_nuclear': SpatialImage[yx] (1024, 1024)\n",
       "      ├── 'fov3_whole_cell': SpatialImage[yx] (1024, 1024)\n",
       "      ├── 'fov4_nuclear': SpatialImage[yx] (1024, 1024)\n",
       "      ├── 'fov4_whole_cell': SpatialImage[yx] (1024, 1024)\n",
       "      ├── 'fov5_nuclear': SpatialImage[yx] (1024, 1024)\n",
       "      ├── 'fov5_whole_cell': SpatialImage[yx] (1024, 1024)\n",
       "      ├── 'fov6_nuclear': SpatialImage[yx] (1024, 1024)\n",
       "      ├── 'fov6_whole_cell': SpatialImage[yx] (1024, 1024)\n",
       "      ├── 'fov7_nuclear': SpatialImage[yx] (1024, 1024)\n",
       "      ├── 'fov7_whole_cell': SpatialImage[yx] (1024, 1024)\n",
       "      ├── 'fov8_nuclear': SpatialImage[yx] (1024, 1024)\n",
       "      ├── 'fov8_whole_cell': SpatialImage[yx] (1024, 1024)\n",
       "      ├── 'fov9_nuclear': SpatialImage[yx] (1024, 1024)\n",
       "      ├── 'fov9_whole_cell': SpatialImage[yx] (1024, 1024)\n",
       "      ├── 'fov10_nuclear': SpatialImage[yx] (1024, 1024)\n",
       "      └── 'fov10_whole_cell': SpatialImage[yx] (1024, 1024)\n",
       "with coordinate systems:\n",
       "▸ 'global', with elements:\n",
       "        fov0 (Images), fov1 (Images), fov2 (Images), fov3 (Images), fov4 (Images), fov5 (Images), fov6 (Images), fov7 (Images), fov8 (Images), fov9 (Images), fov10 (Images), fov0_nuclear (Labels), fov0_whole_cell (Labels), fov1_nuclear (Labels), fov1_whole_cell (Labels), fov2_nuclear (Labels), fov2_whole_cell (Labels), fov3_nuclear (Labels), fov3_whole_cell (Labels), fov4_nuclear (Labels), fov4_whole_cell (Labels), fov5_nuclear (Labels), fov5_whole_cell (Labels), fov6_nuclear (Labels), fov6_whole_cell (Labels), fov7_nuclear (Labels), fov7_whole_cell (Labels), fov8_nuclear (Labels), fov8_whole_cell (Labels), fov9_nuclear (Labels), fov9_whole_cell (Labels), fov10_nuclear (Labels), fov10_whole_cell (Labels)"
      ]
     },
     "execution_count": 11,
     "metadata": {},
     "output_type": "execute_result"
    }
   ],
   "source": [
    "sdata"
   ]
  },
  {
   "cell_type": "code",
   "execution_count": null,
   "metadata": {},
   "outputs": [],
   "source": []
  }
 ],
 "metadata": {
  "kernelspec": {
   "display_name": "ark-spatial",
   "language": "python",
   "name": "python3"
  },
  "language_info": {
   "codemirror_mode": {
    "name": "ipython",
    "version": 3
   },
   "file_extension": ".py",
   "mimetype": "text/x-python",
   "name": "python",
   "nbconvert_exporter": "python",
   "pygments_lexer": "ipython3",
   "version": "3.11.4"
  },
  "orig_nbformat": 4
 },
 "nbformat": 4,
 "nbformat_minor": 2
}
